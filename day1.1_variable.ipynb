{
 "cells": [
  {
   "cell_type": "markdown",
   "metadata": {},
   "source": [
    "_Simple Data Type_\n",
    "| Data Type    | Example             | Description                            |\n",
    "|--------------|---------------------|----------------------------------------|\n",
    "| `int`        | `5`, `-100`, `42`   | Integer (whole number)                 |\n",
    "| `float`      | `3.14`, `-2.71`     | Floating-point (decimal numbers)       |\n",
    "| `str`        | `\"Hello\"`, `'Python'`| String (text)                         |\n",
    "| `bool`       | `True`, `False`     | Boolean (true/false)                   |\n",
    "| `NoneType`   | `None`              | Represents the absence of a value      |\n",
    "\n",
    "_Complex Data Type_\n",
    "| Data Type    | Example            | Description                          |\n",
    "|--------------|--------------------|--------------------------------------|\n",
    "| `list`       | `[1, 2, 3]`        | Ordered, mutable collection          |\n",
    "| `tuple`      | `(1, 2, 3)`        | Ordered, immutable collection        |\n",
    "| `set`        | `{1, 2, 3}`        | Unordered, unique collection         |\n",
    "| `dict`       | `{'a': 1, 'b': 2}` | Key-value pairs                      |\n"
   ]
  },
  {
   "cell_type": "code",
   "execution_count": null,
   "metadata": {},
   "outputs": [
    {
     "name": "stdout",
     "output_type": "stream",
     "text": [
      "\n",
      "Here is a list of the Python keywords.  Enter any keyword to get more help.\n",
      "\n",
      "False               class               from                or\n",
      "None                continue            global              pass\n",
      "True                def                 if                  raise\n",
      "and                 del                 import              return\n",
      "as                  elif                in                  try\n",
      "assert              else                is                  while\n",
      "async               except              lambda              with\n",
      "await               finally             nonlocal            yield\n",
      "break               for                 not                 \n",
      "\n"
     ]
    }
   ],
   "source": [
    "help(\"keywords\")"
   ]
  },
  {
   "cell_type": "code",
   "execution_count": null,
   "metadata": {},
   "outputs": [
    {
     "name": "stdout",
     "output_type": "stream",
     "text": [
      "Help on class str in module builtins:\n",
      "\n",
      "class str(object)\n",
      " |  str(object='') -> str\n",
      " |  str(bytes_or_buffer[, encoding[, errors]]) -> str\n",
      " |\n",
      " |  Create a new string object from the given object. If encoding or\n",
      " |  errors is specified, then the object must expose a data buffer\n",
      " |  that will be decoded using the given encoding and error handler.\n",
      " |  Otherwise, returns the result of object.__str__() (if defined)\n",
      " |  or repr(object).\n",
      " |  encoding defaults to sys.getdefaultencoding().\n",
      " |  errors defaults to 'strict'.\n",
      " |\n",
      " |  Methods defined here:\n",
      " |\n",
      " |  __add__(self, value, /)\n",
      " |      Return self+value.\n",
      " |\n",
      " |  __contains__(self, key, /)\n",
      " |      Return bool(key in self).\n",
      " |\n",
      " |  __eq__(self, value, /)\n",
      " |      Return self==value.\n",
      " |\n",
      " |  __format__(self, format_spec, /)\n",
      " |      Return a formatted version of the string as described by format_spec.\n",
      " |\n",
      " |  __ge__(self, value, /)\n",
      " |      Return self>=value.\n",
      " |\n",
      " |  __getitem__(self, key, /)\n",
      " |      Return self[key].\n",
      " |\n",
      " |  __getnewargs__(...)\n",
      " |\n",
      " |  __gt__(self, value, /)\n",
      " |      Return self>value.\n",
      " |\n",
      " |  __hash__(self, /)\n",
      " |      Return hash(self).\n",
      " |\n",
      " |  __iter__(self, /)\n",
      " |      Implement iter(self).\n",
      " |\n",
      " |  __le__(self, value, /)\n",
      " |      Return self<=value.\n",
      " |\n",
      " |  __len__(self, /)\n",
      " |      Return len(self).\n",
      " |\n",
      " |  __lt__(self, value, /)\n",
      " |      Return self<value.\n",
      " |\n",
      " |  __mod__(self, value, /)\n",
      " |      Return self%value.\n",
      " |\n",
      " |  __mul__(self, value, /)\n",
      " |      Return self*value.\n",
      " |\n",
      " |  __ne__(self, value, /)\n",
      " |      Return self!=value.\n",
      " |\n",
      " |  __repr__(self, /)\n",
      " |      Return repr(self).\n",
      " |\n",
      " |  __rmod__(self, value, /)\n",
      " |      Return value%self.\n",
      " |\n",
      " |  __rmul__(self, value, /)\n",
      " |      Return value*self.\n",
      " |\n",
      " |  __sizeof__(self, /)\n",
      " |      Return the size of the string in memory, in bytes.\n",
      " |\n",
      " |  __str__(self, /)\n",
      " |      Return str(self).\n",
      " |\n",
      " |  capitalize(self, /)\n",
      " |      Return a capitalized version of the string.\n",
      " |\n",
      " |      More specifically, make the first character have upper case and the rest lower\n",
      " |      case.\n",
      " |\n",
      " |  casefold(self, /)\n",
      " |      Return a version of the string suitable for caseless comparisons.\n",
      " |\n",
      " |  center(self, width, fillchar=' ', /)\n",
      " |      Return a centered string of length width.\n",
      " |\n",
      " |      Padding is done using the specified fill character (default is a space).\n",
      " |\n",
      " |  count(...)\n",
      " |      S.count(sub[, start[, end]]) -> int\n",
      " |\n",
      " |      Return the number of non-overlapping occurrences of substring sub in\n",
      " |      string S[start:end].  Optional arguments start and end are\n",
      " |      interpreted as in slice notation.\n",
      " |\n",
      " |  encode(self, /, encoding='utf-8', errors='strict')\n",
      " |      Encode the string using the codec registered for encoding.\n",
      " |\n",
      " |      encoding\n",
      " |        The encoding in which to encode the string.\n",
      " |      errors\n",
      " |        The error handling scheme to use for encoding errors.\n",
      " |        The default is 'strict' meaning that encoding errors raise a\n",
      " |        UnicodeEncodeError.  Other possible values are 'ignore', 'replace' and\n",
      " |        'xmlcharrefreplace' as well as any other name registered with\n",
      " |        codecs.register_error that can handle UnicodeEncodeErrors.\n",
      " |\n",
      " |  endswith(...)\n",
      " |      S.endswith(suffix[, start[, end]]) -> bool\n",
      " |\n",
      " |      Return True if S ends with the specified suffix, False otherwise.\n",
      " |      With optional start, test S beginning at that position.\n",
      " |      With optional end, stop comparing S at that position.\n",
      " |      suffix can also be a tuple of strings to try.\n",
      " |\n",
      " |  expandtabs(self, /, tabsize=8)\n",
      " |      Return a copy where all tab characters are expanded using spaces.\n",
      " |\n",
      " |      If tabsize is not given, a tab size of 8 characters is assumed.\n",
      " |\n",
      " |  find(...)\n",
      " |      S.find(sub[, start[, end]]) -> int\n",
      " |\n",
      " |      Return the lowest index in S where substring sub is found,\n",
      " |      such that sub is contained within S[start:end].  Optional\n",
      " |      arguments start and end are interpreted as in slice notation.\n",
      " |\n",
      " |      Return -1 on failure.\n",
      " |\n",
      " |  format(...)\n",
      " |      S.format(*args, **kwargs) -> str\n",
      " |\n",
      " |      Return a formatted version of S, using substitutions from args and kwargs.\n",
      " |      The substitutions are identified by braces ('{' and '}').\n",
      " |\n",
      " |  format_map(...)\n",
      " |      S.format_map(mapping) -> str\n",
      " |\n",
      " |      Return a formatted version of S, using substitutions from mapping.\n",
      " |      The substitutions are identified by braces ('{' and '}').\n",
      " |\n",
      " |  index(...)\n",
      " |      S.index(sub[, start[, end]]) -> int\n",
      " |\n",
      " |      Return the lowest index in S where substring sub is found,\n",
      " |      such that sub is contained within S[start:end].  Optional\n",
      " |      arguments start and end are interpreted as in slice notation.\n",
      " |\n",
      " |      Raises ValueError when the substring is not found.\n",
      " |\n",
      " |  isalnum(self, /)\n",
      " |      Return True if the string is an alpha-numeric string, False otherwise.\n",
      " |\n",
      " |      A string is alpha-numeric if all characters in the string are alpha-numeric and\n",
      " |      there is at least one character in the string.\n",
      " |\n",
      " |  isalpha(self, /)\n",
      " |      Return True if the string is an alphabetic string, False otherwise.\n",
      " |\n",
      " |      A string is alphabetic if all characters in the string are alphabetic and there\n",
      " |      is at least one character in the string.\n",
      " |\n",
      " |  isascii(self, /)\n",
      " |      Return True if all characters in the string are ASCII, False otherwise.\n",
      " |\n",
      " |      ASCII characters have code points in the range U+0000-U+007F.\n",
      " |      Empty string is ASCII too.\n",
      " |\n",
      " |  isdecimal(self, /)\n",
      " |      Return True if the string is a decimal string, False otherwise.\n",
      " |\n",
      " |      A string is a decimal string if all characters in the string are decimal and\n",
      " |      there is at least one character in the string.\n",
      " |\n",
      " |  isdigit(self, /)\n",
      " |      Return True if the string is a digit string, False otherwise.\n",
      " |\n",
      " |      A string is a digit string if all characters in the string are digits and there\n",
      " |      is at least one character in the string.\n",
      " |\n",
      " |  isidentifier(self, /)\n",
      " |      Return True if the string is a valid Python identifier, False otherwise.\n",
      " |\n",
      " |      Call keyword.iskeyword(s) to test whether string s is a reserved identifier,\n",
      " |      such as \"def\" or \"class\".\n",
      " |\n",
      " |  islower(self, /)\n",
      " |      Return True if the string is a lowercase string, False otherwise.\n",
      " |\n",
      " |      A string is lowercase if all cased characters in the string are lowercase and\n",
      " |      there is at least one cased character in the string.\n",
      " |\n",
      " |  isnumeric(self, /)\n",
      " |      Return True if the string is a numeric string, False otherwise.\n",
      " |\n",
      " |      A string is numeric if all characters in the string are numeric and there is at\n",
      " |      least one character in the string.\n",
      " |\n",
      " |  isprintable(self, /)\n",
      " |      Return True if the string is printable, False otherwise.\n",
      " |\n",
      " |      A string is printable if all of its characters are considered printable in\n",
      " |      repr() or if it is empty.\n",
      " |\n",
      " |  isspace(self, /)\n",
      " |      Return True if the string is a whitespace string, False otherwise.\n",
      " |\n",
      " |      A string is whitespace if all characters in the string are whitespace and there\n",
      " |      is at least one character in the string.\n",
      " |\n",
      " |  istitle(self, /)\n",
      " |      Return True if the string is a title-cased string, False otherwise.\n",
      " |\n",
      " |      In a title-cased string, upper- and title-case characters may only\n",
      " |      follow uncased characters and lowercase characters only cased ones.\n",
      " |\n",
      " |  isupper(self, /)\n",
      " |      Return True if the string is an uppercase string, False otherwise.\n",
      " |\n",
      " |      A string is uppercase if all cased characters in the string are uppercase and\n",
      " |      there is at least one cased character in the string.\n",
      " |\n",
      " |  join(self, iterable, /)\n",
      " |      Concatenate any number of strings.\n",
      " |\n",
      " |      The string whose method is called is inserted in between each given string.\n",
      " |      The result is returned as a new string.\n",
      " |\n",
      " |      Example: '.'.join(['ab', 'pq', 'rs']) -> 'ab.pq.rs'\n",
      " |\n",
      " |  ljust(self, width, fillchar=' ', /)\n",
      " |      Return a left-justified string of length width.\n",
      " |\n",
      " |      Padding is done using the specified fill character (default is a space).\n",
      " |\n",
      " |  lower(self, /)\n",
      " |      Return a copy of the string converted to lowercase.\n",
      " |\n",
      " |  lstrip(self, chars=None, /)\n",
      " |      Return a copy of the string with leading whitespace removed.\n",
      " |\n",
      " |      If chars is given and not None, remove characters in chars instead.\n",
      " |\n",
      " |  partition(self, sep, /)\n",
      " |      Partition the string into three parts using the given separator.\n",
      " |\n",
      " |      This will search for the separator in the string.  If the separator is found,\n",
      " |      returns a 3-tuple containing the part before the separator, the separator\n",
      " |      itself, and the part after it.\n",
      " |\n",
      " |      If the separator is not found, returns a 3-tuple containing the original string\n",
      " |      and two empty strings.\n",
      " |\n",
      " |  removeprefix(self, prefix, /)\n",
      " |      Return a str with the given prefix string removed if present.\n",
      " |\n",
      " |      If the string starts with the prefix string, return string[len(prefix):].\n",
      " |      Otherwise, return a copy of the original string.\n",
      " |\n",
      " |  removesuffix(self, suffix, /)\n",
      " |      Return a str with the given suffix string removed if present.\n",
      " |\n",
      " |      If the string ends with the suffix string and that suffix is not empty,\n",
      " |      return string[:-len(suffix)]. Otherwise, return a copy of the original\n",
      " |      string.\n",
      " |\n",
      " |  replace(self, old, new, count=-1, /)\n",
      " |      Return a copy with all occurrences of substring old replaced by new.\n",
      " |\n",
      " |        count\n",
      " |          Maximum number of occurrences to replace.\n",
      " |          -1 (the default value) means replace all occurrences.\n",
      " |\n",
      " |      If the optional argument count is given, only the first count occurrences are\n",
      " |      replaced.\n",
      " |\n",
      " |  rfind(...)\n",
      " |      S.rfind(sub[, start[, end]]) -> int\n",
      " |\n",
      " |      Return the highest index in S where substring sub is found,\n",
      " |      such that sub is contained within S[start:end].  Optional\n",
      " |      arguments start and end are interpreted as in slice notation.\n",
      " |\n",
      " |      Return -1 on failure.\n",
      " |\n",
      " |  rindex(...)\n",
      " |      S.rindex(sub[, start[, end]]) -> int\n",
      " |\n",
      " |      Return the highest index in S where substring sub is found,\n",
      " |      such that sub is contained within S[start:end].  Optional\n",
      " |      arguments start and end are interpreted as in slice notation.\n",
      " |\n",
      " |      Raises ValueError when the substring is not found.\n",
      " |\n",
      " |  rjust(self, width, fillchar=' ', /)\n",
      " |      Return a right-justified string of length width.\n",
      " |\n",
      " |      Padding is done using the specified fill character (default is a space).\n",
      " |\n",
      " |  rpartition(self, sep, /)\n",
      " |      Partition the string into three parts using the given separator.\n",
      " |\n",
      " |      This will search for the separator in the string, starting at the end. If\n",
      " |      the separator is found, returns a 3-tuple containing the part before the\n",
      " |      separator, the separator itself, and the part after it.\n",
      " |\n",
      " |      If the separator is not found, returns a 3-tuple containing two empty strings\n",
      " |      and the original string.\n",
      " |\n",
      " |  rsplit(self, /, sep=None, maxsplit=-1)\n",
      " |      Return a list of the substrings in the string, using sep as the separator string.\n",
      " |\n",
      " |        sep\n",
      " |          The separator used to split the string.\n",
      " |\n",
      " |          When set to None (the default value), will split on any whitespace\n",
      " |          character (including \\n \\r \\t \\f and spaces) and will discard\n",
      " |          empty strings from the result.\n",
      " |        maxsplit\n",
      " |          Maximum number of splits.\n",
      " |          -1 (the default value) means no limit.\n",
      " |\n",
      " |      Splitting starts at the end of the string and works to the front.\n",
      " |\n",
      " |  rstrip(self, chars=None, /)\n",
      " |      Return a copy of the string with trailing whitespace removed.\n",
      " |\n",
      " |      If chars is given and not None, remove characters in chars instead.\n",
      " |\n",
      " |  split(self, /, sep=None, maxsplit=-1)\n",
      " |      Return a list of the substrings in the string, using sep as the separator string.\n",
      " |\n",
      " |        sep\n",
      " |          The separator used to split the string.\n",
      " |\n",
      " |          When set to None (the default value), will split on any whitespace\n",
      " |          character (including \\n \\r \\t \\f and spaces) and will discard\n",
      " |          empty strings from the result.\n",
      " |        maxsplit\n",
      " |          Maximum number of splits.\n",
      " |          -1 (the default value) means no limit.\n",
      " |\n",
      " |      Splitting starts at the front of the string and works to the end.\n",
      " |\n",
      " |      Note, str.split() is mainly useful for data that has been intentionally\n",
      " |      delimited.  With natural text that includes punctuation, consider using\n",
      " |      the regular expression module.\n",
      " |\n",
      " |  splitlines(self, /, keepends=False)\n",
      " |      Return a list of the lines in the string, breaking at line boundaries.\n",
      " |\n",
      " |      Line breaks are not included in the resulting list unless keepends is given and\n",
      " |      true.\n",
      " |\n",
      " |  startswith(...)\n",
      " |      S.startswith(prefix[, start[, end]]) -> bool\n",
      " |\n",
      " |      Return True if S starts with the specified prefix, False otherwise.\n",
      " |      With optional start, test S beginning at that position.\n",
      " |      With optional end, stop comparing S at that position.\n",
      " |      prefix can also be a tuple of strings to try.\n",
      " |\n",
      " |  strip(self, chars=None, /)\n",
      " |      Return a copy of the string with leading and trailing whitespace removed.\n",
      " |\n",
      " |      If chars is given and not None, remove characters in chars instead.\n",
      " |\n",
      " |  swapcase(self, /)\n",
      " |      Convert uppercase characters to lowercase and lowercase characters to uppercase.\n",
      " |\n",
      " |  title(self, /)\n",
      " |      Return a version of the string where each word is titlecased.\n",
      " |\n",
      " |      More specifically, words start with uppercased characters and all remaining\n",
      " |      cased characters have lower case.\n",
      " |\n",
      " |  translate(self, table, /)\n",
      " |      Replace each character in the string using the given translation table.\n",
      " |\n",
      " |        table\n",
      " |          Translation table, which must be a mapping of Unicode ordinals to\n",
      " |          Unicode ordinals, strings, or None.\n",
      " |\n",
      " |      The table must implement lookup/indexing via __getitem__, for instance a\n",
      " |      dictionary or list.  If this operation raises LookupError, the character is\n",
      " |      left untouched.  Characters mapped to None are deleted.\n",
      " |\n",
      " |  upper(self, /)\n",
      " |      Return a copy of the string converted to uppercase.\n",
      " |\n",
      " |  zfill(self, width, /)\n",
      " |      Pad a numeric string with zeros on the left, to fill a field of the given width.\n",
      " |\n",
      " |      The string is never truncated.\n",
      " |\n",
      " |  ----------------------------------------------------------------------\n",
      " |  Static methods defined here:\n",
      " |\n",
      " |  __new__(*args, **kwargs)\n",
      " |      Create and return a new object.  See help(type) for accurate signature.\n",
      " |\n",
      " |  maketrans(...)\n",
      " |      Return a translation table usable for str.translate().\n",
      " |\n",
      " |      If there is only one argument, it must be a dictionary mapping Unicode\n",
      " |      ordinals (integers) or characters to Unicode ordinals, strings or None.\n",
      " |      Character keys will be then converted to ordinals.\n",
      " |      If there are two arguments, they must be strings of equal length, and\n",
      " |      in the resulting dictionary, each character in x will be mapped to the\n",
      " |      character at the same position in y. If there is a third argument, it\n",
      " |      must be a string, whose characters will be mapped to None in the result.\n",
      "\n"
     ]
    }
   ],
   "source": [
    "help(str)"
   ]
  },
  {
   "cell_type": "code",
   "execution_count": null,
   "metadata": {},
   "outputs": [
    {
     "name": "stdout",
     "output_type": "stream",
     "text": [
      "Help on class list in module builtins:\n",
      "\n",
      "class list(object)\n",
      " |  list(iterable=(), /)\n",
      " |\n",
      " |  Built-in mutable sequence.\n",
      " |\n",
      " |  If no argument is given, the constructor creates a new empty list.\n",
      " |  The argument must be an iterable if specified.\n",
      " |\n",
      " |  Methods defined here:\n",
      " |\n",
      " |  __add__(self, value, /)\n",
      " |      Return self+value.\n",
      " |\n",
      " |  __contains__(self, key, /)\n",
      " |      Return bool(key in self).\n",
      " |\n",
      " |  __delitem__(self, key, /)\n",
      " |      Delete self[key].\n",
      " |\n",
      " |  __eq__(self, value, /)\n",
      " |      Return self==value.\n",
      " |\n",
      " |  __ge__(self, value, /)\n",
      " |      Return self>=value.\n",
      " |\n",
      " |  __getattribute__(self, name, /)\n",
      " |      Return getattr(self, name).\n",
      " |\n",
      " |  __getitem__(self, index, /)\n",
      " |      Return self[index].\n",
      " |\n",
      " |  __gt__(self, value, /)\n",
      " |      Return self>value.\n",
      " |\n",
      " |  __iadd__(self, value, /)\n",
      " |      Implement self+=value.\n",
      " |\n",
      " |  __imul__(self, value, /)\n",
      " |      Implement self*=value.\n",
      " |\n",
      " |  __init__(self, /, *args, **kwargs)\n",
      " |      Initialize self.  See help(type(self)) for accurate signature.\n",
      " |\n",
      " |  __iter__(self, /)\n",
      " |      Implement iter(self).\n",
      " |\n",
      " |  __le__(self, value, /)\n",
      " |      Return self<=value.\n",
      " |\n",
      " |  __len__(self, /)\n",
      " |      Return len(self).\n",
      " |\n",
      " |  __lt__(self, value, /)\n",
      " |      Return self<value.\n",
      " |\n",
      " |  __mul__(self, value, /)\n",
      " |      Return self*value.\n",
      " |\n",
      " |  __ne__(self, value, /)\n",
      " |      Return self!=value.\n",
      " |\n",
      " |  __repr__(self, /)\n",
      " |      Return repr(self).\n",
      " |\n",
      " |  __reversed__(self, /)\n",
      " |      Return a reverse iterator over the list.\n",
      " |\n",
      " |  __rmul__(self, value, /)\n",
      " |      Return value*self.\n",
      " |\n",
      " |  __setitem__(self, key, value, /)\n",
      " |      Set self[key] to value.\n",
      " |\n",
      " |  __sizeof__(self, /)\n",
      " |      Return the size of the list in memory, in bytes.\n",
      " |\n",
      " |  append(self, object, /)\n",
      " |      Append object to the end of the list.\n",
      " |\n",
      " |  clear(self, /)\n",
      " |      Remove all items from list.\n",
      " |\n",
      " |  copy(self, /)\n",
      " |      Return a shallow copy of the list.\n",
      " |\n",
      " |  count(self, value, /)\n",
      " |      Return number of occurrences of value.\n",
      " |\n",
      " |  extend(self, iterable, /)\n",
      " |      Extend list by appending elements from the iterable.\n",
      " |\n",
      " |  index(self, value, start=0, stop=9223372036854775807, /)\n",
      " |      Return first index of value.\n",
      " |\n",
      " |      Raises ValueError if the value is not present.\n",
      " |\n",
      " |  insert(self, index, object, /)\n",
      " |      Insert object before index.\n",
      " |\n",
      " |  pop(self, index=-1, /)\n",
      " |      Remove and return item at index (default last).\n",
      " |\n",
      " |      Raises IndexError if list is empty or index is out of range.\n",
      " |\n",
      " |  remove(self, value, /)\n",
      " |      Remove first occurrence of value.\n",
      " |\n",
      " |      Raises ValueError if the value is not present.\n",
      " |\n",
      " |  reverse(self, /)\n",
      " |      Reverse *IN PLACE*.\n",
      " |\n",
      " |  sort(self, /, *, key=None, reverse=False)\n",
      " |      Sort the list in ascending order and return None.\n",
      " |\n",
      " |      The sort is in-place (i.e. the list itself is modified) and stable (i.e. the\n",
      " |      order of two equal elements is maintained).\n",
      " |\n",
      " |      If a key function is given, apply it once to each list item and sort them,\n",
      " |      ascending or descending, according to their function values.\n",
      " |\n",
      " |      The reverse flag can be set to sort in descending order.\n",
      " |\n",
      " |  ----------------------------------------------------------------------\n",
      " |  Class methods defined here:\n",
      " |\n",
      " |  __class_getitem__(...)\n",
      " |      See PEP 585\n",
      " |\n",
      " |  ----------------------------------------------------------------------\n",
      " |  Static methods defined here:\n",
      " |\n",
      " |  __new__(*args, **kwargs)\n",
      " |      Create and return a new object.  See help(type) for accurate signature.\n",
      " |\n",
      " |  ----------------------------------------------------------------------\n",
      " |  Data and other attributes defined here:\n",
      " |\n",
      " |  __hash__ = None\n",
      "\n"
     ]
    }
   ],
   "source": [
    "help(list)"
   ]
  },
  {
   "cell_type": "code",
   "execution_count": null,
   "metadata": {},
   "outputs": [
    {
     "name": "stdout",
     "output_type": "stream",
     "text": [
      "Help on built-in function max in module builtins:\n",
      "\n",
      "max(...)\n",
      "    max(iterable, *[, default=obj, key=func]) -> value\n",
      "    max(arg1, arg2, *args, *[, key=func]) -> value\n",
      "\n",
      "    With a single iterable argument, return its biggest item. The\n",
      "    default keyword-only argument specifies an object to return if\n",
      "    the provided iterable is empty.\n",
      "    With two or more arguments, return the largest argument.\n",
      "\n"
     ]
    }
   ],
   "source": [
    "help(max)"
   ]
  },
  {
   "cell_type": "code",
   "execution_count": null,
   "metadata": {},
   "outputs": [
    {
     "name": "stdout",
     "output_type": "stream",
     "text": [
      "Help on built-in function min in module builtins:\n",
      "\n",
      "min(...)\n",
      "    min(iterable, *[, default=obj, key=func]) -> value\n",
      "    min(arg1, arg2, *args, *[, key=func]) -> value\n",
      "\n",
      "    With a single iterable argument, return its smallest item. The\n",
      "    default keyword-only argument specifies an object to return if\n",
      "    the provided iterable is empty.\n",
      "    With two or more arguments, return the smallest argument.\n",
      "\n"
     ]
    }
   ],
   "source": [
    "help(min)"
   ]
  },
  {
   "cell_type": "code",
   "execution_count": null,
   "metadata": {},
   "outputs": [
    {
     "name": "stdout",
     "output_type": "stream",
     "text": [
      "Help on built-in function abs in module builtins:\n",
      "\n",
      "abs(x, /)\n",
      "    Return the absolute value of the argument.\n",
      "\n"
     ]
    }
   ],
   "source": [
    "help(abs)"
   ]
  },
  {
   "cell_type": "code",
   "execution_count": null,
   "metadata": {},
   "outputs": [
    {
     "name": "stdout",
     "output_type": "stream",
     "text": [
      "Help on built-in function all in module builtins:\n",
      "\n",
      "all(iterable, /)\n",
      "    Return True if bool(x) is True for all values x in the iterable.\n",
      "\n",
      "    If the iterable is empty, return True.\n",
      "\n"
     ]
    }
   ],
   "source": [
    "help(all)"
   ]
  },
  {
   "cell_type": "code",
   "execution_count": null,
   "metadata": {},
   "outputs": [
    {
     "data": {
      "text/plain": [
       "0.4"
      ]
     },
     "metadata": {},
     "output_type": "display_data"
    }
   ],
   "source": [
    "min(20, 30, 40, 50, 4, 0.4, 0.8, 70)"
   ]
  },
  {
   "cell_type": "code",
   "execution_count": null,
   "metadata": {},
   "outputs": [
    {
     "data": {
      "text/plain": [
       "0.4"
      ]
     },
     "metadata": {},
     "output_type": "display_data"
    }
   ],
   "source": [
    "min([20, 30, 40, 50, 4, 0.4, 0.8, 70])"
   ]
  },
  {
   "cell_type": "code",
   "execution_count": null,
   "metadata": {},
   "outputs": [
    {
     "data": {
      "text/plain": [
       "70"
      ]
     },
     "metadata": {},
     "output_type": "display_data"
    }
   ],
   "source": [
    "max(20, 30, 40, 50, 4, 0.4, 0.8, 70)"
   ]
  },
  {
   "cell_type": "code",
   "execution_count": null,
   "metadata": {},
   "outputs": [
    {
     "data": {
      "text/plain": [
       "70"
      ]
     },
     "metadata": {},
     "output_type": "display_data"
    }
   ],
   "source": [
    "max([20, 30, 40, 50, 4, 0.4, 0.8, 70])"
   ]
  },
  {
   "cell_type": "code",
   "execution_count": null,
   "metadata": {},
   "outputs": [
    {
     "data": {
      "text/plain": [
       "215.20000000000002"
      ]
     },
     "metadata": {},
     "output_type": "display_data"
    }
   ],
   "source": [
    "sum([20, 30, 40, 50, 4, 0.4, 0.8, 70])"
   ]
  },
  {
   "cell_type": "code",
   "execution_count": null,
   "metadata": {},
   "outputs": [
    {
     "name": "stdout",
     "output_type": "stream",
     "text": [
      "Help on built-in function all in module builtins:\n",
      "\n",
      "all(iterable, /)\n",
      "    Return True if bool(x) is True for all values x in the iterable.\n",
      "\n",
      "    If the iterable is empty, return True.\n",
      "\n"
     ]
    }
   ],
   "source": [
    "help(all)"
   ]
  },
  {
   "cell_type": "code",
   "execution_count": null,
   "metadata": {},
   "outputs": [
    {
     "name": "stdout",
     "output_type": "stream",
     "text": [
      "Help on class tuple in module builtins:\n",
      "\n",
      "class tuple(object)\n",
      " |  tuple(iterable=(), /)\n",
      " |\n",
      " |  Built-in immutable sequence.\n",
      " |\n",
      " |  If no argument is given, the constructor returns an empty tuple.\n",
      " |  If iterable is specified the tuple is initialized from iterable's items.\n",
      " |\n",
      " |  If the argument is a tuple, the return value is the same object.\n",
      " |\n",
      " |  Built-in subclasses:\n",
      " |      asyncgen_hooks\n",
      " |      UnraisableHookArgs\n",
      " |\n",
      " |  Methods defined here:\n",
      " |\n",
      " |  __add__(self, value, /)\n",
      " |      Return self+value.\n",
      " |\n",
      " |  __contains__(self, key, /)\n",
      " |      Return bool(key in self).\n",
      " |\n",
      " |  __eq__(self, value, /)\n",
      " |      Return self==value.\n",
      " |\n",
      " |  __ge__(self, value, /)\n",
      " |      Return self>=value.\n",
      " |\n",
      " |  __getattribute__(self, name, /)\n",
      " |      Return getattr(self, name).\n",
      " |\n",
      " |  __getitem__(self, key, /)\n",
      " |      Return self[key].\n",
      " |\n",
      " |  __getnewargs__(self, /)\n",
      " |\n",
      " |  __gt__(self, value, /)\n",
      " |      Return self>value.\n",
      " |\n",
      " |  __hash__(self, /)\n",
      " |      Return hash(self).\n",
      " |\n",
      " |  __iter__(self, /)\n",
      " |      Implement iter(self).\n",
      " |\n",
      " |  __le__(self, value, /)\n",
      " |      Return self<=value.\n",
      " |\n",
      " |  __len__(self, /)\n",
      " |      Return len(self).\n",
      " |\n",
      " |  __lt__(self, value, /)\n",
      " |      Return self<value.\n",
      " |\n",
      " |  __mul__(self, value, /)\n",
      " |      Return self*value.\n",
      " |\n",
      " |  __ne__(self, value, /)\n",
      " |      Return self!=value.\n",
      " |\n",
      " |  __repr__(self, /)\n",
      " |      Return repr(self).\n",
      " |\n",
      " |  __rmul__(self, value, /)\n",
      " |      Return value*self.\n",
      " |\n",
      " |  count(self, value, /)\n",
      " |      Return number of occurrences of value.\n",
      " |\n",
      " |  index(self, value, start=0, stop=9223372036854775807, /)\n",
      " |      Return first index of value.\n",
      " |\n",
      " |      Raises ValueError if the value is not present.\n",
      " |\n",
      " |  ----------------------------------------------------------------------\n",
      " |  Class methods defined here:\n",
      " |\n",
      " |  __class_getitem__(...)\n",
      " |      See PEP 585\n",
      " |\n",
      " |  ----------------------------------------------------------------------\n",
      " |  Static methods defined here:\n",
      " |\n",
      " |  __new__(*args, **kwargs)\n",
      " |      Create and return a new object.  See help(type) for accurate signature.\n",
      "\n"
     ]
    }
   ],
   "source": [
    "help(tuple)"
   ]
  },
  {
   "cell_type": "code",
   "execution_count": null,
   "metadata": {},
   "outputs": [
    {
     "name": "stdout",
     "output_type": "stream",
     "text": [
      "Help on class set in module builtins:\n",
      "\n",
      "class set(object)\n",
      " |  set() -> new empty set object\n",
      " |  set(iterable) -> new set object\n",
      " |\n",
      " |  Build an unordered collection of unique elements.\n",
      " |\n",
      " |  Methods defined here:\n",
      " |\n",
      " |  __and__(self, value, /)\n",
      " |      Return self&value.\n",
      " |\n",
      " |  __contains__(...)\n",
      " |      x.__contains__(y) <==> y in x.\n",
      " |\n",
      " |  __eq__(self, value, /)\n",
      " |      Return self==value.\n",
      " |\n",
      " |  __ge__(self, value, /)\n",
      " |      Return self>=value.\n",
      " |\n",
      " |  __getattribute__(self, name, /)\n",
      " |      Return getattr(self, name).\n",
      " |\n",
      " |  __gt__(self, value, /)\n",
      " |      Return self>value.\n",
      " |\n",
      " |  __iand__(self, value, /)\n",
      " |      Return self&=value.\n",
      " |\n",
      " |  __init__(self, /, *args, **kwargs)\n",
      " |      Initialize self.  See help(type(self)) for accurate signature.\n",
      " |\n",
      " |  __ior__(self, value, /)\n",
      " |      Return self|=value.\n",
      " |\n",
      " |  __isub__(self, value, /)\n",
      " |      Return self-=value.\n",
      " |\n",
      " |  __iter__(self, /)\n",
      " |      Implement iter(self).\n",
      " |\n",
      " |  __ixor__(self, value, /)\n",
      " |      Return self^=value.\n",
      " |\n",
      " |  __le__(self, value, /)\n",
      " |      Return self<=value.\n",
      " |\n",
      " |  __len__(self, /)\n",
      " |      Return len(self).\n",
      " |\n",
      " |  __lt__(self, value, /)\n",
      " |      Return self<value.\n",
      " |\n",
      " |  __ne__(self, value, /)\n",
      " |      Return self!=value.\n",
      " |\n",
      " |  __or__(self, value, /)\n",
      " |      Return self|value.\n",
      " |\n",
      " |  __rand__(self, value, /)\n",
      " |      Return value&self.\n",
      " |\n",
      " |  __reduce__(...)\n",
      " |      Return state information for pickling.\n",
      " |\n",
      " |  __repr__(self, /)\n",
      " |      Return repr(self).\n",
      " |\n",
      " |  __ror__(self, value, /)\n",
      " |      Return value|self.\n",
      " |\n",
      " |  __rsub__(self, value, /)\n",
      " |      Return value-self.\n",
      " |\n",
      " |  __rxor__(self, value, /)\n",
      " |      Return value^self.\n",
      " |\n",
      " |  __sizeof__(...)\n",
      " |      S.__sizeof__() -> size of S in memory, in bytes\n",
      " |\n",
      " |  __sub__(self, value, /)\n",
      " |      Return self-value.\n",
      " |\n",
      " |  __xor__(self, value, /)\n",
      " |      Return self^value.\n",
      " |\n",
      " |  add(...)\n",
      " |      Add an element to a set.\n",
      " |\n",
      " |      This has no effect if the element is already present.\n",
      " |\n",
      " |  clear(...)\n",
      " |      Remove all elements from this set.\n",
      " |\n",
      " |  copy(...)\n",
      " |      Return a shallow copy of a set.\n",
      " |\n",
      " |  difference(...)\n",
      " |      Return the difference of two or more sets as a new set.\n",
      " |\n",
      " |      (i.e. all elements that are in this set but not the others.)\n",
      " |\n",
      " |  difference_update(...)\n",
      " |      Remove all elements of another set from this set.\n",
      " |\n",
      " |  discard(...)\n",
      " |      Remove an element from a set if it is a member.\n",
      " |\n",
      " |      Unlike set.remove(), the discard() method does not raise\n",
      " |      an exception when an element is missing from the set.\n",
      " |\n",
      " |  intersection(...)\n",
      " |      Return the intersection of two sets as a new set.\n",
      " |\n",
      " |      (i.e. all elements that are in both sets.)\n",
      " |\n",
      " |  intersection_update(...)\n",
      " |      Update a set with the intersection of itself and another.\n",
      " |\n",
      " |  isdisjoint(...)\n",
      " |      Return True if two sets have a null intersection.\n",
      " |\n",
      " |  issubset(self, other, /)\n",
      " |      Test whether every element in the set is in other.\n",
      " |\n",
      " |  issuperset(self, other, /)\n",
      " |      Test whether every element in other is in the set.\n",
      " |\n",
      " |  pop(...)\n",
      " |      Remove and return an arbitrary set element.\n",
      " |      Raises KeyError if the set is empty.\n",
      " |\n",
      " |  remove(...)\n",
      " |      Remove an element from a set; it must be a member.\n",
      " |\n",
      " |      If the element is not a member, raise a KeyError.\n",
      " |\n",
      " |  symmetric_difference(...)\n",
      " |      Return the symmetric difference of two sets as a new set.\n",
      " |\n",
      " |      (i.e. all elements that are in exactly one of the sets.)\n",
      " |\n",
      " |  symmetric_difference_update(...)\n",
      " |      Update a set with the symmetric difference of itself and another.\n",
      " |\n",
      " |  union(...)\n",
      " |      Return the union of sets as a new set.\n",
      " |\n",
      " |      (i.e. all elements that are in either set.)\n",
      " |\n",
      " |  update(...)\n",
      " |      Update a set with the union of itself and others.\n",
      " |\n",
      " |  ----------------------------------------------------------------------\n",
      " |  Class methods defined here:\n",
      " |\n",
      " |  __class_getitem__(...)\n",
      " |      See PEP 585\n",
      " |\n",
      " |  ----------------------------------------------------------------------\n",
      " |  Static methods defined here:\n",
      " |\n",
      " |  __new__(*args, **kwargs)\n",
      " |      Create and return a new object.  See help(type) for accurate signature.\n",
      " |\n",
      " |  ----------------------------------------------------------------------\n",
      " |  Data and other attributes defined here:\n",
      " |\n",
      " |  __hash__ = None\n",
      "\n"
     ]
    }
   ],
   "source": [
    "help(set)"
   ]
  },
  {
   "cell_type": "code",
   "execution_count": null,
   "metadata": {},
   "outputs": [
    {
     "name": "stdout",
     "output_type": "stream",
     "text": [
      "Help on class dict in module builtins:\n",
      "\n",
      "class dict(object)\n",
      " |  dict() -> new empty dictionary\n",
      " |  dict(mapping) -> new dictionary initialized from a mapping object's\n",
      " |      (key, value) pairs\n",
      " |  dict(iterable) -> new dictionary initialized as if via:\n",
      " |      d = {}\n",
      " |      for k, v in iterable:\n",
      " |          d[k] = v\n",
      " |  dict(**kwargs) -> new dictionary initialized with the name=value pairs\n",
      " |      in the keyword argument list.  For example:  dict(one=1, two=2)\n",
      " |\n",
      " |  Built-in subclasses:\n",
      " |      StgDict\n",
      " |\n",
      " |  Methods defined here:\n",
      " |\n",
      " |  __contains__(self, key, /)\n",
      " |      True if the dictionary has the specified key, else False.\n",
      " |\n",
      " |  __delitem__(self, key, /)\n",
      " |      Delete self[key].\n",
      " |\n",
      " |  __eq__(self, value, /)\n",
      " |      Return self==value.\n",
      " |\n",
      " |  __ge__(self, value, /)\n",
      " |      Return self>=value.\n",
      " |\n",
      " |  __getattribute__(self, name, /)\n",
      " |      Return getattr(self, name).\n",
      " |\n",
      " |  __getitem__(self, key, /)\n",
      " |      Return self[key].\n",
      " |\n",
      " |  __gt__(self, value, /)\n",
      " |      Return self>value.\n",
      " |\n",
      " |  __init__(self, /, *args, **kwargs)\n",
      " |      Initialize self.  See help(type(self)) for accurate signature.\n",
      " |\n",
      " |  __ior__(self, value, /)\n",
      " |      Return self|=value.\n",
      " |\n",
      " |  __iter__(self, /)\n",
      " |      Implement iter(self).\n",
      " |\n",
      " |  __le__(self, value, /)\n",
      " |      Return self<=value.\n",
      " |\n",
      " |  __len__(self, /)\n",
      " |      Return len(self).\n",
      " |\n",
      " |  __lt__(self, value, /)\n",
      " |      Return self<value.\n",
      " |\n",
      " |  __ne__(self, value, /)\n",
      " |      Return self!=value.\n",
      " |\n",
      " |  __or__(self, value, /)\n",
      " |      Return self|value.\n",
      " |\n",
      " |  __repr__(self, /)\n",
      " |      Return repr(self).\n",
      " |\n",
      " |  __reversed__(self, /)\n",
      " |      Return a reverse iterator over the dict keys.\n",
      " |\n",
      " |  __ror__(self, value, /)\n",
      " |      Return value|self.\n",
      " |\n",
      " |  __setitem__(self, key, value, /)\n",
      " |      Set self[key] to value.\n",
      " |\n",
      " |  __sizeof__(...)\n",
      " |      D.__sizeof__() -> size of D in memory, in bytes\n",
      " |\n",
      " |  clear(...)\n",
      " |      D.clear() -> None.  Remove all items from D.\n",
      " |\n",
      " |  copy(...)\n",
      " |      D.copy() -> a shallow copy of D\n",
      " |\n",
      " |  get(self, key, default=None, /)\n",
      " |      Return the value for key if key is in the dictionary, else default.\n",
      " |\n",
      " |  items(...)\n",
      " |      D.items() -> a set-like object providing a view on D's items\n",
      " |\n",
      " |  keys(...)\n",
      " |      D.keys() -> a set-like object providing a view on D's keys\n",
      " |\n",
      " |  pop(...)\n",
      " |      D.pop(k[,d]) -> v, remove specified key and return the corresponding value.\n",
      " |\n",
      " |      If the key is not found, return the default if given; otherwise,\n",
      " |      raise a KeyError.\n",
      " |\n",
      " |  popitem(self, /)\n",
      " |      Remove and return a (key, value) pair as a 2-tuple.\n",
      " |\n",
      " |      Pairs are returned in LIFO (last-in, first-out) order.\n",
      " |      Raises KeyError if the dict is empty.\n",
      " |\n",
      " |  setdefault(self, key, default=None, /)\n",
      " |      Insert key with a value of default if key is not in the dictionary.\n",
      " |\n",
      " |      Return the value for key if key is in the dictionary, else default.\n",
      " |\n",
      " |  update(...)\n",
      " |      D.update([E, ]**F) -> None.  Update D from dict/iterable E and F.\n",
      " |      If E is present and has a .keys() method, then does:  for k in E: D[k] = E[k]\n",
      " |      If E is present and lacks a .keys() method, then does:  for k, v in E: D[k] = v\n",
      " |      In either case, this is followed by: for k in F:  D[k] = F[k]\n",
      " |\n",
      " |  values(...)\n",
      " |      D.values() -> an object providing a view on D's values\n",
      " |\n",
      " |  ----------------------------------------------------------------------\n",
      " |  Class methods defined here:\n",
      " |\n",
      " |  __class_getitem__(...)\n",
      " |      See PEP 585\n",
      " |\n",
      " |  fromkeys(iterable, value=None, /)\n",
      " |      Create a new dictionary with keys from iterable and values set to value.\n",
      " |\n",
      " |  ----------------------------------------------------------------------\n",
      " |  Static methods defined here:\n",
      " |\n",
      " |  __new__(*args, **kwargs)\n",
      " |      Create and return a new object.  See help(type) for accurate signature.\n",
      " |\n",
      " |  ----------------------------------------------------------------------\n",
      " |  Data and other attributes defined here:\n",
      " |\n",
      " |  __hash__ = None\n",
      "\n"
     ]
    }
   ],
   "source": [
    "help(dict)"
   ]
  },
  {
   "cell_type": "markdown",
   "metadata": {},
   "source": [
    "__Variables__\n",
    "***\n",
    ">Variables store data in a computer memory. Mnemonic variables are recommended to use in many programming languages. A mnemonic variable is a variable name that can be easily remembered and associated. A variable refers to a memory address in which data is stored. Number at the beginning, special character, hyphen are not allowed when naming a variable. A variable can have a short name (like x, y, z), but a more descriptive name (firstname, lastname, age, country) is highly recommended.\n",
    "\n",
    ">Python Variable Name Rules\n",
    "\n",
    ">A variable name must start with a letter or the underscore character\n",
    "\n",
    ">A variable name cannot start with a number\n",
    "\n",
    ">A variable name can only contain alpha-numeric characters and underscores (A-z, 0-9, and _ )\n",
    "\n",
    ">Variable names are case-sensitive ((firstname, Firstname, FirstName and FIRSTNAME) are different variables)\n",
    "\n",
    ">Here are some example of valid variable names:"
   ]
  },
  {
   "cell_type": "markdown",
   "metadata": {},
   "source": [
    ">- firstname\n",
    "\n",
    ">- lastname\n",
    "\n",
    ">- age\n",
    "\n",
    ">- country\n",
    "\n",
    ">- city\n",
    "\n",
    ">- first_name\n",
    "\n",
    ">- last_name\n",
    "\n",
    ">- capital_city\n",
    "\n",
    ">- _if # if we want to use reserved word as a variable\n",
    "\n",
    ">- year_2021\n",
    "\n",
    ">- year2021\n",
    "\n",
    ">- current_year_2021\n",
    "\n",
    ">- birth_year\n",
    "\n",
    ">- num1\n",
    "\n",
    ">- num2\n",
    "\n",
    "__Invalid variables names__\n",
    " \n",
    "> - first-name\n",
    " \n",
    "> - first@name\n",
    " \n",
    "> - first$name\n",
    " \n",
    "> - num-1\n",
    " \n",
    "> - 1num"
   ]
  },
  {
   "cell_type": "markdown",
   "metadata": {},
   "source": [
    ">We will use standard Python variable naming style which has been adopted by many Python developers. Python developers use snake case(snake_case) variable naming convention. \n",
    "\n",
    ">We use underscore character after each word for a variable containing more than one word(eg. first_name, last_name, engine_rotation_speed). \n",
    "\n",
    ">The example below is an example of standard naming of variables, underscore is required when the variable name is more than one word.\n",
    "\n",
    ">When we assign a certain data type to a variable, it is called variable declaration. For instance in the example below my first name is assigned to a variable first_name. The equal sign is an assignment operator. Assigning means storing data in the variable. The equal sign in Python is not equality as in Mathematics.\n",
    "\n",
    ">Example:"
   ]
  },
  {
   "cell_type": "code",
   "execution_count": 2,
   "metadata": {},
   "outputs": [
    {
     "name": "stdout",
     "output_type": "stream",
     "text": [
      "Hello my friend Adamu Labaran from Abuja, Nigeria\n"
     ]
    }
   ],
   "source": [
    "# Variables in Python\n",
    "first_name = 'Adamu'\n",
    "last_name = 'Labaran'\n",
    "full_name = first_name + \" \" +  last_name\n",
    "country = 'Nigeria'\n",
    "city = 'Abuja'\n",
    "age = 250\n",
    "is_married = True\n",
    "skills = ['HTML', 'CSS', 'JS', 'React', 'Python']\n",
    "\n",
    "person_info = {\n",
    "   'firstname':'Adamu',\n",
    "   'lastname':'Labaran',\n",
    "   'country':'Nigeria',\n",
    "   'city':'Abuja'\n",
    "   }\n",
    "\n",
    "print(f\"Hello my friend {full_name.title()} from {city.title()}, {country.title()}\")"
   ]
  },
  {
   "cell_type": "markdown",
   "metadata": {},
   "source": [
    ">Let us use the print() and len() built-in functions. Print function takes unlimited number of arguments. An argument is a value which we can be passed or put inside the function parenthesis, see the example below.\n",
    "\n",
    ">Example:"
   ]
  },
  {
   "cell_type": "code",
   "execution_count": null,
   "metadata": {},
   "outputs": [
    {
     "name": "stdout",
     "output_type": "stream",
     "text": [
      "Hello, World!\n",
      "Hello , World !\n",
      "13\n"
     ]
    }
   ],
   "source": [
    "print('Hello, World!') # The text Hello, World! is an argument\n",
    "print('Hello',',', 'World','!') # it can take multiple arguments, four arguments have been passed\n",
    "print(len('Hello, World!')) # it takes only one argument"
   ]
  },
  {
   "cell_type": "markdown",
   "metadata": {},
   "source": [
    ">Let us print and also find the length of the variables declared at the top:\n",
    "\n",
    "__Example:__"
   ]
  },
  {
   "cell_type": "code",
   "execution_count": null,
   "metadata": {},
   "outputs": [
    {
     "name": "stdout",
     "output_type": "stream",
     "text": [
      "First name: Adamu\n",
      "First name length: 5\n",
      "Last name:  Labaran\n",
      "Last name length:  7\n",
      "Country:  Nigeria\n",
      "City:  Abuja\n",
      "Age:  250\n",
      "Married:  True\n",
      "Skills:  ['HTML', 'CSS', 'JS', 'React', 'Python']\n",
      "Person information:  {'firstname': 'Adamu', 'lastname': 'Labaran', 'country': 'Nigeria', 'city': 'Abuja'}\n"
     ]
    }
   ],
   "source": [
    "# Printing the values stored in the variables\n",
    "\n",
    "print('First name:', first_name)\n",
    "print('First name length:', len(first_name))\n",
    "print('Last name: ', last_name)\n",
    "print('Last name length: ', len(last_name))\n",
    "print('Country: ', country)\n",
    "print('City: ', city)\n",
    "print('Age: ', age)\n",
    "print('Married: ', is_married)\n",
    "print('Skills: ', skills)\n",
    "print('Person information: ', person_info)"
   ]
  },
  {
   "cell_type": "code",
   "execution_count": null,
   "metadata": {},
   "outputs": [
    {
     "name": "stdout",
     "output_type": "stream",
     "text": [
      "Adamu Labaran Nigeria 28 False\n",
      "First name: Adamu\n",
      "Last name:  Labaran\n",
      "Country:  Nigeria\n",
      "Age:  28\n",
      "Married:  False\n"
     ]
    }
   ],
   "source": [
    "first_name, last_name, country, age, is_married = 'Adamu', 'Labaran', 'Nigeria', 28, False\n",
    "\n",
    "print(first_name, last_name, country, age, is_married)\n",
    "print('First name:', first_name)\n",
    "print('Last name: ', last_name)\n",
    "print('Country: ', country)\n",
    "print('Age: ', age)\n",
    "print('Married: ', is_married)"
   ]
  },
  {
   "cell_type": "markdown",
   "metadata": {},
   "source": [
    "Getting user input using the input() built-in function. Let us assign the data we get from a user into first_name and age variables. Example:"
   ]
  },
  {
   "cell_type": "code",
   "execution_count": null,
   "metadata": {},
   "outputs": [
    {
     "name": "stdout",
     "output_type": "stream",
     "text": [
      "adamu labaran\n",
      "You are 444\n"
     ]
    }
   ],
   "source": [
    "first_name = input('What is your name: ')\n",
    "age = input('How old are you? ')\n",
    "\n",
    "print(first_name)\n",
    "print(f\"You are {age}\")"
   ]
  },
  {
   "cell_type": "markdown",
   "metadata": {},
   "source": [
    "__Data Types__\n",
    "***\n",
    ">There are several data types in Python. To identify the data type we use the type built-in function. I would like to ask you to focus on understanding different data types very well. When it comes to programming, it is all about data types. I introduced data types at the very beginning and it comes again, because every topic is related to data types. We will cover data types in more detail in their respective sections.\n",
    "\n",
    "_Checking Data types and Casting_\n",
    "***\n",
    "- Check Data types: To check the data type of certain data/variable we use the _type_ __Examples__:"
   ]
  },
  {
   "cell_type": "code",
   "execution_count": null,
   "metadata": {},
   "outputs": [
    {
     "name": "stdout",
     "output_type": "stream",
     "text": [
      "<class 'str'>\n",
      "<class 'str'>\n",
      "<class 'int'>\n",
      "<class 'float'>\n",
      "<class 'complex'>\n",
      "<class 'bool'>\n",
      "<class 'list'>\n",
      "<class 'dict'>\n",
      "<class 'tuple'>\n",
      "<class 'zip'>\n"
     ]
    }
   ],
   "source": [
    "# Different python data types\n",
    "# Let's declare variables with various data types\n",
    "\n",
    "first_name = 'Asabeneh'     # str\n",
    "last_name = 'Yetayeh'       # str\n",
    "country = 'Finland'         # str\n",
    "city= 'Helsinki'            # str\n",
    "age = 250                   # int, it is not my real age, don't worry about it\n",
    "\n",
    "# Printing out types\n",
    "print(type('Asabeneh'))          # str\n",
    "print(type(first_name))          # str\n",
    "print(type(10))                  # int\n",
    "print(type(3.14))                # float\n",
    "print(type(1 + 1j))              # complex\n",
    "print(type(True))                # bool\n",
    "print(type([1, 2, 3, 4]))        # list\n",
    "print(type({'name':'Asabeneh'})) # dict\n",
    "print(type((1,2)))               # tuple\n",
    "print(type(zip([1,2],[3,4])))    # zip"
   ]
  },
  {
   "cell_type": "markdown",
   "metadata": {},
   "source": [
    ">- Casting: Converting one data type to another data type. We use ___int(), float(), str(), list, set___ \n",
    "\n",
    ">- When we do arithmetic operations string numbers should be first converted to int or float otherwise it will return an error. \n",
    "\n",
    ">If we concatenate a number with a string, the number should be first converted to a string. We will talk about concatenation in String section.\n",
    "\n",
    "Examples:"
   ]
  },
  {
   "cell_type": "code",
   "execution_count": null,
   "metadata": {},
   "outputs": [
    {
     "name": "stdout",
     "output_type": "stream",
     "text": [
      "num_int 10\n",
      "num_float: 10.0\n",
      "9\n",
      "10\n",
      "10\n",
      "num_float 10.6\n",
      "num_int 10\n",
      "Asabeneh\n",
      "['A', 's', 'a', 'b', 'e', 'n', 'e', 'h']\n"
     ]
    }
   ],
   "source": [
    "# int to float\n",
    "num_int = 10\n",
    "print('num_int',num_int)         # 10\n",
    "num_float = float(num_int)\n",
    "print('num_float:', num_float)   # 10.0\n",
    "\n",
    "# float to int\n",
    "gravity = 9.81\n",
    "print(int(gravity))             # 9\n",
    "\n",
    "# int to str\n",
    "num_int = 10\n",
    "print(num_int)                  # 10\n",
    "num_str = str(num_int)\n",
    "print(num_str)                  # '10'\n",
    "\n",
    "# str to int or float\n",
    "num_str = '10.6'\n",
    "num_float = float(num_str)\n",
    "print('num_float', float(num_str))  # 10.6\n",
    "num_int = int(num_float)\n",
    "print('num_int', int(num_int))      # 10\n",
    "\n",
    "# str to list\n",
    "first_name = 'Asabeneh'\n",
    "print(first_name)               # 'Asabeneh'\n",
    "first_name_to_list = list(first_name)\n",
    "print(first_name_to_list)            # ['A', 's', 'a', 'b', 'e', 'n', 'e', 'h']"
   ]
  },
  {
   "cell_type": "code",
   "execution_count": null,
   "metadata": {},
   "outputs": [],
   "source": []
  },
  {
   "cell_type": "markdown",
   "metadata": {},
   "source": [
    "_Variables_\n",
    "\n",
    ">Variables are used to store data that can be used and manipulated in a program. In Python, you don’t need to declare the type of a variable explicitly (dynamic typing).\n",
    "\n",
    "_rules_\n",
    "\n",
    ">Variable names must start with a letter or underscore (_).\n",
    "\n",
    ">Cannot start with a number.\n",
    "\n",
    ">Can only contain alphanumeric characters and underscores (a-z, A-Z, 0-9, _).\n",
    "\n",
    ">Case-sensitive (age and Age are different)."
   ]
  },
  {
   "cell_type": "code",
   "execution_count": 1,
   "metadata": {},
   "outputs": [],
   "source": [
    "name = \"Adamu\"\n",
    "age = 2500\n",
    "is_student = True"
   ]
  },
  {
   "cell_type": "code",
   "execution_count": 2,
   "metadata": {},
   "outputs": [
    {
     "data": {
      "text/plain": [
       "'Adamu'"
      ]
     },
     "execution_count": 2,
     "metadata": {},
     "output_type": "execute_result"
    }
   ],
   "source": [
    "name"
   ]
  },
  {
   "cell_type": "code",
   "execution_count": 3,
   "metadata": {},
   "outputs": [
    {
     "data": {
      "text/plain": [
       "2500"
      ]
     },
     "execution_count": 3,
     "metadata": {},
     "output_type": "execute_result"
    }
   ],
   "source": [
    "age"
   ]
  },
  {
   "cell_type": "code",
   "execution_count": 6,
   "metadata": {},
   "outputs": [
    {
     "name": "stdout",
     "output_type": "stream",
     "text": [
      "<class 'int'>\n"
     ]
    }
   ],
   "source": [
    "# type cheching in python\n",
    "x = 10\n",
    "print(type(x))  # <class 'int'>"
   ]
  },
  {
   "cell_type": "code",
   "execution_count": 7,
   "metadata": {},
   "outputs": [
    {
     "name": "stdout",
     "output_type": "stream",
     "text": [
      "15\n"
     ]
    },
    {
     "data": {
      "text/plain": [
       "str"
      ]
     },
     "execution_count": 7,
     "metadata": {},
     "output_type": "execute_result"
    }
   ],
   "source": [
    "# type checking\n",
    "num = \"10\"\n",
    "print(int(num) + 5)  # 15\n",
    "type(num)"
   ]
  },
  {
   "cell_type": "code",
   "execution_count": 8,
   "metadata": {},
   "outputs": [
    {
     "name": "stdout",
     "output_type": "stream",
     "text": [
      "Hello adamu, you are 28 years old.\n"
     ]
    }
   ],
   "source": [
    "name = input(\"Enter your name: \")\n",
    "age = int(input(\"Enter your age: \"))\n",
    "print(f\"Hello {name}, you are {age} years old.\")"
   ]
  },
  {
   "cell_type": "code",
   "execution_count": 9,
   "metadata": {},
   "outputs": [
    {
     "name": "stdout",
     "output_type": "stream",
     "text": [
      "Hello, Adamu!\n",
      "Hello, Adamu\n",
      "Hello, Adamu!\n"
     ]
    }
   ],
   "source": [
    "'''Supports string formatting using f-strings, .format(), or %'''\n",
    "name = \"Adamu\"\n",
    "print(f\"Hello, {name}!\")          # f-string\n",
    "print(\"Hello, {}\".format(name))  # .format()\n",
    "print(\"Hello, %s!\" % name)       # %"
   ]
  },
  {
   "cell_type": "code",
   "execution_count": 10,
   "metadata": {},
   "outputs": [],
   "source": [
    "'''Comments\n",
    "Comments are used to add notes or explanations to code. They are ignored by the Python interpreter.\n",
    "\n",
    "Single-line Comments:\n",
    "Use # for single-line comments:'''\n",
    "\n",
    "# This is a comment\n",
    "x = 10  # This is an inline comment"
   ]
  },
  {
   "cell_type": "code",
   "execution_count": 11,
   "metadata": {},
   "outputs": [
    {
     "data": {
      "text/plain": [
       "'\\nThis is a multi-line comment.\\nIt spans multiple lines.\\n'"
      ]
     },
     "execution_count": 11,
     "metadata": {},
     "output_type": "execute_result"
    }
   ],
   "source": [
    "\"\"\"\n",
    "This is a multi-line comment.\n",
    "It spans multiple lines.\n",
    "\"\"\"\n"
   ]
  },
  {
   "cell_type": "code",
   "execution_count": 12,
   "metadata": {},
   "outputs": [
    {
     "name": "stdout",
     "output_type": "stream",
     "text": [
      "Hello, Adamu! You are 28 years old.\n",
      "<class 'str'>\n",
      "<class 'int'>\n",
      "['reading', 'coding', 'gaming']\n",
      "{'name': 'Adamu', 'age': 28, 'hobbies': ['reading', 'coding', 'gaming', 'traveling']}\n"
     ]
    }
   ],
   "source": [
    "# Declare variables\n",
    "name = input(\"Enter your name: \")  # User input\n",
    "age = int(input(\"Enter your age: \"))  # Convert input to integer\n",
    "\n",
    "# Output using formatted strings\n",
    "print(f\"Hello, {name}! You are {age} years old.\")\n",
    "\n",
    "# Check data types\n",
    "print(type(name))  # <class 'str'>\n",
    "print(type(age))   # <class 'int'>\n",
    "\n",
    "# Use lists and dictionaries\n",
    "hobbies = [\"reading\", \"coding\", \"gaming\"]\n",
    "user_info = {\"name\": name, \"age\": age, \"hobbies\": hobbies}\n",
    "\n",
    "# Access and modify collections\n",
    "print(user_info[\"hobbies\"])  # ['reading', 'coding', 'gaming']\n",
    "user_info[\"hobbies\"].append(\"traveling\")  # Add a new hobby\n",
    "print(user_info)"
   ]
  },
  {
   "cell_type": "code",
   "execution_count": 14,
   "metadata": {},
   "outputs": [
    {
     "name": "stdout",
     "output_type": "stream",
     "text": [
      "{'name': 'adams', 'age': 349, 'hobbies': ['coocking', 'coding', 'gardening', 'meditation']}\n"
     ]
    }
   ],
   "source": [
    "name = input(\"Enter your name: \")\n",
    "age = int(input(\"Enter your age: \"))\n",
    "hobbies = [\"coocking\", \"coding\", \"gardening\", \"meditation\"]\n",
    "my_info = {\"name\": name, \"age\":age, \"hobbies\":hobbies}\n",
    "print(my_info)"
   ]
  },
  {
   "cell_type": "markdown",
   "metadata": {},
   "source": [
    "__Variables, expressions and  statement__\n",
    "\n",
    "_https://join.moniepoint.com?adj_t=15ha060e&rC=DGHD424_\n",
    "\n",
    "***\n",
    "__VARIABLE__\n",
    "\n",
    ">A variable in Python is like a labeled container that holds data.\n",
    "\n",
    ">Think of it as a box where you can store something and give it a name so you can use it later.\n",
    "\n",
    ">Just like you label a box to know what's inside, you assign a name to a variable to reference the data it holds.\n",
    "\n",
    ">Variable names should be descriptive and follow naming rules (e.g., start with a letter or underscore, no spaces).\n",
    "\n",
    ">Variables can store various types of data, such as numbers, text, lists, or more complex objects.\n",
    "\n",
    ">The data stored can change over time, making variables flexible for different operations.\n",
    "***\n",
    "__Real-World Analogy__\n",
    "\n",
    ">Imagine you're organizing a kitchen:\n",
    "\n",
    ">Variable as a Container:\n",
    "\n",
    ">You have containers (variables) labeled \"Flour,\" \"Sugar,\" and \"Eggs.\"\n",
    "\n",
    ">Each container holds a specific ingredient (data).\n",
    "\n",
    ">Changing Contents:\n",
    "\n",
    ">If you use some sugar, you can refill the \"Sugar\" container.\n",
    "\n",
    ">This is similar to updating the value of a variable.\n",
    "\n",
    "__Variables in Python__\n",
    "\n",
    ">>1. Variable names can contain only letters\n",
    "\n",
    ">2. Spaces are not allowed in variable names, but underscores can be used\n",
    "\n",
    ">3. Avoid using Python keywords and function names as variable names\n",
    "\n",
    ">4. Variable names should be short but descriptive.\n",
    "***\n",
    "_the word print;_\n",
    "\n",
    "_an opening parenthesis;_\n",
    "\n",
    "_a quotation mark;_\n",
    "\n",
    "_a line of text: Hello, World!;_\n",
    "\n",
    "_another quotation mark;_\n",
    "\n",
    "_a closing parenthesis._\n",
    "\n",
    "_Each of the above plays a very important role in the code._\n",
    "\n",
    "__The print() function__\n",
    "\n",
    "__print(\"Hello World!\")__\n",
    "***\n",
    "\n",
    ">The word print that you can see here is a function name. That doesn't mean that wherever the word appears it is always a function name. The meaning of the word comes from the context in which the word has been used.\n",
    "\n",
    ">You've probably encountered the term function many times before, during math classes. You can probably also list several names of mathematical functions, like sine or log.\n",
    "\n",
    ">Python functions, however, are more flexible, and can contain more content than their mathematical siblings.\n",
    "\n",
    ">A function (in this context) is a separate part of the computer code able to:\n",
    "\n",
    ">cause some effect (e.g., send text to the terminal, create a file, draw an image, play a sound, etc.); this is something completely unheard of in the world of mathematics;\n",
    "\n",
    ">evaluate a value (e.g., the square root of a value or the length of a given text) and return it as the function's result; this is what makes Python functions the relatives of mathematical concepts.\n",
    "\n",
    ">Moreover, many Python functions can do the above two things together.\n",
    "\n",
    ">Where do the functions come from?\n",
    "\n",
    ">They may come from Python itself; the print function is one of this kind; such a function is an added value received together with Python and its environment (it is built-in); you don't have to do anything special (e.g., ask anyone for anything) if you want to make use of it;\n",
    "\n",
    ">They may come from one or more of Python's add-ons named modules; some of the modules come with Python, others may require separate installation - whatever the case, they all need to be explicitly connected with your code (we'll show you how to do that soon);\n",
    "\n",
    ">You can write them yourself, placing as many functions as you want and need inside your program to make it simpler, clearer and more elegant.\n",
    "\n",
    ">The name of the function should be significant (the name of the print function is self-evident).\n",
    "\n",
    ">Of course, if you're going to make use of any already existing function, you have no influence on its name, but when you start writing your own functions, you should consider carefully your choice of names.\n",
    "\n",
    "___2.1.3 Function arguments___\n",
    "\n",
    ">There's also a third, very important, function component ‒ the argument(s).\n",
    "\n",
    ">Mathematical functions usually take one argument. For example, sin(x) takes an x, which is the measure of an angle.\n",
    "\n",
    ">Python functions, on the other hand, are more versatile. Depending on the individual needs, they may accept any number of arguments ‒ as many as necessary to perform their tasks. Note: When we said any number, that includes zero ‒ some Python functions don't need any argument.\n",
    "\n",
    ">print(\"Hello, World!\")\n",
    "\n",
    ">In spite of the number of needed/provided arguments, Python functions strongly demand the presence of a pair of parentheses ‒ opening and closing ones, respectively.\n",
    "\n",
    ">If you want to deliver one or more arguments to a function, you place them inside the parentheses. If you're going to use a function which doesn't take any argument, you still have to have the parentheses.\n",
    "\n",
    ">_Note: to distinguish ordinary words from function names, place a pair of empty parentheses after their names, even if the corresponding function wants one or more arguments. This is a standard convention._\n",
    "\n",
    "\n",
    ">The function we're talking about here is print().\n",
    "\n",
    ">Does the print() function in our example have any arguments?\n",
    "\n",
    ">Of course it does, but what are they?\n",
    "\n",
    ">String as the print() function's argument The only argument delivered to the print() function in this example is a string:\n",
    "\n",
    ">print(\"Hello, World!\")\n",
    "\n",
    ">As you can see, the string is delimited with quotes ‒ in fact, the quotes make the string ‒ they cut out a part of the code and assign a different meaning to it.\n",
    "\n",
    ">You can imagine that the quotes say something like: the text between us is not code. It isn't intended to be executed, and you should take it as is.\n",
    "\n",
    ">Almost anything you put inside the quotes will be taken literally, not as code, but as data. Try to play with this particular string ‒ modify it, enter some new content, delete some of the existing content.\n",
    "\n",
    ">There's more than one way to specify a string inside Python's code, but for now, though, this one is enough.\n",
    "\n",
    ">So far, you have learned about two important parts of the code: the function and the string. We've talked about them in terms of syntax, but now it's time to discuss them in terms of semantics.\n",
    "\n",
    "\n",
    "__2.1.4 Function invocation__\n",
    "\n",
    ">The function name (print in this case) along with the parentheses and argument(s), forms the function invocation.\n",
    "***\n",
    "print(\"Hello, World!\")\n",
    "*** \n",
    ">We'll discuss this in more depth soon, but let's just shed a little light on it right now.\n",
    "\n",
    ">What happens when Python encounters an invocation like this one below?\n",
    "\n",
    "***\n",
    "function_name(argument)\n",
    "***\n",
    "_Let's see:_\n",
    "\n",
    ">First, Python checks if the name specified is legal (it browses its internal data in order to find an existing function of the name; if this search fails, Python aborts the code)\n",
    "\n",
    ">second, Python checks if the function's requirements for the number of arguments allows you to invoke the function in this way (e.g., if a specific function demands exactly two arguments, any invocation delivering only one argument will be considered erroneous, and will abort the code's execution)\n",
    "\n",
    ">third, Python leaves your code for a moment and jumps into the function you want to invoke; of course, it takes your argument(s) too and passes it/them to the function;\n",
    "\n",
    ">fourth, the function executes its code, causes the desired effect (if any), evaluates the desired result(s) (if any) and finishes its task;\n",
    "\n",
    ">finally, Python returns to your code (to the place just after the invocation) and resumes its execution.\n",
    "\n",
    "__2.1.5   LAB   Working with the print() function__\n",
    "\n",
    "___Scenario___\n",
    "\n",
    ">The print() command, which is one of the easiest directives in Python, simply prints out a line to the screen.\n",
    "\n",
    ">In your first lab:\n",
    "\n",
    ">Use the print() function to print the line Hello, Python! to the screen. Use double quotes around the string.\n",
    "\n",
    ">Having done that, use the print() function again, but this time print your first name.\n",
    "\n",
    ">Remove the double quotes and run your code. Watch Python's reaction. What kind of error is thrown?\n",
    "\n",
    ">Then, remove the parentheses, put back the double quotes, and run your code again. What kind of error is thrown this time?\n",
    "\n",
    ">Experiment as much as you can. Change double quotes to single quotes, use multiple print() functions on the same line, and then on different lines. See what happens."
   ]
  },
  {
   "cell_type": "code",
   "execution_count": 1,
   "metadata": {},
   "outputs": [
    {
     "name": "stdout",
     "output_type": "stream",
     "text": [
      "Hello World!\n"
     ]
    }
   ],
   "source": [
    "print(\"Hello World!\")"
   ]
  },
  {
   "cell_type": "markdown",
   "metadata": {},
   "source": [
    "___LAB   Working with the print() function___\n",
    "\n",
    "_Scenario_\n",
    "\n",
    ">The print() command, which is one of the easiest directives in Python, simply prints out a line to the screen.\n",
    "\n",
    "_In your first lab:_\n",
    "\n",
    ">Use the print() function to print the line Hello, Python! to the screen. Use double quotes around the string.\n",
    "\n",
    ">Having done that, use the print() function again, but this time print your first name.\n",
    "\n",
    ">Remove the double quotes and run your code. Watch Python's reaction. What kind of error is thrown?\n",
    "\n",
    ">Then, remove the parentheses, put back the double quotes, and run your code again. What kind of error is thrown this time?\n",
    "\n",
    ">Experiment as much as you can. Change double quotes to single quotes, use multiple print() functions on the same line, and then on different lines. See what happens.\n"
   ]
  },
  {
   "cell_type": "code",
   "execution_count": 4,
   "metadata": {},
   "outputs": [
    {
     "name": "stdout",
     "output_type": "stream",
     "text": [
      "Hello, Python!\n",
      "Greg\n",
      "Greg\n",
      "Greg\n",
      "Greg\n",
      "Greg\n",
      "Python\n"
     ]
    }
   ],
   "source": [
    "print(\"Hello, Python!\")\n",
    "print(\"Greg\")\n",
    "print('Greg')\n",
    "print(\"Greg\")\n",
    "print('Greg')\n",
    "print(\"Greg\") \n",
    "print(\"Python\")"
   ]
  },
  {
   "cell_type": "markdown",
   "metadata": {},
   "source": [
    "__2.1.6 The print() function and its effect, arguments, and values returned Three important questions have to be answered as soon as possible:__\n",
    "\n",
    "___1. What effect does the print() function cause?___\n",
    "\n",
    ">The effect is very useful and very spectacular. The function:\n",
    "\n",
    ">takes its arguments (it may accept more than one argument and may also accept less than one argument) converts them into human-readable form if needed (as you may suspect, strings don't require this action, as the string is already readable) and sends the resulting data to the output device (usually the console); in other words, anything you put into the print() function will appear on your screen.\n",
    "\n",
    ">No wonder then, that from now on, you'll utilize print() very intensively to see the results of your operations and evaluations.\n",
    "\n",
    "___2. What arguments does print() expect?___\n",
    "\n",
    ">Any. We'll show you soon that print() is able to operate with virtually all types of data offered by Python. Strings, numbers, characters, logical values, objects ‒ any of these may be successfully passed to print().\n",
    "\n",
    "___3. What value does the print() function return?___\n",
    "\n",
    ">None. Its effect is enough.\n",
    "\n",
    "__2.1.7 Instructions__\n",
    "\n",
    ">You have already seen a computer program that contains one function invocation. A function invocation is one of many possible kinds of Python instruction.\n",
    "\n",
    "_Of course, any complex program usually contains many more instructions than one. The question is: how do you couple more than one instruction into the Python code?_\n",
    "\n",
    ">Python's syntax is quite specific in this area. Unlike most programming languages, Python requires that there cannot be more than one instruction in a line.\n",
    "\n",
    ">A line can be empty (i.e., it may contain no instruction at all) but it must not contain two, three or more instructions. This is strictly prohibited.\n",
    "\n",
    "_Note: Python makes one exception to this rule ‒ it allows one instruction to spread across more than one line (which may be helpful when your code contains complex constructions)._\n",
    "\n",
    ">Let's expand the code a bit. You can see it in the editor below. Run it and note what you see in the console."
   ]
  },
  {
   "cell_type": "code",
   "execution_count": 3,
   "metadata": {},
   "outputs": [
    {
     "name": "stdout",
     "output_type": "stream",
     "text": [
      "The itsy bitsy spider climbed up the waterspout.\n",
      "Down came the rain and washed the spider out.\n"
     ]
    }
   ],
   "source": [
    "print(\"The itsy bitsy spider climbed up the waterspout.\")\n",
    "print(\"Down came the rain and washed the spider out.\")"
   ]
  },
  {
   "cell_type": "markdown",
   "metadata": {},
   "source": [
    "__This is a good opportunity to make some observations:__\n",
    "\n",
    ">the program invokes the print() function twice, and you can see two separate lines in the console ‒ this means that print() begins its output from a new line each time it starts its execution; you can change this behavior, but you can also use it to your advantage; each print() invocation contains a different string, as its argument, and the console content reflects it ‒ this means that the instructions in the code are executed in the same order in which they have been placed in the source file; no subsequent instruction is executed until the previous one is completed (there are some exceptions to this rule, but you can ignore them for now.)\n",
    "\n",
    ">We've changed the example a bit ‒ we've added one empty print() function invocation. We call it empty because we haven't delivered any arguments to the function.\n",
    "\n",
    "\n",
    "_What happens?_"
   ]
  },
  {
   "cell_type": "code",
   "execution_count": 4,
   "metadata": {},
   "outputs": [
    {
     "name": "stdout",
     "output_type": "stream",
     "text": [
      "The itsy bitsy spider climbed up the waterspout.\n",
      "\n",
      "Down came the rain and washed the spider out.\n"
     ]
    }
   ],
   "source": [
    "print(\"The itsy bitsy spider climbed up the waterspout.\")\n",
    "print()\n",
    "print(\"Down came the rain and washed the spider out.\")\n"
   ]
  },
  {
   "cell_type": "markdown",
   "metadata": {},
   "source": [
    "___Python escape and newline characters___"
   ]
  },
  {
   "cell_type": "code",
   "execution_count": 5,
   "metadata": {},
   "outputs": [
    {
     "name": "stdout",
     "output_type": "stream",
     "text": [
      "The itsy bitsy spider\n",
      "climbed up the waterspout.\n",
      "\n",
      "Down came the rain\n",
      "and washed the spider out.\n"
     ]
    }
   ],
   "source": [
    "print(\"The itsy bitsy spider\\nclimbed up the waterspout.\")\n",
    "print()\n",
    "print(\"Down came the rain\\nand washed the spider out.\")\n"
   ]
  },
  {
   "cell_type": "markdown",
   "metadata": {},
   "source": [
    ">The backslash (\\) has a very special meaning when used inside strings ‒ this is called the escape character.\n",
    "\n",
    ">The word escape should be understood specifically ‒ it means that the series of characters in the string escapes for the moment (a very short moment) to introduce a special inclusion.\n",
    "\n",
    ">In other words, the backslash doesn't mean anything in itself, but is only a kind of announcement, that the next character after the backslash has a different meaning too.\n",
    "\n",
    ">The letter n placed after the backslash comes from the word newline.\n",
    "\n",
    ">Both the backslash and the n form a special symbol named a newline character, which urges the console to start a new output line.\n",
    "\n",
    ">1. If you want to put just one backslash inside a string, don't forget its escaping nature ‒ you have to double it. For example, an invocation like this will cause an error:\n",
    "\n"
   ]
  },
  {
   "cell_type": "markdown",
   "metadata": {},
   "source": [
    "__Using multiple arguments__\n",
    "\n",
    ">So far we have tested the print() function behavior with no arguments, and with one argument. It's also worth trying to feed the print() function with more than one argument."
   ]
  },
  {
   "cell_type": "code",
   "execution_count": 6,
   "metadata": {},
   "outputs": [
    {
     "name": "stdout",
     "output_type": "stream",
     "text": [
      "The itsy bitsy spider climbed up the waterspout.\n"
     ]
    }
   ],
   "source": [
    "print(\"The itsy bitsy spider\" , \"climbed up\" , \"the waterspout.\")\n"
   ]
  },
  {
   "cell_type": "markdown",
   "metadata": {},
   "source": [
    ">There is one print() function invocation, but it contains three arguments. All of them are strings.\n",
    "\n",
    ">The arguments are separated by commas. We've surrounded them with spaces to make them more visible, but it's not really necessary, and we won't be doing it anymore.\n",
    "\n",
    ">In this case, the commas separating the arguments play a completely different role than the comma inside the string. The former is a part of Python's syntax, while the latter is intended to be shown in the console.\n",
    "\n",
    ">If you look at the code again, you'll see that there are no spaces inside the strings.\n",
    "\n",
    "***\n",
    "__The itsy bitsy spider climbed up the waterspout.__\n",
    "***\n",
    ">The spaces, removed from the strings, have appeared again. Can you explain why?\n",
    "\n",
    ">Two conclusions emerge from this example:\n",
    "\n",
    ">a print() function invoked with more than one argument outputs them all on one line;\n",
    ">the print() function puts a space between the outputted arguments on its own initiative."
   ]
  },
  {
   "cell_type": "markdown",
   "metadata": {},
   "source": [
    "__Positional arguments__\n",
    "\n",
    ">Now that you know a bit about print() function customs, we're going to show you how to change them.\n",
    "\n",
    ">You should be able to predict the output without running the code in the editor."
   ]
  },
  {
   "cell_type": "markdown",
   "metadata": {},
   "source": [
    ">The way in which we are passing the arguments into the print() function is the most common in Python, and is called the positional way. This name comes from the fact that the meaning of the argument is dictated by its position (e.g., the second argument will be outputted after the first, not the other way round)."
   ]
  },
  {
   "cell_type": "code",
   "execution_count": 8,
   "metadata": {},
   "outputs": [
    {
     "name": "stdout",
     "output_type": "stream",
     "text": [
      "My name is Python.\n",
      "Monty Python.\n"
     ]
    }
   ],
   "source": [
    "print(\"My name is\", \"Python.\")\n",
    "print(\"Monty Python.\")\n"
   ]
  },
  {
   "cell_type": "markdown",
   "metadata": {},
   "source": [
    "__Keyword arguments__\n",
    "\n",
    ">Python offers another mechanism for the passing of arguments, which can be helpful when you want to convince the print() function to change its behavior a bit.\n",
    "\n",
    ">We aren't going to explain it in depth right now. We plan to do this when we talk about functions. For now, we simply want to show you how it works. Feel free to use it in your own programs.\n",
    "\n",
    ">The mechanism is called keyword arguments. The name stems from the fact that the meaning of these arguments is taken not from its location (position) but from the special word (keyword) used to identify them.\n",
    "\n",
    ">The print() function has two keyword arguments that you can use for your purposes. The first is called end.\n",
    "\n",
    ">In the editor window you can see a very simple example how to use a keyword argument."
   ]
  },
  {
   "cell_type": "code",
   "execution_count": 9,
   "metadata": {},
   "outputs": [
    {
     "name": "stdout",
     "output_type": "stream",
     "text": [
      "My name is Python. Monty Python.\n"
     ]
    }
   ],
   "source": [
    "print(\"My name is\", \"Python.\", end=\" \")\n",
    "print(\"Monty Python.\")\n"
   ]
  },
  {
   "cell_type": "code",
   "execution_count": 1,
   "metadata": {},
   "outputs": [
    {
     "name": "stdout",
     "output_type": "stream",
     "text": [
      "My name is Adamu. Adamu Labaran.\n"
     ]
    }
   ],
   "source": [
    "print(\"My name is\", \"Adamu.\", end=\" \")\n",
    "print(\"adamu labaran.\".title())"
   ]
  },
  {
   "cell_type": "markdown",
   "metadata": {},
   "source": [
    ">__VARIABLE IN ACTION__\n",
    "\n",
    ">As you can see, the end keyword argument determines the characters the print() function sends to the output once it reaches the end of its positional arguments.\n",
    "\n",
    ">The default behavior reflects the situation where the end keyword argument is implicitly used in the following way: end=\"\\n\".\n",
    "\n",
    ">And now it's time to try something more difficult.\n",
    "\n",
    ">If you look carefully, you'll see that we've used the end argument, but the string assigned to it is empty (it contains no characters at all)."
   ]
  },
  {
   "cell_type": "code",
   "execution_count": 12,
   "metadata": {},
   "outputs": [
    {
     "name": "stdout",
     "output_type": "stream",
     "text": [
      "My name is Adamu Labaran. Beneficiary of Arewa Data Science Academy\n"
     ]
    }
   ],
   "source": [
    "# positional argument end=\"\"\n",
    "print(\"My name is\", \"Adamu\", end=\" \")\n",
    "print(\"Labaran.\", \"Beneficiary of Arewa Data Science Academy\")"
   ]
  },
  {
   "cell_type": "markdown",
   "metadata": {},
   "source": [
    "_Output_\n",
    "***\n",
    "__My name is Adamu Labaran. Beneficiary of Arewa Data Science Academy__\n",
    "***\n",
    "_Note: no newlines have been sent to the output._"
   ]
  },
  {
   "cell_type": "code",
   "execution_count": 13,
   "metadata": {},
   "outputs": [
    {
     "name": "stdout",
     "output_type": "stream",
     "text": [
      "My_name_is*Monty*Python.*\n"
     ]
    }
   ],
   "source": [
    "print(\"My\", \"name\", \"is\", sep=\"_\", end=\"*\")\n",
    "print(\"Monty\", \"Python.\", sep=\"*\", end=\"*\\n\")"
   ]
  },
  {
   "cell_type": "markdown",
   "metadata": {},
   "source": [
    ">The string assigned to the end keyword argument can be of any length. Experiment with it if you want.\n",
    "\n",
    ">We said previously that the print() function separates its outputted arguments with spaces. This behavior can be changed, too.\n",
    "\n",
    ">The keyword argument that can do this is named sep (as in separator)."
   ]
  },
  {
   "cell_type": "code",
   "execution_count": 14,
   "metadata": {},
   "outputs": [
    {
     "name": "stdout",
     "output_type": "stream",
     "text": [
      "National_Population_Commussion\n",
      "National-Population-Commussion\n",
      "National = Population = Commussion\n",
      "National => Population => Commussion\n"
     ]
    }
   ],
   "source": [
    "# positional keyword sep=\"\"\n",
    "print(\"National\", \"Population\", \"Commussion\", sep=\"_\")\n",
    "print(\"National\", \"Population\", \"Commussion\", sep=\"-\")\n",
    "print(\"National\", \"Population\", \"Commussion\", sep=\" = \")\n",
    "print(\"National\", \"Population\", \"Commussion\", sep=\" => \")"
   ]
  },
  {
   "cell_type": "code",
   "execution_count": 18,
   "metadata": {},
   "outputs": [
    {
     "name": "stdout",
     "output_type": "stream",
     "text": [
      "My-name-is Monty-Python.\n"
     ]
    }
   ],
   "source": [
    "print(\"My\", \"name\", \"is\", sep=\"-\", end=\" \")\n",
    "print(\"Monty\", \"Python.\", sep=\"-\", end=\"\\n\")"
   ]
  },
  {
   "cell_type": "markdown",
   "metadata": {},
   "source": [
    "__The sep argument delivers the following results:__\n",
    "***\n",
    "_Output_\n",
    "\n",
    "__My-name-is-Monty-Python.__\n",
    "***\n",
    "\n",
    ">The print() function now uses a dash, instead of a space, to separate the outputted arguments.\n",
    "\n",
    "_Note: the sep argument's value may be an empty string, too. Try it for yourself._\n",
    "\n",
    ">Both keyword arguments may be mixed in one invocation, just like here in the editor window.\n",
    "\n",
    ">Now that you understand the print() function, you're ready to consider how to store and process data in Python.\n",
    "\n",
    ">Without print(), you wouldn't be able to see any results."
   ]
  },
  {
   "cell_type": "markdown",
   "metadata": {},
   "source": [
    "__2.1.12   LAB   The print() function and its arguments__\n",
    "\n",
    "_Scenario_\n",
    "\n",
    ">Modify the first line of code in the editor, using the sep and end keywords, to match the expected output. Use the two print() functions in the editor.\n",
    "***\n",
    "_Expected output_\n",
    "\n",
    "__Programming***Essentials***in...Python__\n",
    "\n",
    "__2.1.13   LAB   Formatting the output__\n",
    "\n",
    "_Scenario_\n",
    "\n",
    ">We strongly encourage you to play with the code we've written for you, and make some (maybe even destructive) amendments. Feel free to modify any part of the code, but there is one condition ‒ learn from your mistakes and draw your own conclusions.\n",
    "\n",
    ">minimize the number of print() function invocations by inserting the \\n sequence into the strings; make the arrow twice as large (but keep the proportions) duplicate the arrow, placing both arrows side by side; \n",
    "\n",
    "_note: a string may be multiplied by using the following trick: \"string\" * 2 will produce \"stringstring\" (we'll tell you more about it soon) remove any of the quotes, and look carefully at Python's response; pay attention to where Python sees an error ‒ is this the place where the error really exists?_\n",
    "\n",
    ">do the same with some of the parentheses;\n",
    "\n",
    ">change any of the print words into something else, differing only in case (e.g., Print) ‒ what happens now?\n",
    "\n",
    ">replace some of the quotes with apostrophes; watch what happens carefully.\n",
    "\n",
    ">__2.1.14 SECTION SUMMARY__\n",
    "\n",
    ">1. The print() function is a built-in function. It prints/outputs a specified message to the screen/console window.\n",
    "\n",
    ">2. Built-in functions, contrary to user-defined functions, are always available and don't have to be imported. Python 3.8 comes with 69 built-in functions. You can find their full list provided in alphabetical order in the Python Standard Library.\n",
    "\n",
    ">3. To call a function (this process is known as function invocation or function call), you need to use the function name followed by parentheses. You can pass arguments into a function by placing them inside the parentheses. You must separate arguments with a comma, e.g., print(\"Hello,\", \"world!\"). An \"empty\" print() function outputs an empty line to the screen.\n",
    "\n",
    ">4. Python strings are delimited with quotes, e.g., \"I am a string\" (double quotes), or 'I am a string, too' (single quotes).\n",
    "\n",
    ">5. Computer programs are collections of instructions. An instruction is a command to perform a specific task when executed, e.g., to print a certain message to the screen.\n",
    "\n",
    ">6. In Python strings the backslash (\\) is a special character which announces that the next character has a different meaning, e.g., \\n (the newline character) starts a new output line.\n",
    "\n",
    ">7. Positional arguments are the ones whose meaning is dictated by their position, e.g., the second argument is outputted after the first, the third is outputted after the second, etc.\n",
    "\n",
    ">8. Keyword arguments are the ones whose meaning is not dictated by their location, but by a special word (keyword) used to identify them.\n",
    "\n",
    ">9. The end and sep parameters can be used for formatting the output of the print() function. The sep parameter specifies the separator between the outputted arguments, e.g., print(\"H\", \"E\", \"L\", \"L\", \"O\", sep=\"-\"), whereas the end parameter specifies what to print at the end of the print statement.\n",
    "\n",
    "\n",
    "__2.1.15 SECTION QUIZ__\n",
    "\n",
    ">Question 1: What is the output of the following program?\n",
    "\n",
    "***\n",
    "print(\"My\\nname\\nis\\nBond.\", end=\" \")\n",
    "print(\"James Bond.\")\n",
    "*** \n",
    "\n",
    ">Question 2: What is the output of the following program?\n",
    "***\n",
    "print(sep=\"&\", \"fish\", \"chips\")\n",
    "*** \n",
    "\n",
    ">Question 3: Which of the following print() function invocations will cause a SyntaxError?\n",
    "***\n",
    "print('Greg\\'s book.')\n",
    "print(\"'Greg's book.'\")\n",
    "print('\"Greg\\'s book.\"')\n",
    "print(\"Greg\\'s book.\")\n",
    "print('\"Greg's book.\"')\n",
    "***"
   ]
  },
  {
   "cell_type": "code",
   "execution_count": 19,
   "metadata": {},
   "outputs": [
    {
     "name": "stdout",
     "output_type": "stream",
     "text": [
      "My name is Adamu Labaran. Beneficiary of Arewa Data Science Academy\n"
     ]
    }
   ],
   "source": [
    "# positional argument end=\"\"\n",
    "print(\"My name is\", \"Adamu\", end=\" \")\n",
    "print(\"Labaran.\", \"Beneficiary of Arewa Data Science Academy\")"
   ]
  },
  {
   "cell_type": "code",
   "execution_count": 20,
   "metadata": {},
   "outputs": [
    {
     "name": "stdout",
     "output_type": "stream",
     "text": [
      "National_Population_Commussion\n",
      "National-Population-Commussion\n",
      "National = Population = Commussion\n",
      "National => Population => Commussion\n"
     ]
    }
   ],
   "source": [
    "# positional keyword sep=\"\"\n",
    "print(\"National\", \"Population\", \"Commussion\", sep=\"_\")\n",
    "print(\"National\", \"Population\", \"Commussion\", sep=\"-\")\n",
    "print(\"National\", \"Population\", \"Commussion\", sep=\" = \")\n",
    "print(\"National\", \"Population\", \"Commussion\", sep=\" => \")\n"
   ]
  },
  {
   "cell_type": "code",
   "execution_count": 21,
   "metadata": {},
   "outputs": [
    {
     "name": "stdout",
     "output_type": "stream",
     "text": [
      "My_name_is*Monty*Python.*\n"
     ]
    }
   ],
   "source": [
    "print(\"My\", \"name\", \"is\", sep=\"_\", end=\"*\")\n",
    "print(\"Monty\", \"Python.\", sep=\"*\", end=\"*\\n\")\n"
   ]
  },
  {
   "cell_type": "markdown",
   "metadata": {},
   "source": [
    ">Note: the sep argument's value may be an empty string, too. Try it for yourself.\n",
    "\n",
    ">Both keyword arguments may be mixed in one invocation, just like here in the editor window."
   ]
  },
  {
   "cell_type": "code",
   "execution_count": null,
   "metadata": {},
   "outputs": [],
   "source": [
    "print(\"My\", \"name\", \"is\", sep=\"_\", end=\"*\")\n",
    "print(\"Adamu\", \"Labaran\", sep=\"*\")"
   ]
  },
  {
   "cell_type": "code",
   "execution_count": 22,
   "metadata": {},
   "outputs": [
    {
     "name": "stdout",
     "output_type": "stream",
     "text": [
      "My_name_is*Monty*Python.*\n"
     ]
    }
   ],
   "source": [
    "print(\"My\", \"name\", \"is\", sep=\"_\", end=\"*\")\n",
    "print(\"Monty\", \"Python.\", sep=\"*\", end=\"*\\n\")\n"
   ]
  },
  {
   "cell_type": "markdown",
   "metadata": {},
   "source": [
    "__LAB   The print() function and its arguments__\n",
    "\n",
    "_Scenario_\n",
    "\n",
    ">Modify the first line of code in the editor, using the sep and end keywords, to match the expected output. Use the two print() functions in the editor."
   ]
  },
  {
   "cell_type": "code",
   "execution_count": 23,
   "metadata": {},
   "outputs": [
    {
     "name": "stdout",
     "output_type": "stream",
     "text": [
      "Programming***Essentials***in...Python\n"
     ]
    }
   ],
   "source": [
    "print(\"Programming\",\"Essentials\",\"in\", sep=\"***\", end=\"...\")\n",
    "print(\"Python\")"
   ]
  },
  {
   "cell_type": "markdown",
   "metadata": {},
   "source": [
    "__LAB   Formatting the output__\n",
    "\n",
    "_Scenario_\n",
    "\n",
    ">We strongly encourage you to play with the code we've written for you, and make some (maybe even destructive) amendments. Feel free to modify any part of the code, but there is one condition ‒ learn from your mistakes and draw your own conclusions.\n",
    "\n",
    "_Try to:_\n",
    "\n",
    ">minimize the number of print() function invocations by inserting the \\n sequence into the strings; make the arrow twice as large (but keep the proportions) duplicate the arrow, placing both arrows side by side; note: a string may be multiplied by using the following trick: \"string\" * 2 will produce \"stringstring\" (we'll tell you more about it soon) remove any of the quotes, and look carefully at Python's response; pay attention to where Python sees an error ‒ is this the place where the error really exists? do the same with some of the parentheses; change any of the print words into something else, differing only in case (e.g., Print) ‒ what happens now? replace some of the quotes with apostrophes; watch what happens carefully."
   ]
  },
  {
   "cell_type": "code",
   "execution_count": 24,
   "metadata": {},
   "outputs": [
    {
     "name": "stdout",
     "output_type": "stream",
     "text": [
      "    *\n",
      "   * *\n",
      "  *   *\n",
      " *     *\n",
      "***   ***\n",
      "  *   *\n",
      "  *   *\n",
      "  *****\n"
     ]
    }
   ],
   "source": [
    "print(\"    *\")\n",
    "print(\"   * *\")\n",
    "print(\"  *   *\")\n",
    "print(\" *     *\")\n",
    "print(\"***   ***\")\n",
    "print(\"  *   *\")\n",
    "print(\"  *   *\")\n",
    "print(\"  *****\")\n"
   ]
  },
  {
   "cell_type": "code",
   "execution_count": null,
   "metadata": {},
   "outputs": [],
   "source": []
  },
  {
   "cell_type": "code",
   "execution_count": 25,
   "metadata": {},
   "outputs": [
    {
     "data": {
      "text/plain": [
       "'Hello World!'"
      ]
     },
     "execution_count": 25,
     "metadata": {},
     "output_type": "execute_result"
    }
   ],
   "source": [
    "greet = \"Hello World!\"\n",
    "greet"
   ]
  },
  {
   "cell_type": "code",
   "execution_count": 26,
   "metadata": {},
   "outputs": [
    {
     "data": {
      "text/plain": [
       "'Hello python from Arewa Data Sceince Acedemy'"
      ]
     },
     "execution_count": 26,
     "metadata": {},
     "output_type": "execute_result"
    }
   ],
   "source": [
    "greet = \"Hello python from Arewa Data Sceince Acedemy\"\n",
    "greet"
   ]
  },
  {
   "cell_type": "code",
   "execution_count": 27,
   "metadata": {},
   "outputs": [
    {
     "name": "stdout",
     "output_type": "stream",
     "text": [
      "Hello python from Arewa Data Sceince Acedemy\n"
     ]
    }
   ],
   "source": [
    "print(greet)"
   ]
  },
  {
   "cell_type": "code",
   "execution_count": 28,
   "metadata": {},
   "outputs": [
    {
     "name": "stdout",
     "output_type": "stream",
     "text": [
      "6\n"
     ]
    }
   ],
   "source": [
    "# INTERGER VARIABLE\n",
    "a  = 2\n",
    "b = 4\n",
    "c = a + b\n",
    "print(c)"
   ]
  },
  {
   "cell_type": "markdown",
   "metadata": {},
   "source": [
    ">When an error occurs in your program, the Python interpreter provides a traceback when a program cannot run successfully.\n",
    "\n",
    ">A traceback is a record of where the interpreter ran into trouble when trying to execute your code.\n",
    "\n",
    ">Here’s an example of the traceback that Python provides after you’ve accidentally misspelled a variable’s name:"
   ]
  },
  {
   "cell_type": "code",
   "execution_count": 29,
   "metadata": {},
   "outputs": [
    {
     "ename": "ZeroDivisionError",
     "evalue": "division by zero",
     "output_type": "error",
     "traceback": [
      "\u001b[1;31m---------------------------------------------------------------------------\u001b[0m",
      "\u001b[1;31mZeroDivisionError\u001b[0m                         Traceback (most recent call last)",
      "Cell \u001b[1;32mIn[29], line 1\u001b[0m\n\u001b[1;32m----> 1\u001b[0m \u001b[38;5;241;43m1\u001b[39;49m\u001b[38;5;241;43m/\u001b[39;49m\u001b[38;5;241;43m0\u001b[39;49m\n",
      "\u001b[1;31mZeroDivisionError\u001b[0m: division by zero"
     ]
    }
   ],
   "source": [
    "1/0"
   ]
  },
  {
   "cell_type": "markdown",
   "metadata": {},
   "source": [
    "__STRING__\n",
    "\n",
    "- A String is a series of characters.\n",
    "\n",
    "- Anything inside quotes is considered a string in python, and you use single or double quotes around your strings like"
   ]
  },
  {
   "cell_type": "code",
   "execution_count": 30,
   "metadata": {},
   "outputs": [
    {
     "name": "stdout",
     "output_type": "stream",
     "text": [
      "Adamu Labaran\n"
     ]
    }
   ],
   "source": [
    "# string in action\n",
    "name = \"Adamu Labaran\"\n",
    "print(name)"
   ]
  },
  {
   "cell_type": "markdown",
   "metadata": {},
   "source": [
    "__FLEXIBILITY OF SINGLE AND DOUBLE QUOTES__"
   ]
  },
  {
   "cell_type": "code",
   "execution_count": 31,
   "metadata": {},
   "outputs": [
    {
     "name": "stdout",
     "output_type": "stream",
     "text": [
      "I told my friend, \"Python is my favorite language!\" \n",
      "\n",
      "The language 'Python' is named after Monty Python, not the snaake.  \n"
     ]
    }
   ],
   "source": [
    "# single quotes in action\n",
    "single_quote = 'I told my friend, \"Python is my favorite language!\" '\n",
    "print(single_quote)\n",
    "print()\n",
    "\n",
    "# double quote in action \n",
    "double_quotes = \"The language 'Python' is named after Monty Python, not the snaake.  \"\n",
    "print(double_quotes)\n"
   ]
  },
  {
   "cell_type": "markdown",
   "metadata": {},
   "source": [
    "__METHOD IN PYTHON__\n",
    "\n",
    ">A method is an action that python that can perform on a piece of data.\n",
    "\n",
    "- For example, if you have a string, you can convert it to uppercase using a method.\n",
    "\n",
    "- For example if you have a string, you can convert it to lowercase using a method.\n",
    "\n",
    "- Methods are called by placing a dot after the data, then the method name, and finally parentheses."
   ]
  },
  {
   "cell_type": "markdown",
   "metadata": {},
   "source": [
    "__STRING METHOD IN ACTION__"
   ]
  },
  {
   "cell_type": "code",
   "execution_count": 35,
   "metadata": {},
   "outputs": [
    {
     "name": "stdout",
     "output_type": "stream",
     "text": [
      "Adamu Labaran\n",
      "adamu labaran\n",
      "ADAMU LABARAN\n"
     ]
    }
   ],
   "source": [
    "# Changing Case in a String with Methods\n",
    "name = \"Adamu Labaran\" # name is an object of string\n",
    "\n",
    "# The title() method converts the first character of each word in the string to uppercase and the rest to lowercase.\n",
    "print(name.title())  \n",
    "\n",
    "# using  lowercase\n",
    "print(name.lower())\n",
    "\n",
    "# using uppercase\n",
    "print(name.upper())\n",
    "\n",
    "  "
   ]
  },
  {
   "cell_type": "markdown",
   "metadata": {},
   "source": [
    "__2.2.1 Literals – the data in itself__\n",
    "\n",
    ">Now that you have a little knowledge of some of the powerful features offered by the print() function, it's time to learn about some new issues, and one important new term ‒ the literal.\n",
    "\n",
    ">A literal is data whose values are determined by the literal itself.\n",
    "\n",
    ">As this is a difficult concept to understand, a good example may be helpful.\n",
    "\n",
    ">Take a look at the following set of digits:\n",
    "\n",
    ">Can you guess what value it represents? Of course you can ‒ it's one hundred twenty three.\n",
    "\n",
    "_But what about this:_\n",
    "***\n",
    "123\n",
    "\n",
    "c\n",
    "***\n",
    ">Does it represent any value? Maybe. It can be the symbol of the speed of light, for example. It can also be the constant of integration. Or even the length of a hypotenuse in the sense of a Pythagorean theorem. There are many possibilities.\n",
    "\n",
    ">You cannot choose the right one without some additional knowledge.\n",
    "\n",
    ">And this is the clue: 123 is a literal, and c is not.\n",
    "\n",
    ">You use literals to encode data and to put them into your code. We're now going to show you some conventions you have to obey when using Python.\n",
    "\n",
    ">Let's start with a simple experiment ‒ take a look at the snippet in the editor.\n",
    "\n",
    ">The print() function presents them in exactly the same way ‒ this example is obvious, as their human-readable representation is also the same. Internally, in the computer's memory, these two values are stored in completely different ways ‒ the string exists as just a string ‒ a series of letters.\n",
    "\n",
    ">The number is converted into machine representation (a set of bits). The print() function is able to show them both in a form readable to humans.\n",
    "\n",
    ">We're now going to be spending some time discussing numeric literals and their internal life.\n",
    "\n",
    "__2.2.2 Integers__\n",
    "\n",
    ">You may already know a little about how computers perform calculations on numbers. Perhaps you've heard of the binary system, and know that it's the system computers use for storing numbers, and that those computers can perform any operation upon them.\n",
    "\n",
    ">We won't explore the intricacies of positional numeric systems here, but we will say that the numbers handled by modern computers are of two types:\n",
    "\n",
    ">integers, that is, those which are devoid of the fractional part; and floating-point numbers (or simply floats), that contain (or are able to contain) the fractional part.\n",
    "\n",
    ">This definition is not entirely accurate, but quite sufficient for now. The distinction is very important, and the boundary between these two types of numbers is very strict. Both of these kinds of numbers differ significantly in how they're stored in a computer memory and in the range of acceptable values.\n",
    "\n",
    ">The characteristic of the numeric value which determines its kind, range, and application, is called the type.\n",
    "\n",
    ">If you encode a literal and place it inside Python code, the form of the literal determines the representation (type) Python will use to store it in the memory.\n",
    "\n",
    ">For now, let's leave the floating-point numbers aside (we'll come back to them soon) and consider the question of how Python recognizes integers.\n",
    "\n",
    ">The process is almost like how you would write them with a pencil on paper - it's simply a string of digits that make up the number. But there's a reservation ‒ you must not interject any characters that are not digits inside the number.\n",
    "\n",
    ">Take, for example, the number eleven million one hundred eleven thousand one hundred eleven. If you took a pencil in your hand right now, you would write the number like this: 11,111,111, or like this: 11.111.111, or even like this: 11 111 111.\n",
    "\n",
    ">It's clear that this provision makes it easier to read, especially when the number consists of many digits. However, Python doesn't accept things like these. It's prohibited. What Python does allow, though, is the use of underscores in numeric literals.*\n",
    "\n",
    ">Therefore, you can write this number either like this: 11111111, or like this: 11_111_111.\n",
    "\n",
    "_Note *Python 3.6 has introduced underscores in numeric literals, allowing for the placement of single underscores between digits and after base specifiers for improved readability. This feature is not available in older versions of Python._\n",
    "\n",
    ">And how do we code negative numbers in Python? As usual ‒ by adding a minus. You can write: -11111111, or -11_111_111.\n",
    "\n",
    ">Positive numbers do not need to be preceded by the plus sign, but it's permissible, if you wish to do it. The following lines describe the same number: +11111111 and 11111111.\n",
    "\n",
    "__Octal and hexadecimal numbers__\n",
    "\n",
    ">There are two additional conventions in Python that are unknown to the world of mathematics. The first allows us to use numbers in an octal representation.\n",
    "\n",
    ">If an integer number is preceded by an 0O or 0o prefix (zero-o), it will be treated as an octal value. This means that the number must contain digits taken from the [0..7] range only.\n",
    "\n",
    "__0o123 is an octal number with a (decimal) value equal to 83.__\n",
    "\n",
    ">The print() function does the conversion automatically. Try this:\n",
    "\n",
    "***\n",
    "print(0o123)\n",
    "***\n",
    "\n",
    ">The second convention allows us to use hexadecimal numbers. Such numbers should be preceded by the prefix 0x or 0X (zero-x).\n",
    "\n",
    ">0x123 is a hexadecimal number with a (decimal) value equal to 291. The print() function can manage these values too. Try this:\n",
    "\n",
    "__2.2.3 Floats__\n",
    "\n",
    ">Now it's time to talk about another type, which is designed to represent and to store the numbers that (as a mathematician would say) have a non-empty decimal fraction.\n",
    "\n",
    ">They are the numbers that have (or may have) a fractional part after the decimal point, and although such a definition is very poor, it's certainly sufficient for what we wish to discuss.\n",
    "\n",
    ">Whenever we use a term like two and a half or minus zero point four, we think of numbers which the computer considers floating-point numbers:\n",
    "\n",
    ">Note: two and a half looks normal when you write it in a program, although if your native language prefers to use a comma instead of a point in the number, you should ensure that your number doesn't contain any commas at all.\n",
    "\n",
    ">Python will not accept that, or (in very rare but possible cases) may misunderstand your intentions, as the comma itself has its own reserved meaning in Python.\n",
    "\n",
    ">If you want to use just a value of two and a half, you should write it as shown above. Note once again: there is a point between 2 and 5, not a comma.\n",
    "\n",
    ">As you can probably imagine, the value of zero point four could be written in Python as:\n",
    "\n",
    ">But don't forget this simple rule ‒ you can omit zero when it is the only digit in front of or after the decimal point.\n",
    "\n",
    ">In essence, you can write the value 0.4 as:\n",
    "***\n",
    "__.4__\n",
    "***\n",
    ">For example: the value of 4.0 could be written as:\n",
    "***\n",
    "4.\n",
    "***\n",
    ">This will change neither its type nor its value.\n",
    "\n",
    "___Ints vs. floats___\n",
    "\n",
    ">The decimal point is essential for recognizing floating-point numbers in Python.\n",
    "\n",
    "_Look at these two numbers:_\n",
    "***\n",
    "4\n",
    "\n",
    "4.0\n",
    "***\n",
    ">You may think that they are exactly the same, but Python sees them in a completely different way.\n",
    "\n",
    ">4 is an integer number, whereas 4.0 is a floating-point number.\n",
    "\n",
    "___The point is what makes a float.___\n",
    "\n",
    ">On the other hand, it's not only points that make a float. You can also use the letter e.\n",
    "\n",
    ">When you want to use any numbers that are very large or very small, you can use scientific notation.\n",
    "\n",
    ">Take, for example, the speed of light, expressed in meters per second. Written directly it would look like this: 300000000.\n",
    "\n",
    ">To avoid writing out so many zeros, physics textbooks use an abbreviated form, which you have probably already seen: 3 x 108.\n",
    "\n",
    ">It reads: three times ten to the power of eight.\n",
    "\n",
    ">In Python, the same effect is achieved in a slightly different way ‒ take a look:\n",
    "***\n",
    "3E8\n",
    "***\n",
    "\n",
    ">The letter E (you can also use the lower-case letter e ‒ it comes from the word exponent) is a concise record of the phrase times ten to the power of.\n",
    "\n",
    "_Note:_\n",
    "\n",
    ">the exponent (the value after the E) has to be an integer;\n",
    "\n",
    ">the base (the value in front of the E) may be either an integer or a float.\n",
    "\n",
    "_Coding floats_\n",
    "\n",
    ">Let's see how this convention is used to record numbers that are very small (in the sense of their absolute value, which is close to zero).\n",
    "\n",
    ">A physical constant called Planck's constant (and denoted as h), according to the textbooks, has the value of: 6.62607 x 10-34.\n",
    "\n",
    ">If you would like to use it in a program, you should write it this way:\n",
    "***\n",
    "6.62607E-34\n",
    "***\n",
    "_Note: the fact that you've chosen one of the possible forms of coding float values doesn't mean that Python will present it the same way._\n",
    "\n",
    ">Python may sometimes choose different notation than you.\n",
    "\n",
    ">For example, let's say you've decided to use the following float literal:\n",
    "***\n",
    "0.0000000000000000000001\n",
    "***\n",
    ">When you run this literal through Python:\n",
    "***\n",
    "print(0.0000000000000000000001)\n",
    " \n",
    "_Output_\n",
    "\n",
    "1e-22\n",
    "***\n",
    "\n",
    ">Python always chooses the more economical form of the number's presentation, and you should take this into consideration when creating literals.\n",
    "\n",
    "__2.2.4 Strings__\n",
    "\n",
    ">Strings are used when you need to process text (like names of all kinds, addresses, novels, etc.), not numbers.\n",
    "\n",
    ">You already know a bit about them, e.g., that strings need quotes the way floats need points.\n",
    "\n",
    ">This is a very typical string: \"I am a string.\"\n",
    "\n",
    ">However, there is a catch. The catch is how to encode a quote inside a string which is already delimited by quotes.\n",
    "\n",
    ">Let's assume that we want to print a very simple message saying:\n",
    "***\n",
    "I like \"Monty Python\"\n",
    "How do we do it without generating an error? There are two possible solutions.\n",
    "***\n",
    ">The first is based on the concept we already know of the escape character, which you should remember is played by the backslash. The backslash can escape quotes too. A quote preceded by a backslash changes its meaning ‒ it's not a delimiter, but just a quote. This will work as intended:\n",
    "\n",
    "***\n",
    "print(\"I like \\\"Monty Python\\\"\")\n",
    "*** \n",
    "_Note: there are two escaped quotes inside the string ‒ can you see them both?_\n",
    "\n",
    ">The second solution may be a bit surprising. Python can use an apostrophe instead of a quote. Either of these characters may delimit strings, but you must be consistent.\n",
    "\n",
    ">If you open a string with a quote, you have to close it with a quote.\n",
    "\n",
    ">If you start a string with an apostrophe, you have to end it with an apostrophe.\n",
    "\n",
    ">This example will work too:\n",
    "\n",
    "***\n",
    "print('I like \"Monty Python\"')\n",
    "*** \n",
    "_Note: you don't need to do any escaping here._\n",
    "\n",
    "__Coding strings__\n",
    "\n",
    ">Now, the next question is: how do you embed an apostrophe into a string placed between apostrophes?\n"
   ]
  },
  {
   "cell_type": "code",
   "execution_count": 36,
   "metadata": {},
   "outputs": [
    {
     "name": "stdout",
     "output_type": "stream",
     "text": [
      "I like \"Monty Python\"\n",
      "I like \"Monty Python\"\n"
     ]
    }
   ],
   "source": [
    "print(\"I like \\\"Monty Python\\\"\")\n",
    "\n",
    "print('I like \"Monty Python\"')"
   ]
  },
  {
   "cell_type": "markdown",
   "metadata": {},
   "source": [
    ">An empty string still remains a string:\n",
    "\n",
    "' '\n",
    "\n",
    "\" \""
   ]
  },
  {
   "cell_type": "markdown",
   "metadata": {},
   "source": [
    "__2.2.5 Boolean values__\n",
    "\n",
    ">To conclude with Python's literals, there are two additional ones.\n",
    "\n",
    ">They're not as obvious as any of the previous ones, as they're used to represent a very abstract value ‒ truthfulness.\n",
    "\n",
    ">Each time you ask Python if one number is greater than another, the question results in the creation of some specific data ‒ a Boolean value.\n",
    "\n",
    ">The name comes from George Boole (1815-1864), the author of the fundamental work, The Laws of Thought, which contains the definition of Boolean algebra ‒ a part of algebra which makes use of only two distinct values: True and False, denoted as 1 and 0.\n",
    "\n",
    ">A programmer writes a program, and the program asks questions. Python executes the program, and provides the answers. The program must be able to react according to the received answers.\n",
    "\n",
    ">Fortunately, computers know only two kinds of answers:\n",
    "***\n",
    "Yes, this is true;\n",
    "\n",
    "No, this is false.\n",
    "***\n",
    ">You'll never get a response like: I don't know or Probably yes, but I don't know for sure.\n",
    "\n",
    ">Python, then, is a binary reptile.\n",
    "\n",
    ">These two Boolean values have strict denotations in Python:\n",
    "***\n",
    "True\n",
    "\n",
    "False\n",
    "***\n",
    ">You cannot change anything ‒ you have to take these symbols as they are, including case-sensitivity.\n",
    "\n",
    ">Challenge: What will be the output of the following snippet of code?\n",
    "***\n",
    "print(True > False)\n",
    "\n",
    "print(True < False)\n",
    "*** \n",
    ">Run the code in the editor to check. Can you explain the result?\n"
   ]
  },
  {
   "cell_type": "code",
   "execution_count": 37,
   "metadata": {},
   "outputs": [
    {
     "name": "stdout",
     "output_type": "stream",
     "text": [
      "True\n",
      "False\n"
     ]
    }
   ],
   "source": [
    "print(True > False)\n",
    "\n",
    "print(True < False)"
   ]
  },
  {
   "cell_type": "markdown",
   "metadata": {},
   "source": [
    "__2.2.6   LAB   Python literals - strings__\n",
    "\n",
    "_Scenario_\n",
    "\n",
    ">Write a one-line piece of code, using the print() function, as well as the newline and escape characters, to match the expected result outputted on three lines.\n",
    "***\n",
    "_Expected output_\n",
    "\n",
    "\n",
    "\"I'm\"\n",
    "\n",
    "\"\"learning\"\"\n",
    "\n",
    "\"\"\"Python\"\"\"\n",
    "***"
   ]
  },
  {
   "cell_type": "code",
   "execution_count": 39,
   "metadata": {},
   "outputs": [
    {
     "name": "stdout",
     "output_type": "stream",
     "text": [
      "\"I'm\"\n",
      "\"\"learning\"\"\n",
      "\"\"\"Python\"\"\"\n"
     ]
    }
   ],
   "source": [
    "print('\"I\\'m\"\\n\"\"learning\"\"\\n\"\"\"Python\"\"\"')"
   ]
  },
  {
   "cell_type": "markdown",
   "metadata": {},
   "source": [
    "__2.2.7 SECTION SUMMARY__\n",
    "\n",
    ">1. Literals are notations for representing some fixed values in code. Python has various types of literals - for example, a literal can be a number (numeric literals, e.g., 123), or a string (string literals, e.g., \"I am a literal.\").\n",
    "\n",
    ">2. The binary system is a system of numbers that employs 2 as the base. Therefore, a binary number is made up of 0s and 1s only, e.g., 1010 is 10 in decimal.\n",
    "\n",
    ">Octal and hexadecimal numeration systems, similarly, employ 8 and 16 as their bases respectively. The hexadecimal system uses the decimal numbers and six extra letters.\n",
    "\n",
    ">3. Integers (or simply ints) are one of the numerical types supported by Python. They are numbers written without a fractional component, e.g., 256, or -1 (negative integers).\n",
    "\n",
    ">4. Floating-point numbers (or simply floats) are another one of the numerical types supported by Python. They are numbers that contain (or are able to contain) a fractional component, e.g., 1.27.\n",
    "\n",
    ">5. To encode an apostrophe or a quote inside a string, you can either use the escape character, e.g., 'I\\'m happy.', or open and close the string using an opposite set of symbols to the ones you wish to encode, e.g., \"I'm happy.\" to encode an apostrophe, and 'He said \"Python\", not \"typhoon\"' to encode a (double) quote.\n",
    "\n",
    ">6. Boolean values are the two constant objects True and False used to represent truth values (in numeric contexts 1 is True, while 0 is False.\n",
    "\n",
    "\n",
    "_Extra_  \n",
    "\n",
    ">There is one more, special literal that is used in Python: the None literal. This literal is a NoneType object, and it is used to represent the absence of a value. We'll tell you more about it soon.\n",
    "\n",
    "__2.2.8 SECTION QUIZ__\n",
    "\n",
    ">Question 1: What types of literals are the following two examples?\n",
    "***\n",
    "\"Hello \", \n",
    "\n",
    "\"007\"\n",
    "***\n",
    "\n",
    ">Question 2: What types of literals are the following four examples?\n",
    "***\n",
    "\"1.5\", \n",
    "\n",
    "2.0, \n",
    "\n",
    "528, \n",
    "\n",
    "False\n",
    "***\n",
    "\n",
    ">Question 3: What is the decimal value of the following binary number?\n",
    "***\n",
    "1011\n",
    "***"
   ]
  },
  {
   "cell_type": "code",
   "execution_count": 40,
   "metadata": {},
   "outputs": [
    {
     "name": "stdout",
     "output_type": "stream",
     "text": [
      "2\n",
      "2\n"
     ]
    }
   ],
   "source": [
    "# python\n",
    "print(\"2\")\n",
    "print(2)"
   ]
  },
  {
   "cell_type": "markdown",
   "metadata": {},
   "source": [
    "__Octal and hexadecimal numbers__\n",
    "\n",
    ">There are two additional conventions in Python that are unknown to the world of mathematics. The first allows us to use numbers in an octal representation.\n",
    "\n",
    ">If an integer number is preceded by an 0O or 0o prefix (zero-o), it will be treated as an octal value. This means that the number must contain digits taken from the [0..7] range only.\n",
    "\n",
    ">0o123 is an octal number with a (decimal) value equal to 83.\n",
    "\n",
    ">The print() function does the conversion automatically. Try this"
   ]
  },
  {
   "cell_type": "code",
   "execution_count": 41,
   "metadata": {},
   "outputs": [
    {
     "name": "stdout",
     "output_type": "stream",
     "text": [
      "83\n"
     ]
    }
   ],
   "source": [
    "print(0o123)"
   ]
  },
  {
   "cell_type": "code",
   "execution_count": 42,
   "metadata": {},
   "outputs": [
    {
     "data": {
      "text/plain": [
       "291"
      ]
     },
     "execution_count": 42,
     "metadata": {},
     "output_type": "execute_result"
    }
   ],
   "source": [
    "(0x123)"
   ]
  },
  {
   "cell_type": "markdown",
   "metadata": {},
   "source": []
  },
  {
   "cell_type": "markdown",
   "metadata": {},
   "source": [
    "  LAB   Python literals - strings\n",
    "Scenario\n",
    "Write a one-line piece of code, using the print() function, as well as the newline and escape characters, to match the expected result outputted on three lines.\n",
    "\n",
    "Expected output\n",
    "\"I'm\"\n",
    "\"\"learning\"\"\n",
    "\"\"\"Python\"\"\""
   ]
  },
  {
   "cell_type": "code",
   "execution_count": 5,
   "metadata": {},
   "outputs": [
    {
     "name": "stdout",
     "output_type": "stream",
     "text": [
      "\"I'm\"\n",
      "\"\"learning\"\"\n",
      "\"\"\"Python\"\"\"\n"
     ]
    }
   ],
   "source": [
    "print(\"\\\"I'm\\\"\\n\\\"\\\"learning\\\"\\\"\\n\\\"\\\"\\\"Python\\\"\\\"\\\"\")"
   ]
  },
  {
   "cell_type": "code",
   "execution_count": null,
   "metadata": {},
   "outputs": [],
   "source": []
  },
  {
   "cell_type": "markdown",
   "metadata": {},
   "source": [
    "__SECTION SUMMARY__\n",
    "\n",
    ">1. Literals are notations for representing some fixed values in code. Python has various types of literals - for example, a literal can be a number (numeric literals, e.g., 123), or a string (string literals, e.g., \"I am a literal.\").\n",
    "\n",
    ">2. The binary system is a system of numbers that employs 2 as the base. Therefore, a binary number is made up of 0s and 1s only, e.g., 1010 is 10 in decimal.\n",
    "\n",
    ">Octal and hexadecimal numeration systems, similarly, employ 8 and 16 as their bases respectively. The hexadecimal system uses the decimal numbers and six extra letters.\n",
    "\n",
    ">3. Integers (or simply ints) are one of the numerical types supported by Python. They are numbers written without a fractional component, e.g., 256, or -1 (negative integers).\n",
    "\n",
    ">4. Floating-point numbers (or simply floats) are another one of the numerical types supported by Python. They are numbers that contain (or are able to contain) a fractional component, e.g., 1.27.\n",
    "\n",
    ">5. To encode an apostrophe or a quote inside a string, you can either use the escape character, e.g., 'I\\'m happy.', or open and close the string using an opposite set of symbols to the ones you wish to encode, e.g., \"I'm happy.\" to encode an apostrophe, and 'He said \"Python\", not \"typhoon\"' to encode a (double) quote.\n",
    "\n",
    ">6. Boolean values are the two constant objects True and False used to represent truth values (in numeric contexts 1 is True, while 0 is False.)\n",
    "\n",
    "_Extra_  \n",
    "\n",
    ">There is one more, special literal that is used in Python: the None literal. This literal is a NoneType object, and it is used to represent the absence of a value. We'll tell you more about it soon."
   ]
  },
  {
   "cell_type": "markdown",
   "metadata": {},
   "source": [
    "__2.3.1 Python as a calculator__\n",
    "\n",
    ">Now, we're going to show you a completely new side of the print() function. You already know that the function is able to show you the values of the literals passed to it by arguments.\n",
    "\n",
    ">In fact, it can do something more. Take a look at the snippet:\n",
    "\n",
    "***\n",
    "print(2+2)\n",
    "***"
   ]
  },
  {
   "cell_type": "code",
   "execution_count": 43,
   "metadata": {},
   "outputs": [
    {
     "name": "stdout",
     "output_type": "stream",
     "text": [
      "4\n"
     ]
    }
   ],
   "source": [
    "print(2+2)"
   ]
  },
  {
   "cell_type": "markdown",
   "metadata": {},
   "source": [
    ">Without taking this too seriously, you've just discovered that Python can be used as a calculator. Not a very handy one, and definitely not a pocket one, but a calculator nonetheless.\n",
    "\n",
    ">Taking it more seriously, we are now entering the province of operators and expressions.\n",
    "\n",
    "__2.3.2 Basic operators__\n",
    "\n",
    ">An operator is a symbol of the programming language, which is able to operate on the values.\n",
    "\n",
    ">For example, just as in arithmetic, the + (plus) sign is the operator which is able to add two numbers, giving the result of the addition.\n",
    "\n",
    ">Not all Python operators are as obvious as the plus sign, though, so let's go through some of the operators available in Python, and we'll explain which rules govern their use, and how to interpret the operations they perform.\n",
    "\n",
    ">We'll begin with the operators which are associated with the most widely recognizable arithmetic operations:\n",
    "***\n",
    "(+)\n",
    "\n",
    "(-)\n",
    "\n",
    "(*)\n",
    "\n",
    "(/)\n",
    "\n",
    "(//)\n",
    "\n",
    "%\n",
    "***\n",
    ">The order of their appearance is not accidental. We'll talk more about it once we've gone through them all.\n",
    "\n",
    "_Remember: Data and operators when connected together form expressions. The simplest expression is a literal itself._\n",
    "\n",
    "__Exponentiation__\n",
    "\n",
    ">Note: we've surrounded the double asterisks with spaces in our examples. It's not compulsory, but it improves the readability of the code.\n",
    "\n",
    ">The examples show a very important feature of virtually all Python numerical operators.\n",
    "\n",
    ">Run the code and look carefully at the results it produces. Can you see any regularity here?\n",
    "\n",
    "_Remember: It's possible to formulate the following rules based on this result:_\n",
    "***\n",
    "___when both ** arguments are integers, the result is an integer, too;___\n",
    "\n",
    "___when at least one ** argument is a float, the result is a float, too.___\n",
    "***\n",
    "_This is an important distinction to remember._\n",
    "\n",
    "__Multiplication__\n",
    "\n",
    ">An * (asterisk) sign is a multiplication operator.\n",
    "\n",
    ">A / (slash) sign is a division operator.\n",
    "\n",
    ">The value in front of the slash is a dividend, the value behind the slash, a divisor.\n",
    "\n",
    ">The result produced by the division operator is always a float, regardless of whether or not the result seems to be a float at first glance: 1 / 2, or if it looks like a pure integer: 2 / 1."
   ]
  },
  {
   "cell_type": "code",
   "execution_count": 46,
   "metadata": {},
   "outputs": [
    {
     "name": "stdout",
     "output_type": "stream",
     "text": [
      "This is exponentiation => 3 ** 3 = 27\n",
      "This is multiplication => 3 * 3 = 9\n",
      "This is division => 3 / 3 = 1.0\n",
      "This is floor division => 3 // 3 = 1\n",
      "This is addition => 3 + 3 = 6\n",
      "This is subtraction => 3 - 3 = 0\n"
     ]
    }
   ],
   "source": [
    "print(f\"This is exponentiation => 3 ** 3 = {3 ** 3}\")\n",
    "print(f\"This is multiplication => 3 * 3 = {3 * 3}\")\n",
    "print(f\"This is division => 3 / 3 = {3 / 3}\")\n",
    "print(f\"This is floor division => 3 // 3 = {3 // 3}\")\n",
    "print(f\"This is addition => 3 + 3 = {3 + 3}\")\n",
    "print(f\"This is subtraction => 3 - 3 = {3 - 3}\")"
   ]
  },
  {
   "cell_type": "markdown",
   "metadata": {},
   "source": [
    ">Is this a problem? Yes, it is. It happens sometimes that you really need a division that provides an integer value, not a float.\n",
    "\n",
    ">Fortunately, Python can help you with that.\n",
    "\n",
    ">Integer division (floor division)\n",
    "\n",
    ">A // (double slash) sign is an integer division operator. It differs from the standard / operator in two details:\n",
    "\n",
    ">its result lacks the fractional part ‒ it's absent (for integers), or is always equal to zero (for floats); this means that the results are always rounded;\n",
    "\n",
    ">it conforms to the integer vs. float rule."
   ]
  },
  {
   "cell_type": "code",
   "execution_count": 48,
   "metadata": {},
   "outputs": [
    {
     "name": "stdout",
     "output_type": "stream",
     "text": [
      "3.0\n",
      "3\n"
     ]
    }
   ],
   "source": [
    "print(9/3) # float division\n",
    "print(9//3) # integer division"
   ]
  },
  {
   "cell_type": "markdown",
   "metadata": {},
   "source": [
    "_Note: some of the values are negative. This will obviously affect the result. But how?_\n",
    "\n",
    ">The result is two negative twos. The real (not rounded) result is -1.5 in both cases. However, the results are the subjects of rounding. The rounding goes toward the lesser integer value, and the lesser integer value is -2, hence: -2 and -2.0.\n",
    "\n",
    "_Note_\n",
    "\n",
    ">Integer division can also be called floor division. You will definitely come across this term in the future.\n",
    "\n",
    "__Remainder (modulo)__\n",
    "\n",
    ">The next operator is quite a peculiar one, because it has no equivalent among traditional arithmetic operators.\n",
    "\n",
    ">Its graphical representation in Python is the % (percent) sign, which may look a bit confusing.\n",
    "\n",
    ">Try to think of it as a slash (division operator) accompanied by two funny little circles.\n",
    "\n",
    ">The result of the operator is a remainder left after the integer division.\n",
    "\n",
    ">In other words, it's the value left over after dividing one value by another to produce an integer quotient.\n",
    "\n",
    "_Note: the operator is sometimes called modulo in other programming languages._\n",
    "***\n",
    "14 // 4 gives 3 → this is the integer quotient;\n",
    "\n",
    "3 * 4 gives 12 → as a result of quotient and divisor multiplication;\n",
    "\n",
    "14 - 12 gives 2 → this is the remainder.\n",
    "\n",
    ">This example is somewhat more complicated:\n"
   ]
  },
  {
   "cell_type": "code",
   "execution_count": 50,
   "metadata": {},
   "outputs": [
    {
     "name": "stdout",
     "output_type": "stream",
     "text": [
      "3\n"
     ]
    }
   ],
   "source": [
    "print(14 // 4)"
   ]
  },
  {
   "cell_type": "code",
   "execution_count": 51,
   "metadata": {},
   "outputs": [
    {
     "data": {
      "text/plain": [
       "12"
      ]
     },
     "execution_count": 51,
     "metadata": {},
     "output_type": "execute_result"
    }
   ],
   "source": [
    "3 * 4"
   ]
  },
  {
   "cell_type": "code",
   "execution_count": 49,
   "metadata": {},
   "outputs": [
    {
     "name": "stdout",
     "output_type": "stream",
     "text": [
      "2\n"
     ]
    }
   ],
   "source": [
    "print(14 - 12)"
   ]
  },
  {
   "cell_type": "code",
   "execution_count": 52,
   "metadata": {},
   "outputs": [
    {
     "name": "stdout",
     "output_type": "stream",
     "text": [
      "3.0\n"
     ]
    }
   ],
   "source": [
    "print(12 % 4.5)"
   ]
  },
  {
   "cell_type": "markdown",
   "metadata": {},
   "source": [
    "_Do not try to:_\n",
    "\n",
    "__Addition__\n",
    "\n",
    ">The addition operator is the + (plus) sign, which is fully in line with mathematical standards.\n",
    "\n",
    "\n",
    ">The result should be nothing surprising. Run the code to check it.\n",
    "\n",
    ">The subtraction operator, unary and binary operators\n",
    "\n",
    ">The subtraction operator is obviously the - (minus) sign, although you should note that this operator also has another meaning ‒ it can change the sign of a number.\n",
    "\n",
    ">This is a great opportunity to present a very important distinction between unary and binary operators.\n",
    "\n",
    ">In subtracting applications, the minus operator expects two arguments: the left (a minuend in arithmetical terms) and right (a subtrahend).\n",
    "\n",
    ">For this reason, the subtraction operator is considered to be one of the binary operators, just like the addition, multiplication and division operators.\n",
    "\n",
    ">But the minus operator may be used in a different (unary) way ‒ take a look at the last line of the snippet below:\n",
    "\n",
    ">By the way: there is also a unary + operator. You can use it like this:"
   ]
  },
  {
   "cell_type": "code",
   "execution_count": 53,
   "metadata": {},
   "outputs": [
    {
     "name": "stdout",
     "output_type": "stream",
     "text": [
      "2\n"
     ]
    }
   ],
   "source": [
    "print(+2)"
   ]
  },
  {
   "cell_type": "markdown",
   "metadata": {},
   "source": [
    ">The operator preserves the sign of its only argument – the right one.\n",
    "\n",
    ">Although such a construction is syntactically correct, using it doesn't make much sense, and it would be hard to find a good rationale for doing so."
   ]
  },
  {
   "cell_type": "markdown",
   "metadata": {},
   "source": [
    "__2.3.3 Operators and their priorities__\n",
    "\n",
    ">So far, we've treated each operator as if it had no connection with the others. Obviously, such an ideal and simple situation is a rarity in real programming.\n",
    "\n",
    ">Also, you will very often find more than one operator in one expression, and then things are no longer so simple.\n",
    "\n",
    ">Consider the following expression:\n",
    "***\n",
    "2 + 3 * 5\n",
    "*** "
   ]
  },
  {
   "cell_type": "code",
   "execution_count": 54,
   "metadata": {},
   "outputs": [
    {
     "data": {
      "text/plain": [
       "17"
      ]
     },
     "execution_count": 54,
     "metadata": {},
     "output_type": "execute_result"
    }
   ],
   "source": [
    "2 + 3 * 5"
   ]
  },
  {
   "cell_type": "markdown",
   "metadata": {},
   "source": [
    ">You probably remember from school that multiplications precede additions.\n",
    "\n",
    ">You surely remember that you should first multiply 3 by 5 and, keeping the 15 in your memory, then add it to 2, thus getting the result of 17.\n",
    "\n",
    ">The phenomenon that causes some operators to act before others is known as the hierarchy of priorities.\n",
    "\n",
    ">Python precisely defines the priorities of all operators, and assumes that operators of a higher priority perform their operations before the operators of a lower priority.\n",
    "\n",
    ">So, if you know that * has a higher priority than +, the computation of the final result should be obvious.\n",
    "\n",
    "__Operators and their bindings__\n",
    "\n",
    ">The binding of the operator determines the order of computations performed by some operators with equal priority, put side by side in one expression.\n",
    "\n",
    ">Most of Python's operators have left-sided binding, which means that the calculation of the expression is conducted from left to right.\n",
    "\n",
    ">This simple example will show you how it works. Take a look:\n",
    "\n",
    "***\n",
    "print(9 % 6 % 2)\n",
    "*** "
   ]
  },
  {
   "cell_type": "code",
   "execution_count": 55,
   "metadata": {},
   "outputs": [
    {
     "name": "stdout",
     "output_type": "stream",
     "text": [
      "1\n"
     ]
    }
   ],
   "source": [
    "print(9 % 6 % 2)"
   ]
  },
  {
   "cell_type": "markdown",
   "metadata": {},
   "source": [
    ">There are two possible ways of evaluating this expression:\n",
    "\n",
    ">from left to right: first 9 % 6 gives 3, and then 3 % 2 gives 1;\n",
    "\n",
    ">from right to left: first 6 % 2 gives 0, and then 9 % 0 causes a fatal error."
   ]
  },
  {
   "cell_type": "code",
   "execution_count": 56,
   "metadata": {},
   "outputs": [
    {
     "ename": "ZeroDivisionError",
     "evalue": "integer modulo by zero",
     "output_type": "error",
     "traceback": [
      "\u001b[1;31m---------------------------------------------------------------------------\u001b[0m",
      "\u001b[1;31mZeroDivisionError\u001b[0m                         Traceback (most recent call last)",
      "Cell \u001b[1;32mIn[56], line 1\u001b[0m\n\u001b[1;32m----> 1\u001b[0m \u001b[38;5;241;43m9\u001b[39;49m\u001b[43m \u001b[49m\u001b[38;5;241;43m%\u001b[39;49m\u001b[43m \u001b[49m\u001b[38;5;241;43m2\u001b[39;49m\u001b[43m \u001b[49m\u001b[38;5;241;43m%\u001b[39;49m\u001b[43m \u001b[49m\u001b[38;5;241;43m0\u001b[39;49m\n",
      "\u001b[1;31mZeroDivisionError\u001b[0m: integer modulo by zero"
     ]
    }
   ],
   "source": [
    "9 % 2 % 0"
   ]
  },
  {
   "cell_type": "markdown",
   "metadata": {},
   "source": [
    "_2 ** 2 → 4;_ \n",
    "\n",
    "_4 ** 3 → 64_\n",
    "\n",
    "_2 ** 3 → 8;_ \n",
    "\n",
    "_2 ** 8 → 256_"
   ]
  },
  {
   "cell_type": "code",
   "execution_count": 57,
   "metadata": {},
   "outputs": [
    {
     "data": {
      "text/plain": [
       "4"
      ]
     },
     "execution_count": 57,
     "metadata": {},
     "output_type": "execute_result"
    }
   ],
   "source": [
    "2 ** 2"
   ]
  },
  {
   "cell_type": "code",
   "execution_count": 58,
   "metadata": {},
   "outputs": [
    {
     "data": {
      "text/plain": [
       "64"
      ]
     },
     "execution_count": 58,
     "metadata": {},
     "output_type": "execute_result"
    }
   ],
   "source": [
    "4 ** 3"
   ]
  },
  {
   "cell_type": "code",
   "execution_count": 59,
   "metadata": {},
   "outputs": [
    {
     "data": {
      "text/plain": [
       "8"
      ]
     },
     "execution_count": 59,
     "metadata": {},
     "output_type": "execute_result"
    }
   ],
   "source": [
    "2 ** 3"
   ]
  },
  {
   "cell_type": "code",
   "execution_count": 60,
   "metadata": {},
   "outputs": [
    {
     "data": {
      "text/plain": [
       "256"
      ]
     },
     "execution_count": 60,
     "metadata": {},
     "output_type": "execute_result"
    }
   ],
   "source": [
    "2 ** 8"
   ]
  },
  {
   "cell_type": "markdown",
   "metadata": {},
   "source": [
    ">The result clearly shows that the exponentiation operator uses right-sided binding.\n",
    "\n",
    ">This has an interesting effect. If the exponentiation operator uses right-sided binding, can you guess the output of the following snippet?"
   ]
  },
  {
   "cell_type": "code",
   "execution_count": 61,
   "metadata": {},
   "outputs": [
    {
     "name": "stdout",
     "output_type": "stream",
     "text": [
      "-9\n",
      "-8\n",
      "-9\n"
     ]
    }
   ],
   "source": [
    "print(-3 ** 2)\n",
    "print(-2 ** 3)\n",
    "print(-(3 ** 2))"
   ]
  },
  {
   "cell_type": "markdown",
   "metadata": {},
   "source": [
    "__List of priorities__\n",
    "\n",
    ">Since you're new to Python operators, we don't want to present the complete list of operator priorities right now.\n",
    "\n",
    ">Instead, we'll show you a truncated form, and we'll expand it consistently as we introduce new operators."
   ]
  },
  {
   "cell_type": "code",
   "execution_count": 62,
   "metadata": {},
   "outputs": [
    {
     "name": "stdout",
     "output_type": "stream",
     "text": [
      "1\n"
     ]
    }
   ],
   "source": [
    "print(2 * 3 % 5)"
   ]
  },
  {
   "cell_type": "markdown",
   "metadata": {},
   "source": [
    ">Both operators (* and %) have the same priority, so the result can be guessed only when you know the binding direction. What do you think? What is the result?\n",
    "\n",
    "__Operators and parentheses__\n",
    "\n",
    ">Of course, you're always allowed to use parentheses, which can change the natural order of a calculation.\n",
    "\n",
    ">In accordance with the arithmetic rules, subexpressions in parentheses are always calculated first.\n",
    "\n",
    ">You can use as many parentheses as you need, and they're often used to improve the readability of an expression, even if they don't change the order of the operations.\n",
    "\n",
    ">An example of an expression with multiple parentheses is here:"
   ]
  },
  {
   "cell_type": "code",
   "execution_count": 63,
   "metadata": {},
   "outputs": [
    {
     "name": "stdout",
     "output_type": "stream",
     "text": [
      "10.0\n"
     ]
    }
   ],
   "source": [
    "print((5 * ((25 % 13) + 100) / (2 * 13)) // 2)"
   ]
  },
  {
   "cell_type": "markdown",
   "metadata": {},
   "source": [
    "__2.3.4 SECTION SUMMARY__\n",
    "\n",
    "_Key takeaways_\n",
    "\n",
    ">>1. An ___expression___ is a combination of values (or variables, operators, calls to functions ‒ you will learn about them soon) which evaluates to a certain value, e.g., 1 + 2.\n",
    "\n",
    ">2. ___Operators___ are special symbols or keywords which are able to operate on the values and perform (mathematical) operations, e.g., the * operator multiplies two values: x * y.\n",
    "\n",
    ">3. ___Arithmetic operators in Python:___ + (addition), - (subtraction), * (multiplication), / (classic division ‒ always returns a float), % (modulus ‒ divides left operand by right operand and returns the remainder of the operation, e.g., 5 % 2 = 1), ** (exponentiation ‒ left operand raised to the power of right operand, e.g., 2 ** 3 = 2 * 2 * 2 = 8), // (floor/integer division ‒ returns a number resulting from division, but rounded down to the nearest whole number, e.g., 3 // 2.0 = 1.0)\n",
    "\n",
    ">4. A ___unary operator___ is an operator with only one operand, e.g., -1, or +3.\n",
    "\n",
    ">5. A ___binary operator___ is an operator with two operands, e.g., 4 + 5, or 12 % 5.\n",
    "\n",
    ">6. Some operators act before others - the hierarchy of priorities:\n",
    "\n",
    ">the ___** operator (exponentiation)___ has the highest priority;\n",
    "\n",
    ">then the ___unary + and -___ (note: a unary operator to the right of the exponentiation operator binds more strongly, for example 4 ** -1 equals 0.25)\n",
    "\n",
    ">then: ___*, /, and %,___\n",
    "\n",
    ">and finally, the lowest priority: binary ___+ and -___.\n",
    "\n",
    ">7. Subexpressions in parentheses are always calculated first, e.g., 15 - 1 * (5 * (1 + 2)) = 0.\n",
    "\n",
    ">8. The exponentiation operator uses right-sided binding, e.g., 2 ** 2 ** 3 = 256."
   ]
  },
  {
   "cell_type": "markdown",
   "metadata": {},
   "source": [
    "__2.3.5 SECTION QUIZ__\n",
    "\n",
    ">Question 1: What is the expected output of the following snippet?"
   ]
  },
  {
   "cell_type": "code",
   "execution_count": 64,
   "metadata": {},
   "outputs": [
    {
     "name": "stdout",
     "output_type": "stream",
     "text": [
      "16 8.0 8\n",
      "-0.5 0.5 0 -1\n",
      "-2 2 512\n"
     ]
    }
   ],
   "source": [
    "print((2 ** 4), (2 * 4.), (2 * 4))\n",
    " \n",
    "# Question 2: What is the expected output of the following snippet?\n",
    "\n",
    "\n",
    "print((-2 / 4), (2 / 4), (2 // 4), (-2 // 4))\n",
    " \n",
    "# Question 3: What is the expected output of the following snippet?\n",
    "\n",
    "\n",
    "print((2 % -4), (2 % 4), (2 ** 3 ** 2))"
   ]
  },
  {
   "cell_type": "code",
   "execution_count": 65,
   "metadata": {},
   "outputs": [
    {
     "name": "stdout",
     "output_type": "stream",
     "text": [
      "8\n",
      "8.0\n",
      "8.0\n",
      "8.0\n"
     ]
    }
   ],
   "source": [
    "print(2 ** 3)\n",
    "print(2 ** 3.)\n",
    "print(2. ** 3)\n",
    "print(2. ** 3.)\n"
   ]
  },
  {
   "cell_type": "code",
   "execution_count": 66,
   "metadata": {},
   "outputs": [
    {
     "name": "stdout",
     "output_type": "stream",
     "text": [
      "8\n",
      "8.0\n",
      "8.0\n",
      "8.0\n"
     ]
    }
   ],
   "source": [
    "# Exponentiation\n",
    "print(2 ** 3)\n",
    "print(2 ** 3.)\n",
    "print(2. ** 3)\n",
    "print(2. ** 3.)\n"
   ]
  },
  {
   "cell_type": "code",
   "execution_count": 67,
   "metadata": {},
   "outputs": [
    {
     "name": "stdout",
     "output_type": "stream",
     "text": [
      "6\n",
      "6.0\n",
      "6.0\n",
      "6.0\n"
     ]
    }
   ],
   "source": [
    "# Multiplication\n",
    "print(2 * 3)\n",
    "print(2 * 3.)\n",
    "print(2. * 3)\n",
    "print(2. * 3.)\n"
   ]
  },
  {
   "cell_type": "code",
   "execution_count": 68,
   "metadata": {},
   "outputs": [
    {
     "name": "stdout",
     "output_type": "stream",
     "text": [
      "2.0\n",
      "2.0\n",
      "2.0\n",
      "2.0\n"
     ]
    }
   ],
   "source": [
    "# Division\n",
    "print(6 / 3)\n",
    "print(6 / 3.)\n",
    "print(6. / 3)\n",
    "print(6. / 3.)\n"
   ]
  },
  {
   "cell_type": "code",
   "execution_count": 69,
   "metadata": {},
   "outputs": [
    {
     "name": "stdout",
     "output_type": "stream",
     "text": [
      "2\n",
      "2.0\n",
      "2.0\n",
      "2.0\n",
      "1\n",
      "1.0\n",
      "-2\n",
      "-2.0\n",
      "-2\n",
      "-2.0\n"
     ]
    }
   ],
   "source": [
    "# Integer (Floor Division)\n",
    "print(6 // 3)\n",
    "print(6 // 3.)\n",
    "print(6. // 3)\n",
    "print(6. // 3.)\n",
    "\n",
    "print(6 // 4)\n",
    "print(6. // 4)\n",
    "\n",
    "print(-6 // 4)\n",
    "print(6. // -4)\n",
    "\n",
    "print(-6 // 4)\n",
    "print(6. // -4)"
   ]
  },
  {
   "cell_type": "code",
   "execution_count": 70,
   "metadata": {},
   "outputs": [
    {
     "name": "stdout",
     "output_type": "stream",
     "text": [
      "2\n"
     ]
    }
   ],
   "source": [
    "# Reminder (Modulus)\n",
    "print(14 % 4)\n"
   ]
  },
  {
   "cell_type": "code",
   "execution_count": 71,
   "metadata": {},
   "outputs": [
    {
     "data": {
      "text/plain": [
       "2"
      ]
     },
     "execution_count": 71,
     "metadata": {},
     "output_type": "execute_result"
    }
   ],
   "source": [
    "14 // 4 # gives 3 → this is the integer quotient;\n",
    "3 * 4 # gives 12 → as a result of quotient and divisor multiplication;\n",
    "14 - 12 # gives 2 → this is the remainder."
   ]
  },
  {
   "cell_type": "code",
   "execution_count": 72,
   "metadata": {},
   "outputs": [
    {
     "name": "stdout",
     "output_type": "stream",
     "text": [
      "3.0\n"
     ]
    }
   ],
   "source": [
    "print(12 % 4.5)"
   ]
  },
  {
   "cell_type": "code",
   "execution_count": 73,
   "metadata": {},
   "outputs": [
    {
     "name": "stdout",
     "output_type": "stream",
     "text": [
      "0\n",
      "4.0\n"
     ]
    }
   ],
   "source": [
    "# Addition\n",
    "print(-4 + 4)\n",
    "print(-4. + 8)\n"
   ]
  },
  {
   "cell_type": "code",
   "execution_count": 74,
   "metadata": {},
   "outputs": [
    {
     "name": "stdout",
     "output_type": "stream",
     "text": [
      "-8\n",
      "-4.0\n",
      "-1.1\n",
      "2\n"
     ]
    }
   ],
   "source": [
    "# The substraaction operators, binary and uninary operator\n",
    "print(-4 - 4)\n",
    "print(4. - 8)\n",
    "print(-1.1)\n",
    "\n",
    "print(+2)\n",
    "\n"
   ]
  },
  {
   "cell_type": "markdown",
   "metadata": {},
   "source": []
  },
  {
   "cell_type": "code",
   "execution_count": null,
   "metadata": {},
   "outputs": [],
   "source": [
    "print(9 % 6 % 2)\n"
   ]
  },
  {
   "cell_type": "code",
   "execution_count": null,
   "metadata": {},
   "outputs": [],
   "source": [
    "print(2 ** 2 ** 3)\n"
   ]
  },
  {
   "cell_type": "markdown",
   "metadata": {},
   "source": []
  },
  {
   "cell_type": "code",
   "execution_count": 42,
   "metadata": {},
   "outputs": [
    {
     "name": "stdout",
     "output_type": "stream",
     "text": [
      "-9\n",
      "-8\n",
      "-9\n",
      "1\n",
      "10.0\n"
     ]
    }
   ],
   "source": [
    "print(-3 ** 2)\n",
    "print(-2 ** 3)\n",
    "print(-(3 ** 2))\n",
    "\n",
    "print(2 * 3 % 5)\n",
    "\n",
    "print((5 * ((25 % 13) + 100) / (2 * 13)) // 2)\n",
    "        "
   ]
  },
  {
   "cell_type": "code",
   "execution_count": 43,
   "metadata": {},
   "outputs": [
    {
     "name": "stdout",
     "output_type": "stream",
     "text": [
      "16 8.0 8\n",
      "-0.5 0.5 0 -1\n",
      "-2 2 512\n"
     ]
    }
   ],
   "source": [
    "print((2 ** 4), (2 * 4.), (2 * 4))\n",
    "\n",
    "print((-2 / 4), (2 / 4), (2 // 4), (-2 // 4))\n",
    "\n",
    "print((2 % -4), (2 % 4), (2 ** 3 ** 2))\n"
   ]
  },
  {
   "cell_type": "markdown",
   "metadata": {},
   "source": [
    "_2.4.1 Variables – data-shaped boxes_\n",
    "\n",
    ">It seems fairly obvious that Python should allow you to encode literals carrying number and text values.\n",
    "\n",
    ">You already know that you can do some arithmetic operations with these numbers: add, subtract, etc. You'll be doing that many times.\n",
    "\n",
    ">But it's quite a normal question to ask how to store the results of these operations, in order to use them in other operations, and so on.\n",
    "\n",
    ">How do you save the intermediate results, and use them again to produce subsequent ones?\n",
    "\n",
    ">Python will help you with that. It offers special \"boxes\" (or \"containers\" as we may call them) for that purpose, and these boxes are called variables ‒ the name itself suggests that the content of these containers can be varied in (almost) any way.\n",
    "\n",
    ">What does every Python variable have?\n",
    "***\n",
    "a name;\n",
    "\n",
    "a value (the content of the container)\n",
    "***\n",
    ">Let's start with the issues related to a variable's name.\n",
    "\n",
    ">Variables do not appear in a program automatically. As a developer, you must decide how many and which variables to use in your programs.\n",
    "\n",
    "_You must also name them._\n",
    "\n",
    "_Variables as boxes_\n",
    "\n",
    "__2.4.2 Variable names__\n",
    "\n",
    ">If you want to give a name to a variable, you must follow some strict rules:\n",
    "\n",
    ">the name of the variable must be composed of upper-case or lower-case letters, digits, and the character _ (underscore)\n",
    "\n",
    ">the name of the variable must begin with a letter;\n",
    "\n",
    ">the underscore character is a letter;\n",
    "\n",
    ">upper- and lower-case letters are treated as different (a little differently than in the real world – Alice and ALICE are the same first names, but in Python they are two different variable names, and consequently, two different variables);\n",
    "\n",
    ">the name of the variable must not be any of Python's reserved words (the keywords – we'll explain more about this soon).\n",
    "\n",
    "\n",
    ">Note that the same restrictions apply to function names.\n",
    "\n",
    ">Python does not impose restrictions on the length of variable names, but that doesn't mean that a long variable name is always better than a short one.\n",
    "\n",
    ">Here are some correct, but not always convenient variable names:\n",
    "\n",
    "***\n",
    "MyVariable\n",
    "\n",
    "i\n",
    "\n",
    "l\n",
    "\n",
    "t34\n",
    "\n",
    "Exchange_Rate\n",
    "\n",
    "\n",
    "counter\n",
    "\n",
    "days_to_christmas\n",
    "\n",
    "TheNameIsTooLongAndHardlyReadable\n",
    "_\n",
    "***\n",
    "\n",
    ">These variable names are also correct:\n",
    "***\n",
    "Adiós_Señora\n",
    "\n",
    "sûr_la_mer\n",
    "\n",
    "Einbahnstraße\n",
    "\n",
    "переменная.\n",
    "\n",
    "***\n",
    ">Python lets you use not only Latin letters but also characters specific to languages that use other alphabets.\n",
    "\n",
    ">And now for some incorrect names:\n",
    "***\n",
    "10t (does not begin with a letter)\n",
    "\n",
    "!important (does not begin with a letter)\n",
    "\n",
    "exchange rate (contains a space).\n",
    "***\n",
    "\n",
    "_Note_\n",
    "\n",
    ">The PEP 8 -- Style Guide for Python Code recommends the following naming convention for variables and functions in Python:\n",
    "\n",
    ">variable names should be lowercase, with words separated by underscores to improve readability (e.g., var, my_variable)\n",
    "\n",
    ">function names follow the same convention as variable names (e.g., fun, my_function)\n",
    "\n",
    ">it's also possible to use mixed case (e.g., myVariable), but only in contexts where that's already the prevailing style, to retain backward compatibility with the adopted convention.\n",
    "\n",
    "_Keywords_\n",
    "\n",
    ">Take a look at the list of words that play a very special role in every Python program.\n",
    "***\n",
    "_['False', 'None', 'True', 'and', 'as', 'assert', 'break', 'class', 'continue', 'def', 'del', 'elif', 'else', 'except', 'finally', 'for', 'from', 'global', 'if', 'import', 'in', 'is', 'lambda', 'nonlocal', 'not', 'or', 'pass', 'raise', 'return', 'try', 'while', 'with', 'yield']_\n",
    "***\n",
    "\n",
    ">They are called keywords or (more precisely) reserved keywords. They are reserved because you mustn't use them as names: neither for your variables, nor functions, nor any other named entities you want to create.\n",
    "\n",
    ">The meaning of the reserved word is predefined, and mustn't be changed in any way.\n",
    "\n",
    ">Fortunately, due to the fact that Python is case-sensitive, you can modify any of these words by changing the case of any letter, thus creating a new word, which is not reserved anymore.\n",
    "\n",
    ">For example ‒ you can't name your variable like this:\n",
    "\n",
    "_import_\n",
    "\n",
    ">You mustn't have a variable named in such a way ‒ it is prohibited. But you can do this instead:\n",
    "\n",
    "_Import_\n",
    "\n",
    ">These words might be a mystery to you now, but you'll soon learn the meaning of them.\n",
    "\n",
    "__2.4.3 How to create a variable__\n",
    "\n",
    ">What can you put inside a variable?\n",
    "\n",
    "_Anything._\n",
    "\n",
    ">You can use a variable to store any value of any of the already presented kinds, and many more of the ones we haven't shown you yet.\n",
    "\n",
    ">The value of a variable is what you have put into it. It can vary as often as you need or want. It can be an integer one moment, and a float a moment later, eventually becoming a string.\n",
    "\n",
    ">Let's talk now about two important things ‒ how variables are created, and how to put values inside them (or rather ‒ how to give or pass values to them).\n",
    "\n",
    ">You can put anything inside a variable\n",
    " \n",
    "_Remember_\n",
    "\n",
    ">A variable comes into existence as a result of assigning a value to it. Unlike in other languages, you don't need to declare it in any special way.\n",
    "\n",
    ">If you assign any value to a nonexistent variable, the variable will be automatically created. You don't need to do anything else.\n",
    "\n",
    ">The creation (in other words, its syntax) is extremely simple: just use the name of the desired variable, then the equal sign (=) and the value you want to put into the variable.\n",
    "\n",
    "__2.4.4 How to use a variable__\n",
    "\n",
    ">You're allowed to use as many variable declarations as you need to achieve your goal, like this:\n",
    "\n",
    "\n",
    ">However, you're not allowed to use a variable which doesn't exist (in other words, a variable that was not assigned a value).\n",
    "\n",
    "_Remember_\n",
    "\n",
    ">You can use the print() function and combine text and variables using the + operator to output strings and variables. For example:"
   ]
  },
  {
   "cell_type": "code",
   "execution_count": 107,
   "metadata": {},
   "outputs": [
    {
     "name": "stdout",
     "output_type": "stream",
     "text": [
      "Python version: 3.8.5\n"
     ]
    }
   ],
   "source": [
    "var = \"3.8.5\"\n",
    "print(\"Python version: \" + var)"
   ]
  },
  {
   "cell_type": "markdown",
   "metadata": {},
   "source": [
    "__2.4.5 How to assign a new value to an already existing variable__\n",
    "\n",
    ">How do you assign a new value to a variable that already exists? In the same way. You just need to use the equal sign.\n",
    "\n",
    "\n",
    ">The equal sign is in fact an assignment operator. Although this may sound strange, the operator has a simple syntax and unambiguous interpretation.\n",
    "\n",
    ">It assigns the value of its right argument to the left, while the right argument may be an arbitrarily complex expression involving literals, operators and already defined variables."
   ]
  },
  {
   "cell_type": "code",
   "execution_count": 108,
   "metadata": {},
   "outputs": [
    {
     "name": "stdout",
     "output_type": "stream",
     "text": [
      "500\n"
     ]
    }
   ],
   "source": [
    "# Do you know what the output of the following snippet will be?\n",
    "\n",
    "\n",
    "var = 100\n",
    "var = 200 + 300\n",
    "print(var)"
   ]
  },
  {
   "cell_type": "markdown",
   "metadata": {},
   "source": [
    "__2.4.6 Solving simple mathematical problems__\n",
    "\n",
    ">Now you should be able to construct a short program solving simple mathematical problems such as the Pythagorean theorem:\n",
    "\n",
    ">The square of the hypotenuse is equal to the sum of the squares of the other two sides.\n",
    "\n",
    ">The following code evaluates the length of the hypotenuse (i.e., the longest side of a right-angled triangle, the one opposite of the right angle) using the Pythagorean theorem:"
   ]
  },
  {
   "cell_type": "code",
   "execution_count": 109,
   "metadata": {},
   "outputs": [
    {
     "name": "stdout",
     "output_type": "stream",
     "text": [
      "c = 5.0\n"
     ]
    }
   ],
   "source": [
    "a = 3.0\n",
    "b = 4.0\n",
    "c = (a ** 2 + b ** 2) ** 0.5\n",
    "print(\"c =\", c)"
   ]
  },
  {
   "cell_type": "markdown",
   "metadata": {},
   "source": [
    ">Note: we need to make use of the ** operator to evaluate the square root as:\n",
    "\n",
    ">√ (x)  = x(½)\n",
    "\n",
    "_and_\n",
    "\n",
    ">c = √ a2 + b2 \n",
    "\n",
    "__2.4.7   LAB   Variables__\n",
    "\n",
    "_Scenario_\n",
    "\n",
    ">Here is a short story:\n",
    "\n",
    ">Once upon a time in Appleland, John had three apples, Mary had five apples, and Adam had six apples. They were all very happy and lived for a long time. End of story.\n",
    "\n",
    "__Your task is to:__\n",
    "\n",
    ">create the variables: john, mary, and adam;\n",
    "\n",
    ">assign values to the variables. The values must be equal to the numbers of fruit possessed by John, Mary, and Adam respectively;\n",
    "\n",
    ">having stored the numbers in the variables, print the variables on one line, and separate each of them with a comma;\n",
    "\n",
    ">now create a new variable named total_apples equal to the addition of the three previous variables.\n",
    "\n",
    ">print the value stored in total_apples to the console;\n",
    "\n",
    ">experiment with your code: create new variables, assign different values to them, and perform various arithmetic operations on them (e.g., +, -, *, /, //, etc.). Try to print a string and an integer together on one line, e.g., \"Total number of apples:\" and total_apples.\n",
    "\n",
    "__2.4.8 Shortcut operators__\n",
    "\n",
    ">It's time for the next set of operators that make a developer's life easier. Very often, we want to use one and the same variable both to the right and left sides of the = operator.\n",
    "\n",
    ">For example, if we need to calculate a series of successive values of powers of 2, we may use a piece like this:"
   ]
  },
  {
   "cell_type": "code",
   "execution_count": 110,
   "metadata": {},
   "outputs": [
    {
     "data": {
      "text/plain": [
       "8"
      ]
     },
     "execution_count": 110,
     "metadata": {},
     "output_type": "execute_result"
    }
   ],
   "source": [
    "x = 4\n",
    "x = x * 2\n",
    "x"
   ]
  },
  {
   "cell_type": "code",
   "execution_count": 111,
   "metadata": {},
   "outputs": [
    {
     "data": {
      "text/plain": [
       "7"
      ]
     },
     "execution_count": 111,
     "metadata": {},
     "output_type": "execute_result"
    }
   ],
   "source": [
    "# You may use an expression like this if you can't fall asleep and you're trying to deal with it using some good, old-fashioned methods:\n",
    "\n",
    "sheep = 5\n",
    "sheep = sheep + 1\n",
    " \n",
    "# Python offers you a shortened way of writing operations like these, which can be coded as follows:\n",
    "\n",
    "x *= 2\n",
    "\n",
    "sheep += 1\n",
    "sheep"
   ]
  },
  {
   "cell_type": "markdown",
   "metadata": {},
   "source": [
    "__2.4.9   LAB   Variables ‒ a simple converter__\n",
    "\n",
    "_Scenario_\n",
    "\n",
    ">Miles and kilometers are units of length or distance.\n",
    "\n",
    ">Bearing in mind that 1 mile is equal to approximately 1.61 kilometers, complete the program in the editor so that it converts:\n",
    "\n",
    "miles to kilometers;\n",
    "\n",
    "kilometers to miles.\n",
    "\n",
    ">Do not change anything in the existing code. Write your code in the places indicated by ###. Test your program with the data we've provided in the source code.\n",
    "\n",
    ">Pay particular attention to what is going on inside the print() function. Analyze how we provide multiple arguments to the function, and how we output the expected data.\n",
    "\n",
    ">Note that some of the arguments inside the print() function are strings (e.g., \"miles is\", whereas some other are variables (e.g., miles).\n",
    "\n",
    "_Tip_\n",
    "\n",
    ">There's one more interesting thing happening there. Can you see another function inside the print() function? It's the round() function. Its job is to round the outputted result to the number of decimal places specified in the parentheses, and return a float (inside the round() function you can find the variable name, a comma, and the number of decimal places we're aiming for). We're going to talk about functions very soon, so don't worry that everything may not be fully clear yet. We just want to spark your curiosity."
   ]
  },
  {
   "cell_type": "markdown",
   "metadata": {},
   "source": [
    ">After completing the lab, open the Sandbox, and experiment some more. Try to write different converters, e.g., a USD to EUR converter, a temperature converter, etc. ‒ let your imagination fly! Try to output the results by combining strings and variables. Try to use and experiment with the round() function to round your results to one, two, or three decimal places. Check out what happens if you don't provide any number of digits. Remember to test your programs.\n",
    "\n",
    ">Experiment, draw conclusions, and learn. Be curious.\n",
    "\n",
    "__Expected output__\n",
    "\n",
    "7.38 miles is 11.88 kilometers\n",
    "\n",
    "12.25 kilometers is 7.61 miles"
   ]
  },
  {
   "cell_type": "markdown",
   "metadata": {},
   "source": [
    "__2.4.10   LAB   Operators and expressions__\n",
    "\n",
    "_Scenario_\n",
    "\n",
    ">Take a look at the code in the editor: it reads a float value, puts it into a variable named x, and prints the value of a variable named y. Your task is to complete the code in order to evaluate the following expression:\n",
    "\n",
    "3x3 - 2x2 + 3x - 1\n",
    "\n",
    "The result should be assigned to y."
   ]
  },
  {
   "cell_type": "markdown",
   "metadata": {},
   "source": [
    "_Remember that classical algebraic notation likes to omit the multiplication operator ‒ you need to use it explicitly. Note how we change data type to make sure that x is of type float._\n",
    "\n",
    ">Keep your code clean and readable, and test it using the data we've provided, each time assigning it to the x variable (by hardcoding it). Don't be discouraged by any initial failures. Be persistent and inquisitive.\n",
    "\n",
    ">Sample input\n",
    "\n",
    "x = 0\n",
    "\n",
    "x = 1\n",
    "\n",
    "x = -1\n",
    "\n",
    ">Sample output\n",
    "\n",
    "y = -1.0\n",
    "\n",
    "y = 3.0\n",
    "\n",
    "y = -9.0"
   ]
  },
  {
   "cell_type": "markdown",
   "metadata": {},
   "source": [
    "__2.4.11 SECTION SUMMARY__\n",
    "\n",
    ">A variable is a named location reserved to store values in the memory. A variable is created or initialized automatically when you assign a value to it for the first time. (2.1.4.1)\n",
    "\n",
    ">Each variable must have a unique name ‒ an identifier. A legal identifier name must be a non-empty sequence of characters, must begin with the underscore(_), or a letter, and it cannot be a Python keyword. The first character may be followed by underscores, letters, and digits. Identifiers in Python are case-sensitive.\n",
    "\n",
    ">Python is a dynamically-typed language, which means you don't need to declare variables in it. (2.1.4.3) To assign values to variables, you can use a simple assignment operator in the form of the equal (=) sign, i.e., var = 1."
   ]
  },
  {
   "cell_type": "code",
   "execution_count": 112,
   "metadata": {},
   "outputs": [
    {
     "name": "stdout",
     "output_type": "stream",
     "text": [
      "2\n",
      "3\n",
      "4\n",
      "Agent 007\n"
     ]
    }
   ],
   "source": [
    "# You can also use compound assignment operators (shortcut operators) to modify values assigned to variables, for example: var += 1, or var /= 5 * 2.\n",
    "\n",
    "# You can assign new values to already existing variables using the assignment operator or one of the compound operators, for example:\n",
    "\n",
    "var = 2\n",
    "print(var)\n",
    " \n",
    "var = 3\n",
    "print(var)\n",
    " \n",
    "var += 1\n",
    "print(var)\n",
    " \n",
    "# You can combine text and variables using the + operator, and use the print() function to output strings and variables, for example:\n",
    "\n",
    "var = \"007\"\n",
    "print(\"Agent \" + var)"
   ]
  },
  {
   "cell_type": "code",
   "execution_count": 113,
   "metadata": {},
   "outputs": [
    {
     "name": "stdout",
     "output_type": "stream",
     "text": [
      "3\n"
     ]
    }
   ],
   "source": [
    "# Question 1: What is the output of the following code?\n",
    "var = 2\n",
    "var = 3\n",
    "print(var)"
   ]
  },
  {
   "cell_type": "code",
   "execution_count": 114,
   "metadata": {},
   "outputs": [
    {
     "name": "stdout",
     "output_type": "stream",
     "text": [
      "11\n"
     ]
    }
   ],
   "source": [
    "# Question 3: What is the output of the following snippet?\n",
    "a = '1'\n",
    "b = \"1\"\n",
    "print(a + b)\n"
   ]
  },
  {
   "cell_type": "code",
   "execution_count": 115,
   "metadata": {},
   "outputs": [
    {
     "name": "stdout",
     "output_type": "stream",
     "text": [
      "1.0\n"
     ]
    }
   ],
   "source": [
    "# Question 4: What is the output of the following snippet?\n",
    "a = 6\n",
    "b = 3\n",
    "a /= 2 * b\n",
    "print(a)"
   ]
  },
  {
   "cell_type": "markdown",
   "metadata": {},
   "source": [
    ">In this section you will learn how to talk to a computer: you will familiarize yourself with the input() function, perform type conversions, and learn how to use string operators.\n",
    "\n",
    "__2.6.1 The input() function__\n",
    "\n",
    ">We're now going to introduce you to a completely new function, which seems to be a mirror reflection of the good old print() function.\n",
    "\n",
    ">Why? Well, print() sends data to the console.\n",
    "\n",
    ">The new function gets data from it.\n",
    "\n",
    ">print() has no usable result. The meaning of the new function is to return a very usable result.\n",
    "\n",
    ">The function is named input(). The name of the function says everything.\n",
    "\n",
    ">The input() function is able to read data entered by the user and to return the same data to the running program.\n",
    "\n",
    ">The program can manipulate the data, making the code truly interactive.\n",
    "\n",
    ">Virtually all programs read and process data. A program which doesn't get a user's input is a deaf program.\n",
    "\n",
    "_Take a look at our example:_"
   ]
  },
  {
   "cell_type": "code",
   "execution_count": 116,
   "metadata": {},
   "outputs": [
    {
     "name": "stdout",
     "output_type": "stream",
     "text": [
      "Tell me anything...\n",
      "Hmm...  ... Really?\n"
     ]
    }
   ],
   "source": [
    "print(\"Tell me anything...\")\n",
    "anything = input()\n",
    "print(\"Hmm...\", anything, \"... Really?\")"
   ]
  },
  {
   "cell_type": "markdown",
   "metadata": {},
   "source": [
    "_Note: The program prompts the user to input some data from the console (most likely using a keyboard, although it is also possible to input data using voice or image);_\n",
    "\n",
    ">the input() function is invoked without arguments (this is the simplest way of using the function); the function will switch the console to input mode; you'll see a blinking cursor, and you'll be able to input some keystrokes, finishing off by hitting the Enter key; all the inputted data will be sent to your program through the function's result;\n",
    "\n",
    "_note: you need to assign the result to a variable; this is crucial ‒ missing out this step will cause the entered data to be lost;\n",
    "then we use the print() function to output the data we get, with some additional remarks._\n",
    "\n",
    "_2.6.2 The input() function with an argument_\n",
    "\n",
    ">The input() function can do something else: it can prompt the user without any help from print().\n",
    "\n",
    "\n",
    "_Note: the input() function is invoked with one argument ‒ it's a string containing a message;\n",
    "the message will be displayed on the console before the user is given an opportunity to enter anything;\n",
    "input() will then do its job._\n",
    "\n",
    ">This variant of the input() invocation simplifies the code and makes it clearer.\n",
    "\n",
    "_2.6.3 The result of the input() function\n",
    "We've said it already, but it must be unambiguously stated once again: the result of the input() function is a string._\n",
    "\n",
    ">_A string containing all the characters the user enters from the keyboard. It is not an integer or a float._\n",
    "\n",
    ">This means that you mustn't use it as an argument of any arithmetic operation, e.g., you can't use this data to square it, divide it by anything, or divide anything by it."
   ]
  },
  {
   "cell_type": "code",
   "execution_count": 117,
   "metadata": {},
   "outputs": [
    {
     "ename": "TypeError",
     "evalue": "unsupported operand type(s) for ** or pow(): 'str' and 'float'",
     "output_type": "error",
     "traceback": [
      "\u001b[1;31m---------------------------------------------------------------------------\u001b[0m",
      "\u001b[1;31mTypeError\u001b[0m                                 Traceback (most recent call last)",
      "Cell \u001b[1;32mIn[117], line 2\u001b[0m\n\u001b[0;32m      1\u001b[0m anything \u001b[38;5;241m=\u001b[39m \u001b[38;5;28minput\u001b[39m(\u001b[38;5;124m\"\u001b[39m\u001b[38;5;124mEnter a number: \u001b[39m\u001b[38;5;124m\"\u001b[39m)\n\u001b[1;32m----> 2\u001b[0m something \u001b[38;5;241m=\u001b[39m \u001b[43manything\u001b[49m\u001b[43m \u001b[49m\u001b[38;5;241;43m*\u001b[39;49m\u001b[38;5;241;43m*\u001b[39;49m\u001b[43m \u001b[49m\u001b[38;5;241;43m2.0\u001b[39;49m\n\u001b[0;32m      3\u001b[0m \u001b[38;5;28mprint\u001b[39m(anything, \u001b[38;5;124m\"\u001b[39m\u001b[38;5;124mto the power of 2 is\u001b[39m\u001b[38;5;124m\"\u001b[39m, something)\n",
      "\u001b[1;31mTypeError\u001b[0m: unsupported operand type(s) for ** or pow(): 'str' and 'float'"
     ]
    }
   ],
   "source": [
    "anything = input(\"Enter a number: \")\n",
    "something = anything ** 2.0\n",
    "print(anything, \"to the power of 2 is\", something)"
   ]
  },
  {
   "cell_type": "markdown",
   "metadata": {},
   "source": [
    "__2.6.4 The input() function – prohibited operations__\n",
    "\n",
    ">Look at the code in the editor. Run it, enter any number, and press Enter.\n",
    "\n",
    ">The last line of the sentence explains everything ‒ you tried to apply the ** operator to 'str' (string) accompanied with 'float'.\n",
    "\n",
    "_This is prohibited._\n",
    "\n",
    ">This should be obvious - can you predict the value of \"to be or not to be\" raised to the power of 2?\n",
    "\n",
    "_We can't. Python can't, either._\n",
    "\n",
    ">Have we fallen into a deadlock? Is there a solution to this issue? Of course there is.\n",
    "\n",
    "__2.6.5 Type casting (type conversions)__\n",
    "\n",
    ">Python offers two simple functions to specify a type of data and solve this problem ‒ here they are: int() and float().\n",
    "\n",
    "_Their names are self-commenting:_\n",
    "\n",
    ">the ___int()___ function takes one argument (e.g., a string: int(string)) and tries to convert it into an integer; if it fails, the whole program will fail too (there is a workaround for this situation, but we'll show you this a little later);\n",
    "\n",
    ">the ___float()___ function takes one argument (e.g., a string: float(string)) and tries to convert it into a float (the rest is the same).\n",
    "\n",
    ">This is very simple and very effective. Moreover, you can invoke any of the functions by passing the input() results directly to them. There's no need to use any variable as an intermediate storage.\n",
    "\n",
    ">We've implemented the idea in the editor ‒ take a look at the code.\n",
    "\n",
    ">Can you imagine how the string entered by the user flows from input() into print()?\n",
    "\n",
    "__2.6.6 More about input() and type casting__\n",
    "\n",
    ">Having a team consisting of the trio input()-int()-float() opens up lots of new possibilities.\n",
    "\n",
    ">You'll eventually be able to write complete programs, accepting data in the form of numbers, processing them and displaying the results.\n",
    "\n",
    ">Of course, these programs will be very primitive and not very usable, as they cannot make decisions, and consequently are not able to react differently to different situations.\n",
    "\n",
    ">This is not really a problem, though; we'll show you how to overcome it soon.\n",
    "\n",
    ">Our next example refers to the earlier program to find the length of a hypotenuse. Let's run it and make it able to read the lengths of the legs from the console.\n",
    "\n",
    "__2.6.7 String operators__\n",
    "\n",
    ">It's time to return to these two arithmetic operators: + and *.\n",
    "\n",
    ">We want to show you that they have a second function. They are able to do something more than just add and multiply.\n",
    "\n",
    ">We've seen them in action where their arguments are numbers (floats or integers, it doesn't matter).\n",
    "\n",
    ">Now we're going to show you that they can handle strings, too, albeit in a very specific way.\n",
    "\n",
    ">The + (plus) sign, when applied to two strings, becomes a concatenation operator:\n",
    "\n",
    "___string + string___\n",
    " \n",
    ">It simply concatenates (glues) two strings into one. Of course, like its arithmetic sibling, it can be used more than once in one expression, and in such a context it behaves according to left-sided binding.\n",
    "\n",
    ">In contrast to its arithmetic sibling, the concatenation operator is not commutative, i.e., \"ab\" + \"ba\" is not the same as \"ba\" + \"ab\".\n",
    "\n",
    ">Don't forget ‒ if you want the + sign to be a concatenator, not an adder, you must ensure that both its arguments are strings.\n",
    "\n",
    "_You cannot mix types here._\n",
    "\n",
    ">This simple program shows the + sign in its second use:\n",
    "\n",
    ">Note: using + to concatenate strings lets you construct the output in a more precise way than with a pure print() function, even if enriched with the end= and sep= keyword arguments.\n",
    "\n",
    "_Replication_\n",
    "\n",
    ">The * (asterisk) sign, when applied to a string and number (or a number and string, as it remains commutative in this position) becomes a replication operator:\n",
    "\n",
    "***\n",
    "string * number\n",
    "\n",
    "number * string\n",
    "***\n",
    "\n",
    ">It replicates the string the same number of times specified by the number.\n",
    "\n",
    "_For example:_"
   ]
  },
  {
   "cell_type": "code",
   "execution_count": 118,
   "metadata": {},
   "outputs": [
    {
     "data": {
      "text/plain": [
       "'22222'"
      ]
     },
     "execution_count": 118,
     "metadata": {},
     "output_type": "execute_result"
    }
   ],
   "source": [
    "\"James\" * 3 # gives \"JamesJamesJames\"\n",
    "3 * \"an\" # gives \"ananan\"\n",
    "5 * \"2\" # (or \"2\" * 5) gives \"22222\" (not 10!)"
   ]
  },
  {
   "cell_type": "markdown",
   "metadata": {},
   "source": [
    "_Remember_\n",
    "A number less than or equal to zero produces an empty string.\n",
    "\n",
    "This simple program \"draws\" a rectangle, making use of an old operator (+) in a new role:\n",
    "\n",
    ">Try practicing to create other shapes or your own artwork!"
   ]
  },
  {
   "cell_type": "code",
   "execution_count": 119,
   "metadata": {},
   "outputs": [
    {
     "data": {
      "text/plain": [
       "''"
      ]
     },
     "execution_count": 119,
     "metadata": {},
     "output_type": "execute_result"
    }
   ],
   "source": [
    "str()"
   ]
  },
  {
   "cell_type": "markdown",
   "metadata": {},
   "source": [
    "__2.6.8 Type conversions once again__"
   ]
  },
  {
   "cell_type": "code",
   "execution_count": 120,
   "metadata": {},
   "outputs": [
    {
     "data": {
      "text/plain": [
       "''"
      ]
     },
     "execution_count": 120,
     "metadata": {},
     "output_type": "execute_result"
    }
   ],
   "source": [
    "str()"
   ]
  },
  {
   "cell_type": "code",
   "execution_count": 121,
   "metadata": {},
   "outputs": [],
   "source": [
    "num = 30"
   ]
  },
  {
   "cell_type": "markdown",
   "metadata": {},
   "source": [
    ">You already know how to use the int() and float() functions to convert a string into a number.\n",
    "\n",
    ">This type of conversion is not a one-way street. You can also convert a number into a string, which is way easier and safer ‒ this kind of operation is always possible.\n",
    "\n",
    ">A function capable of doing that is called str():"
   ]
  },
  {
   "cell_type": "code",
   "execution_count": 122,
   "metadata": {},
   "outputs": [
    {
     "data": {
      "text/plain": [
       "'30'"
      ]
     },
     "execution_count": 122,
     "metadata": {},
     "output_type": "execute_result"
    }
   ],
   "source": [
    "str(num)"
   ]
  },
  {
   "cell_type": "markdown",
   "metadata": {},
   "source": [
    ">To be honest, it can do much more than just transform numbers into strings, but that can wait for later."
   ]
  },
  {
   "cell_type": "markdown",
   "metadata": {},
   "source": [
    ">We've modified it a bit to show you how the str() function works. Thanks to this, we can pass the whole result to the print() function as one string, forgetting about the commas.\n",
    "\n",
    ">You've made some serious strides on your way to Python programming.\n",
    "\n",
    ">You already know the basic data types, and a set of fundamental operators. You know how to organize the output and how to get data from the user. These are very strong foundations for Module 3. But before we move on to the next module, let's do a few labs, and recap all that you've learned in this section.\n",
    "\n",
    "__2.6.9   LAB   Simple input and output__\n",
    "\n",
    "_Scenario_\n",
    "\n",
    ">Your task is to complete the code in order to evaluate the results of four basic arithmetic operations.\n",
    "\n",
    ">The results have to be printed to the console.\n",
    "\n",
    ">You may not be able to protect the code from a user who wants to divide by zero. That's okay, don't worry about it for now.\n",
    "\n",
    ">Test your code ‒ does it produce the results you expect?\n",
    "\n",
    ">We won't show you any test data ‒ that would be too simple.\n",
    "\n",
    "__2.6.10   LAB   Operators and expressions__\n",
    "\n",
    "_Scenario_\n",
    "\n",
    ">Your task is to complete the code in order to evaluate the following expression:\n",
    "\n",
    "__Math expression__\n",
    "\n",
    ">The result should be assigned to y. Be careful ‒ watch the operators and keep their priorities in mind. Don't hesitate to use as many parentheses as you need.\n",
    "\n",
    ">You can use additional variables to shorten the expression (but it's not necessary). Test your code carefully.\n",
    "\n",
    "\n",
    "__2.6.11   LAB   Operators and expressions – 2__\n",
    "\n",
    "_Scenario_\n",
    "\n",
    ">Your task is to prepare a simple code able to evaluate the end time of a period of time, given as a number of minutes (it could be arbitrarily large). The start time is given as a pair of hours (0..23) and minutes (0..59). The result has to be printed to the console.\n",
    "\n",
    ">For example, if an event starts at 12:17 and lasts 59 minutes, it will end at 13:16.\n",
    "\n",
    ">Don't worry about any imperfections in your code ‒ it's okay if it accepts an invalid time ‒ the most important thing is that the code produces valid results for valid input data.\n",
    "\n",
    ">Test your code carefully. Hint: using the % operator may be the key to success.\n",
    "\n",
    "__2.6.12 SECTION SUMMARY__\n",
    "\n",
    ">1. The print() function sends data to the console, while the input() function gets data from the console.\n",
    "\n",
    ">2. The input() function comes with an optional parameter: the prompt string. It allows you to write a message before the user input, e.g.:"
   ]
  },
  {
   "cell_type": "code",
   "execution_count": 123,
   "metadata": {},
   "outputs": [
    {
     "name": "stdout",
     "output_type": "stream",
     "text": [
      "Hello, adamu. Nice to meet you!\n"
     ]
    }
   ],
   "source": [
    "name = input(\"Enter your name: \")\n",
    "print(\"Hello, \" + name + \". Nice to meet you!\")"
   ]
  },
  {
   "cell_type": "markdown",
   "metadata": {},
   "source": [
    ">3. When the input() function is called, the program's flow is stopped, the prompt symbol keeps blinking (it prompts the user to take action when the console is switched to input mode) until the user has entered an input and/or pressed the Enter key.\n",
    "\n",
    "_Note_\n",
    "\n",
    "\n",
    ">You can test the functionality of the input() function in its full scope locally on your machine. For resource optimization reasons, we have limited the maximum program execution time in Edube to a few seconds. Go to the Sandbox, copy-paste the above snippet, run the program, and do nothing ‒ just wait a few seconds to see what happens. Your program should be stopped automatically after a short moment. Now open IDLE, and run the same program there ‒ can you see the difference?\n",
    "\n",
    ">Tip: the above-mentioned feature of the input() function can be used to prompt the user to end a program. Look at the code below:"
   ]
  },
  {
   "cell_type": "code",
   "execution_count": 124,
   "metadata": {},
   "outputs": [
    {
     "name": "stdout",
     "output_type": "stream",
     "text": [
      "Hello, adamu. Nice to meet you!\n",
      "\n",
      "Press Enter to end the program.\n",
      "THE END.\n"
     ]
    }
   ],
   "source": [
    "name = input(\"Enter your name: \")\n",
    "print(\"Hello, \" + name + \". Nice to meet you!\")\n",
    " \n",
    "print(\"\\nPress Enter to end the program.\")\n",
    "input()\n",
    "print(\"THE END.\")"
   ]
  },
  {
   "cell_type": "code",
   "execution_count": 125,
   "metadata": {},
   "outputs": [
    {
     "name": "stdout",
     "output_type": "stream",
     "text": [
      "555666\n"
     ]
    }
   ],
   "source": [
    "# 4. The result of the input() function is a string. You can add strings to each other using the concatenation (+) operator. Check out this code:\n",
    "\n",
    "num_1 = input(\"Enter the first number: \") # Enter 12\n",
    "num_2 = input(\"Enter the second number: \") # Enter 21\n",
    " \n",
    "print(num_1 + num_2) # the program returns 1221"
   ]
  },
  {
   "cell_type": "code",
   "execution_count": 126,
   "metadata": {},
   "outputs": [
    {
     "name": "stdout",
     "output_type": "stream",
     "text": [
      "887887887\n"
     ]
    }
   ],
   "source": [
    "# 5. You can also multiply (* ‒ replication) strings, e.g.:\n",
    "\n",
    "\n",
    "my_input = input(\"Enter something: \") # Example input: hello\n",
    "print(my_input * 3) # Expected output: hellohellohello"
   ]
  },
  {
   "cell_type": "markdown",
   "metadata": {},
   "source": [
    "_2.6.13 SECTION QUIZ_\n",
    "\n",
    "\n",
    ">Question 1: What is the output of the following snippet?"
   ]
  },
  {
   "cell_type": "code",
   "execution_count": 128,
   "metadata": {},
   "outputs": [
    {
     "name": "stdout",
     "output_type": "stream",
     "text": [
      "55555555555555555555555555555555555555555555555555555555555555555555555555555\n"
     ]
    }
   ],
   "source": [
    "x = int(input(\"Enter a number: \")) # The user enters 2\n",
    "print(x * \"5\")"
   ]
  },
  {
   "cell_type": "markdown",
   "metadata": {},
   "source": [
    "_Check_\n",
    "\n",
    ">Question 2: What is the expected output of the following snippet?"
   ]
  },
  {
   "cell_type": "code",
   "execution_count": 129,
   "metadata": {},
   "outputs": [
    {
     "name": "stdout",
     "output_type": "stream",
     "text": [
      "<class 'str'>\n"
     ]
    }
   ],
   "source": [
    "x = input(\"Enter a number: \") # The user enters 2\n",
    "print(type(x))"
   ]
  },
  {
   "cell_type": "code",
   "execution_count": 130,
   "metadata": {},
   "outputs": [
    {
     "name": "stdout",
     "output_type": "stream",
     "text": [
      "Tell me anything...\n",
      "Hmm... 99 ... Really?\n"
     ]
    }
   ],
   "source": [
    "print(\"Tell me anything...\")\n",
    "anything = input()\n",
    "print(\"Hmm...\", anything, \"... Really?\")"
   ]
  },
  {
   "cell_type": "code",
   "execution_count": 131,
   "metadata": {},
   "outputs": [
    {
     "name": "stdout",
     "output_type": "stream",
     "text": [
      "Hmm... 88 ...Really?\n"
     ]
    }
   ],
   "source": [
    "anything = input(\"Tell me anything...\")\n",
    "print(\"Hmm...\", anything, \"...Really?\")"
   ]
  },
  {
   "cell_type": "code",
   "execution_count": 132,
   "metadata": {},
   "outputs": [
    {
     "name": "stdout",
     "output_type": "stream",
     "text": [
      "888 to the power of 2 is 788544.0\n"
     ]
    }
   ],
   "source": [
    "anything = int(input(\"Enter a number: \"))\n",
    "something = anything ** 2.0\n",
    "print(anything, \"to the power of 2 is\", something)"
   ]
  },
  {
   "cell_type": "code",
   "execution_count": 48,
   "metadata": {},
   "outputs": [
    {
     "name": "stdout",
     "output_type": "stream",
     "text": [
      "33 to the power of 2 is 1089.0\n"
     ]
    }
   ],
   "source": [
    "# Testing a TypeError message.\n",
    "\n",
    "anything = int(input(\"Enter a number: \"))\n",
    "something = anything ** 2.0\n",
    "print(anything, \"to the power of 2 is\", something)\n"
   ]
  },
  {
   "cell_type": "code",
   "execution_count": 49,
   "metadata": {},
   "outputs": [
    {
     "name": "stdout",
     "output_type": "stream",
     "text": [
      "Hypotenuse length is 333333.0016335016\n"
     ]
    }
   ],
   "source": [
    "leg_a = float(input(\"Input first leg length: \"))\n",
    "leg_b = float(input(\"Input second leg length: \"))\n",
    "hypo = (leg_a**2 + leg_b**2) ** .5\n",
    "print(\"Hypotenuse length is\", hypo)"
   ]
  },
  {
   "cell_type": "code",
   "execution_count": 50,
   "metadata": {},
   "outputs": [
    {
     "name": "stdout",
     "output_type": "stream",
     "text": [
      "Hypotenuse length is 336293.7577059675\n"
     ]
    }
   ],
   "source": [
    "leg_a = float(input(\"Input first leg length: \"))\n",
    "leg_b = float(input(\"Input second leg length: \"))\n",
    "print(\"Hypotenuse length is\", (leg_a**2 + leg_b**2) ** .5)"
   ]
  },
  {
   "cell_type": "code",
   "execution_count": 51,
   "metadata": {},
   "outputs": [
    {
     "name": "stdout",
     "output_type": "stream",
     "text": [
      "Thank you.\n",
      "\n",
      "Your name is Adamu Labaran.\n"
     ]
    }
   ],
   "source": [
    "fnam = input(\"May I have your first name, please? \")\n",
    "lnam = input(\"May I have your last name, please? \")\n",
    "print(\"Thank you.\")\n",
    "print(\"\\nYour name is \" + fnam + \" \" + lnam + \".\")\n"
   ]
  },
  {
   "cell_type": "code",
   "execution_count": 52,
   "metadata": {},
   "outputs": [
    {
     "name": "stdout",
     "output_type": "stream",
     "text": [
      "+----------+\n",
      "|          |\n",
      "|          |\n",
      "|          |\n",
      "|          |\n",
      "|          |\n",
      "+----------+\n"
     ]
    }
   ],
   "source": [
    "print(\"+\" + 10 * \"-\" + \"+\")\n",
    "print((\"|\" + \" \" * 10 + \"|\\n\") * 5, end=\"\")\n",
    "print(\"+\" + 10 * \"-\" + \"+\")\n"
   ]
  },
  {
   "cell_type": "code",
   "execution_count": 54,
   "metadata": {},
   "outputs": [
    {
     "name": "stdout",
     "output_type": "stream",
     "text": [
      "Adamu Labaran\n"
     ]
    }
   ],
   "source": [
    "print(\"Adamu\", end=\" \")\n",
    "print(\"Labaran\")"
   ]
  },
  {
   "cell_type": "code",
   "execution_count": null,
   "metadata": {},
   "outputs": [],
   "source": []
  },
  {
   "cell_type": "code",
   "execution_count": 55,
   "metadata": {},
   "outputs": [
    {
     "name": "stdout",
     "output_type": "stream",
     "text": [
      "|          |\n",
      "|          |\n",
      "|          |\n",
      "|          |\n",
      "|          |\n"
     ]
    }
   ],
   "source": [
    "print((\"|\" + \" \" * 10 + \"|\\n\") * 5, end=\"\")\n"
   ]
  },
  {
   "cell_type": "code",
   "execution_count": 62,
   "metadata": {},
   "outputs": [
    {
     "name": "stdout",
     "output_type": "stream",
     "text": [
      "|          |\n",
      "|          |\n",
      "|          |\n",
      "|          |\n",
      "|          |\n"
     ]
    }
   ],
   "source": [
    "print((\"|\" + \" \" * 10 + \"|\\n\") * 5, end=\"\")"
   ]
  },
  {
   "cell_type": "code",
   "execution_count": 63,
   "metadata": {},
   "outputs": [
    {
     "name": "stdout",
     "output_type": "stream",
     "text": [
      "Hypotenuse length is 470.93311627024065\n"
     ]
    }
   ],
   "source": [
    "leg_a = float(input(\"Input first leg length: \"))\n",
    "leg_b = float(input(\"Input second leg length: \"))\n",
    "print(\"Hypotenuse length is \" + str((leg_a**2 + leg_b**2) ** .5))"
   ]
  },
  {
   "cell_type": "code",
   "execution_count": 65,
   "metadata": {},
   "outputs": [
    {
     "name": "stdout",
     "output_type": "stream",
     "text": [
      "10:6\n"
     ]
    }
   ],
   "source": [
    "hour = int(input(\"Starting time (hours): \"))\n",
    "mins = int(input(\"Starting time (minutes): \"))\n",
    "dura = int(input(\"Event duration (minutes): \"))\n",
    "mins = mins + dura # find a total of all minutes\n",
    "hour = hour + mins // 60 # find a number of hours hidden in minutes and update the hour\n",
    "mins = mins % 60 # correct minutes to fall in the (0..59) range\n",
    "hour = hour % 24 # correct hours to fall in the (0..23) range\n",
    "print(hour, \":\", mins, sep='')"
   ]
  },
  {
   "cell_type": "code",
   "execution_count": 66,
   "metadata": {},
   "outputs": [
    {
     "name": "stdout",
     "output_type": "stream",
     "text": [
      "y = 0.0030029759223291585\n"
     ]
    }
   ],
   "source": [
    "x = float(input(\"Enter value for x: \"))\n",
    "y = 1./(x + 1./(x + 1./(x + 1./x)))\n",
    "print(\"y =\", y)"
   ]
  },
  {
   "cell_type": "code",
   "execution_count": 67,
   "metadata": {},
   "outputs": [
    {
     "name": "stdout",
     "output_type": "stream",
     "text": [
      "Addition: 8890.0\n",
      "Subtraction: 2.0\n",
      "Multiplication: 19758024.0\n",
      "Division: 1.0004500450045004\n",
      "\n",
      "That's all, folks!\n"
     ]
    }
   ],
   "source": [
    "a = float(input(\"Enter first value: \"))\n",
    "b = float(input(\"Enter second value: \"))\n",
    "print(\"Addition:\", a + b)\n",
    "print(\"Subtraction:\", a - b)\n",
    "print(\"Multiplication:\", a * b)\n",
    "print(\"Division:\", a / b)\n",
    "print(\"\\nThat's all, folks!\")"
   ]
  },
  {
   "cell_type": "markdown",
   "metadata": {},
   "source": [
    "__working with escape sequence: \\t, \\n, etc__"
   ]
  },
  {
   "cell_type": "code",
   "execution_count": 133,
   "metadata": {},
   "outputs": [
    {
     "name": "stdout",
     "output_type": "stream",
     "text": [
      "\tPython\n"
     ]
    }
   ],
   "source": [
    "print(\"\\tPython\")"
   ]
  },
  {
   "cell_type": "code",
   "execution_count": 134,
   "metadata": {},
   "outputs": [
    {
     "name": "stdout",
     "output_type": "stream",
     "text": [
      "Languages:\n",
      "Python\n",
      "C\n",
      "JavaScript\n"
     ]
    }
   ],
   "source": [
    "print(\"Languages:\\nPython\\nC\\nJavaScript\")"
   ]
  },
  {
   "cell_type": "code",
   "execution_count": 135,
   "metadata": {},
   "outputs": [
    {
     "name": "stdout",
     "output_type": "stream",
     "text": [
      "Languages:\n",
      "\tPython\n",
      "\tC\n",
      "\tJavaScript\n"
     ]
    }
   ],
   "source": [
    "print(\"Languages:\\n\\tPython\\n\\tC\\n\\tJavaScript\")"
   ]
  },
  {
   "cell_type": "code",
   "execution_count": 136,
   "metadata": {},
   "outputs": [
    {
     "name": "stdout",
     "output_type": "stream",
     "text": [
      "Languages:\n",
      "\tPython\n",
      "\tC\n",
      "\tJavaScript\n"
     ]
    }
   ],
   "source": [
    "print(\"Languages:\\n\\tPython\\n\\tC\\n\\tJavaScript\")"
   ]
  },
  {
   "cell_type": "code",
   "execution_count": 137,
   "metadata": {},
   "outputs": [
    {
     "name": "stdout",
     "output_type": "stream",
     "text": [
      " python\n",
      "python \n",
      "python\n",
      "nostarch.com\n"
     ]
    }
   ],
   "source": [
    "# Stripping Whitespace\n",
    "favorite_language = 'python '\n",
    "favorite_language = favorite_language.rstrip()\n",
    "\n",
    "\n",
    "\n",
    "favorite_language = ' python '\n",
    "favorite_language = favorite_language.rstrip()\n",
    "print(favorite_language)\n",
    "\n",
    "\n",
    "favorite_language = ' python '\n",
    "favorite_language = favorite_language.lstrip()\n",
    "print(favorite_language)\n",
    "\n",
    "\n",
    "favorite_language = ' python '\n",
    "favorite_language = favorite_language.strip()\n",
    "print(favorite_language)\n",
    "\n",
    "\n",
    "# removing prefix\n",
    "nostarch_url = 'https://nostarch.com'\n",
    "nostarch_url.removeprefix('https://')\n",
    "\n",
    "simple_url = nostarch_url.removeprefix('https://')\n",
    "print(simple_url)"
   ]
  },
  {
   "cell_type": "markdown",
   "metadata": {},
   "source": [
    "__Multiple Assignment__\n",
    "\n",
    ">You can assign values to more than one variable using just a single line of code. This can help shorten your programs and make them easier to read;\n",
    "\n",
    ">you’ll use this technique most often when initializing a set of numbers. For example, here’s how you can initialize the variables x, y, and z to zero:"
   ]
  },
  {
   "cell_type": "code",
   "execution_count": 138,
   "metadata": {},
   "outputs": [],
   "source": [
    "x, y, z = 0, 0, 0"
   ]
  },
  {
   "cell_type": "markdown",
   "metadata": {},
   "source": [
    ">You need to separate the variable names with commas, and do the same with the values, and Python will assign each value to its respective variable. As long as the number of values matches the number of variables, Python will match them up correctly"
   ]
  },
  {
   "cell_type": "code",
   "execution_count": 139,
   "metadata": {},
   "outputs": [
    {
     "name": "stdout",
     "output_type": "stream",
     "text": [
      "1 2 3\n"
     ]
    }
   ],
   "source": [
    "x, y, z = 1,2,3\n",
    "print(x,y,z)"
   ]
  },
  {
   "cell_type": "markdown",
   "metadata": {},
   "source": [
    "__TRY IT YOURSELF__\n",
    "\n",
    ">Save each of the following exercises as a separate file, with a name like name. If you get stuck, take a break or see the suggestions in Appendix C.\n",
    "\n",
    ">2-3. Personal Message: Use a variable to represent a person’s name, and print a message to that person. Your message should be simple, such as, “Hello Eric, would you like to learn some Python today?”\n",
    "\n",
    ">2-4. Name Cases: Use a variable to represent a person’s name, and then print that person’s name in lowercase, uppercase, and title case.\n",
    "\n",
    ">2-5. Famous Quote: Find a quote from a famous person you admire. \n",
    "\n",
    ">Print the uote and the name of its author. Your output should look something like the following, including the quotation marks:\n",
    "***\n",
    "Albert Einstein once said, \n",
    "\n",
    "“A person who never made a mistake never tried anything new.”\n",
    "***\n",
    ">2-6. Famous Quote 2: Repeat Exercise 2-5, but this time, represent the famous person’s name using a variable called famous_person. \n",
    "\n",
    ">Then compose your message and represent it with a new variable called message. Print your message.\n",
    "\n",
    ">2-7. Stripping Names: Use a variable to represent a person’s name, and include some whitespace characters at the beginning and end of the name.\n",
    "\n",
    ">Make sure you use each character combination, \"\\t\" and \"\\n\", at least once. \n",
    "\n",
    ">Print the name once, so the whitespace around the name is displayed. \n",
    "\n",
    ">Then print the name using each of the three stripping functions, lstrip(), rstrip(), and strip().\n",
    "\n",
    ">2-8. File Extensions: Python has a removesuffix() method that works exactly like removeprefix(). Assign the value 'python_notes.txt' to a variable called filename. Then use the removesuffix() method to display the filename without the file extension, like some file browsers do."
   ]
  },
  {
   "cell_type": "markdown",
   "metadata": {},
   "source": [
    "# Constants\n",
    ">A constant is a variable whose value stays the same throughout the life of a program. Python doesn’t have built-in constant types, but Python programmers use all capital letters to indicate a variable should be treated as a constant and never be changed:\n",
    "***\n",
    "MAX_CONNECTIONS = 5000\n",
    "***\n",
    "\n",
    ">When you want to treat a variable as a constant in your code, write the name of the variable in all capital letters."
   ]
  },
  {
   "cell_type": "markdown",
   "metadata": {},
   "source": [
    "# TRY IT YOURSELF\n",
    ">2-9. Number Eight: Write addition, subtraction, multiplication, and division operations that each result in the number 8. Be sure to enclose your operations in print() calls to see the results. You should create four lines that look like this:\n",
    "\n",
    "***\n",
    "print(5+3)\n",
    "***\n",
    "\n",
    ">Your output should be four lines, with the number 8 appearing once on each line. 2-10. Favorite Number: Use a variable to represent your favorite number. Then, using that variable, create a message that reveals your favorite number. Print that message."
   ]
  },
  {
   "cell_type": "code",
   "execution_count": 4,
   "metadata": {},
   "outputs": [
    {
     "name": "stdout",
     "output_type": "stream",
     "text": [
      "The Zen of Python, by Tim Peters\n",
      "\n",
      "Beautiful is better than ugly.\n",
      "Explicit is better than implicit.\n",
      "Simple is better than complex.\n",
      "Complex is better than complicated.\n",
      "Flat is better than nested.\n",
      "Sparse is better than dense.\n",
      "Readability counts.\n",
      "Special cases aren't special enough to break the rules.\n",
      "Although practicality beats purity.\n",
      "Errors should never pass silently.\n",
      "Unless explicitly silenced.\n",
      "In the face of ambiguity, refuse the temptation to guess.\n",
      "There should be one-- and preferably only one --obvious way to do it.\n",
      "Although that way may not be obvious at first unless you're Dutch.\n",
      "Now is better than never.\n",
      "Although never is often better than *right* now.\n",
      "If the implementation is hard to explain, it's a bad idea.\n",
      "If the implementation is easy to explain, it may be a good idea.\n",
      "Namespaces are one honking great idea -- let's do more of those!\n"
     ]
    }
   ],
   "source": [
    "# ZEN OF PYTHON: import this\n",
    "import this"
   ]
  },
  {
   "cell_type": "markdown",
   "metadata": {},
   "source": [
    "# bitwise operator\n",
    "> 6 ^ 2\n",
    "\n",
    ">4\n",
    "\n",
    ">I won’t cover bitwise operators in this book, but you can read about them at http://wiki.python.org/moin/BitwiseOperators."
   ]
  },
  {
   "cell_type": "markdown",
   "metadata": {},
   "source": [
    "__Values and types__\n",
    "\n",
    ">A value is one of the basic things a program works with, like a letter or a number. Some values we have seen so far are 2, 42.0, and 'Hello, World!'. These values belong to different types: 2 is an integer, 42.0 is a floating-point number, and 'Hello, World!' is a string, so-called because the letters it contains are strung together. If you are not sure what type a value has, the interpreter can tell you:"
   ]
  },
  {
   "cell_type": "code",
   "execution_count": 141,
   "metadata": {},
   "outputs": [
    {
     "name": "stdout",
     "output_type": "stream",
     "text": [
      "<class 'int'>\n"
     ]
    }
   ],
   "source": [
    "print(type(2))"
   ]
  },
  {
   "cell_type": "code",
   "execution_count": 142,
   "metadata": {},
   "outputs": [
    {
     "name": "stdout",
     "output_type": "stream",
     "text": [
      "<class 'float'>\n"
     ]
    }
   ],
   "source": [
    "print(type(42.0))"
   ]
  },
  {
   "cell_type": "code",
   "execution_count": 143,
   "metadata": {},
   "outputs": [
    {
     "name": "stdout",
     "output_type": "stream",
     "text": [
      "<class 'str'>\n"
     ]
    }
   ],
   "source": [
    "print(type('Hello, World!'))"
   ]
  },
  {
   "cell_type": "markdown",
   "metadata": {},
   "source": [
    ">In these results, the word “class” is used in the sense of a category; a type is a category of values. Not surprisingly, integers belong to the type int, strings belong to str and floating-point numbers belong to float."
   ]
  },
  {
   "cell_type": "code",
   "execution_count": 98,
   "metadata": {},
   "outputs": [
    {
     "name": "stdout",
     "output_type": "stream",
     "text": [
      "False class finally is return\n",
      "None continue for lambda try\n",
      "True def from nonlocal while\n",
      "and del global not with\n",
      "as elif if or yield\n",
      "assert else import pass\n",
      "break except in raise\n"
     ]
    },
    {
     "data": {
      "text/plain": [
       "'You don’t have to memorize this list. In most development environments, keywords are\\ndisplayed in a different color; if you try to use one as a variable name, you’ll know.'"
      ]
     },
     "execution_count": 98,
     "metadata": {},
     "output_type": "execute_result"
    }
   ],
   "source": [
    "# Python 3 has these keywords:\n",
    "print(\"False\", \"class\", \"finally\", \"is\", \"return\")\n",
    "\n",
    "print(\"None\", \"continue\", \"for\", \"lambda\", \"try\")\n",
    "\n",
    "print(\"True\", \"def\", \"from\", \"nonlocal\", \"while\")\n",
    "\n",
    "print(\"and\", \"del\", \"global\", \"not\", \"with\")\n",
    "\n",
    "print(\"as\", \"elif\", \"if\", \"or\", \"yield\")\n",
    "\n",
    "print(\"assert\", \"else\", \"import\", \"pass\")\n",
    "\n",
    "print(\"break\", \"except\", \"in\", \"raise\")\n",
    "\n",
    "\"\"\"You don’t have to memorize this list. In most development environments, keywords are\n",
    "displayed in a different color; if you try to use one as a variable name, you’ll know.\"\"\""
   ]
  },
  {
   "cell_type": "markdown",
   "metadata": {},
   "source": [
    "# Order of operations\n",
    ">When an expression contains more than one operator, the order of evaluation depends on the order of operations. For mathematical operators, Python follows mathematical convention. The acronym PEMDAS is a useful way to remember the rules:\n",
    "\n",
    "\n",
    ">Parentheses have the highest precedence and can be used to force an expression to evaluate in the order you want. Since expressions in parentheses are evaluated first, 2 * (3-1) is 4, and (1+1)**(5-2) is 8. You can also use parentheses to make an expression easier to read, as in (minute * 100) / 60, even if it doesn’t change the result.\n",
    "\n",
    ">Exponentiation has the next highest precedence, so 1 + 2**3 is 9, not 27, and 2 * 3**2 is 18, not 36.\n",
    "\n",
    ">Multiplication and Division have higher precedence than Addition and Subtraction. So 2*3-1 is 5, not 4, and 6+4/2 is 8, not 5.\n",
    "\n",
    ">Operators with the same precedence are evaluated from left to right (except exponentiation). So in the expression degrees / 2 * pi, the division happens first and the result is multiplied by pi. To divide by 2π, you can use parentheses or write degrees / 2 / pi.\n",
    "\n",
    ">I don’t work very hard to remember the precedence of operators. If I can’t tell by looking at the expression, I use parentheses to make it obvious."
   ]
  },
  {
   "cell_type": "markdown",
   "metadata": {},
   "source": [
    "__Debugging__\n",
    ">Three kinds of errors can occur in a program: ___syntax errors___, ___runtime errors___, and ___semantic errors___. It is useful to distinguish between them in order to track them down more quickly. \n",
    "\n",
    ">__Syntax error:__ “Syntax” refers to the structure of a program and the rules about that structure. For example, parentheses have to come in matching pairs, so ((1 + 2) is legal, but 8) is a syntax error.\n",
    "\n",
    ">If there is a syntax error anywhere in your program, Python displays an error message and quits, and you will not be able to run the program. During the first few weeks of your programming career, you might spend a lot of time tracking down syntax errors. As you gain experience, you will make fewer errors and find them faster.\n",
    "\n",
    ">__Runtime error:__ The second type of error is a runtime error, so called because the error does\n",
    ">not appear until after the program has started running. These errors are also called exceptions because they usually indicate that something exceptional (and bad) has happened.\n",
    "\n",
    ">Runtime errors are rare in the simple programs you will see in the first few chapters, so it might be a while before you encounter one.\n",
    "\n",
    ">__Semantic error:__ The third type of error is “semantic”, which means related to meaning.\n",
    "\n",
    ">If there is a semantic error in your program, it will run without generating error messages, but it will not do the right thing. It will do something else. Specifically, it will do what you told it to do.\n",
    "\n",
    ">Identifying semantic errors can be tricky because it requires you to work backward by looking at the output of the program and trying to figure out what it is doing."
   ]
  },
  {
   "cell_type": "code",
   "execution_count": null,
   "metadata": {},
   "outputs": [],
   "source": []
  },
  {
   "cell_type": "markdown",
   "metadata": {},
   "source": [
    "__Exercises__\n",
    "\n",
    ">Exercise 2.1. Repeating my advice from the previous chapter, whenever you learn a new feature, you should try it out in interactive mode and make errors on purpose to see what goes wrong.\n",
    "\n",
    ">We’ve seen that n = 42 is legal. What about 42 = n?\n",
    "\n",
    ">How about x = y = 1?\n",
    "\n",
    ">In some languages every statement ends with a semi-colon, ;. What happens if you put a  semi-colon at the end of a Python statement?\n",
    "\n",
    ">What if you put a period at the end of a statement?\n",
    "\n",
    ">In math notation you can multiply x and y like this: xy. What happens if you try that in Python?\n",
    "\n",
    ">Exercise 2.2. Practice using the Python interpreter as a calculator: 1. The volume of a sphere with radius r is 43 πr \n",
    "\n",
    ">What is the volume of a sphere with radius 5?\n",
    "\n",
    ">2. Suppose the cover price of a book is $24.95, but bookstores get a 40% discount. Shipping costs $3 for the first copy and 75 cents for each additional copy. What is the total wholesale cost for 60 copies?\n",
    "\n",
    ">3. If I leave my house at 6:52 am and run 1 mile at an easy pace (8:15 per mile), then 3 miles at tempo (7:12 per mile) and 1 mile at easy pace again, what time do I get home for breakfast?"
   ]
  },
  {
   "cell_type": "markdown",
   "metadata": {},
   "source": [
    "__Variables Are Labels__\n",
    "\n",
    ">Variables are often described as boxes you can store values in. This idea can be helpful the first few times you use a variable, but it isn’t an accurate way to describe how variables are represented internally in Python. It’s much better to think of variables as labels that you can assign to values. You can also say that a variable references a certain value.\n",
    "\n",
    "__Variables and Simple Data Types    19__\n",
    "\n",
    ">This distinction probably won’t matter much in your initial programs, but it’s worth learning earlier rather than later. At some point, you’ll see unexpected behavior from a variable, and an accurate understanding of how variables work will help you identify what’s happening in your code.\n",
    "\n",
    "_N O T E_  \n",
    "\n",
    ">The best way to understand new programming concepts is to try using them in your programs. If you get stuck while working on an exercise in this book, try doing some-thing else for a while. If you’re still stuck, review the relevant part of that chapter. If you still need help, see the suggestions in Appendix C.\n",
    "\n",
    "__T R Y   I T   Y O U R S E L F__\n",
    "\n",
    ">Write a separate program to accomplish each of these exercises. Save each pro-gram with a filename that follows standard Python conventions, using lowercase letters and underscores, such as simple_message.py and simple_messages.py.\n",
    "\n",
    ">2-1. Simple Message: Assign a message to a variable, and then print that message.\n",
    "\n",
    ">2-2. Simple Messages: Assign a message to a variable, and print that message. Then change the value of the variable to a new message, and print the new message."
   ]
  },
  {
   "cell_type": "markdown",
   "metadata": {},
   "source": [
    "__Strings__\n",
    "\n",
    ">Because most programs define and gather some sort of data and then do something useful with it, it helps to classify different types of data. The first data type we’ll look at is the string. Strings are quite simple at first glance, but you can use them in many different ways.A string is a series of characters. Anything inside quotes is considered a string in Python, and you can use single or double quotes around your strings like this:\n",
    "\n",
    ">\"This is a string.\"\n",
    "\n",
    ">'This is also a string.'\n",
    "\n",
    ">This flexibility allows you to use quotes and apostrophes within your strings:\n",
    "\n",
    ">'I told my friend, \"Python is my favorite language!\"'\"The language 'Python' is named after Monty Python, not the snake.\"\"One of Python's strengths is its diverse and supportive community.\"\n",
    "\n",
    ">Let’s explore some of the ways you can use strings."
   ]
  },
  {
   "cell_type": "markdown",
   "metadata": {},
   "source": [
    "__T R Y   I T   Y O U R S E L F__\n",
    "\n",
    ">Write a separate program to accomplish each of these exercises. Save each pro-gram with a filename that follows standard Python conventions, using lowercase letters and underscores, such as simple_message.py and simple_messages.py.\n",
    "\n",
    ">2-1. Simple Message: Assign a message to a variable, and then print that message.\n",
    "\n",
    ">2-2. Simple Messages: Assign a message to a variable, and print that message. Then change the value of the variable to a new message, and print the new message."
   ]
  },
  {
   "cell_type": "markdown",
   "metadata": {},
   "source": [
    "__T R Y   I T   Y O U R S E L F__\n",
    "\n",
    ">Save each of the following exercises as a separate file, with a name like name _cases.py. If you get stuck, take a break or see the suggestions in Appendix C.\n",
    "\n",
    ">2-3. Personal Message: Use a variable to represent a person’s name, and print a message to that person. Your message should be simple, such as, “Hello Eric, would you like to learn some Python today?”\n",
    "\n",
    ">2-4. Name Cases: Use a variable to represent a person’s name, and then print that person’s name in lowercase, uppercase, and title case.\n",
    "\n",
    ">2-5. Famous Quote: Find a quote from a famous person you admire. Print the quote and the name of its author. Your output should look something like the following, including the quotation marks:\n",
    "\n",
    ">Albert Einstein once said, “A person who never made a mistake never tried anything new.”\n",
    "\n",
    ">2-6. Famous Quote 2: Repeat Exercise 2-5, but this time, represent the famous person’s name using a variable called famous_person. Then compose your mes-sage and represent it with a new variable called message. Print your message.\n",
    "\n",
    ">2-7. Stripping Names: Use a variable to represent a person’s name, and include some whitespace characters at the beginning and end of the name. Make sure you use each character combination, \"\\t\" and \"\\n\", at least once.Print the name once, so the whitespace around the name is displayed. Then print the name using each of the three stripping functions, lstrip(), \n",
    "\n",
    ">rstrip(), and strip().\n",
    "\n",
    ">2-8. File Extensions: Python has a removesuffix() method that works exactly  like removeprefix(). Assign the value 'python_notes.txt' to a variable called \n",
    "\n",
    ">filename. Then use the removesuffix() method to display the filename without the file extension, like some file browsers do."
   ]
  },
  {
   "cell_type": "markdown",
   "metadata": {},
   "source": [
    "__Numbers__\n",
    "\n",
    ">Numbers are used quite often in programming to keep score in games, represent data in visualizations, store information in web applications, and so on. Python treats numbers in several different ways, depending on how they’re being used. Let’s first look at how Python manages integers, because they’re the simplest to work with.\n",
    "\n",
    "__Integers__\n",
    ">You can add (+), subtract (-), multiply (*), and divide (/) integers in Python."
   ]
  },
  {
   "cell_type": "code",
   "execution_count": 144,
   "metadata": {},
   "outputs": [
    {
     "name": "stdout",
     "output_type": "stream",
     "text": [
      "5\n",
      "1\n",
      "6\n",
      "1.5\n",
      "9\n",
      "27\n",
      "1000000\n",
      "14\n",
      "20\n",
      "0.2\n",
      "0.4\n",
      "0.2\n",
      "0.4\n",
      "0.30000000000000004\n",
      "0.30000000000000004\n",
      "2.0\n",
      "3.0\n",
      "6.0\n",
      "9.0\n",
      "14000000000\n"
     ]
    }
   ],
   "source": [
    "print(2 + 3)\n",
    "print(3 - 2)\n",
    "print(2 * 3)\n",
    "print(3 / 2)\n",
    "\n",
    "# In a terminal session, Python simply returns the result of the operation. Python uses two multiplication symbols to represent exponents:\n",
    "print(3 ** 2)\n",
    "\n",
    "print(3 ** 3)\n",
    "print(10 ** 6)\n",
    "\n",
    "# Python supports the order of operations too, so you can use multiple operations in one expression. You can also use parentheses to modify the order of operations so Python can evaluate your expression in the order you specify. For example:\n",
    "print(2 + 3*4)\n",
    "print((2 + 3) * 4)\n",
    "\n",
    "# The spacing in these examples has no effect on how Python evaluates the expressions; it simply helps you more quickly spot the operations that have priority when you’re reading through the code.\n",
    "\n",
    "# __Floats__\n",
    "\n",
    "# Python calls any number with a decimal point a float. This term is used in most programming languages, and it refers to the fact that a decimal point can appear at any position in a number. Every programming language must be carefully designed to properly manage decimal numbers so numbers behave appropriately, no matter where the decimal point appears.For the most part, you can use floats without worrying about how they behave. Simply enter the numbers you want to use, and Python will most likely do what you expect:\n",
    "\n",
    "print(0.1 + 0.1)\n",
    "\n",
    "print(0.2 + 0.2)\n",
    "\n",
    "print(2 * 0.1)\n",
    "\n",
    "print(2 * 0.2)\n",
    "\n",
    "# However, be aware that you can sometimes get an arbitrary number of decimal places in your answer:\n",
    "\n",
    "print(0.2 + 0.1)\n",
    "\n",
    "print(3 * 0.1)\n",
    "\n",
    "# This happens in all languages and is of little concern. Python tries to find a way to represent the result as precisely as possible, which is sometimes difficult given how computers have to represent numbers internally. Just ignore the extra decimal places for now; you’ll learn ways to deal with the extra places when you need to in the projects in Part II.\n",
    "\n",
    "# __Integers and Floats__\n",
    "\n",
    "# When you divide any two numbers, even if they are integers that result in a whole number, you’ll always get a float:\n",
    "\n",
    "print(4/2)\n",
    "\n",
    "# If you mix an integer and a float in any other operation, you’ll get a float as well:\n",
    "print(1 + 2.0)\n",
    "print(2 * 3.0)\n",
    "\n",
    "print(3.0 ** 2)\n",
    "\n",
    "# Python defaults to a float in any operation that uses a float, even if the output is a whole number.\n",
    "\n",
    "# __Underscores in Numbers__\n",
    "\n",
    "# When you’re writing long numbers, you can group digits using underscores to make large numbers more readable:\n",
    "\n",
    "universe_age = 14_000_000_000\n",
    "\n",
    "# When you print a number that was defined using underscores, Python prints only the digits:\n",
    "\n",
    "print(universe_age)\n",
    "\n",
    "# Python ignores the underscores when storing these kinds of values. Even if you don’t group the digits in threes, the value will still be unaf-fected. To Python, 1000 is the same as 1_000, which is the same as 10_00. This feature works for both integers and floats.\n",
    "\n",
    "# __Multiple Assignment__\n",
    "\n",
    "# You can assign values to more than one variable using just a single line of code. This can help shorten your programs and make them easier to read; you’ll use this technique most often when initializing a set of numbers.For example, here’s how you can initialize the variables x, y, and z to zero:\n",
    "\n",
    "x, y, z = 0, 0, 0\n",
    "\n",
    "# You need to separate the variable names with commas, and do the same with the values, and Python will assign each value to its respective variable. As long as the number of values matches the number of variables, Python will match them up correctly.\n",
    "\n",
    "# __Constants__\n",
    "\n",
    "# A constant is a variable whose value stays the same throughout the life of a program. Python doesn’t have built-in constant types, but Python program-mers use all capital letters to indicate a variable should be treated as a con-stant and never be changed:\n",
    "\n",
    "MAX_CONNECTIONS = 5000\n",
    "\n",
    "# When you want to treat a variable as a constant in your code, write the name of the variable in all capital letters.\n"
   ]
  },
  {
   "cell_type": "markdown",
   "metadata": {},
   "source": [
    "__T R Y   I T   Y O U R S E L F__\n",
    "\n",
    ">2-9. Number Eight: Write addition, subtraction, multiplication, and division operations that each result in the number 8. Be sure to enclose your operations in print() calls to see the results. You should create four lines that look like this:"
   ]
  },
  {
   "cell_type": "code",
   "execution_count": 146,
   "metadata": {},
   "outputs": [
    {
     "name": "stdout",
     "output_type": "stream",
     "text": [
      "8\n"
     ]
    }
   ],
   "source": [
    "print(5+3)"
   ]
  },
  {
   "cell_type": "markdown",
   "metadata": {},
   "source": [
    ">Your output should be four lines, with the number 8 appearing once on each line.\n",
    "\n",
    ">2-10. Favorite Number: Use a variable to represent your favorite number. Then, using that variable, create a message that reveals your favorite number. Print that message.\n"
   ]
  },
  {
   "cell_type": "markdown",
   "metadata": {},
   "source": [
    "__think python Allen Downey__\n",
    "\n",
    "__Variables, expressions and statements__\n",
    "\n",
    ">One of the most powerful features of a programming language is the ability to manipulate variables. A variable is a name that refers to a value.\n",
    "\n",
    "__2.1 Assignment statements__\n",
    "\n",
    ">An assignment statement creates a new variable and gives it a value:"
   ]
  },
  {
   "cell_type": "code",
   "execution_count": 147,
   "metadata": {},
   "outputs": [],
   "source": [
    "\n",
    "message = 'And now for something completely different'\n",
    "n = 17\n",
    "pi = 3.141592653589793"
   ]
  },
  {
   "cell_type": "markdown",
   "metadata": {},
   "source": [
    ">This example makes three assignments. The first assigns a string to a new variable named message; the second gives the integer 17 to n; the third assigns the (approximate) value of π to pi.\n",
    "\n",
    ">A common way to represent variables on paper is to write the name with an arrow pointing to its value. This kind of figure is called a state diagram because it shows what state each of the variables is in (think of it as the variable’s state of mind). Figure 2.1 shows the result of the previous example.\n",
    "\n",
    "__2.2 Variable names__\n",
    "\n",
    ">Programmers generally choose names for their variables that are meaningful—they document what the variable is used for.\n",
    "***\n",
    "message\n",
    "\n",
    "n\n",
    "\n",
    "pi\n",
    "\n",
    "17\n",
    "***"
   ]
  },
  {
   "cell_type": "code",
   "execution_count": 148,
   "metadata": {},
   "outputs": [
    {
     "ename": "SyntaxError",
     "evalue": "invalid syntax (3803549429.py, line 1)",
     "output_type": "error",
     "traceback": [
      "\u001b[1;36m  Cell \u001b[1;32mIn[148], line 1\u001b[1;36m\u001b[0m\n\u001b[1;33m    class = 'Advanced Theoretical Zymurgy'\u001b[0m\n\u001b[1;37m          ^\u001b[0m\n\u001b[1;31mSyntaxError\u001b[0m\u001b[1;31m:\u001b[0m invalid syntax\n"
     ]
    }
   ],
   "source": [
    "class = 'Advanced Theoretical Zymurgy'"
   ]
  },
  {
   "cell_type": "markdown",
   "metadata": {},
   "source": [
    ">76trombones is illegal because it begins with a number. more@ is illegal because it contains an illegal character, @. But what’s wrong with class?\n",
    ">It turns out that class is one of Python’s keywords. The interpreter uses keywords to recognize the structure of the program, and they cannot be used as variable names.\n",
    "\n",
    ">weeks of your programming career, you might spend a lot of time tracking down syntax errors. As you gain experience, you will make fewer errors and find them faster.\n",
    "\n",
    ">__Runtime error__: The second type of error is a runtime error, so called because the error does not appear until after the program has started running. These errors are also called exceptions because they usually indicate that something exceptional (and bad) has happened.\n",
    "\n",
    ">__Runtime errors__ are rare in the simple programs you will see in the first few chapters, so it might be a while before you encounter one.\n",
    "\n",
    ">__Semantic error__: The third type of error is “semantic”, which means related to meaning. \n",
    "\n",
    ">If there is a semantic error in your program, it will run without generating error messages, but it will not do the right thing. It will do something else. Specifically, it will do what you told it to do.\n",
    "\n",
    ">Identifying semantic errors can be tricky because it requires you to work backward by looking at the output of the program and trying to figure out what it is doing.\n",
    "\n",
    "__2.9 Glossary__\n",
    "\n",
    ">__variable:__ A name that refers to a value.\n",
    "\n",
    ">__assignment:__ A statement that assigns a value to a variable.\n",
    "\n",
    ">__state diagram:__ A graphical representation of a set of variables and the values they refer to.\n",
    "\n",
    ">__keyword:__ A reserved word that is used to parse a program; you cannot use keywords likeif, def, and while as variable names.\n",
    "\n",
    ">__operand:__ One of the values on which an operator operates. \n",
    "\n",
    ">__expression:__ A combination of variables, operators, and values that represents a single result.\n",
    "\n",
    ">__evaluate:__ To simplify an expression by performing the operations in order to yield a single value. \n",
    "\n",
    ">__statement:__ A section of code that represents a command or action. So far, the statements we have seen are assignments and print statements.\n",
    "\n",
    ">__execute:__ To run a statement and do what it says.\n",
    "\n",
    ">__interactive mode:__ A way of using the Python interpreter by typing code at the prompt.\n",
    "\n",
    ">__script mode:__ A way of using the Python interpreter to read code from a script and run it.\n",
    "\n",
    ">__script:__ A program stored in a file.\n",
    "\n",
    ">__order of operations:__ Rules governing the order in which expressions involving multiple operators and operands are evaluated.\n",
    "\n",
    ">__concatenate:__ To join two operands end-to-end.\n",
    "\n",
    ">__comment:__ Information in a program that is meant for other programmers (or anyone reading the source code) and has no effect on the execution of the program.\n",
    "\n",
    ">__syntax error:__ An error in a program that makes it impossible to parse (and therefore impossible to interpret).\n",
    "\n",
    ">__exception:__ An error that is detected while the program is running.\n",
    "\n",
    ">__semantics:__ The meaning of a program.\n",
    "\n",
    ">__semantic error:__ An error in a program that makes it do something other than what the programmer intended.\n",
    "\n",
    "__2.10 Exercises__\n",
    "\n",
    ">Exercise 2.1. Repeating my advice from the previous chapter, whenever you learn a new feature, you should try it out in interactive mode and make errors on purpose to see what goes wrong.\n",
    "\n",
    ">We’ve seen that n = 42 is legal. What about 42 = n? \n",
    "\n",
    ">How about x = y = 1?\n",
    "\n",
    ">In some languages every statement ends with a semi-colon, ;. What happens if you put a semi-colon at the end of a Python statement?\n",
    "\n",
    ">What if you put a period at the end of a statement?\n",
    ">In math notation you can multiply x and y like this: xy. What happens if you try that in\n",
    "\n",
    ">Exercise 2.2. Practice using the Python interpreter as a calculator:\n",
    " \n",
    ">1. The volume of a sphere with radius r is 4 3 πr 3\n",
    "\n",
    ">What is the volume of a sphere with radius 5?\n",
    "\n",
    ">2. Suppose the cover price of a book is $24.95, but bookstores get a 40% discount. Shipping costs $3 for the first copy and 75 cents for each additional copy. What is the total wholesale cost for 60 copies?\n",
    "\n",
    ">3. If I leave my house at 6:52 am and run 1 mile at an easy pace (8:15 per mile), then 3 miles at tempo (7:12 per mile) and 1 mile at easy pace again, what time do I get home for breakfast?"
   ]
  },
  {
   "cell_type": "code",
   "execution_count": 2,
   "metadata": {},
   "outputs": [
    {
     "name": "stdout",
     "output_type": "stream",
     "text": [
      "welcome Mr Adamu Labaran\n"
     ]
    }
   ],
   "source": [
    "name = input(\"Please enter your name:\")\n",
    "print(f\"welcome Mr {name.title()}\")"
   ]
  },
  {
   "cell_type": "code",
   "execution_count": null,
   "metadata": {},
   "outputs": [],
   "source": []
  }
 ],
 "metadata": {
  "kernelspec": {
   "display_name": "base",
   "language": "python",
   "name": "python3"
  },
  "language_info": {
   "codemirror_mode": {
    "name": "ipython",
    "version": 3
   },
   "file_extension": ".py",
   "mimetype": "text/x-python",
   "name": "python",
   "nbconvert_exporter": "python",
   "pygments_lexer": "ipython3",
   "version": "3.12.7"
  }
 },
 "nbformat": 4,
 "nbformat_minor": 2
}
