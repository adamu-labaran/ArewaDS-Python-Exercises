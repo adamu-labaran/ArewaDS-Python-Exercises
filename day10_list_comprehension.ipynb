{
 "cells": [
  {
   "cell_type": "markdown",
   "metadata": {},
   "source": [
    "[technical analysis](https://www.udemy.com/share/1040rs3@Yby9z3h5IcEvPuxWTMNwL4oxobhOyfYV0M_POAQPVVWfbb5ZCodwWYduoH1MXOZ3nQ==/)"
   ]
  },
  {
   "cell_type": "markdown",
   "metadata": {},
   "source": []
  }
 ],
 "metadata": {
  "kernelspec": {
   "display_name": "base",
   "language": "python",
   "name": "python3"
  },
  "language_info": {
   "name": "python",
   "version": "3.12.7"
  }
 },
 "nbformat": 4,
 "nbformat_minor": 2
}
