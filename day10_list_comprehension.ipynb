{
 "cells": [
  {
   "cell_type": "markdown",
   "metadata": {},
   "source": [
    "[technical analysis](https://www.udemy.com/share/1040rs3@Yby9z3h5IcEvPuxWTMNwL4oxobhOyfYV0M_POAQPVVWfbb5ZCodwWYduoH1MXOZ3nQ==/)"
   ]
  },
  {
   "cell_type": "markdown",
   "metadata": {},
   "source": []
  },
  {
   "cell_type": "markdown",
   "metadata": {},
   "source": [
    ">##### __new_list = [expression for item in iterable if condition]__\n",
    "\n",
    ">_expression_ → The operation or transformation applied to each item.\n",
    "\n",
    ">_item_ → Each element from the iterable.\n",
    "\n",
    ">_iterable_ → A sequence (like a list, tuple, string, range, etc.).\n",
    "\n",
    ">_condition_ (optional) → A filtering condition that determines whether an item should be included."
   ]
  },
  {
   "cell_type": "markdown",
   "metadata": {},
   "source": [
    ">##### __Creating a List Using List Comprehension__"
   ]
  },
  {
   "cell_type": "code",
   "execution_count": 1,
   "metadata": {},
   "outputs": [
    {
     "name": "stdout",
     "output_type": "stream",
     "text": [
      "[0, 1, 2, 3, 4]\n"
     ]
    }
   ],
   "source": [
    "numbers = [x for x in range(5)]\n",
    "print(numbers)  # Output: [0, 1, 2, 3, 4]"
   ]
  },
  {
   "cell_type": "code",
   "execution_count": 2,
   "metadata": {},
   "outputs": [
    {
     "data": {
      "text/plain": [
       "[0, 1, 2, 3, 4]"
      ]
     },
     "execution_count": 2,
     "metadata": {},
     "output_type": "execute_result"
    }
   ],
   "source": [
    "numbers"
   ]
  },
  {
   "cell_type": "markdown",
   "metadata": {},
   "source": [
    ">##### __Applying an Operation__"
   ]
  },
  {
   "cell_type": "code",
   "execution_count": 3,
   "metadata": {},
   "outputs": [
    {
     "name": "stdout",
     "output_type": "stream",
     "text": [
      "[0, 1, 4, 9, 16]\n"
     ]
    }
   ],
   "source": [
    "squares = [x**2 for x in range(5)]\n",
    "print(squares)  # Output: [0, 1, 4, 9, 16]"
   ]
  },
  {
   "cell_type": "markdown",
   "metadata": {},
   "source": [
    ">##### __Filtering with a Condition__"
   ]
  },
  {
   "cell_type": "code",
   "execution_count": 4,
   "metadata": {},
   "outputs": [
    {
     "name": "stdout",
     "output_type": "stream",
     "text": [
      "[0, 2, 4, 6, 8]\n"
     ]
    }
   ],
   "source": [
    "even_numbers = [x for x in range(10) if x % 2 == 0]\n",
    "print(even_numbers)  # Output: [0, 2, 4, 6, 8]"
   ]
  },
  {
   "cell_type": "markdown",
   "metadata": {},
   "source": [
    ">##### __Transforming Strings__"
   ]
  },
  {
   "cell_type": "code",
   "execution_count": 5,
   "metadata": {},
   "outputs": [
    {
     "name": "stdout",
     "output_type": "stream",
     "text": [
      "['HELLO', 'WORLD', 'PYTHON']\n"
     ]
    }
   ],
   "source": [
    "words = [\"hello\", \"world\", \"python\"]\n",
    "uppercase_words = [word.upper() for word in words]\n",
    "print(uppercase_words)  # Output: ['HELLO', 'WORLD', 'PYTHON']"
   ]
  },
  {
   "cell_type": "markdown",
   "metadata": {},
   "source": [
    ">##### __Advanced List Comprehension__\n",
    "\n",
    ">Using if-else Inside List Comprehension"
   ]
  },
  {
   "cell_type": "code",
   "execution_count": 6,
   "metadata": {},
   "outputs": [
    {
     "name": "stdout",
     "output_type": "stream",
     "text": [
      "['Even', 'Odd', 'Even', 'Odd', 'Even']\n"
     ]
    }
   ],
   "source": [
    "odd_even = [\"Even\" if x % 2 == 0 else \"Odd\" for x in range(5)]\n",
    "print(odd_even)  # Output: ['Even', 'Odd', 'Even', 'Odd', 'Even']"
   ]
  },
  {
   "cell_type": "markdown",
   "metadata": {},
   "source": [
    ">##### __Nested List Comprehension__"
   ]
  },
  {
   "cell_type": "code",
   "execution_count": 8,
   "metadata": {},
   "outputs": [
    {
     "name": "stdout",
     "output_type": "stream",
     "text": [
      "[[0, 1, 2], [0, 1, 2], [0, 1, 2]]\n"
     ]
    }
   ],
   "source": [
    "matrix = [[x for x in range(3)] for y in range(3)]\n",
    "print(matrix)"
   ]
  },
  {
   "cell_type": "markdown",
   "metadata": {},
   "source": [
    ">##### __Flattening a Nested List__"
   ]
  },
  {
   "cell_type": "code",
   "execution_count": 10,
   "metadata": {},
   "outputs": [
    {
     "name": "stdout",
     "output_type": "stream",
     "text": [
      "[1, 2, 3, 4, 5, 6, 7, 8, 9]\n"
     ]
    }
   ],
   "source": [
    "nested_list = [[1, 2, 3], [4, 5, 6], [7, 8, 9]]\n",
    "flat_list = [num for sublist in nested_list for num in sublist]\n",
    "print(flat_list)  # Output: [1, 2, 3, 4, 5, 6, 7, 8, 9]"
   ]
  },
  {
   "cell_type": "code",
   "execution_count": null,
   "metadata": {},
   "outputs": [],
   "source": [
    "# List Comprehension with Functions\n",
    "# Applying a Function\n",
    "def square(n):\n",
    "    return n * n\n",
    "\n",
    "squared_numbers = [square(x) for x in range(5)]\n",
    "print(squared_numbers)  # Output: [0, 1, 4, 9, 16]"
   ]
  },
  {
   "cell_type": "code",
   "execution_count": null,
   "metadata": {},
   "outputs": [],
   "source": [
    "# Using lambda Function\n",
    "double_numbers = [(lambda x: x * 2)(x) for x in range(5)]\n",
    "print(double_numbers)  # Output: [0, 2, 4, 6, 8]"
   ]
  },
  {
   "cell_type": "code",
   "execution_count": null,
   "metadata": {},
   "outputs": [],
   "source": [
    "# List Comprehension vs Traditional Loop\n",
    "squares = []\n",
    "for x in range(5):\n",
    "    squares.append(x ** 2)\n",
    "print(squares)  # Output: [0, 1, 4, 9, 16]"
   ]
  },
  {
   "cell_type": "code",
   "execution_count": null,
   "metadata": {},
   "outputs": [],
   "source": [
    "# Using List Comprehension\n",
    "squares = [x**2 for x in range(5)]\n",
    "print(squares)  # Output: [0, 1, 4, 9, 16]"
   ]
  },
  {
   "cell_type": "markdown",
   "metadata": {},
   "source": [
    "List Comprehension with Multiple Conditions\n",
    "\n",
    "Filtering with Multiple Conditions"
   ]
  },
  {
   "cell_type": "code",
   "execution_count": null,
   "metadata": {},
   "outputs": [],
   "source": [
    "divisible_by_3_and_5 = [x for x in range(50) if x % 3 == 0 and x % 5 == 0]\n",
    "print(divisible_by_3_and_5)  # Output: [0, 15, 30, 45]"
   ]
  },
  {
   "cell_type": "code",
   "execution_count": null,
   "metadata": {},
   "outputs": [],
   "source": [
    "# Using List Comprehension with Other Data Structures\n",
    "# Creating a Dictionary with Comprehension\n",
    "\n",
    "squares_dict = {x: x**2 for x in range(5)}\n",
    "print(squares_dict)  # Output: {0: 0, 1: 1, 2: 4, 3: 9, 4: 16}"
   ]
  },
  {
   "cell_type": "code",
   "execution_count": null,
   "metadata": {},
   "outputs": [],
   "source": [
    "# Creating a Set with Comprehension\n",
    "unique_squares = {x**2 for x in [1, 2, 2, 3, 3, 4]}\n",
    "print(unique_squares)  # Output: {1, 4, 9, 16}"
   ]
  },
  {
   "cell_type": "code",
   "execution_count": null,
   "metadata": {},
   "outputs": [],
   "source": [
    "# Using Tuple Comprehension (Generator Expression)\n",
    "tuple_gen = (x**2 for x in range(5))\n",
    "print(tuple(tuple_gen))  # Output: (0, 1, 4, 9, 16)"
   ]
  },
  {
   "cell_type": "code",
   "execution_count": null,
   "metadata": {},
   "outputs": [],
   "source": [
    "# Performance Comparison\n",
    "# List comprehension is generally faster than using loops because it is optimized in Python’s internal implementation.\n",
    "\n",
    "# Performance Test\n",
    "import time\n",
    "\n",
    "# Using Loop\n",
    "start = time.time()\n",
    "squares = []\n",
    "for x in range(1000000):\n",
    "    squares.append(x**2)\n",
    "end = time.time()\n",
    "print(\"Loop time:\", end - start)"
   ]
  },
  {
   "cell_type": "code",
   "execution_count": null,
   "metadata": {},
   "outputs": [],
   "source": [
    "# Using List Comprehension\n",
    "start = time.time()\n",
    "squares = [x**2 for x in range(1000000)]\n",
    "end = time.time()\n",
    "print(\"List Comprehension time:\", end - start)"
   ]
  },
  {
   "cell_type": "markdown",
   "metadata": {},
   "source": [
    "When Not to Use List Comprehension\n",
    "When the logic is too complex (prefer using a loop for readability).\n",
    "When you need extensive debugging (loops provide better clarity).\n",
    "When memory usage is a concern (list comprehension creates a new list, whereas generators do not).\n",
    "Key Takeaways\n",
    "✅ More readable and concise than traditional loops.\n",
    "✅ Faster execution due to internal optimizations.\n",
    "✅ Can replace map(), filter(), and lambda functions for simple cases.\n",
    "✅ Supports conditions (if-else) and nested loops.\n",
    "⚠️ Avoid overusing it in complex scenarios to maintain readability.\n",
    "Would you like additional examples or real-world applications? 🚀\n"
   ]
  },
  {
   "cell_type": "markdown",
   "metadata": {},
   "source": [
    "# Real-World Applications of List Comprehension in Python\n",
    "\n",
    "# List comprehension isn't just for small scripts—it has real-world applications in data processing, machine learning, web scraping, automation, and more. Let's explore some practical use cases.\n",
    "\n",
    "# Data Processing & Cleaning"
   ]
  },
  {
   "cell_type": "code",
   "execution_count": null,
   "metadata": {},
   "outputs": [],
   "source": [
    "# Removing Punctuation from a String\n",
    "import string\n",
    "\n",
    "text = \"Hello, World! How's everything?\"\n",
    "clean_text = ''.join([char for char in text if char not in string.punctuation])\n",
    "print(clean_text)  \n",
    "# Output: \"Hello World Hows everything\""
   ]
  },
  {
   "cell_type": "code",
   "execution_count": 11,
   "metadata": {},
   "outputs": [
    {
     "name": "stdout",
     "output_type": "stream",
     "text": [
      "[0, 2, 4, 6, 8, 10, 12, 14, 16, 18, 20, 22, 24, 26, 28, 30, 32, 34, 36, 38, 40, 42, 44, 46, 48, 50, 52, 54, 56, 58, 60, 62, 64, 66, 68, 70, 72, 74, 76, 78, 80, 82, 84, 86, 88, 90, 92, 94, 96, 98]\n"
     ]
    }
   ],
   "source": [
    "# ✅ Use Case: This is useful in natural language processing (NLP) where you need clean text input.\n",
    "\n",
    "# Filtering Data from a Dataset\n",
    "# Extracting Even Numbers from a Large List\n",
    "\n",
    "numbers = list(range(100))\n",
    "even_numbers = [num for num in numbers if num % 2 == 0]\n",
    "print(even_numbers)  # Output: [0, 2, 4, ..., 98]"
   ]
  },
  {
   "cell_type": "markdown",
   "metadata": {},
   "source": [
    "\n",
    "✅ Use Case: Helpful in data analysis and pre-processing before applying machine learning algorithms.\n",
    "\n",
    "3. Web Scraping\n",
    "Example: Extracting Only Links from a Webpage\n",
    "python\n",
    "Copy\n",
    "Edit\n",
    "from bs4 import BeautifulSoup\n",
    "import requests\n",
    "\n",
    "url = \"https://example.com\"\n",
    "response = requests.get(url)\n",
    "soup = BeautifulSoup(response.text, 'html.parser')\n",
    "\n",
    "links = [a['href'] for a in soup.find_all('a', href=True)]\n",
    "print(links)\n",
    "✅ Use Case: This is useful in web scraping to gather URLs from a webpage.\n",
    "\n",
    "4. File Handling & Filtering\n",
    "Example: Reading a File and Extracting Specific Words\n",
    "python\n",
    "Copy\n",
    "Edit\n",
    "with open(\"data.txt\", \"r\") as file:\n",
    "    words = [line.strip() for line in file if \"Python\" in line]\n",
    "print(words)\n",
    "✅ Use Case: Helps in log file analysis, keyword search, or filtering lines in a text file.\n",
    "\n",
    "5. Machine Learning & Data Science\n",
    "Example: Normalizing Data in a Dataset\n",
    "python\n",
    "Copy\n",
    "Edit\n",
    "data = [10, 20, 30, 40, 50]\n",
    "normalized_data = [(x - min(data)) / (max(data) - min(data)) for x in data]\n",
    "print(normalized_data)\n",
    "# Output: [0.0, 0.25, 0.5, 0.75, 1.0]\n",
    "✅ Use Case: Normalization is an essential step in feature scaling for machine learning models.\n",
    "\n",
    "6. Image Processing with OpenCV\n",
    "Example: Extracting Pixel Values from an Image\n",
    "python\n",
    "Copy\n",
    "Edit\n",
    "import cv2\n",
    "\n",
    "image = cv2.imread(\"image.jpg\", cv2.IMREAD_GRAYSCALE)\n",
    "pixel_values = [pixel for row in image for pixel in row]  # Flatten the image into a list\n",
    "print(pixel_values[:10])  # Print first 10 pixel values\n",
    "✅ Use Case: Helps in image analysis, computer vision, and AI-based image processing.\n",
    "\n",
    "7. API Data Handling\n",
    "Example: Filtering JSON Data from an API Response\n",
    "python\n",
    "Copy\n",
    "Edit\n",
    "import requests\n",
    "\n",
    "response = requests.get(\"https://jsonplaceholder.typicode.com/posts\")\n",
    "data = response.json()\n",
    "\n",
    "titles = [post['title'] for post in data if post['userId'] == 1]\n",
    "print(titles)  # Extracts titles of posts by user ID 1\n",
    "✅ Use Case: Helps in extracting relevant data from API responses.\n",
    "\n",
    "8. Generating Test Data\n",
    "Example: Creating Fake Usernames\n",
    "python\n",
    "Copy\n",
    "Edit\n",
    "usernames = [f\"user_{i}\" for i in range(1, 11)]\n",
    "print(usernames)  \n",
    "# Output: ['user_1', 'user_2', 'user_3', ..., 'user_10']\n",
    "✅ Use Case: Useful for testing databases or user authentication systems.\n",
    "\n",
    "9. Cryptography & Security\n",
    "Example: Encoding Text into ASCII Values\n",
    "python\n",
    "Copy\n",
    "Edit\n",
    "message = \"Hello\"\n",
    "ascii_values = [ord(char) for char in message]\n",
    "print(ascii_values)  # Output: [72, 101, 108, 108, 111]\n",
    "✅ Use Case: Useful in encryption and data encoding techniques.\n",
    "\n",
    "10. Generating Combinations (Cartesian Product)\n",
    "Example: Creating a Multiplication Table\n",
    "python\n",
    "Copy\n",
    "Edit\n",
    "table = [(x, y, x * y) for x in range(1, 6) for y in range(1, 6)]\n",
    "print(table[:5])  \n",
    "# Output: [(1, 1, 1), (1, 2, 2), (1, 3, 3), (1, 4, 4), (1, 5, 5)]\n",
    "✅ Use Case: Helps in mathematical computations and simulations.\n",
    "\n",
    "11. Password Generator\n",
    "python\n",
    "Copy\n",
    "Edit\n",
    "import random\n",
    "import string\n",
    "\n",
    "password = ''.join([random.choice(string.ascii_letters + string.digits) for _ in range(12)])\n",
    "print(password)  # Example Output: 'aB3dE7gH1K9L'\n",
    "✅ Use Case: Helps in generating secure passwords dynamically.\n",
    "\n",
    "12. Data Compression (Run-Length Encoding)\n",
    "python\n",
    "Copy\n",
    "Edit\n",
    "data = \"AAABBBCCDAA\"\n",
    "compressed = [(char, data.count(char)) for char in set(data)]\n",
    "print(compressed)  \n",
    "# Output: [('A', 4), ('B', 3), ('C', 2), ('D', 1)]\n",
    "✅ Use Case: Useful in text compression and encoding.\n",
    "\n",
    "13. Handling Missing Data in a Dataset\n",
    "python\n",
    "Copy\n",
    "Edit\n",
    "dataset = [10, None, 20, 30, None, 40]\n",
    "cleaned_data = [x if x is not None else 0 for x in dataset]\n",
    "print(cleaned_data)  \n",
    "# Output: [10, 0, 20, 30, 0, 40]\n",
    "✅ Use Case: Useful in data cleaning before analysis or model training.\n",
    "\n",
    "14. Reversing a String Using List Comprehension\n",
    "python\n",
    "Copy\n",
    "Edit\n",
    "text = \"Python\"\n",
    "reversed_text = ''.join([text[i] for i in range(len(text)-1, -1, -1)])\n",
    "print(reversed_text)  # Output: \"nohtyP\"\n",
    "✅ Use Case: Helpful in text processing or palindrome checks.\n",
    "\n",
    "15. Extracting Sentences that Contain a Keyword\n",
    "python\n",
    "Copy\n",
    "Edit\n",
    "sentences = [\"I love Python.\", \"Java is great.\", \"Python is fun.\", \"C++ is powerful.\"]\n",
    "python_sentences = [s for s in sentences if \"Python\" in s]\n",
    "print(python_sentences)  \n",
    "# Output: [\"I love Python.\", \"Python is fun.\"]\n",
    "✅ Use Case: Used in text analysis, chatbot responses, and search engines.\n",
    "\n",
    "Final Thoughts\n",
    "List comprehension is a powerful tool for efficient data handling, automation, and problem-solving. By using it wisely, you can speed up performance, reduce code complexity, and make your Python scripts more elegant. 🚀"
   ]
  },
  {
   "cell_type": "code",
   "execution_count": null,
   "metadata": {},
   "outputs": [],
   "source": []
  },
  {
   "cell_type": "code",
   "execution_count": null,
   "metadata": {},
   "outputs": [],
   "source": []
  }
 ],
 "metadata": {
  "kernelspec": {
   "display_name": "base",
   "language": "python",
   "name": "python3"
  },
  "language_info": {
   "codemirror_mode": {
    "name": "ipython",
    "version": 3
   },
   "file_extension": ".py",
   "mimetype": "text/x-python",
   "name": "python",
   "nbconvert_exporter": "python",
   "pygments_lexer": "ipython3",
   "version": "3.12.7"
  }
 },
 "nbformat": 4,
 "nbformat_minor": 2
}
