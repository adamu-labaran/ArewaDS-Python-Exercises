{
 "cells": [
  {
   "cell_type": "markdown",
   "metadata": {},
   "source": [
    "[technical analysis](https://www.udemy.com/share/1040rs3@Yby9z3h5IcEvPuxWTMNwL4oxobhOyfYV0M_POAQPVVWfbb5ZCodwWYduoH1MXOZ3nQ==/)"
   ]
  },
  {
   "cell_type": "markdown",
   "metadata": {},
   "source": []
  },
  {
   "cell_type": "markdown",
   "metadata": {},
   "source": [
    ">##### __new_list = [expression for item in iterable if condition]__\n",
    "\n",
    ">_expression_ → The operation or transformation applied to each item.\n",
    "\n",
    ">_item_ → Each element from the iterable.\n",
    "\n",
    ">_iterable_ → A sequence (like a list, tuple, string, range, etc.).\n",
    "\n",
    ">_condition_ (optional) → A filtering condition that determines whether an item should be included."
   ]
  },
  {
   "cell_type": "markdown",
   "metadata": {},
   "source": [
    ">##### __Creating a List Using List Comprehension__"
   ]
  },
  {
   "cell_type": "code",
   "execution_count": 1,
   "metadata": {},
   "outputs": [
    {
     "name": "stdout",
     "output_type": "stream",
     "text": [
      "[0, 1, 2, 3, 4]\n"
     ]
    }
   ],
   "source": [
    "numbers = [x for x in range(5)]\n",
    "print(numbers)  # Output: [0, 1, 2, 3, 4]"
   ]
  },
  {
   "cell_type": "code",
   "execution_count": 2,
   "metadata": {},
   "outputs": [
    {
     "data": {
      "text/plain": [
       "[0, 1, 2, 3, 4]"
      ]
     },
     "execution_count": 2,
     "metadata": {},
     "output_type": "execute_result"
    }
   ],
   "source": [
    "numbers"
   ]
  },
  {
   "cell_type": "code",
   "execution_count": null,
   "metadata": {},
   "outputs": [],
   "source": []
  }
 ],
 "metadata": {
  "kernelspec": {
   "display_name": "base",
   "language": "python",
   "name": "python3"
  },
  "language_info": {
   "codemirror_mode": {
    "name": "ipython",
    "version": 3
   },
   "file_extension": ".py",
   "mimetype": "text/x-python",
   "name": "python",
   "nbconvert_exporter": "python",
   "pygments_lexer": "ipython3",
   "version": "3.12.7"
  }
 },
 "nbformat": 4,
 "nbformat_minor": 2
}
