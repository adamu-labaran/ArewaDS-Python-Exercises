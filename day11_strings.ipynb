{
 "cells": [
  {
   "cell_type": "markdown",
   "metadata": {},
   "source": [
    "__Think python by Allen Downey__\n",
    "***\n",
    "Strings\n",
    "Strings are not like integers, floats, and booleans. A string is a sequence, which means it is\n",
    "an ordered collection of other values. In this chapter you’ll see how to access the characters\n",
    "that make up a string, and you’ll learn about some of the methods strings provide.\n",
    "8.1 A string is a sequence\n",
    "A string is a sequence of characters. You can access the characters one at a time with the\n",
    "bracket operator:\n",
    ">>> fruit = 'banana'\n",
    ">>> letter = fruit[1]\n",
    "The second statement selects character number 1 from fruit and assigns it to letter.\n",
    "The expression in brackets is called an index. The index indicates which character in the\n",
    "sequence you want (hence the name).\n",
    "But you might not get what you expect:\n",
    ">>> letter\n",
    "'a'\n",
    "For most people, the first letter of 'banana' is b, not a. But for computer scientists, the\n",
    "index is an offset from the beginning of the string, and the offset of the first letter is zero.\n",
    ">>> letter = fruit[0]\n",
    ">>> letter\n",
    "'b'\n",
    "So b is the 0th letter (“zero-eth”) of 'banana', a is the 1th letter (“one-eth”), and n is the 2th\n",
    "letter (“two-eth”).\n",
    "As an index you can use an expression that contains variables and operators:\n",
    ">>> i = 1\n",
    ">>> fruit[i]\n",
    "'a'\n",
    ">>> fruit[i+1]\n",
    "'n'\n",
    "72 Chapter 8. Strings\n",
    "But the value of the index has to be an integer. Otherwise you get:\n",
    ">>> letter = fruit[1.5]\n",
    "TypeError: string indices must be integers\n",
    "\n"
   ]
  },
  {
   "cell_type": "code",
   "execution_count": null,
   "metadata": {},
   "outputs": [],
   "source": [
    "f_name = \"adamu\"\n",
    "\n",
    "l_name = \"labaran\"\n",
    "\n",
    "msg = f\"hello, {f_name}.tittle() {l_name}.tittle()\"\n",
    "\n",
    "msg"
   ]
  },
  {
   "cell_type": "code",
   "execution_count": null,
   "metadata": {},
   "outputs": [
    {
     "name": "stdout",
     "output_type": "stream",
     "text": [
      "hello, Adamu Labaran!\n"
     ]
    }
   ],
   "source": [
    "f_name = \"adamu\"\n",
    "\n",
    "l_name = \"labaran\"\n",
    "\n",
    "full_name = f\"{f_name} {l_name}\"\n",
    "msg = f\"hello, {full_name.title()}!\"\n",
    "\n",
    "print(msg)\n"
   ]
  },
  {
   "cell_type": "code",
   "execution_count": null,
   "metadata": {},
   "outputs": [
    {
     "name": "stdout",
     "output_type": "stream",
     "text": [
      "\tAdamu\tadamu\n"
     ]
    }
   ],
   "source": [
    "# working with  tap \\t\n",
    "print(\"\\tAdamu\"\"\\tadamu\")\n"
   ]
  },
  {
   "cell_type": "code",
   "execution_count": null,
   "metadata": {},
   "outputs": [
    {
     "name": "stdout",
     "output_type": "stream",
     "text": [
      "my favorite Languages: \n",
      "\tpython\n",
      "\tJavaScript\n",
      "\tC\n",
      "\tJava\n"
     ]
    }
   ],
   "source": [
    "print(\"my favorite Languages: \\n\\tpython\\n\\tJavaScript\\n\\tC\\n\\tJava\")\n"
   ]
  },
  {
   "cell_type": "code",
   "execution_count": null,
   "metadata": {},
   "outputs": [
    {
     "name": "stdout",
     "output_type": "stream",
     "text": [
      "8\n",
      "python  \n",
      "8\n",
      "python  \n"
     ]
    },
    {
     "data": {
      "text/plain": [
       "'python'"
      ]
     },
     "metadata": {},
     "output_type": "display_data"
    }
   ],
   "source": [
    "# working with whitespace using rstripe\n",
    "\n",
    "fav_lang = \"python  \"\n",
    "print(len(fav_lang))\n",
    "print(fav_lang)\n",
    "\n",
    "\n",
    "fav_lang.rstrip()\n",
    "print(len(fav_lang))\n",
    "print(fav_lang)\n",
    "\n",
    "fav_lang.rstrip()"
   ]
  },
  {
   "cell_type": "code",
   "execution_count": null,
   "metadata": {},
   "outputs": [
    {
     "data": {
      "text/plain": [
       "'python'"
      ]
     },
     "metadata": {},
     "output_type": "display_data"
    }
   ],
   "source": [
    "\"\"\"\n",
    "when rstrip act on fav_lang it temporarily remove the white space.\n",
    "\n",
    "However, to permanently delete the white space, the rstripe value should be associated with vaariable name\n",
    "\"\"\"\n",
    "\n",
    "fav_lang = fav_lang.rstrip()\n",
    "fav_lang"
   ]
  },
  {
   "cell_type": "code",
   "execution_count": null,
   "metadata": {},
   "outputs": [
    {
     "data": {
      "text/plain": [
       "'github.com'"
      ]
     },
     "metadata": {},
     "output_type": "display_data"
    }
   ],
   "source": [
    "\"\"\"  \n",
    "removing prefix using removeprefix() method:\n",
    "\n",
    "such that when trying to remove the https:// and focuse on the url that the users needed\n",
    "\"\"\"\n",
    "github = \"https://github.com\"\n",
    "github = github.removeprefix(\"https://\")\n",
    "github"
   ]
  },
  {
   "cell_type": "code",
   "execution_count": null,
   "metadata": {},
   "outputs": [
    {
     "name": "stdout",
     "output_type": "stream",
     "text": [
      "Hello adamu labaran, would you like to learn Python today\n",
      "Hello ADAMU LABARAN\n",
      "Hello adamu labaran\n",
      "Hello Adamu Labaran\n",
      "Albert Einstein once said, \"A person who never made a mistke never tried anything new\n"
     ]
    }
   ],
   "source": [
    "# excercise 1\n",
    "name = \"adamu labaran\"\n",
    "print(f\"Hello {name}, would you like to learn Python today\")\n",
    "\n",
    "# excercise 2\n",
    "print(f\"Hello {name.upper()}\")\n",
    "print(f\"Hello {name.lower()}\")\n",
    "print(f\"Hello {name.title()}\")\n",
    "\n",
    "# excercise 3\n",
    "quote = 'Albert Einstein once said, \"A person who never made a mistke never tried anything new'\n",
    "print(quote)"
   ]
  },
  {
   "cell_type": "code",
   "execution_count": null,
   "metadata": {},
   "outputs": [
    {
     "name": "stdout",
     "output_type": "stream",
     "text": [
      "Avoiding mistake is same as being \"fixed mindset\" Albert Einstein once said, \"A person who never made a mistke never tried anything new\n"
     ]
    }
   ],
   "source": [
    "# excercise 4\n",
    "famous_person = 'Albert Einstein once said, \"A person who never made a mistke never tried anything new'\n",
    "msg = f'Avoiding mistake is same as being \"fixed mindset\" {famous_person}'\n",
    "print(msg)\n",
    "\n"
   ]
  },
  {
   "cell_type": "code",
   "execution_count": null,
   "metadata": {},
   "outputs": [
    {
     "name": "stdout",
     "output_type": "stream",
     "text": [
      "my name is: adamu labaran\n",
      "names:\n",
      "\tAdamu\tLabaran\n",
      "\tIsmail\tLabaran\n",
      "\tIdris\tMikail\n",
      "\n",
      "ADAMU LABARAN\n",
      "\n"
     ]
    },
    {
     "data": {
      "text/plain": [
       "'adamu labaran    '"
      ]
     },
     "metadata": {},
     "output_type": "display_data"
    }
   ],
   "source": [
    "# excercise 5\n",
    "name = \" adamu labaran    \"\n",
    "print(f\"my name is:{name.rstrip()}\")\n",
    "print(\"names:\\n\\tAdamu\\tLabaran\\n\\tIsmail\\tLabaran\\n\\tIdris\\tMikail\")\n",
    "\n",
    "print()\n",
    "print(name.strip().upper())\n",
    "\n",
    "name.lstrip()\n"
   ]
  },
  {
   "cell_type": "code",
   "execution_count": null,
   "metadata": {},
   "outputs": [
    {
     "data": {
      "text/plain": [
       "'ADAMU LABARAN    '"
      ]
     },
     "metadata": {},
     "output_type": "display_data"
    }
   ],
   "source": [
    "# using lstrip()\n",
    "name.lstrip().upper()"
   ]
  },
  {
   "cell_type": "code",
   "execution_count": null,
   "metadata": {},
   "outputs": [
    {
     "data": {
      "text/plain": [
       "' ADAMU LABARAN'"
      ]
     },
     "metadata": {},
     "output_type": "display_data"
    }
   ],
   "source": [
    "# using rstrip()\n",
    "name.rstrip().upper()"
   ]
  },
  {
   "cell_type": "code",
   "execution_count": null,
   "metadata": {},
   "outputs": [
    {
     "data": {
      "text/plain": [
       "'ADAMU LABARAN'"
      ]
     },
     "metadata": {},
     "output_type": "display_data"
    }
   ],
   "source": [
    "# using strip()\n",
    "name.strip().upper()"
   ]
  },
  {
   "cell_type": "code",
   "execution_count": null,
   "metadata": {},
   "outputs": [],
   "source": []
  },
  {
   "cell_type": "markdown",
   "metadata": {},
   "source": [
    "8.2 len\n",
    "len is a built-in function that returns the number of characters in a string:\n",
    ">>> fruit = 'banana'\n",
    ">>> len(fruit)\n",
    "6\n",
    "To get the last letter of a string, you might be tempted to try something like this:\n",
    ">>> length = len(fruit)\n",
    ">>> last = fruit[length]\n",
    "IndexError: string index out of range\n",
    "The reason for the IndexError is that there is no letter in 'banana' with the index 6. Since\n",
    "we started counting at zero, the six letters are numbered 0 to 5. To get the last character,\n",
    "you have to subtract 1 from length:\n",
    ">>> last = fruit[length-1]\n",
    ">>> last\n",
    "'a'\n",
    "Or you can use negative indices, which count backward from the end of the string. The\n",
    "expression fruit[-1] yields the last letter, fruit[-2] yields the second to last, and so on."
   ]
  },
  {
   "cell_type": "markdown",
   "metadata": {},
   "source": [
    "8.3 Traversal with a for loop\n",
    "A lot of computations involve processing a string one character at a time. Often they start\n",
    "at the beginning, select each character in turn, do something to it, and continue until the\n",
    "end. This pattern of processing is called a traversal. One way to write a traversal is with a\n",
    "while loop:\n",
    "index = 0\n",
    "while index < len(fruit):\n",
    "letter = fruit[index]\n",
    "print(letter)\n",
    "index = index + 1\n",
    "This loop traverses the string and displays each letter on a line by itself. The loop condition\n",
    "is index < len(fruit), so when index is equal to the length of the string, the condition is\n",
    "false, and the body of the loop doesn’t run. The last character accessed is the one with the\n",
    "index len(fruit)-1, which is the last character in the string.\n",
    "As an exercise, write a function that takes a string as an argument and displays the letters\n",
    "backward, one per line.\n",
    "Another way to write a traversal is with a for loop:\n",
    "for letter in fruit:\n",
    "print(letter)\n",
    "8.4. String slices 73\n",
    "fruit b a n n a a ’\n",
    "index 0 1 2 3 4 5 6\n",
    "’\n",
    "Figure 8.1: Slice indices.\n",
    "Each time through the loop, the next character in the string is assigned to the variable\n",
    "letter. The loop continues until no characters are left.\n",
    "The following example shows how to use concatenation (string addition) and a for loop\n",
    "to generate an abecedarian series (that is, in alphabetical order). In Robert McCloskey’s\n",
    "book Make Way for Ducklings, the names of the ducklings are Jack, Kack, Lack, Mack, Nack,\n",
    "Ouack, Pack, and Quack. This loop outputs these names in order:\n",
    "prefixes = 'JKLMNOPQ'\n",
    "suffix = 'ack'\n",
    "for letter in prefixes:\n",
    "print(letter + suffix)\n",
    "The output is:\n",
    "Jack\n",
    "Kack\n",
    "Lack\n",
    "Mack\n",
    "Nack\n",
    "Oack\n",
    "Pack\n",
    "Qack\n",
    "Of course, that’s not quite right because “Ouack” and “Quack” are misspelled. As an\n",
    "exercise, modify the program to fix this error"
   ]
  },
  {
   "cell_type": "markdown",
   "metadata": {},
   "source": [
    "8.4 String slices\n",
    "A segment of a string is called a slice. Selecting a slice is similar to selecting a character:\n",
    ">>> s = 'Monty Python'\n",
    ">>> s[0:5]\n",
    "'Monty'\n",
    ">>> s[6:12]\n",
    "'Python'\n",
    "The operator [n:m] returns the part of the string from the “n-eth” character to the “m-eth”\n",
    "character, including the first but excluding the last. This behavior is counterintuitive, but\n",
    "it might help to imagine the indices pointing between the characters, as in Figure 8.1.\n",
    "If you omit the first index (before the colon), the slice starts at the beginning of the string.\n",
    "If you omit the second index, the slice goes to the end of the string:\n",
    ">>> fruit = 'banana'\n",
    ">>> fruit[:3]\n",
    "74 Chapter 8. Strings\n",
    "'ban'\n",
    ">>> fruit[3:]\n",
    "'ana'\n",
    "If the first index is greater than or equal to the second the result is an empty string, represented by two quotation marks:\n",
    ">>> fruit = 'banana'\n",
    ">>> fruit[3:3]\n",
    "''\n",
    "An empty string contains no characters and has length 0, but other than that, it is the same\n",
    "as any other string.\n",
    "Continuing this example, what do you think fruit[:] means? Try it and see"
   ]
  },
  {
   "cell_type": "markdown",
   "metadata": {},
   "source": [
    "8.5 Strings are immutable\n",
    "It is tempting to use the [] operator on the left side of an assignment, with the intention of\n",
    "changing a character in a string. For example:\n",
    ">>> greeting = 'Hello, world!'\n",
    ">>> greeting[0] = 'J'\n",
    "TypeError: 'str' object does not support item assignment\n",
    "The “object” in this case is the string and the “item” is the character you tried to assign.\n",
    "For now, an object is the same thing as a value, but we will refine that definition later\n",
    "(Section 10.10).\n",
    "The reason for the error is that strings are immutable, which means you can’t change an\n",
    "existing string. The best you can do is create a new string that is a variation on the original:\n",
    ">>> greeting = 'Hello, world!'\n",
    ">>> new_greeting = 'J' + greeting[1:]\n",
    ">>> new_greeting\n",
    "'Jello, world!'\n",
    "This example concatenates a new first letter onto a slice of greeting. It has no effect on the\n",
    "original string"
   ]
  },
  {
   "cell_type": "markdown",
   "metadata": {},
   "source": [
    "8.6 Searching\n",
    "What does the following function do?\n",
    "def find(word, letter):\n",
    "index = 0\n",
    "while index < len(word):\n",
    "if word[index] == letter:\n",
    "return index\n",
    "index = index + 1\n",
    "return -1\n",
    "8.7. Looping and counting 75\n",
    "In a sense, find is the inverse of the [] operator. Instead of taking an index and extracting\n",
    "the corresponding character, it takes a character and finds the index where that character\n",
    "appears. If the character is not found, the function returns -1.\n",
    "This is the first example we have seen of a return statement inside a loop. If word[index]\n",
    "== letter, the function breaks out of the loop and returns immediately.\n",
    "If the character doesn’t appear in the string, the program exits the loop normally and returns -1.\n",
    "This pattern of computation—traversing a sequence and returning when we find what we\n",
    "are looking for—is called a search.\n",
    "As an exercise, modify find so that it has a third parameter, the index in word where it\n",
    "should start looking"
   ]
  },
  {
   "cell_type": "markdown",
   "metadata": {},
   "source": [
    "8.7 Looping and counting\n",
    "The following program counts the number of times the letter a appears in a string:\n",
    "word = 'banana'\n",
    "count = 0\n",
    "for letter in word:\n",
    "if letter == 'a':\n",
    "count = count + 1\n",
    "print(count)\n",
    "This program demonstrates another pattern of computation called a counter. The variable\n",
    "count is initialized to 0 and then incremented each time an a is found. When the loop exits,\n",
    "count contains the result—the total number of a’s.\n",
    "As an exercise, encapsulate this code in a function named count, and generalize it so that\n",
    "it accepts the string and the letter as arguments.\n",
    "Then rewrite the function so that instead of traversing the string, it uses the threeparameter version of find from the previous section."
   ]
  },
  {
   "cell_type": "markdown",
   "metadata": {},
   "source": [
    "8.8 String methods\n",
    "Strings provide methods that perform a variety of useful operations. A method is similar\n",
    "to a function—it takes arguments and returns a value—but the syntax is different. For\n",
    "example, the method upper takes a string and returns a new string with all uppercase\n",
    "letters.\n",
    "Instead of the function syntax upper(word), it uses the method syntax word.upper().\n",
    ">>> word = 'banana'\n",
    ">>> new_word = word.upper()\n",
    ">>> new_word\n",
    "'BANANA'\n",
    "76 Chapter 8. Strings\n",
    "This form of dot notation specifies the name of the method, upper, and the name of the\n",
    "string to apply the method to, word. The empty parentheses indicate that this method\n",
    "takes no arguments.\n",
    "A method call is called an invocation; in this case, we would say that we are invoking\n",
    "upper on word.\n",
    "As it turns out, there is a string method named find that is remarkably similar to the\n",
    "function we wrote:\n",
    ">>> word = 'banana'\n",
    ">>> index = word.find('a')\n",
    ">>> index\n",
    "1\n",
    "In this example, we invoke find on word and pass the letter we are looking for as a parameter.\n",
    "Actually, the find method is more general than our function; it can find substrings, not just\n",
    "characters:\n",
    ">>> word.find('na')\n",
    "2\n",
    "By default, find starts at the beginning of the string, but it can take a second argument, the\n",
    "index where it should start:\n",
    ">>> word.find('na', 3)\n",
    "4\n",
    "This is an example of an optional argument; find can also take a third argument, the index\n",
    "where it should stop:\n",
    ">>> name = 'bob'\n",
    ">>> name.find('b', 1, 2)\n",
    "-1\n",
    "This search fails because b does not appear in the index range from 1 to 2, not including 2.\n",
    "Searching up to, but not including, the second index makes find consistent with the slice\n",
    "operator."
   ]
  },
  {
   "cell_type": "markdown",
   "metadata": {},
   "source": [
    "8.9 The in operator\n",
    "The word in is a boolean operator that takes two strings and returns True if the first appears as a substring in the second:\n",
    ">>> 'a' in 'banana'\n",
    "True\n",
    ">>> 'seed' in 'banana'\n",
    "False\n",
    "For example, the following function prints all the letters from word1 that also appear in\n",
    "word2:\n",
    "def in_both(word1, word2):\n",
    "for letter in word1:\n",
    "if letter in word2:\n",
    "print(letter)\n",
    "8.10. String comparison 77\n",
    "With well-chosen variable names, Python sometimes reads like English. You could read\n",
    "this loop, “for (each) letter in (the first) word, if (the) letter (appears) in (the second) word,\n",
    "print (the) letter.”\n",
    "Here’s what you get if you compare apples and oranges:\n",
    ">>> in_both('apples', 'oranges')\n",
    "a\n",
    "e\n",
    "s\n"
   ]
  },
  {
   "cell_type": "markdown",
   "metadata": {},
   "source": [
    "8.10 String comparison\n",
    "The relational operators work on strings. To see if two strings are equal:\n",
    "if word == 'banana':\n",
    "print('All right, bananas.')\n",
    "Other relational operations are useful for putting words in alphabetical order:\n",
    "if word < 'banana':\n",
    "print('Your word, ' + word + ', comes before banana.')\n",
    "elif word > 'banana':\n",
    "print('Your word, ' + word + ', comes after banana.')\n",
    "else:\n",
    "print('All right, bananas.')\n",
    "Python does not handle uppercase and lowercase letters the same way people do. All the\n",
    "uppercase letters come before all the lowercase letters, so:\n",
    "Your word, Pineapple, comes before banana.\n",
    "A common way to address this problem is to convert strings to a standard format, such as\n",
    "all lowercase, before performing the comparison. Keep that in mind in case you have to\n",
    "defend yourself against a man armed with a Pineapple."
   ]
  },
  {
   "cell_type": "markdown",
   "metadata": {},
   "source": [
    "8.11 Debugging\n",
    "When you use indices to traverse the values in a sequence, it is tricky to get the beginning\n",
    "and end of the traversal right. Here is a function that is supposed to compare two words\n",
    "and return True if one of the words is the reverse of the other, but it contains two errors:\n",
    "def is_reverse(word1, word2):\n",
    "if len(word1) != len(word2):\n",
    "return False\n",
    "i = 0\n",
    "j = len(word2)\n",
    "while j > 0:\n",
    "if word1[i] != word2[j]:\n",
    "return False\n",
    "i = i+1\n",
    "78 Chapter 8. Strings\n",
    "j = j-1\n",
    "return True\n",
    "The first if statement checks whether the words are the same length. If not, we can return\n",
    "False immediately. Otherwise, for the rest of the function, we can assume that the words\n",
    "are the same length. This is an example of the guardian pattern in Section 6.8.\n",
    "i and j are indices: i traverses word1 forward while j traverses word2 backward. If we\n",
    "find two letters that don’t match, we can return False immediately. If we get through the\n",
    "whole loop and all the letters match, we return True.\n",
    "If we test this function with the words “pots” and “stop”, we expect the return value True,\n",
    "but we get an IndexError:\n",
    ">>> is_reverse('pots', 'stop')\n",
    "...\n",
    "File \"reverse.py\", line 15, in is_reverse\n",
    "if word1[i] != word2[j]:\n",
    "IndexError: string index out of range\n",
    "For debugging this kind of error, my first move is to print the values of the indices immediately before the line where the error appears.\n",
    "while j > 0:\n",
    "print(i, j) # print here\n",
    "if word1[i] != word2[j]:\n",
    "return False\n",
    "i = i+1\n",
    "j = j-1\n",
    "Now when I run the program again, I get more information:\n",
    ">>> is_reverse('pots', 'stop')\n",
    "0 4\n",
    "...\n",
    "IndexError: string index out of range\n",
    "The first time through the loop, the value of j is 4, which is out of range for the\n",
    "string 'pots'. The index of the last character is 3, so the initial value for j should be\n",
    "len(word2)-1.\n",
    "If I fix that error and run the program again, I get:\n",
    ">>> is_reverse('pots', 'stop')\n",
    "0 3\n",
    "1 2\n",
    "2 1\n",
    "True\n",
    "This time we get the right answer, but it looks like the loop only ran three times, which is\n",
    "suspicious. To get a better idea of what is happening, it is useful to draw a state diagram.\n",
    "During the first iteration, the frame for is_reverse is shown in Figure 8.2.\n",
    "I took some license by arranging the variables in the frame and adding dotted lines to show\n",
    "that the values of i and j indicate characters in word1 and word2.\n",
    "Starting with this diagram, run the program on paper, changing the values of i and j\n",
    "during each iteration. Find and fix the second error in this function"
   ]
  },
  {
   "cell_type": "markdown",
   "metadata": {},
   "source": [
    "8.12 Glossary\n",
    "object: Something a variable can refer to. For now, you can use “object” and “value”\n",
    "interchangeably.\n",
    "sequence: An ordered collection of values where each value is identified by an integer\n",
    "index.\n",
    "item: One of the values in a sequence.\n",
    "index: An integer value used to select an item in a sequence, such as a character in a string.\n",
    "In Python indices start from 0.\n",
    "slice: A part of a string specified by a range of indices.\n",
    "empty string: A string with no characters and length 0, represented by two quotation\n",
    "marks.\n",
    "immutable: The property of a sequence whose items cannot be changed.\n",
    "traverse: To iterate through the items in a sequence, performing a similar operation on\n",
    "each.\n",
    "search: A pattern of traversal that stops when it finds what it is looking for.\n",
    "counter: A variable used to count something, usually initialized to zero and then incremented.\n",
    "invocation: A statement that calls a method.\n",
    "optional argument: A function or method argument that is not required."
   ]
  },
  {
   "cell_type": "markdown",
   "metadata": {},
   "source": [
    "8.13 Exercises\n",
    "Exercise 8.1. Read the documentation of the string methods at http: // docs. python. org/ 3/\n",
    "library/ stdtypes. html# string-methods . You might want to experiment with some of them\n",
    "to make sure you understand how they work. strip and replace are particularly useful.\n",
    "The documentation uses a syntax that might be confusing. For example, in\n",
    "find(sub[, start[, end]]), the brackets indicate optional arguments. So sub is required, but\n",
    "start is optional, and if you include start, then end is optional.\n",
    "Exercise 8.2. There is a string method called count that is similar to the function in Section 8.7.\n",
    "Read the documentation of this method and write an invocation that counts the number of a’s in\n",
    "'banana'.\n",
    "Exercise 8.3. A string slice can take a third index that specifies the “step size”; that is, the number\n",
    "of spaces between successive characters. A step size of 2 means every other character; 3 means every\n",
    "third, etc.\n",
    "80 Chapter 8. Strings\n",
    ">>> fruit = 'banana'\n",
    ">>> fruit[0:5:2]\n",
    "'bnn'\n",
    "A step size of -1 goes through the word backwards, so the slice [::-1] generates a reversed string.\n",
    "Use this idiom to write a one-line version of is_palindrome from Exercise 6.3.\n",
    "Exercise 8.4. The following functions are all intended to check whether a string contains any\n",
    "lowercase letters, but at least some of them are wrong. For each function, describe what the function\n",
    "actually does (assuming that the parameter is a string).\n",
    "def any_lowercase1(s):\n",
    "for c in s:\n",
    "if c.islower():\n",
    "return True\n",
    "else:\n",
    "return False\n",
    "def any_lowercase2(s):\n",
    "for c in s:\n",
    "if 'c'.islower():\n",
    "return 'True'\n",
    "else:\n",
    "return 'False'\n",
    "def any_lowercase3(s):\n",
    "for c in s:\n",
    "flag = c.islower()\n",
    "return flag\n",
    "def any_lowercase4(s):\n",
    "flag = False\n",
    "for c in s:\n",
    "flag = flag or c.islower()\n",
    "return flag\n",
    "def any_lowercase5(s):\n",
    "for c in s:\n",
    "if not c.islower():\n",
    "return False\n",
    "return True\n",
    "Exercise 8.5. A Caesar cypher is a weak form of encryption that involves “rotating” each letter by\n",
    "a fixed number of places. To rotate a letter means to shift it through the alphabet, wrapping around\n",
    "to the beginning if necessary, so ’A’ rotated by 3 is ’D’ and ’Z’ rotated by 1 is ’A’.\n",
    "To rotate a word, rotate each letter by the same amount. For example, “cheer” rotated by 7 is “jolly”\n",
    "and “melon” rotated by -10 is “cubed”. In the movie 2001: A Space Odyssey, the ship computer\n",
    "is called HAL, which is IBM rotated by -1.\n",
    "Write a function called rotate_word that takes a string and an integer as parameters, and returns\n",
    "a new string that contains the letters from the original string rotated by the given amount.\n",
    "You might want to use the built-in function ord, which converts a character to a numeric code, and\n",
    "8.13. Exercises 81\n",
    "chr, which converts numeric codes to characters. Letters of the alphabet are encoded in alphabetical\n",
    "order, so for example:\n",
    ">>> ord('c') - ord('a')\n",
    "2\n",
    "Because 'c' is the two-eth letter of the alphabet. But beware: the numeric codes for upper case\n",
    "letters are different.\n",
    "Potentially offensive jokes on the Internet are sometimes encoded in ROT13, which is a Caesar\n",
    "cypher with rotation 13. If you are not easily offended, find and decode some of them. Solution:\n",
    "http: // thinkpython2. com/ code/ rotate. py ."
   ]
  },
  {
   "cell_type": "markdown",
   "metadata": {},
   "source": []
  }
 ],
 "metadata": {
  "language_info": {
   "name": "python"
  }
 },
 "nbformat": 4,
 "nbformat_minor": 2
}
