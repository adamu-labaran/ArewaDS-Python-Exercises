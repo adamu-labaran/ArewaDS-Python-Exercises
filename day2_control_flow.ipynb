{
 "cells": [
  {
   "cell_type": "markdown",
   "metadata": {},
   "source": [
    "__[mastering conditions in python an overview](https://github.com/arewadataScience/30-Days-of-Python/blob/main/07_Module_Conditionals/07_conditionals.md)__"
   ]
  },
  {
   "cell_type": "markdown",
   "metadata": {},
   "source": [
    "__OVERVIEW__\n",
    "\n",
    ">_Control flow_ in Python refers to the execution path that a program takes based on conditions and logic. \n",
    "\n",
    ">It allows developers to write programs that make decisions, iterate through data, and execute code selectively. \n",
    "\n",
    ">Python provides several control flow constructs, including _conditional statements, loops, and exception handling_."
   ]
  },
  {
   "cell_type": "markdown",
   "metadata": {},
   "source": [
    "### working on student grading system for basic to intermediate"
   ]
  },
  {
   "cell_type": "markdown",
   "metadata": {},
   "source": [
    "_using input function to get  student's score_"
   ]
  },
  {
   "cell_type": "code",
   "execution_count": null,
   "metadata": {},
   "outputs": [],
   "source": [
    "score = int(input(\"Enter your score: \")) # 20, 90 95, 37, 45, 60, 40\n",
    "\n",
    "# computing the logic to determine the student's grade\n",
    "if score >= 70 and score <= 100:\n",
    "    print(\"Your grade is: A\")\n",
    "elif score >= 60 and score <= 69:\n",
    "    print(\"Your grade is: B\")\n",
    "elif score >= 50 and score <= 59:\n",
    "    print(\"Your grade is: C\")\n",
    "elif score >= 45 and score <= 49:\n",
    "    print(\"Your grade is: D\")\n",
    "elif score >= 40 and score <= 44:\n",
    "    print(\"Your grade is: E\")\n",
    "elif score >= 0 and score <= 39:\n",
    "    print(\"Your grade is: F\")\n",
    "else:\n",
    "    print(\"Invalid score. Please enter a number between 0 and 100.\")"
   ]
  },
  {
   "cell_type": "markdown",
   "metadata": {},
   "source": [
    "_using list for student score_"
   ]
  },
  {
   "cell_type": "code",
   "execution_count": 31,
   "metadata": {},
   "outputs": [
    {
     "name": "stdout",
     "output_type": "stream",
     "text": [
      "Score: 85 -> Grade: A\n",
      "Score: 72 -> Grade: A\n",
      "Score: 90 -> Grade: A\n",
      "Score: 65 -> Grade: B\n",
      "Score: 47 -> Grade: D\n",
      "Score: 30 -> Grade: F\n",
      "Score: 55 -> Grade: C\n",
      "Score: 40 -> Grade: E\n",
      "Score: 100 -> Grade: A\n",
      "Score: 78 -> Grade: A\n"
     ]
    }
   ],
   "source": [
    "# List of student scores\n",
    "scores = [85, 72, 90, 65, 47, 30, 55, 40, 100, 78]\n",
    "\n",
    "# using for loop to Iterate through each score and determine the grade\n",
    "for score in scores:\n",
    "    if score >= 70 and score <= 100:\n",
    "        grade = \"A\"\n",
    "    elif score >= 60 and score <= 69:\n",
    "        grade = \"B\"\n",
    "    elif score >= 50 and score <= 59:\n",
    "        grade = \"C\"\n",
    "    elif score >= 45 and score <= 49:\n",
    "        grade = \"D\"\n",
    "    elif score >= 40 and score <= 44:\n",
    "        grade = \"E\"\n",
    "    elif score >= 0 and score <= 39:\n",
    "        grade = \"F\"\n",
    "    else:\n",
    "        grade = \"Invalid Score\"\n",
    "\n",
    "    print(f\"Score: {score} -> Grade: {grade}\")"
   ]
  },
  {
   "cell_type": "markdown",
   "metadata": {},
   "source": [
    "_using input() function to allow the user to enter multiple scores, convert them into a list, and then process each score to determine the corresponding grade._\n",
    "\n",
    "***\n",
    "__The input() function allows the user to enter scores separated by spaces.__\n",
    "\n",
    "__split() converts the input string into a list of strings.__\n",
    "\n",
    "__map(int, scores_input.split()) converts each string into an integer.__\n",
    "\n",
    "__The program loops through each score, assigns a grade, and prints the result.__\n",
    "***"
   ]
  },
  {
   "cell_type": "markdown",
   "metadata": {},
   "source": [
    "__The input() function allows the user to enter scores separated by spaces.__"
   ]
  },
  {
   "cell_type": "code",
   "execution_count": 32,
   "metadata": {},
   "outputs": [
    {
     "data": {
      "text/plain": [
       "'30 40 79 90 98 76 80  73 27 29 93 56'"
      ]
     },
     "execution_count": 32,
     "metadata": {},
     "output_type": "execute_result"
    }
   ],
   "source": [
    "# Get multiple scores from the user\n",
    "scores_input = input(\"Enter student scores separated by spaces: \")\n",
    "scores_input"
   ]
  },
  {
   "cell_type": "markdown",
   "metadata": {},
   "source": [
    "__split() converts the input string into a list of strings.__"
   ]
  },
  {
   "cell_type": "code",
   "execution_count": 41,
   "metadata": {},
   "outputs": [
    {
     "data": {
      "text/plain": [
       "['30', '40', '79', '90', '98', '76', '80', '73', '27', '29', '93', '56']"
      ]
     },
     "execution_count": 41,
     "metadata": {},
     "output_type": "execute_result"
    }
   ],
   "source": [
    "scores_input.split()"
   ]
  },
  {
   "cell_type": "markdown",
   "metadata": {},
   "source": [
    "__The map() function applies the int function to each element in the list.__"
   ]
  },
  {
   "cell_type": "code",
   "execution_count": 42,
   "metadata": {},
   "outputs": [
    {
     "data": {
      "text/plain": [
       "<map at 0x1d79aac82e0>"
      ]
     },
     "execution_count": 42,
     "metadata": {},
     "output_type": "execute_result"
    }
   ],
   "source": [
    "map(int, ['30', '40', '79', '90', '98', '76', '80', '73', '27', '29', '93', '56'])"
   ]
  },
  {
   "cell_type": "markdown",
   "metadata": {},
   "source": [
    "_However, map() returns a map object, so we wrap it in list() to get a proper list._"
   ]
  },
  {
   "cell_type": "code",
   "execution_count": 43,
   "metadata": {},
   "outputs": [
    {
     "data": {
      "text/plain": [
       "[30, 40, 79, 90, 98, 76, 80, 73, 27, 29, 93, 56]"
      ]
     },
     "execution_count": 43,
     "metadata": {},
     "output_type": "execute_result"
    }
   ],
   "source": [
    "list(map(int, ['30', '40', '79', '90', '98', '76', '80', '73', '27', '29', '93', '56']))"
   ]
  },
  {
   "cell_type": "code",
   "execution_count": 44,
   "metadata": {},
   "outputs": [],
   "source": [
    "# Convert input string into a list of integers\n",
    "scores = list(map(int, scores_input.split()))"
   ]
  },
  {
   "cell_type": "code",
   "execution_count": 45,
   "metadata": {},
   "outputs": [
    {
     "name": "stdout",
     "output_type": "stream",
     "text": [
      "Score: 30 -> Grade: F\n",
      "Score: 40 -> Grade: E\n",
      "Score: 79 -> Grade: A\n",
      "Score: 90 -> Grade: A\n",
      "Score: 98 -> Grade: A\n",
      "Score: 76 -> Grade: A\n",
      "Score: 80 -> Grade: A\n",
      "Score: 73 -> Grade: A\n",
      "Score: 27 -> Grade: F\n",
      "Score: 29 -> Grade: F\n",
      "Score: 93 -> Grade: A\n",
      "Score: 56 -> Grade: C\n"
     ]
    }
   ],
   "source": [
    "# Iterate through each score and determine the grade\n",
    "for score in scores:\n",
    "    if 70 <= score <= 100:\n",
    "        grade = \"A\"\n",
    "    elif 60 <= score <= 69:\n",
    "        grade = \"B\"\n",
    "    elif 50 <= score <= 59:\n",
    "        grade = \"C\"\n",
    "    elif 45 <= score <= 49:\n",
    "        grade = \"D\"\n",
    "    elif 40 <= score <= 44:\n",
    "        grade = \"E\"\n",
    "    elif 0 <= score <= 39:\n",
    "        grade = \"F\"\n",
    "    else:\n",
    "        grade = \"Invalid Score\"\n",
    "\n",
    "    print(f\"Score: {score} -> Grade: {grade}\")"
   ]
  },
  {
   "cell_type": "code",
   "execution_count": null,
   "metadata": {},
   "outputs": [],
   "source": [
    "# Get multiple scores from the user\n",
    "scores_input = input(\"Enter student scores separated by spaces: \")\n",
    "\n",
    "# Convert input string into a list of integers\n",
    "scores = list(map(int, scores_input.split()))\n",
    "\n",
    "# Iterate through each score and determine the grade\n",
    "for score in scores:\n",
    "    if 70 <= score <= 100:\n",
    "        grade = \"A\"\n",
    "    elif 60 <= score <= 69:\n",
    "        grade = \"B\"\n",
    "    elif 50 <= score <= 59:\n",
    "        grade = \"C\"\n",
    "    elif 45 <= score <= 49:\n",
    "        grade = \"D\"\n",
    "    elif 40 <= score <= 44:\n",
    "        grade = \"E\"\n",
    "    elif 0 <= score <= 39:\n",
    "        grade = \"F\"\n",
    "    else:\n",
    "        grade = \"Invalid Score\"\n",
    "\n",
    "    print(f\"Score: {score} -> Grade: {grade}\")\n"
   ]
  },
  {
   "cell_type": "markdown",
   "metadata": {},
   "source": [
    "_using University of the People (UoPeople) grading system_"
   ]
  },
  {
   "cell_type": "code",
   "execution_count": null,
   "metadata": {},
   "outputs": [
    {
     "name": "stdout",
     "output_type": "stream",
     "text": [
      "Your score is: 40\n",
      "Your grade is: F\n"
     ]
    }
   ],
   "source": [
    "score = int(input(\"Enter your score: \")) # 20, 90 95, 37, 45, 60, 40\n",
    "\n",
    "# computing the logic to determine the student's grade\n",
    "if score >= 98:\n",
    "    print(f\"Your score is: {score}\")\n",
    "    print(\"Your grade is: A+\")\n",
    "elif score >= 93 and score <= 97:\n",
    "    print(f\"Your score is: {score}\")\n",
    "    print(\"Your grade is: A\")\n",
    "elif score >= 90 and score <= 92:\n",
    "    print(f\"Your score is: {score}\")\n",
    "    print(\"Your grade is: A-\")\n",
    "elif score >= 88 and score <= 89:\n",
    "    print(f\"Your score is: {score}\")\n",
    "    print(\"Your grade is: B+\")\n",
    "elif score >= 83 and score <= 87:\n",
    "    print(f\"Your score is: {score}\")\n",
    "    print(\"Your grade is: B\")\n",
    "elif score >= 80 and score <= 82:\n",
    "    print(f\"Your score is: {score}\")\n",
    "    print(\"Your grade is: B-\")\n",
    "elif score >= 78 and score <= 79:\n",
    "    print(f\"Your score is: {score}\")\n",
    "    print(\"Your grade is: C+\")\n",
    "elif score >= 73 and score <= 77:\n",
    "    print(f\"Your score is: {score}\")\n",
    "    print(\"Your grade is: C\")\n",
    "elif score >= 70 and score <= 72:\n",
    "    print(f\"Your score is: {score}\")\n",
    "    print(\"Your grade is: C-\")\n",
    "elif score >= 68 and score <= 69:\n",
    "    print(f\"Your score is: {score}\")\n",
    "    print(\"Your grade is: D+\")\n",
    "elif score >= 63 and score <= 67:\n",
    "    print(f\"Your score is: {score}\")\n",
    "    print(\"Your grade is: D\")\n",
    "elif score < 60:\n",
    "    print(f\"Your score is: {score}\")\n",
    "    print(\"Your grade is: F\")\n",
    "else:\n",
    "    print(\"Invalid score. Please enter a number between 0 and 100.\")\n"
   ]
  },
  {
   "cell_type": "code",
   "execution_count": 46,
   "metadata": {},
   "outputs": [
    {
     "name": "stdout",
     "output_type": "stream",
     "text": [
      "Score: 30 -> Grade: F\n",
      "Score: 40 -> Grade: F\n",
      "Score: 50 -> Grade: F\n",
      "Score: 67 -> Grade: D\n",
      "Score: 88 -> Grade: B+\n",
      "Score: 92 -> Grade: A-\n",
      "Score: 73 -> Grade: C\n"
     ]
    }
   ],
   "source": [
    "# Get multiple scores from the user\n",
    "scores_input = input(\"Enter student scores separated by spaces: \")\n",
    "\n",
    "try:\n",
    "    # Convert input string into a list of integers\n",
    "    scores = list(map(int, scores_input.split()))\n",
    "\n",
    "    # Iterate through each score and determine the grade\n",
    "    for score in scores:\n",
    "        if 98 <= score <= 100:\n",
    "            grade = \"A+\"\n",
    "        elif 93 <= score <= 97:\n",
    "            grade = \"A\"\n",
    "        elif 90 <= score <= 92:\n",
    "            grade = \"A-\"\n",
    "        elif 88 <= score <= 89:\n",
    "            grade = \"B+\"\n",
    "        elif 83 <= score <= 87:\n",
    "            grade = \"B\"\n",
    "        elif 80 <= score <= 82:\n",
    "            grade = \"B-\"\n",
    "        elif 78 <= score <= 79:\n",
    "            grade = \"C+\"\n",
    "        elif 73 <= score <= 77:\n",
    "            grade = \"C\"\n",
    "        elif 70 <= score <= 72:\n",
    "            grade = \"C-\"\n",
    "        elif 68 <= score <= 69:\n",
    "            grade = \"D+\"\n",
    "        elif 63 <= score <= 67:\n",
    "            grade = \"D\"\n",
    "        elif 0 <= score < 60:\n",
    "            grade = \"F\"\n",
    "        else:\n",
    "            grade = \"Invalid Score\"\n",
    "\n",
    "        print(f\"Score: {score} -> Grade: {grade}\")\n",
    "\n",
    "except ValueError:\n",
    "    print(\"Invalid input. Please enter numbers only, separated by spaces.\")"
   ]
  },
  {
   "cell_type": "markdown",
   "metadata": {},
   "source": [
    "_alternative concept of student grading_"
   ]
  },
  {
   "cell_type": "code",
   "execution_count": 47,
   "metadata": {},
   "outputs": [
    {
     "name": "stdout",
     "output_type": "stream",
     "text": [
      "Score: 90 -> Grade: A-\n",
      "Score: 97 -> Grade: A\n",
      "Score: 89 -> Grade: B+\n",
      "Score: 99 -> Grade: A+\n",
      "Score: 94 -> Grade: A\n",
      "Score: 93 -> Grade: A\n",
      "Score: 96 -> Grade: A\n",
      "Score: 95 -> Grade: A\n",
      "Score: 96 -> Grade: A\n"
     ]
    }
   ],
   "source": [
    "def get_grade(score):\n",
    "    \"\"\"\n",
    "    Determines the grade based on the score using a range-to-grade mapping.\n",
    "\n",
    "    Parameters:\n",
    "    - score (int): The score to evaluate.\n",
    "\n",
    "    Returns:\n",
    "    - str: The grade corresponding to the score, or \"Invalid Score\" for out-of-range values.\n",
    "    \"\"\"\n",
    "    grade_mapping = {\n",
    "        range(98, 101): \"A+\",\n",
    "        range(93, 98): \"A\",\n",
    "        range(90, 93): \"A-\",\n",
    "        range(88, 90): \"B+\",\n",
    "        range(83, 88): \"B\",\n",
    "        range(80, 83): \"B-\",\n",
    "        range(78, 80): \"C+\",\n",
    "        range(73, 78): \"C\",\n",
    "        range(70, 73): \"C-\",\n",
    "        range(68, 70): \"D+\",\n",
    "        range(63, 68): \"D\",\n",
    "        range(0, 60): \"F\"\n",
    "    }\n",
    "\n",
    "    for grade_range, grade in grade_mapping.items():\n",
    "        if score in grade_range:\n",
    "            return grade\n",
    "\n",
    "    return \"Invalid Score\"\n",
    "\n",
    "\n",
    "# Get multiple scores from the user\n",
    "scores_input = input(\"Enter student scores separated by spaces: \")\n",
    "\n",
    "try:\n",
    "    # Convert input string into a list of integers\n",
    "    scores = list(map(int, scores_input.split()))\n",
    "\n",
    "    # Iterate through each score and determine the grade\n",
    "    for score in scores:\n",
    "        grade = get_grade(score)\n",
    "        print(f\"Score: {score} -> Grade: {grade}\")\n",
    "\n",
    "except ValueError:\n",
    "    print(\"Invalid input. Please enter numbers only, separated by spaces.\")\n"
   ]
  },
  {
   "cell_type": "code",
   "execution_count": null,
   "metadata": {},
   "outputs": [],
   "source": []
  },
  {
   "cell_type": "markdown",
   "metadata": {},
   "source": [
    "_if statements: if block will executes_"
   ]
  },
  {
   "cell_type": "code",
   "execution_count": 4,
   "metadata": {},
   "outputs": [
    {
     "name": "stdout",
     "output_type": "stream",
     "text": [
      "Welcome mr Adamu Labaran\n"
     ]
    }
   ],
   "source": [
    "x = 10\n",
    "\n",
    "if x > 0: # if true return my name\n",
    "    name = input(\"Enter your name: \")\n",
    "    print(f\"Welcome mr {name.title()}\")\n",
    "    "
   ]
  },
  {
   "cell_type": "markdown",
   "metadata": {},
   "source": [
    "_elif statements: elif block will executes_"
   ]
  },
  {
   "cell_type": "code",
   "execution_count": 6,
   "metadata": {},
   "outputs": [
    {
     "name": "stdout",
     "output_type": "stream",
     "text": [
      "you're 900 years old!\n"
     ]
    }
   ],
   "source": [
    "# continue with the above x variable in the if statements\n",
    "if x == 5:\n",
    "    print(f\"Welcome mr {name.title()}\")\n",
    "elif x > 5:\n",
    "    age = input(\"Enter your age: \")\n",
    "    print(f\"you're {age} years old!\")\n",
    "    \n"
   ]
  },
  {
   "cell_type": "markdown",
   "metadata": {},
   "source": [
    "_else statement: else block will executes_"
   ]
  },
  {
   "cell_type": "code",
   "execution_count": 7,
   "metadata": {},
   "outputs": [
    {
     "name": "stdout",
     "output_type": "stream",
     "text": [
      "x is 10\n"
     ]
    }
   ],
   "source": [
    "if x < 0:\n",
    "    print(\"x is is less than 10\")\n",
    "elif x == 0:\n",
    "    print(\"x is zero\")\n",
    "else:\n",
    "    print(\"x is 10\")"
   ]
  },
  {
   "cell_type": "markdown",
   "metadata": {},
   "source": [
    "_Expression Statements_\n",
    "\n",
    ">These are the simplest type of statements. They evaluate an expression and return a result."
   ]
  },
  {
   "cell_type": "code",
   "execution_count": 8,
   "metadata": {},
   "outputs": [
    {
     "name": "stdout",
     "output_type": "stream",
     "text": [
      "8\n"
     ]
    }
   ],
   "source": [
    "x = 5  # Assignment statement\n",
    "y = x + 3  # Expression statement\n",
    "print(y)  # Function call statement"
   ]
  },
  {
   "cell_type": "markdown",
   "metadata": {},
   "source": [
    "_Assignment Statements_\n",
    "\n",
    ">These are used to assign a value to a variable."
   ]
  },
  {
   "cell_type": "code",
   "execution_count": 11,
   "metadata": {},
   "outputs": [
    {
     "name": "stdout",
     "output_type": "stream",
     "text": [
      "10\n",
      "Hello Mr Adamu\n",
      "15\n"
     ]
    }
   ],
   "source": [
    "a = 10  # Assigning an integer to a variable\n",
    "b = \"Hello\"  # Assigning a string to a variable\n",
    "c = a + 5  # Assigning the result of an expression\n",
    "print(f\"{a}\\n{b} Mr Adamu\\n{c}\")"
   ]
  },
  {
   "cell_type": "markdown",
   "metadata": {},
   "source": [
    "_Print Statements_\n",
    "\n",
    ">This is used to output data to the console."
   ]
  },
  {
   "cell_type": "code",
   "execution_count": 13,
   "metadata": {},
   "outputs": [
    {
     "name": "stdout",
     "output_type": "stream",
     "text": [
      "Hello, World!\n",
      "10 Hello 15\n"
     ]
    }
   ],
   "source": [
    "print(\"Hello, World!\")\n",
    "print(a, b, c)"
   ]
  },
  {
   "cell_type": "markdown",
   "metadata": {},
   "source": [
    "_Control Flow Statements_\n",
    "\n",
    ">These help control the flow of the program by making decisions or repeating actions."
   ]
  },
  {
   "cell_type": "code",
   "execution_count": 15,
   "metadata": {},
   "outputs": [
    {
     "name": "stdout",
     "output_type": "stream",
     "text": [
      "x is greater than 5\n"
     ]
    }
   ],
   "source": [
    "x = 10\n",
    "if x > 5:\n",
    "    print(\"x is greater than 5\")\n",
    "elif x == 5:\n",
    "    print(\"x is equal to 5\")\n",
    "else:\n",
    "    print(\"x is less than 5\")"
   ]
  },
  {
   "cell_type": "markdown",
   "metadata": {},
   "source": [
    "_Loop Control Statements_\n",
    "\n",
    ">break: Exits the loop prematurely.\n",
    "\n",
    ">continue: Skips the current iteration and moves to the next.\n",
    "\n",
    ">pass: Does nothing; acts as a placeholder."
   ]
  },
  {
   "cell_type": "code",
   "execution_count": 16,
   "metadata": {},
   "outputs": [
    {
     "name": "stdout",
     "output_type": "stream",
     "text": [
      "0\n",
      "1\n",
      "2\n",
      "0\n",
      "1\n",
      "2\n",
      "4\n"
     ]
    }
   ],
   "source": [
    "for i in range(5):\n",
    "    if i == 3:\n",
    "        break  # Exit the loop when i is 3\n",
    "    print(i)\n",
    "\n",
    "for i in range(5):\n",
    "    if i == 3:\n",
    "        continue  # Skip iteration when i is 3\n",
    "    print(i)"
   ]
  },
  {
   "cell_type": "markdown",
   "metadata": {},
   "source": [
    "_Check if a string starts with a specific character_"
   ]
  },
  {
   "cell_type": "code",
   "execution_count": 17,
   "metadata": {},
   "outputs": [
    {
     "name": "stdout",
     "output_type": "stream",
     "text": [
      "The word starts with 'P'.\n"
     ]
    }
   ],
   "source": [
    "word = \"Python\"\n",
    "if word.startswith(\"P\"):\n",
    "    print(\"The word starts with 'P'.\")"
   ]
  },
  {
   "cell_type": "code",
   "execution_count": 19,
   "metadata": {},
   "outputs": [
    {
     "name": "stdout",
     "output_type": "stream",
     "text": [
      "Yes the words ends with 'N\n"
     ]
    }
   ],
   "source": [
    "if word.endswith(\"n\"):\n",
    "    print(\"Yes the words ends with 'N\")"
   ]
  },
  {
   "cell_type": "markdown",
   "metadata": {},
   "source": [
    "_Check if a number is positive_"
   ]
  },
  {
   "cell_type": "code",
   "execution_count": 20,
   "metadata": {},
   "outputs": [
    {
     "name": "stdout",
     "output_type": "stream",
     "text": [
      "The number is positive.\n"
     ]
    }
   ],
   "source": [
    "num = 10\n",
    "if num > 0:\n",
    "    print(\"The number is positive.\")"
   ]
  },
  {
   "cell_type": "markdown",
   "metadata": {},
   "source": [
    "_Simple even or odd check in this scenaario the else block executes_"
   ]
  },
  {
   "cell_type": "code",
   "execution_count": 22,
   "metadata": {},
   "outputs": [
    {
     "name": "stdout",
     "output_type": "stream",
     "text": [
      "The number is odd.\n"
     ]
    }
   ],
   "source": [
    "num = 5\n",
    "if num % 2 == 0:\n",
    "    print(\"The number is even.\")\n",
    "else:\n",
    "    print(\"The number is odd.\")"
   ]
  },
  {
   "cell_type": "code",
   "execution_count": 24,
   "metadata": {},
   "outputs": [
    {
     "name": "stdout",
     "output_type": "stream",
     "text": [
      "0 is even\n",
      "2 is even\n",
      "4 is even\n",
      "6 is even\n",
      "8 is even\n"
     ]
    }
   ],
   "source": [
    "for num in range(10):\n",
    "    if num % 2 == 0:\n",
    "        print(f\"{num} is even\")"
   ]
  },
  {
   "cell_type": "markdown",
   "metadata": {},
   "source": [
    "_Check multiple conditions with elif_"
   ]
  },
  {
   "cell_type": "code",
   "execution_count": 26,
   "metadata": {},
   "outputs": [
    {
     "name": "stdout",
     "output_type": "stream",
     "text": [
      "Zero\n"
     ]
    }
   ],
   "source": [
    "num = 0\n",
    "if num > 0:\n",
    "    print(\"Positive\")\n",
    "elif num == 0:\n",
    "    print(\"Zero\")\n",
    "else:\n",
    "    print(\"Negative\")"
   ]
  },
  {
   "cell_type": "markdown",
   "metadata": {},
   "source": [
    "_Check if a string starts with a specific character_"
   ]
  },
  {
   "cell_type": "code",
   "execution_count": 27,
   "metadata": {},
   "outputs": [
    {
     "name": "stdout",
     "output_type": "stream",
     "text": [
      "The word starts with 'P'.\n"
     ]
    }
   ],
   "source": [
    "word = \"Python\"\n",
    "if word.startswith(\"P\"):\n",
    "    print(\"The word starts with 'P'.\")"
   ]
  },
  {
   "cell_type": "markdown",
   "metadata": {},
   "source": [
    "_Check membership in a list_"
   ]
  },
  {
   "cell_type": "code",
   "execution_count": 29,
   "metadata": {},
   "outputs": [
    {
     "name": "stdout",
     "output_type": "stream",
     "text": [
      "Apple is in the list.\n"
     ]
    }
   ],
   "source": [
    "fruits = [\"apple\", \"banana\", \"cherry\"]\n",
    "if \"apple\" in fruits:\n",
    "    print(\"Apple is in the list.\")\n",
    "else:\n",
    "    print(\"Apple is not in the list.\")"
   ]
  },
  {
   "cell_type": "code",
   "execution_count": 30,
   "metadata": {},
   "outputs": [
    {
     "name": "stdout",
     "output_type": "stream",
     "text": [
      "Apple is not in the list.\n"
     ]
    }
   ],
   "source": [
    "fruits = [\"apple\", \"banana\", \"cherry\"]\n",
    "if \"apples\" in fruits:\n",
    "    print(\"Apple is in the list.\")\n",
    "else:\n",
    "    print(\"Apple is not in the list.\") # else  block willl executes"
   ]
  },
  {
   "cell_type": "markdown",
   "metadata": {},
   "source": [
    "_Nested if statements_"
   ]
  },
  {
   "cell_type": "code",
   "execution_count": 31,
   "metadata": {},
   "outputs": [
    {
     "name": "stdout",
     "output_type": "stream",
     "text": [
      "Positive and even.\n"
     ]
    }
   ],
   "source": [
    "num = 20\n",
    "if num > 0:\n",
    "    if num % 2 == 0:\n",
    "        print(\"Positive and even.\")\n",
    "    else:\n",
    "        print(\"Positive but odd.\")\n",
    "else:\n",
    "    print(\"Not a positive number.\")"
   ]
  },
  {
   "cell_type": "code",
   "execution_count": 32,
   "metadata": {},
   "outputs": [
    {
     "name": "stdout",
     "output_type": "stream",
     "text": [
      "Positive but odd.\n"
     ]
    }
   ],
   "source": [
    "num = 20\n",
    "if num > 0:\n",
    "    if num % 3 == 0:\n",
    "        print(\"Positive and even.\")\n",
    "    else:\n",
    "        print(\"Positive but odd.\") # else block will executes\n",
    "else:\n",
    "    print(\"Not a positive number.\") "
   ]
  },
  {
   "cell_type": "code",
   "execution_count": 34,
   "metadata": {},
   "outputs": [
    {
     "name": "stdout",
     "output_type": "stream",
     "text": [
      "Not a positive number.\n"
     ]
    }
   ],
   "source": [
    "num = -20\n",
    "if num > 0:\n",
    "    if num % 2 == 0:\n",
    "        print(\"Positive and even.\")\n",
    "    else:\n",
    "        print(\"Positive but odd.\")\n",
    "else:\n",
    "    print(\"Not a positive number.\") # else block will executes"
   ]
  },
  {
   "cell_type": "markdown",
   "metadata": {},
   "source": [
    "_Combine multiple conditions with and and or_"
   ]
  },
  {
   "cell_type": "code",
   "execution_count": 36,
   "metadata": {},
   "outputs": [
    {
     "name": "stdout",
     "output_type": "stream",
     "text": [
      "Eligible for a credit card.\n"
     ]
    }
   ],
   "source": [
    "age = 25\n",
    "income = 50000\n",
    "if age > 18 and income > 30000:\n",
    "    print(\"Eligible for a credit card.\")\n",
    "else:\n",
    "    print(\"Not eligible\")"
   ]
  },
  {
   "cell_type": "code",
   "execution_count": 37,
   "metadata": {},
   "outputs": [
    {
     "name": "stdout",
     "output_type": "stream",
     "text": [
      "Not eligible\n"
     ]
    }
   ],
   "source": [
    "age = 25\n",
    "income = 50000\n",
    "if age > 18 and income < 30000:\n",
    "    print(\"Eligible for a credit card.\")\n",
    "else:\n",
    "    print(\"Not eligible\")"
   ]
  },
  {
   "cell_type": "code",
   "execution_count": 38,
   "metadata": {},
   "outputs": [
    {
     "name": "stdout",
     "output_type": "stream",
     "text": [
      "Eligible for a credit card.\n"
     ]
    }
   ],
   "source": [
    "age = 25\n",
    "income = 50000\n",
    "if age > 18 or income > 30000:\n",
    "    print(\"Eligible for a credit card.\")\n",
    "else:\n",
    "    print(\"Not eligible\")"
   ]
  },
  {
   "cell_type": "code",
   "execution_count": 39,
   "metadata": {},
   "outputs": [
    {
     "name": "stdout",
     "output_type": "stream",
     "text": [
      "Eligible for a credit card.\n"
     ]
    }
   ],
   "source": [
    "age = 25\n",
    "income = 50000\n",
    "if age > 18 or income < 30000:\n",
    "    print(\"Eligible for a credit card.\")\n",
    "else:\n",
    "    print(\"Not eligible\")"
   ]
  },
  {
   "cell_type": "markdown",
   "metadata": {},
   "source": [
    "_Using a ternary operator (inline if)_"
   ]
  },
  {
   "cell_type": "code",
   "execution_count": 41,
   "metadata": {},
   "outputs": [
    {
     "name": "stdout",
     "output_type": "stream",
     "text": [
      "Even\n"
     ]
    }
   ],
   "source": [
    "num = 10\n",
    "result = \"Even\" if num % 2 == 0 else \"Odd\"\n",
    "print(result)"
   ]
  },
  {
   "cell_type": "markdown",
   "metadata": {},
   "source": [
    "_using ternary operator_"
   ]
  },
  {
   "cell_type": "code",
   "execution_count": 42,
   "metadata": {},
   "outputs": [
    {
     "name": "stdout",
     "output_type": "stream",
     "text": [
      "Odd\n"
     ]
    }
   ],
   "source": [
    "number = 10\n",
    "result = \"Even\" if number % 3 == 0 else \"Odd\"\n",
    "print(result)"
   ]
  },
  {
   "cell_type": "markdown",
   "metadata": {},
   "source": [
    "_Assign a value based on a condition_"
   ]
  },
  {
   "cell_type": "code",
   "execution_count": 97,
   "metadata": {},
   "outputs": [
    {
     "name": "stdout",
     "output_type": "stream",
     "text": [
      "Stay indoors\n"
     ]
    }
   ],
   "source": [
    "is_raining = True\n",
    "activity = \"Stay indoors\" if is_raining else \"Go for a walk\"\n",
    "print(activity)  # Output: Stay indoors"
   ]
  },
  {
   "cell_type": "markdown",
   "metadata": {},
   "source": [
    "_Check for even or odd_"
   ]
  },
  {
   "cell_type": "code",
   "execution_count": 98,
   "metadata": {},
   "outputs": [
    {
     "name": "stdout",
     "output_type": "stream",
     "text": [
      "Odd\n"
     ]
    }
   ],
   "source": [
    "number = 7\n",
    "result = \"Even\" if number % 2 == 0 else \"Odd\"\n",
    "print(result)  # Output: Odd"
   ]
  },
  {
   "cell_type": "code",
   "execution_count": 99,
   "metadata": {},
   "outputs": [
    {
     "name": "stdout",
     "output_type": "stream",
     "text": [
      "Even\n"
     ]
    }
   ],
   "source": [
    "number = 8\n",
    "result = \"Even\" if number % 2 == 0 else \"Odd\"\n",
    "print(result)  # Output: Odd"
   ]
  },
  {
   "cell_type": "markdown",
   "metadata": {},
   "source": [
    "_Simple greeting based on time_"
   ]
  },
  {
   "cell_type": "code",
   "execution_count": 100,
   "metadata": {},
   "outputs": [
    {
     "name": "stdout",
     "output_type": "stream",
     "text": [
      "Good evening\n"
     ]
    }
   ],
   "source": [
    "hour = 18\n",
    "greeting = \"Good evening\" if hour >= 18 else \"Good day\"\n",
    "print(greeting)  # Output: Good evening"
   ]
  },
  {
   "cell_type": "markdown",
   "metadata": {},
   "source": [
    "_Default value if variable is None_"
   ]
  },
  {
   "cell_type": "code",
   "execution_count": 101,
   "metadata": {},
   "outputs": [
    {
     "name": "stdout",
     "output_type": "stream",
     "text": [
      "Guest\n"
     ]
    }
   ],
   "source": [
    "name = None\n",
    "display_name = name if name else \"Guest\"\n",
    "print(display_name)  # Output: Guest"
   ]
  },
  {
   "cell_type": "markdown",
   "metadata": {},
   "source": [
    "_Filter valid numbers_"
   ]
  },
  {
   "cell_type": "code",
   "execution_count": 102,
   "metadata": {},
   "outputs": [
    {
     "name": "stdout",
     "output_type": "stream",
     "text": [
      "False\n"
     ]
    }
   ],
   "source": [
    "value = -10\n",
    "is_valid = True if value >= 0 else False\n",
    "print(is_valid)  # Output: False"
   ]
  },
  {
   "cell_type": "markdown",
   "metadata": {},
   "source": [
    "_Shorten conditional logic for grades_"
   ]
  },
  {
   "cell_type": "code",
   "execution_count": 103,
   "metadata": {},
   "outputs": [
    {
     "name": "stdout",
     "output_type": "stream",
     "text": [
      "Pass\n"
     ]
    }
   ],
   "source": [
    "score = 85\n",
    "grade = \"Pass\" if score >= 50 else \"Fail\"\n",
    "print(grade)  # Output: Pass"
   ]
  },
  {
   "cell_type": "markdown",
   "metadata": {},
   "source": [
    "_Setting default parameters in functions_"
   ]
  },
  {
   "cell_type": "code",
   "execution_count": 105,
   "metadata": {},
   "outputs": [
    {
     "name": "stdout",
     "output_type": "stream",
     "text": [
      "Hello, Adamu!\n",
      "Hello, Stranger!\n"
     ]
    }
   ],
   "source": [
    "def greet(user=None):\n",
    "    return f\"Hello, {user if user else 'Stranger'}!\"\n",
    "\n",
    "print(greet(\"Adamu\"))  # Output: Hello, Adamu!\n",
    "print(greet())         # Output: Hello, Stranger!"
   ]
  },
  {
   "cell_type": "markdown",
   "metadata": {},
   "source": [
    "_Select between values dynamically_"
   ]
  },
  {
   "cell_type": "code",
   "execution_count": 106,
   "metadata": {},
   "outputs": [
    {
     "name": "stdout",
     "output_type": "stream",
     "text": [
      "PyCharm\n"
     ]
    }
   ],
   "source": [
    "language = \"Python\"\n",
    "editor = \"PyCharm\" if language == \"Python\" else \"Visual Studio\"\n",
    "print(editor)  # Output: PyCharm"
   ]
  },
  {
   "cell_type": "markdown",
   "metadata": {},
   "source": [
    "_Output a message based on a flag_"
   ]
  },
  {
   "cell_type": "code",
   "execution_count": 107,
   "metadata": {},
   "outputs": [
    {
     "name": "stdout",
     "output_type": "stream",
     "text": [
      "Debugging is OFF\n"
     ]
    }
   ],
   "source": [
    "debug_mode = False\n",
    "message = \"Debugging is ON\" if debug_mode else \"Debugging is OFF\"\n",
    "print(message)  # Output: Debugging is OFF"
   ]
  },
  {
   "cell_type": "markdown",
   "metadata": {},
   "source": []
  },
  {
   "cell_type": "markdown",
   "metadata": {},
   "source": [
    "_Map values to categories in a dataset_"
   ]
  },
  {
   "cell_type": "code",
   "execution_count": 108,
   "metadata": {},
   "outputs": [
    {
     "name": "stdout",
     "output_type": "stream",
     "text": [
      "Adult\n"
     ]
    }
   ],
   "source": [
    "age = 20\n",
    "category = \"Adult\" if age >= 18 else \"Minor\"\n",
    "print(category)  # Output: Adult"
   ]
  },
  {
   "cell_type": "markdown",
   "metadata": {},
   "source": [
    "_Inline calculations_"
   ]
  },
  {
   "cell_type": "code",
   "execution_count": 109,
   "metadata": {},
   "outputs": [
    {
     "name": "stdout",
     "output_type": "stream",
     "text": [
      "Division by zero not allowed\n"
     ]
    }
   ],
   "source": [
    "x, y = 10, 0\n",
    "result = x / y if y != 0 else \"Division by zero not allowed\"\n",
    "print(result)  # Output: Division by zero not allowed"
   ]
  },
  {
   "cell_type": "markdown",
   "metadata": {},
   "source": [
    "_Check for list emptiness_"
   ]
  },
  {
   "cell_type": "code",
   "execution_count": 110,
   "metadata": {},
   "outputs": [
    {
     "name": "stdout",
     "output_type": "stream",
     "text": [
      "Empty list\n"
     ]
    }
   ],
   "source": [
    "numbers = []\n",
    "status = \"Non-empty list\" if numbers else \"Empty list\"\n",
    "print(status)  # Output: Empty list"
   ]
  },
  {
   "cell_type": "markdown",
   "metadata": {},
   "source": [
    "_Dynamic string formatting_"
   ]
  },
  {
   "cell_type": "code",
   "execution_count": 111,
   "metadata": {},
   "outputs": [
    {
     "name": "stdout",
     "output_type": "stream",
     "text": [
      "Hello, Adamu\n"
     ]
    }
   ],
   "source": [
    "username = \"Adamu\"\n",
    "greeting = f\"Hello, {username}\" if username else \"Hello, Guest\"\n",
    "print(greeting)  # Output: Hello, Adamu"
   ]
  },
  {
   "cell_type": "markdown",
   "metadata": {},
   "source": [
    "_Fill missing values_"
   ]
  },
  {
   "cell_type": "code",
   "execution_count": 112,
   "metadata": {},
   "outputs": [
    {
     "name": "stdout",
     "output_type": "stream",
     "text": [
      "0\n"
     ]
    }
   ],
   "source": [
    "import pandas as pd\n",
    "\n",
    "value = None\n",
    "filled_value = value if value is not None else 0\n",
    "print(filled_value)  # Output: 0"
   ]
  },
  {
   "cell_type": "markdown",
   "metadata": {},
   "source": [
    "_Categorize numerical data_"
   ]
  },
  {
   "cell_type": "code",
   "execution_count": 113,
   "metadata": {},
   "outputs": [
    {
     "name": "stdout",
     "output_type": "stream",
     "text": [
      "High\n"
     ]
    }
   ],
   "source": [
    "salary = 75000\n",
    "tax_bracket = \"High\" if salary > 70000 else \"Low\"\n",
    "print(tax_bracket)  # Output: High"
   ]
  },
  {
   "cell_type": "markdown",
   "metadata": {},
   "source": [
    "_Select appropriate scaler for a dataset_"
   ]
  },
  {
   "cell_type": "code",
   "execution_count": 114,
   "metadata": {},
   "outputs": [
    {
     "name": "stdout",
     "output_type": "stream",
     "text": [
      "<class 'sklearn.preprocessing._data.MinMaxScaler'>\n"
     ]
    }
   ],
   "source": [
    "from sklearn.preprocessing import StandardScaler, MinMaxScaler\n",
    "\n",
    "scaling_method = \"minmax\"\n",
    "scaler = MinMaxScaler() if scaling_method == \"minmax\" else StandardScaler()\n",
    "print(type(scaler))  # Output: <class 'sklearn.preprocessing._data.MinMaxScaler'>"
   ]
  },
  {
   "cell_type": "markdown",
   "metadata": {},
   "source": [
    "_Decision based on a threshold_"
   ]
  },
  {
   "cell_type": "code",
   "execution_count": 115,
   "metadata": {},
   "outputs": [
    {
     "name": "stdout",
     "output_type": "stream",
     "text": [
      "Deploy\n"
     ]
    }
   ],
   "source": [
    "accuracy = 0.92\n",
    "model_status = \"Deploy\" if accuracy > 0.9 else \"Improve\"\n",
    "print(model_status)  # Output: Deploy"
   ]
  },
  {
   "cell_type": "markdown",
   "metadata": {},
   "source": [
    "_Filter rows conditionally in Pandas_"
   ]
  },
  {
   "cell_type": "code",
   "execution_count": 116,
   "metadata": {},
   "outputs": [
    {
     "name": "stdout",
     "output_type": "stream",
     "text": [
      "    Name  Age Status\n",
      "0  Adamu   25  Adult\n",
      "1   Bala   17  Minor\n"
     ]
    }
   ],
   "source": [
    "data = {\"Name\": [\"Adamu\", \"Bala\"], \"Age\": [25, 17]}\n",
    "df = pd.DataFrame(data)\n",
    "df[\"Status\"] = [\"Adult\" if age >= 18 else \"Minor\" for age in df[\"Age\"]]\n",
    "print(df)"
   ]
  },
  {
   "cell_type": "code",
   "execution_count": 117,
   "metadata": {},
   "outputs": [
    {
     "name": "stdout",
     "output_type": "stream",
     "text": [
      "    Name  Age Status\n",
      "0  Adamu   25  Adult\n",
      "1   Bala   19  Adult\n"
     ]
    }
   ],
   "source": [
    "data = {\"Name\": [\"Adamu\", \"Bala\"], \"Age\": [25, 19]}\n",
    "df = pd.DataFrame(data)\n",
    "df[\"Status\"] = [\"Adult\" if age >= 18 else \"Minor\" for age in df[\"Age\"]]\n",
    "print(df)"
   ]
  },
  {
   "cell_type": "markdown",
   "metadata": {},
   "source": [
    "_Create a new feature dynamically_"
   ]
  },
  {
   "cell_type": "code",
   "execution_count": 118,
   "metadata": {},
   "outputs": [
    {
     "name": "stdout",
     "output_type": "stream",
     "text": [
      "[1.7320508075688772, 0, 0, 2.23606797749979]\n"
     ]
    }
   ],
   "source": [
    "import numpy as np\n",
    "data = [3, -1, 0, 5]\n",
    "processed_data = [np.sqrt(x) if x > 0 else 0 for x in data]\n",
    "print(processed_data)  # Output: [1.7320508075688772, 0, 0, 2.23606797749979]"
   ]
  },
  {
   "cell_type": "markdown",
   "metadata": {},
   "source": [
    "_Plot styling based on conditions_"
   ]
  },
  {
   "cell_type": "code",
   "execution_count": 119,
   "metadata": {},
   "outputs": [
    {
     "data": {
      "image/png": "[encoded data removed]",
      "text/plain": [
       "<Figure size 640x480 with 1 Axes>"
      ]
     },
     "metadata": {},
     "output_type": "display_data"
    }
   ],
   "source": [
    "import matplotlib.pyplot as plt\n",
    "\n",
    "style = \"dark\"\n",
    "plt.style.use(\"dark_background\" if style == \"dark\" else \"default\")\n",
    "\n",
    "plt.plot([1, 2, 3], [4, 5, 6])\n",
    "plt.show()"
   ]
  },
  {
   "cell_type": "markdown",
   "metadata": {},
   "source": [
    "_Automated model selection_"
   ]
  },
  {
   "cell_type": "code",
   "execution_count": 120,
   "metadata": {},
   "outputs": [
    {
     "name": "stdout",
     "output_type": "stream",
     "text": [
      "LogisticRegression()\n"
     ]
    }
   ],
   "source": [
    "from sklearn.linear_model import LogisticRegression\n",
    "from sklearn.ensemble import RandomForestClassifier\n",
    "\n",
    "dataset_size = 500\n",
    "model = RandomForestClassifier() if dataset_size > 1000 else LogisticRegression()\n",
    "print(model)  # Output: LogisticRegression()"
   ]
  },
  {
   "cell_type": "markdown",
   "metadata": {},
   "source": [
    "_Dynamic hyperparameter tuning_"
   ]
  },
  {
   "cell_type": "code",
   "execution_count": 121,
   "metadata": {},
   "outputs": [
    {
     "name": "stdout",
     "output_type": "stream",
     "text": [
      "15\n"
     ]
    }
   ],
   "source": [
    "max_depth = 15\n",
    "final_depth = max_depth if max_depth < 20 else 20\n",
    "print(final_depth)  # Output: 15"
   ]
  },
  {
   "cell_type": "markdown",
   "metadata": {},
   "source": [
    "_Dynamic column renaming in Pandas_"
   ]
  },
  {
   "cell_type": "code",
   "execution_count": 122,
   "metadata": {},
   "outputs": [
    {
     "name": "stdout",
     "output_type": "stream",
     "text": [
      "   Column_A\n",
      "0         1\n",
      "1         2\n",
      "2         3\n"
     ]
    }
   ],
   "source": [
    "df = pd.DataFrame({\"A\": [1, 2, 3]})\n",
    "new_column_name = \"Column_A\" if \"A\" in df.columns else \"Default_Column\"\n",
    "df.rename(columns={\"A\": new_column_name}, inplace=True)\n",
    "print(df)"
   ]
  },
  {
   "cell_type": "markdown",
   "metadata": {},
   "source": [
    "_Optimize batch size for large datasets_"
   ]
  },
  {
   "cell_type": "code",
   "execution_count": 123,
   "metadata": {},
   "outputs": [
    {
     "name": "stdout",
     "output_type": "stream",
     "text": [
      "128\n"
     ]
    }
   ],
   "source": [
    "dataset_size = 10_000\n",
    "batch_size = 512 if dataset_size > 100_000 else 128\n",
    "print(batch_size)  # Output: 128"
   ]
  },
  {
   "cell_type": "markdown",
   "metadata": {},
   "source": [
    "_Real-time classification_"
   ]
  },
  {
   "cell_type": "code",
   "execution_count": 124,
   "metadata": {},
   "outputs": [
    {
     "name": "stdout",
     "output_type": "stream",
     "text": [
      "Medium\n"
     ]
    }
   ],
   "source": [
    "value = 0.7\n",
    "category = \"High\" if value > 0.8 else \"Medium\" if value > 0.5 else \"Low\"\n",
    "print(category)  # Output: Medium"
   ]
  },
  {
   "cell_type": "markdown",
   "metadata": {},
   "source": [
    "_Check a dictionary for a key_"
   ]
  },
  {
   "cell_type": "code",
   "execution_count": 125,
   "metadata": {},
   "outputs": [
    {
     "name": "stdout",
     "output_type": "stream",
     "text": [
      "Name: Adamu\n"
     ]
    }
   ],
   "source": [
    "person = {\"name\": \"Adamu\", \"age\": 3000}\n",
    "if \"name\" in person:\n",
    "    print(f\"Name: {person['name']}\")\n",
    "else:\n",
    "    print(\"Name not found.\")"
   ]
  },
  {
   "cell_type": "code",
   "execution_count": 126,
   "metadata": {},
   "outputs": [
    {
     "name": "stdout",
     "output_type": "stream",
     "text": [
      "Name not found.\n"
     ]
    }
   ],
   "source": [
    "person = {\"names\": \"Adamu\", \"age\": 30}\n",
    "if \"name\" in person:\n",
    "    print(f\"Name: {person['name']}\")\n",
    "else:\n",
    "    print(\"Name not found.\")"
   ]
  },
  {
   "cell_type": "markdown",
   "metadata": {},
   "source": [
    "_Compare two lists element-wise_"
   ]
  },
  {
   "cell_type": "code",
   "execution_count": 127,
   "metadata": {},
   "outputs": [
    {
     "name": "stdout",
     "output_type": "stream",
     "text": [
      "The lists are different.\n"
     ]
    }
   ],
   "source": [
    "list1 = [1, 2, 3]\n",
    "list2 = [1, 2, 4]\n",
    "if list1 == list2:\n",
    "    print(\"The lists are identical.\")\n",
    "else:\n",
    "    print(\"The lists are different.\")"
   ]
  },
  {
   "cell_type": "code",
   "execution_count": 128,
   "metadata": {},
   "outputs": [
    {
     "name": "stdout",
     "output_type": "stream",
     "text": [
      "The lists are identical.\n"
     ]
    }
   ],
   "source": [
    "list1 = [1, 2, 3]\n",
    "list2 = [1, 2, 3]\n",
    "if list1 == list2:\n",
    "    print(\"The lists are identical.\")\n",
    "else:\n",
    "    print(\"The lists are different.\")\n"
   ]
  },
  {
   "cell_type": "code",
   "execution_count": 129,
   "metadata": {},
   "outputs": [
    {
     "name": "stdout",
     "output_type": "stream",
     "text": [
      "The lists are different.\n"
     ]
    }
   ],
   "source": [
    "list1 = [1, 2, 3]\n",
    "list2 = [1, 3, 4]\n",
    "if list1 == list2:\n",
    "    print(\"The lists are identical.\")\n",
    "else:\n",
    "    print(\"The lists are different.\")"
   ]
  },
  {
   "cell_type": "markdown",
   "metadata": {},
   "source": [
    "_Using if with unpacking_"
   ]
  },
  {
   "cell_type": "code",
   "execution_count": 130,
   "metadata": {},
   "outputs": [
    {
     "name": "stdout",
     "output_type": "stream",
     "text": [
      "a is less than b, and b is less than c.\n"
     ]
    }
   ],
   "source": [
    "a, b, c = 5, 10, 15\n",
    "if a < b < c:\n",
    "    print(\"a is less than b, and b is less than c.\")"
   ]
  },
  {
   "cell_type": "markdown",
   "metadata": {},
   "source": [
    "_Custom function within an if_"
   ]
  },
  {
   "cell_type": "code",
   "execution_count": 131,
   "metadata": {},
   "outputs": [
    {
     "name": "stdout",
     "output_type": "stream",
     "text": [
      "Even number.\n"
     ]
    }
   ],
   "source": [
    "def is_even(n):\n",
    "    return n % 2 == 0\n",
    "\n",
    "number = 8\n",
    "if is_even(number):\n",
    "    print(\"Even number.\")\n",
    "else:\n",
    "    print(\"Odd number.\")"
   ]
  },
  {
   "cell_type": "code",
   "execution_count": 132,
   "metadata": {},
   "outputs": [
    {
     "ename": "ValueError",
     "evalue": "invalid literal for int() with base 10: ''",
     "output_type": "error",
     "traceback": [
      "\u001b[1;31m---------------------------------------------------------------------------\u001b[0m",
      "\u001b[1;31mValueError\u001b[0m                                Traceback (most recent call last)",
      "Cell \u001b[1;32mIn[132], line 1\u001b[0m\n\u001b[1;32m----> 1\u001b[0m num  \u001b[38;5;241m=\u001b[39m \u001b[38;5;28;43mint\u001b[39;49m\u001b[43m(\u001b[49m\u001b[38;5;28;43minput\u001b[39;49m\u001b[43m(\u001b[49m\u001b[38;5;124;43m\"\u001b[39;49m\u001b[38;5;124;43mEnter a number: \u001b[39;49m\u001b[38;5;124;43m\"\u001b[39;49m\u001b[43m)\u001b[49m\u001b[43m)\u001b[49m\n\u001b[0;32m      3\u001b[0m \u001b[38;5;28;01mif\u001b[39;00m is_even(num):\n\u001b[0;32m      4\u001b[0m     \u001b[38;5;28mprint\u001b[39m(\u001b[38;5;124mf\u001b[39m\u001b[38;5;124m\"\u001b[39m\u001b[38;5;124mThe number given is \u001b[39m\u001b[38;5;132;01m{\u001b[39;00mnum\u001b[38;5;132;01m}\u001b[39;00m\u001b[38;5;124m which is Even number\u001b[39m\u001b[38;5;124m\"\u001b[39m)\n",
      "\u001b[1;31mValueError\u001b[0m: invalid literal for int() with base 10: ''"
     ]
    }
   ],
   "source": [
    "num  = int(input(\"Enter a number: \"))\n",
    "\n",
    "if is_even(num):\n",
    "    print(f\"The number given is {num} which is Even number\")\n",
    "else:\n",
    "    print(f\"the number given is {num} which is Odd number\")    \n"
   ]
  },
  {
   "cell_type": "code",
   "execution_count": 56,
   "metadata": {},
   "outputs": [
    {
     "name": "stdout",
     "output_type": "stream",
     "text": [
      "The number given is 40 which is Even number\n"
     ]
    }
   ],
   "source": [
    "num  = int(input(\"Enter a number: \"))\n",
    "\n",
    "if is_even(num):\n",
    "    print(f\"The number given is {num} which is Even number\")\n",
    "else:\n",
    "    print(f\"the number given is {num} which is Odd number\")    "
   ]
  },
  {
   "cell_type": "markdown",
   "metadata": {},
   "source": [
    "_Conditional based on a user input_"
   ]
  },
  {
   "cell_type": "code",
   "execution_count": 57,
   "metadata": {},
   "outputs": [
    {
     "name": "stdout",
     "output_type": "stream",
     "text": [
      "You are an adult.\n"
     ]
    }
   ],
   "source": [
    "age = int(input(\"Enter your age: \"))\n",
    "if age >= 18:\n",
    "    print(\"You are an adult.\")\n",
    "else:\n",
    "    print(\"You are a minor.\")"
   ]
  },
  {
   "cell_type": "code",
   "execution_count": 58,
   "metadata": {},
   "outputs": [
    {
     "name": "stdout",
     "output_type": "stream",
     "text": [
      "You are an adult.\n"
     ]
    }
   ],
   "source": [
    "age = int(input(\"Enter your age: \"))\n",
    "if age >= 18:\n",
    "    print(\"You are an adult.\")\n",
    "else:\n",
    "    print(\"You are a minor.\")"
   ]
  },
  {
   "cell_type": "code",
   "execution_count": 59,
   "metadata": {},
   "outputs": [
    {
     "name": "stdout",
     "output_type": "stream",
     "text": [
      "You are a minor.\n"
     ]
    }
   ],
   "source": [
    "age = int(input(\"Enter your age: \"))\n",
    "if age >= 18:\n",
    "    print(\"You are an adult.\")\n",
    "else:\n",
    "    print(\"You are a minor.\")"
   ]
  },
  {
   "cell_type": "markdown",
   "metadata": {},
   "source": [
    "_Check complex nested conditions in real-world scenarios_"
   ]
  },
  {
   "cell_type": "code",
   "execution_count": 60,
   "metadata": {},
   "outputs": [
    {
     "name": "stdout",
     "output_type": "stream",
     "text": [
      "It's hot and humid.\n"
     ]
    }
   ],
   "source": [
    "temperature = 35\n",
    "humidity = 70\n",
    "\n",
    "if temperature > 30:\n",
    "    if humidity > 60:\n",
    "        print(\"It's hot and humid.\")\n",
    "    else:\n",
    "        print(\"It's hot but not humid.\")\n",
    "else:\n",
    "    print(\"Temperature is comfortable.\")"
   ]
  },
  {
   "cell_type": "code",
   "execution_count": 61,
   "metadata": {},
   "outputs": [
    {
     "name": "stdout",
     "output_type": "stream",
     "text": [
      "It's hot but not humid.\n"
     ]
    }
   ],
   "source": [
    "temperature = 35\n",
    "humidity = 70\n",
    "\n",
    "if temperature > 30:\n",
    "    if humidity < 60:\n",
    "        print(\"It's hot and humid.\")\n",
    "    else:\n",
    "        print(\"It's hot but not humid.\")\n",
    "else:\n",
    "    print(\"Temperature is comfortable.\")"
   ]
  },
  {
   "cell_type": "code",
   "execution_count": 62,
   "metadata": {},
   "outputs": [
    {
     "name": "stdout",
     "output_type": "stream",
     "text": [
      "Temperature is comfortable.\n"
     ]
    }
   ],
   "source": [
    "temperature = 35\n",
    "humidity = 70\n",
    "\n",
    "if temperature < 30:\n",
    "    if humidity > 60:\n",
    "        print(\"It's hot and humid.\")\n",
    "    else:\n",
    "        print(\"It's hot but not humid.\")\n",
    "else:\n",
    "    print(\"Temperature is comfortable.\")\n"
   ]
  },
  {
   "cell_type": "markdown",
   "metadata": {},
   "source": [
    "_Handle missing values in a DataFrame_"
   ]
  },
  {
   "cell_type": "code",
   "execution_count": 63,
   "metadata": {},
   "outputs": [
    {
     "name": "stdout",
     "output_type": "stream",
     "text": [
      "The DataFrame contains missing values.\n"
     ]
    }
   ],
   "source": [
    "import pandas as pd\n",
    "\n",
    "data = {\"name\": [\"Adamu\", None], \"age\": [25, None]}\n",
    "df = pd.DataFrame(data)\n",
    "\n",
    "if df.isnull().values.any():\n",
    "    print(\"The DataFrame contains missing values.\")\n",
    "else:\n",
    "    print(\"No missing values.\")"
   ]
  },
  {
   "cell_type": "code",
   "execution_count": 64,
   "metadata": {},
   "outputs": [
    {
     "name": "stdout",
     "output_type": "stream",
     "text": [
      "No missing values.\n"
     ]
    }
   ],
   "source": [
    "import pandas as pd\n",
    "\n",
    "data = {\"name\": [\"Adamu\", \"Labaran\"], \"age\": [25, 790]}\n",
    "df = pd.DataFrame(data)\n",
    "\n",
    "if df.isnull().values.any():\n",
    "    print(\"The DataFrame contains missing values.\")\n",
    "else:\n",
    "    print(\"No missing values.\")"
   ]
  },
  {
   "cell_type": "markdown",
   "metadata": {},
   "source": [
    "_Dynamic pricing based on conditions_"
   ]
  },
  {
   "cell_type": "code",
   "execution_count": 133,
   "metadata": {},
   "outputs": [
    {
     "name": "stdout",
     "output_type": "stream",
     "text": [
      "You are premium user\n",
      "Your discount is: 20%\n"
     ]
    }
   ],
   "source": [
    "customer_type = \"premium\"\n",
    "purchase_amount = 100\n",
    "\n",
    "if customer_type == \"premium\" and purchase_amount > 50:\n",
    "    discount = 20\n",
    "    print(\"You are premium user\")\n",
    "elif customer_type == \"regular\" and purchase_amount > 100:\n",
    "    discount = 10\n",
    "    print(\"your are regular user\")\n",
    "else:\n",
    "    discount = 0\n",
    "\n",
    "print(f\"Your discount is: {discount}%\")"
   ]
  },
  {
   "cell_type": "markdown",
   "metadata": {},
   "source": [
    "_Decision-making based on API responses_"
   ]
  },
  {
   "cell_type": "code",
   "execution_count": 134,
   "metadata": {},
   "outputs": [
    {
     "name": "stdout",
     "output_type": "stream",
     "text": [
      "Request successful.\n"
     ]
    }
   ],
   "source": [
    "import requests\n",
    "\n",
    "response = requests.get(\"https://jsonplaceholder.typicode.com/posts\")\n",
    "if response.status_code == 200:\n",
    "    print(\"Request successful.\")\n",
    "else:\n",
    "    print(f\"Request failed with status code: {response.status_code}\")"
   ]
  },
  {
   "cell_type": "code",
   "execution_count": 135,
   "metadata": {},
   "outputs": [
    {
     "name": "stdout",
     "output_type": "stream",
     "text": [
      "Request failed with status code: 200\n"
     ]
    }
   ],
   "source": [
    "import requests\n",
    "\n",
    "response = requests.get(\"https://jsonplaceholder.typicode.com/posts\")\n",
    "if response.status_code == 404:\n",
    "    print(\"Request successful.\")\n",
    "else:\n",
    "    print(f\"Request failed with status code: {response.status_code}\")\n"
   ]
  },
  {
   "cell_type": "markdown",
   "metadata": {},
   "source": [
    "_Using if with a generator_"
   ]
  },
  {
   "cell_type": "code",
   "execution_count": 136,
   "metadata": {},
   "outputs": [
    {
     "name": "stdout",
     "output_type": "stream",
     "text": [
      "0 is even.\n",
      "1 is odd.\n",
      "2 is even.\n",
      "3 is odd.\n",
      "4 is even.\n"
     ]
    }
   ],
   "source": [
    "def number_generator(limit):\n",
    "    for i in range(limit):\n",
    "        yield i\n",
    "\n",
    "for number in number_generator(5):\n",
    "    if number % 2 == 0:\n",
    "        print(f\"{number} is even.\")\n",
    "    else:\n",
    "        print(f\"{number} is odd.\")"
   ]
  },
  {
   "cell_type": "markdown",
   "metadata": {},
   "source": [
    "_Match cases with pattern matching (Python 3.10+)_"
   ]
  },
  {
   "cell_type": "code",
   "execution_count": 137,
   "metadata": {},
   "outputs": [
    {
     "name": "stdout",
     "output_type": "stream",
     "text": [
      "Not Found\n"
     ]
    }
   ],
   "source": [
    "status_code = 404\n",
    "\n",
    "match status_code:\n",
    "    case 200:\n",
    "        print(\"OK\")\n",
    "    case 404:\n",
    "        print(\"Not Found\")\n",
    "    case _:\n",
    "        print(\"Unknown Status\")"
   ]
  },
  {
   "cell_type": "markdown",
   "metadata": {},
   "source": [
    "_Object-oriented decision-making_"
   ]
  },
  {
   "cell_type": "code",
   "execution_count": 138,
   "metadata": {},
   "outputs": [
    {
     "name": "stdout",
     "output_type": "stream",
     "text": [
      "Your account is empty.\n"
     ]
    }
   ],
   "source": [
    "class Account:\n",
    "    def __init__(self, balance):\n",
    "        self.balance = balance\n",
    "\n",
    "    def check_balance(self):\n",
    "        if self.balance < 0:\n",
    "            print(\"Your account is empty.\")\n",
    "        else:\n",
    "            print(f\"Your balance is ${self.balance}.\")\n",
    "\n",
    "account = Account(-50)\n",
    "account.check_balance()\n"
   ]
  },
  {
   "cell_type": "code",
   "execution_count": 139,
   "metadata": {},
   "outputs": [
    {
     "name": "stdout",
     "output_type": "stream",
     "text": [
      "Your balance is $50.\n"
     ]
    }
   ],
   "source": [
    "class Account:\n",
    "    def __init__(self, balance):\n",
    "        self.balance = balance\n",
    "\n",
    "    def check_balance(self):\n",
    "        if self.balance < 0:\n",
    "            print(\"Your account is empty.\")\n",
    "        else:\n",
    "            print(f\"Your balance is ${self.balance}.\")\n",
    "\n",
    "account = Account(50)\n",
    "account.check_balance()\n"
   ]
  },
  {
   "cell_type": "markdown",
   "metadata": {},
   "source": [
    "_Complex data workflows with if_"
   ]
  },
  {
   "cell_type": "code",
   "execution_count": 140,
   "metadata": {},
   "outputs": [
    {
     "name": "stdout",
     "output_type": "stream",
     "text": [
      "[2, 4]\n",
      "{'b': 2, 'c': 3}\n"
     ]
    }
   ],
   "source": [
    "def preprocess_data(data):\n",
    "    if isinstance(data, list):\n",
    "        return [x for x in data if x % 2 == 0]\n",
    "    elif isinstance(data, dict):\n",
    "        return {k: v for k, v in data.items() if v > 0}\n",
    "    else:\n",
    "        return \"Unsupported data type.\"\n",
    "\n",
    "data_list = [1, 2, 3, 4, 5]\n",
    "data_dict = {\"a\": -1, \"b\": 2, \"c\": 3}\n",
    "print(preprocess_data(data_list))  # Output: [2, 4]\n",
    "print(preprocess_data(data_dict))  # Output: {'b': 2, 'c': 3}"
   ]
  },
  {
   "cell_type": "markdown",
   "metadata": {},
   "source": [
    "_Check data for missing values_"
   ]
  },
  {
   "cell_type": "code",
   "execution_count": 141,
   "metadata": {},
   "outputs": [
    {
     "name": "stdout",
     "output_type": "stream",
     "text": [
      "The dataset contains missing values.\n"
     ]
    }
   ],
   "source": [
    "import pandas as pd\n",
    "\n",
    "data = {\"name\": [\"Adamu\", \"Bala\", None], \"age\": [25, None, 30]}\n",
    "df = pd.DataFrame(data)\n",
    "\n",
    "if df.isnull().values.any():\n",
    "    print(\"The dataset contains missing values.\")\n",
    "else:\n",
    "    print(\"No missing values.\")"
   ]
  },
  {
   "cell_type": "code",
   "execution_count": 142,
   "metadata": {},
   "outputs": [
    {
     "name": "stdout",
     "output_type": "stream",
     "text": [
      "No missing values.\n"
     ]
    }
   ],
   "source": [
    "import pandas as pd\n",
    "\n",
    "data = {\"name\": [\"Adamu\", \"Bala\", \"Idris\"], \"age\": [25, 28, 30]}\n",
    "df = pd.DataFrame(data)\n",
    "\n",
    "if df.isnull().values.any():\n",
    "    print(\"The dataset contains missing values.\")\n",
    "else:\n",
    "    print(\"No missing values.\")"
   ]
  },
  {
   "cell_type": "markdown",
   "metadata": {},
   "source": [
    "_Filter rows in a dataset_"
   ]
  },
  {
   "cell_type": "code",
   "execution_count": 143,
   "metadata": {},
   "outputs": [
    {
     "name": "stdout",
     "output_type": "stream",
     "text": [
      "Some people are underage.\n"
     ]
    }
   ],
   "source": [
    "df = pd.DataFrame({\"Name\": [\"Adamu\", \"Bala\", \"Charles\"], \"Age\": [25, 17, 35]})\n",
    "\n",
    "# Check if anyone is below 18\n",
    "if (df[\"Age\"] < 18).any():\n",
    "    print(\"Some people are underage.\")\n",
    "else:\n",
    "    print(\"Everyone is 18 or older.\")"
   ]
  },
  {
   "cell_type": "code",
   "execution_count": 144,
   "metadata": {},
   "outputs": [
    {
     "name": "stdout",
     "output_type": "stream",
     "text": [
      "Everyone is 18 or older.\n"
     ]
    }
   ],
   "source": [
    "df = pd.DataFrame({\"Name\": [\"Adamu\", \"Bala\", \"Charles\"], \"Age\": [25, 20, 35]})\n",
    "\n",
    "# Check if anyone is below 18\n",
    "if (df[\"Age\"] < 18).any():\n",
    "    print(\"Some people are underage.\")\n",
    "else:\n",
    "    print(\"Everyone is 18 or older.\")"
   ]
  },
  {
   "cell_type": "markdown",
   "metadata": {},
   "source": [
    "_Apply conditional logic to new columns_"
   ]
  },
  {
   "cell_type": "code",
   "execution_count": 145,
   "metadata": {},
   "outputs": [
    {
     "name": "stdout",
     "output_type": "stream",
     "text": [
      "      Name  Score Pass\n",
      "0    Adamu     85  Yes\n",
      "1     Bala     40   No\n",
      "2  Charles     72  Yes\n"
     ]
    }
   ],
   "source": [
    "df = pd.DataFrame({\"Name\": [\"Adamu\", \"Bala\", \"Charles\"], \"Score\": [85, 40, 72]})\n",
    "\n",
    "df[\"Pass\"] = df[\"Score\"].apply(lambda x: \"Yes\" if x >= 50 else \"No\")\n",
    "print(df)\n"
   ]
  },
  {
   "cell_type": "markdown",
   "metadata": {},
   "source": [
    "_Decision based on statistical tests_"
   ]
  },
  {
   "cell_type": "code",
   "execution_count": 146,
   "metadata": {},
   "outputs": [
    {
     "name": "stdout",
     "output_type": "stream",
     "text": [
      "Fail to reject the null hypothesis: The sample mean is not significantly different.\n"
     ]
    }
   ],
   "source": [
    "import numpy as np\n",
    "from scipy.stats import ttest_1samp\n",
    "\n",
    "data = [2.3, 2.5, 2.7, 2.8, 3.0]\n",
    "t_stat, p_value = ttest_1samp(data, 2.5)\n",
    "\n",
    "if p_value < 0.05:\n",
    "    print(\"Reject the null hypothesis: The sample mean is significantly different.\")\n",
    "else:\n",
    "    print(\"Fail to reject the null hypothesis: The sample mean is not significantly different.\")"
   ]
  },
  {
   "cell_type": "markdown",
   "metadata": {},
   "source": [
    "_Dynamic data visualization_"
   ]
  },
  {
   "cell_type": "code",
   "execution_count": 147,
   "metadata": {},
   "outputs": [
    {
     "data": {
      "image/png": "[encoded data removed]",
      "text/plain": [
       "<Figure size 640x480 with 1 Axes>"
      ]
     },
     "metadata": {},
     "output_type": "display_data"
    }
   ],
   "source": [
    "import matplotlib.pyplot as plt\n",
    "\n",
    "plot_type = \"scatter\"\n",
    "\n",
    "if plot_type == \"line\":\n",
    "    plt.plot([1, 2, 3], [4, 5, 6])\n",
    "elif plot_type == \"scatter\":\n",
    "    plt.scatter([1, 2, 3], [4, 5, 6])\n",
    "else:\n",
    "    print(\"Invalid plot type.\")\n",
    "plt.show()"
   ]
  },
  {
   "cell_type": "markdown",
   "metadata": {},
   "source": [
    "_Conditional preprocessing pipelines_"
   ]
  },
  {
   "cell_type": "code",
   "execution_count": 148,
   "metadata": {},
   "outputs": [
    {
     "name": "stdout",
     "output_type": "stream",
     "text": [
      "   Feature1  Feature2\n",
      "0 -1.224745 -1.224745\n",
      "1  0.000000  0.000000\n",
      "2  1.224745  1.224745\n"
     ]
    }
   ],
   "source": [
    "from sklearn.preprocessing import StandardScaler, MinMaxScaler\n",
    "import pandas as pd\n",
    "\n",
    "df = pd.DataFrame({\"Feature1\": [1, 2, 3], \"Feature2\": [100, 200, 300]})\n",
    "scaling_type = \"standard\"\n",
    "\n",
    "if scaling_type == \"standard\":\n",
    "    scaler = StandardScaler()\n",
    "elif scaling_type == \"minmax\":\n",
    "    scaler = MinMaxScaler()\n",
    "else:\n",
    "    print(\"Invalid scaling type.\")\n",
    "    scaler = None\n",
    "\n",
    "if scaler:\n",
    "    df_scaled = pd.DataFrame(scaler.fit_transform(df), columns=df.columns)\n",
    "    print(df_scaled)"
   ]
  },
  {
   "cell_type": "markdown",
   "metadata": {},
   "source": [
    "_Threshold-based model evaluation_"
   ]
  },
  {
   "cell_type": "code",
   "execution_count": 149,
   "metadata": {},
   "outputs": [
    {
     "name": "stdout",
     "output_type": "stream",
     "text": [
      "Model has acceptable accuracy.\n"
     ]
    }
   ],
   "source": [
    "from sklearn.metrics import accuracy_score\n",
    "\n",
    "y_true = [0, 1, 1, 0, 1]\n",
    "y_pred = [0, 1, 1, 0, 0]\n",
    "accuracy = accuracy_score(y_true, y_pred)\n",
    "\n",
    "if accuracy >= 0.9:\n",
    "    print(\"Model is highly accurate.\")\n",
    "elif 0.7 <= accuracy < 0.9:\n",
    "    print(\"Model has acceptable accuracy.\")\n",
    "else:\n",
    "    print(\"Model needs improvement.\")"
   ]
  },
  {
   "cell_type": "markdown",
   "metadata": {},
   "source": [
    "_Custom logic in hyperparameter tuning_"
   ]
  },
  {
   "cell_type": "code",
   "execution_count": 150,
   "metadata": {},
   "outputs": [
    {
     "name": "stdout",
     "output_type": "stream",
     "text": [
      "RandomForestClassifier(max_depth=10)\n"
     ]
    }
   ],
   "source": [
    "from sklearn.ensemble import RandomForestClassifier\n",
    "\n",
    "max_depth = 10\n",
    "if max_depth > 15:\n",
    "    model = RandomForestClassifier(max_depth=15)  # Limit max depth\n",
    "else:\n",
    "    model = RandomForestClassifier(max_depth=max_depth)\n",
    "print(model)"
   ]
  },
  {
   "cell_type": "markdown",
   "metadata": {},
   "source": [
    "_Real-time data streaming decision-making_"
   ]
  },
  {
   "cell_type": "code",
   "execution_count": 151,
   "metadata": {},
   "outputs": [
    {
     "name": "stdout",
     "output_type": "stream",
     "text": [
      "Value: 0.27, Classification: Low\n",
      "Value: 0.14, Classification: Low\n",
      "Value: 0.58, Classification: Medium\n",
      "Value: 0.40, Classification: Low\n",
      "Value: 0.02, Classification: Low\n"
     ]
    }
   ],
   "source": [
    "import random\n",
    "\n",
    "def classify_streaming_data(value):\n",
    "    if value > 0.8:\n",
    "        return \"High\"\n",
    "    elif value > 0.5:\n",
    "        return \"Medium\"\n",
    "    else:\n",
    "        return \"Low\"\n",
    "\n",
    "# Simulate streaming data\n",
    "for _ in range(5):\n",
    "    value = random.random()\n",
    "    print(f\"Value: {value:.2f}, Classification: {classify_streaming_data(value)}\")"
   ]
  },
  {
   "cell_type": "markdown",
   "metadata": {},
   "source": [
    "_Dynamic feature engineering_"
   ]
  },
  {
   "cell_type": "code",
   "execution_count": 152,
   "metadata": {},
   "outputs": [
    {
     "name": "stdout",
     "output_type": "stream",
     "text": [
      "    A   B   C\n",
      "0  10   5  15\n",
      "1  20  15  35\n",
      "2  30  25  55\n"
     ]
    }
   ],
   "source": [
    "import pandas as pd\n",
    "\n",
    "df = pd.DataFrame({\"A\": [10, 20, 30], \"B\": [5, 15, 25]})\n",
    "add_new_feature = True\n",
    "\n",
    "if add_new_feature:\n",
    "    df[\"C\"] = df[\"A\"] + df[\"B\"]  # Add a new feature based on condition\n",
    "print(df)"
   ]
  },
  {
   "cell_type": "markdown",
   "metadata": {},
   "source": [
    "_Conditional model selection in machine learning_"
   ]
  },
  {
   "cell_type": "code",
   "execution_count": 153,
   "metadata": {},
   "outputs": [
    {
     "name": "stdout",
     "output_type": "stream",
     "text": [
      "Using model: RandomForestClassifier\n"
     ]
    }
   ],
   "source": [
    "from sklearn.linear_model import LogisticRegression\n",
    "from sklearn.ensemble import RandomForestClassifier\n",
    "\n",
    "dataset_size = 1000\n",
    "\n",
    "if dataset_size < 500:\n",
    "    model = LogisticRegression()\n",
    "else:\n",
    "    model = RandomForestClassifier()\n",
    "\n",
    "print(f\"Using model: {model.__class__.__name__}\")\n"
   ]
  },
  {
   "cell_type": "markdown",
   "metadata": {},
   "source": [
    "_Anomaly detection thresholds_"
   ]
  },
  {
   "cell_type": "code",
   "execution_count": 154,
   "metadata": {},
   "outputs": [
    {
     "name": "stdout",
     "output_type": "stream",
     "text": [
      "No anomalies detected.\n"
     ]
    }
   ],
   "source": [
    "import numpy as np\n",
    "\n",
    "data = [1.2, 1.4, 1.6, 10.0, 1.8]\n",
    "mean = np.mean(data)\n",
    "std = np.std(data)\n",
    "\n",
    "anomalies = [x for x in data if abs(x - mean) > 2 * std]\n",
    "if anomalies:\n",
    "    print(f\"Anomalies detected: {anomalies}\")\n",
    "else:\n",
    "    print(\"No anomalies detected.\")"
   ]
  },
  {
   "cell_type": "markdown",
   "metadata": {},
   "source": [
    "_Conditional deployment of machine learning models_"
   ]
  },
  {
   "cell_type": "code",
   "execution_count": 155,
   "metadata": {},
   "outputs": [
    {
     "name": "stdout",
     "output_type": "stream",
     "text": [
      "Deploying the model to staging.\n"
     ]
    }
   ],
   "source": [
    "model_accuracy = 0.85\n",
    "\n",
    "if model_accuracy > 0.9:\n",
    "    print(\"Deploying the model to production.\")\n",
    "elif 0.8 <= model_accuracy <= 0.9:\n",
    "    print(\"Deploying the model to staging.\")\n",
    "else:\n",
    "    print(\"Improving the model before deployment.\")"
   ]
  },
  {
   "cell_type": "markdown",
   "metadata": {},
   "source": [
    "__Pyton Crash Course by Eric Matthes__\n",
    "\n",
    "@laB$_97\n",
    "\n",
    "__5 I F   S T A T E M E N T S__\n",
    "\n",
    ">Programming often involves examining a set of conditions and deciding which action to take based on those conditions. \n",
    "\n",
    ">Python’s if statement allows you to examine the current state of a program and respond appro-priately to that state.\n",
    "\n",
    ">In this chapter, you’ll learn to write conditional tests, which allow you to check any condition of interest. \n",
    "\n",
    ">You’ll learn to write simple if statements, and you’ll learn how to create a more complex series of if statements to identify when the exact conditions you want are present. \n",
    "\n",
    ">You’ll then apply this concept to lists, so you’ll be able to write a for loop that handles most items in a list one way but handles certain items with specific values in a dif-ferent way."
   ]
  },
  {
   "cell_type": "markdown",
   "metadata": {},
   "source": [
    "__A Simple Example__\n",
    "\n",
    ">The following example shows how if tests let you respond to special situations correctly. \n",
    "\n",
    ">Imagine you have a list of cars and you want to print out the name of each car. \n",
    "\n",
    ">Car names are proper names, so the names of most cars should be printed in title case. \n",
    "\n",
    ">However, the value 'bmw' should be printed in all uppercase. \n",
    "\n",
    ">The following code loops through a list of car names and looks for the value 'bmw'. \n",
    "\n",
    ">Whenever the value is 'bmw', it’s printed in upper-case instead of title case:"
   ]
  },
  {
   "cell_type": "code",
   "execution_count": null,
   "metadata": {},
   "outputs": [
    {
     "name": "stdout",
     "output_type": "stream",
     "text": [
      "Audi\n",
      "BMW\n",
      "Subaru\n",
      "Toyota\n"
     ]
    }
   ],
   "source": [
    "cars = ['audi', 'bmw', 'subaru', 'toyota']\n",
    "for car in cars:\n",
    "    if car == 'bmw':\n",
    "        print(car.upper())\n",
    "    else:\n",
    "        print(car.title())"
   ]
  },
  {
   "cell_type": "markdown",
   "metadata": {},
   "source": [
    ">The loop in this example first checks if the current value of car is 'bmw' \n",
    "\n",
    ">1. If it is, the value is printed in uppercase. \n",
    "\n",
    ">If the value of car is anything other than 'bmw', it’s printed in title case: \n",
    "***\n",
    "Audi\n",
    "\n",
    "BMW\n",
    "\n",
    "Subaru\n",
    "\n",
    "Toyota\n",
    "***\n",
    ">This example combines a number of the concepts you’ll learn about in this chapter. \n",
    "\n",
    ">Let’s begin by looking at the kinds of tests you can use to examine the conditions in your program.\n"
   ]
  },
  {
   "cell_type": "markdown",
   "metadata": {},
   "source": [
    "__Conditional Tests__\n",
    "\n",
    ">At the heart of every if statement is an expression that can be evaluated as True or False and is called a conditional test.\n",
    "\n",
    ">Python uses the values True and False to decide whether the code in an if statement should be executed. \n",
    "\n",
    ">If a conditional test evaluates to True, Python executes the code following the if statement. \n",
    "\n",
    ">If the test evaluates to False, Python ignores the code following the if statement.\n",
    "\n",
    "__Checking for Equality__\n",
    "\n",
    ">Most conditional tests compare the current value of a variable to a specific value of interest. \n",
    "\n",
    ">The simplest conditional test checks whether the value of a variable is equal to the value of interest:"
   ]
  },
  {
   "cell_type": "code",
   "execution_count": null,
   "metadata": {},
   "outputs": [
    {
     "data": {
      "text/plain": [
       "True"
      ]
     },
     "metadata": {},
     "output_type": "display_data"
    }
   ],
   "source": [
    "car = 'bmw'\n",
    "\n",
    "car == 'bmw'"
   ]
  },
  {
   "cell_type": "markdown",
   "metadata": {},
   "source": [
    ">The first line sets the value of car to 'bmw' using a single equal sign, as you’ve seen many times already. \n",
    "\n",
    ">The next line checks whether the value of car is 'bmw' by using a double equal sign (==). \n",
    "\n",
    ">This equality operator returns True if the values on the left and right side of the operator match, and False if they don’t match. \n",
    "\n",
    ">The values in this example match, so Python returns True.When the value of car is anything other than 'bmw', this test returns False:"
   ]
  },
  {
   "cell_type": "code",
   "execution_count": null,
   "metadata": {},
   "outputs": [
    {
     "data": {
      "text/plain": [
       "False"
      ]
     },
     "metadata": {},
     "output_type": "display_data"
    }
   ],
   "source": [
    "car = 'audi'\n",
    "\n",
    "car == 'bmw'"
   ]
  },
  {
   "cell_type": "markdown",
   "metadata": {},
   "source": [
    ">A single equal sign is really a statement; you might read the first line of code here as “Set the value of car equal to 'audi'.” On the other hand, a double equal sign asks a question: “Is the value of car equal to 'bmw'?” Most programming languages use equal signs in this way."
   ]
  },
  {
   "cell_type": "markdown",
   "metadata": {},
   "source": [
    "__Ignoring Case When Checking for Equality__\n",
    "\n",
    ">Testing for equality is case sensitive in Python. For example, two values with different capitalization are not considered equal:"
   ]
  },
  {
   "cell_type": "code",
   "execution_count": null,
   "metadata": {},
   "outputs": [
    {
     "data": {
      "text/plain": [
       "False"
      ]
     },
     "metadata": {},
     "output_type": "display_data"
    }
   ],
   "source": [
    "car = 'Audi'\n",
    "car == 'audi'"
   ]
  },
  {
   "cell_type": "markdown",
   "metadata": {},
   "source": [
    ">If case matters, this behavior is advantageous. But if case doesn’t matter and instead you just want to test the value of a variable, you can convert the variable’s value to lowercase before doing the comparison:"
   ]
  },
  {
   "cell_type": "code",
   "execution_count": null,
   "metadata": {},
   "outputs": [
    {
     "data": {
      "text/plain": [
       "True"
      ]
     },
     "metadata": {},
     "output_type": "display_data"
    }
   ],
   "source": [
    "car = 'Audi'\n",
    "car.lower() == 'audi'"
   ]
  },
  {
   "cell_type": "markdown",
   "metadata": {},
   "source": [
    ">This test will return True no matter how the value 'Audi' is formatted because the test is now case insensitive. \n",
    "\n",
    ">The lower() method doesn’t change the value that was originally stored in car, so you can do this kind of com-parison without affecting the original variable:"
   ]
  },
  {
   "cell_type": "code",
   "execution_count": null,
   "metadata": {},
   "outputs": [
    {
     "data": {
      "text/plain": [
       "True"
      ]
     },
     "metadata": {},
     "output_type": "display_data"
    }
   ],
   "source": [
    "car = 'Audi'\n",
    "car.lower() == 'audi'"
   ]
  },
  {
   "cell_type": "code",
   "execution_count": null,
   "metadata": {},
   "outputs": [
    {
     "data": {
      "text/plain": [
       "'Audi'"
      ]
     },
     "metadata": {},
     "output_type": "display_data"
    }
   ],
   "source": [
    "car"
   ]
  },
  {
   "cell_type": "markdown",
   "metadata": {},
   "source": [
    ">We first assign the capitalized string 'Audi' to the variable car. \n",
    "\n",
    ">Then, we convert the value of car to lowercase and compare the lowercase value to the string 'audi'. \n",
    "\n",
    ">The two strings match, so Python returns True. We can see that the value stored in car has not been affected by the lower() method.\n",
    "\n",
    ">Websites enforce certain rules for the data that users enter in a manner similar to this. \n",
    "\n",
    ">For example, a site might use a conditional test like this to ensure that every user has a truly unique username, \n",
    "\n",
    ">not just a variation on the capitalization of another person’s username. \n",
    "\n",
    ">When someone submits a new username, that new username is converted to lowercase and compared to the lowercase versions of all existing usernames. \n",
    "\n",
    ">During this check, a user-name like 'John' will be rejected if any variation of 'john' is already in use."
   ]
  },
  {
   "cell_type": "markdown",
   "metadata": {},
   "source": [
    "__Checking for Inequality__\n",
    "\n",
    ">When you want to determine whether two values are not equal, you can use the inequality operator (!=). \n",
    "\n",
    ">Let’s use another if statement to examine how to use the inequality operator. \n",
    "\n",
    ">We’ll store a requested pizza topping in a vari-able and then print a message if the person did not order anchovies:"
   ]
  },
  {
   "cell_type": "code",
   "execution_count": null,
   "metadata": {},
   "outputs": [
    {
     "name": "stdout",
     "output_type": "stream",
     "text": [
      "Hold the anchovies!\n"
     ]
    }
   ],
   "source": [
    "requested_topping = 'mushrooms'\n",
    "if requested_topping != 'anchovies':\n",
    "    print(\"Hold the anchovies!\")"
   ]
  },
  {
   "cell_type": "markdown",
   "metadata": {},
   "source": [
    ">This code compares the value of requested_topping to the value 'anchovies'. \n",
    "\n",
    ">If these two values do not match, Python returns True and executes the code following the if statement. \n",
    "\n",
    ">If the two values match, Python returns False and does not run the code following the if statement.\n",
    "\n",
    ">Because the value of requested_topping is not 'anchovies', the print() function is executed:\n",
    "***\n",
    "Hold the anchovies!\n",
    "***\n",
    "\n",
    ">Most of the conditional expressions you write will test for equality, but sometimes you’ll find it more efficient to test for inequality."
   ]
  },
  {
   "cell_type": "markdown",
   "metadata": {},
   "source": [
    "__Numerical Comparisons__\n",
    "\n",
    ">Testing numerical values is pretty straightforward. For example, the follow-ing code checks whether a person is 18 years old:"
   ]
  },
  {
   "cell_type": "code",
   "execution_count": null,
   "metadata": {},
   "outputs": [
    {
     "data": {
      "text/plain": [
       "True"
      ]
     },
     "metadata": {},
     "output_type": "display_data"
    }
   ],
   "source": [
    "age = 18\n",
    "age == 18"
   ]
  },
  {
   "cell_type": "markdown",
   "metadata": {},
   "source": [
    ">You can also test to see if two numbers are not equal. For example, the following code prints a message if the given answer is not correct:"
   ]
  },
  {
   "cell_type": "code",
   "execution_count": null,
   "metadata": {},
   "outputs": [
    {
     "name": "stdout",
     "output_type": "stream",
     "text": [
      "That is not the correct answer. Please try again!\n"
     ]
    }
   ],
   "source": [
    "answer = 17\n",
    "if answer != 42:\n",
    "    print(\"That is not the correct answer. Please try again!\")"
   ]
  },
  {
   "cell_type": "markdown",
   "metadata": {},
   "source": [
    ">The conditional test passes, because the value of answer (17) is not equal to 42. Because the test passes, the indented code block is executed:\n",
    "***\n",
    "That is not the correct answer. Please try again!\n",
    "***\n",
    "\n",
    "_if Statements   75_\n",
    "\n",
    ">You can include various mathematical comparisons in your conditional statements as well, such as less than, less than or equal to, greater than, and greater than or equal to:"
   ]
  },
  {
   "cell_type": "code",
   "execution_count": null,
   "metadata": {},
   "outputs": [
    {
     "name": "stdout",
     "output_type": "stream",
     "text": [
      "True\n",
      "True\n",
      "False\n",
      "False\n"
     ]
    }
   ],
   "source": [
    "# Each mathematical comparison can be used as part of an if statement, which can help you detect the exact conditions of interest.\n",
    "age = 19\n",
    "print(age < 21)\n",
    "print(age <= 21)\n",
    "\n",
    "print(age > 21)\n",
    "print(age >= 21)"
   ]
  },
  {
   "cell_type": "markdown",
   "metadata": {},
   "source": [
    "__Checking Multiple Conditions__\n",
    "\n",
    ">You may want to check multiple conditions at the same time. For example, sometimes you might need two conditions to be True to take an action. \n",
    "\n",
    ">Other times, you might be satisfied with just one condition being True. \n",
    "\n",
    ">The keywords and and or can help you in these situations.\n",
    "\n",
    "__Using and to Check Multiple Conditions__\n",
    "\n",
    ">To check whether two conditions are both True simultaneously, use the key-word and to combine the two conditional tests; if each test passes, the overall expression evaluates to True. \n",
    "\n",
    ">If either test fails or if both tests fail, the expres-sion evaluates to False.For example, you can check whether two people are both over 21 by using the following test:"
   ]
  },
  {
   "cell_type": "code",
   "execution_count": null,
   "metadata": {},
   "outputs": [
    {
     "name": "stdout",
     "output_type": "stream",
     "text": [
      "False\n",
      "True\n"
     ]
    }
   ],
   "source": [
    "age_0 = 22\n",
    "age_1 = 18\n",
    "print(age_0 >= 21 and age_1 >= 21)\n",
    "\n",
    "age_1 = 22\n",
    "print(age_0 >= 21 and age_1 >= 21)"
   ]
  },
  {
   "cell_type": "markdown",
   "metadata": {},
   "source": [
    ">First, we define two ages, age_0 and age_1. Then we check whether both ages are 21 or older 1. The test on the left passes, but the test on the right fails, so the overall conditional expression evaluates to False. We then change "
   ]
  },
  {
   "cell_type": "markdown",
   "metadata": {},
   "source": [
    ">age_1 to 22 2. The value of age_1 is now greater than 21, so both individual tests pass, causing the overall conditional expression to evaluate as True.To improve readability, you can use parentheses around the individual tests, but they are not required. If you use parentheses, your test would look like this:\n"
   ]
  },
  {
   "cell_type": "code",
   "execution_count": null,
   "metadata": {},
   "outputs": [
    {
     "name": "stdout",
     "output_type": "stream",
     "text": [
      "True\n"
     ]
    }
   ],
   "source": [
    "print((age_0 >= 21) and (age_1 >= 21))"
   ]
  },
  {
   "cell_type": "markdown",
   "metadata": {},
   "source": [
    "__Using or to Check Multiple Conditions__\n",
    "\n",
    ">The keyword or allows you to check multiple conditions as well, but it passes when either or both of the individual tests pass. An or expression fails only when both individual tests fail.\n",
    "\n",
    ">Let’s consider two ages again, but this time we’ll look for only one per-son to be over 21:"
   ]
  },
  {
   "cell_type": "code",
   "execution_count": null,
   "metadata": {},
   "outputs": [
    {
     "data": {
      "text/plain": [
       "False"
      ]
     },
     "metadata": {},
     "output_type": "display_data"
    }
   ],
   "source": [
    "age_0 = 22\n",
    "age_1 = 18\n",
    "age_0 >= 21 or age_1 >= 21\n",
    "age_0 = 18\n",
    "age_0 >= 21 or age_1 >= 21"
   ]
  },
  {
   "cell_type": "markdown",
   "metadata": {},
   "source": [
    ">We start with two age variables again. Because the test for age_0 1 passes, the overall expression evaluates to True. We then lower age_0 to 18. In the final test 2, both tests now fail and the overall expression evaluates to False.\n",
    "__Checking Whether a Value Is in a List__\n",
    "\n",
    ">Sometimes it’s important to check whether a list contains a certain value before taking an action. \n",
    "\n",
    ">For example, you might want to check whether a new username already exists in a list of current usernames before completing someone’s registration on a website. In a mapping project, you might want to check whether a submitted location already exists in a list of known locations.To find out whether a particular value is already in a list, use the key-word in. \n",
    "\n",
    ">Let’s consider some code you might write for a pizzeria. We’ll make a list of toppings a customer has requested for a pizza and then check whether certain toppings are in the list."
   ]
  },
  {
   "cell_type": "code",
   "execution_count": null,
   "metadata": {},
   "outputs": [
    {
     "data": {
      "text/plain": [
       "True"
      ]
     },
     "metadata": {},
     "output_type": "display_data"
    }
   ],
   "source": [
    "requested_toppings = ['mushrooms', 'onions', 'pineapple']\n",
    "'mushrooms' in requested_toppings"
   ]
  },
  {
   "cell_type": "code",
   "execution_count": null,
   "metadata": {},
   "outputs": [
    {
     "data": {
      "text/plain": [
       "False"
      ]
     },
     "metadata": {},
     "output_type": "display_data"
    }
   ],
   "source": [
    "'pepperoni' in requested_toppings"
   ]
  },
  {
   "cell_type": "markdown",
   "metadata": {},
   "source": [
    ">The keyword in tells Python to check for the existence of 'mushrooms' and 'pepperoni' in the list requested_toppings. \n",
    "\n",
    ">This technique is quite power-ful because you can create a list of essential values, \n",
    "\n",
    ">and then easily check whether the value you’re testing matches one of the values in the list.\n"
   ]
  },
  {
   "cell_type": "markdown",
   "metadata": {},
   "source": [
    "__Checking Whether a Value Is Not in a List__\n",
    "\n",
    ">Other times, it’s important to know if a value does not appear in a list. \n",
    "\n",
    ">You can use the keyword not in this situation. For example, consider a list of users who are banned from commenting in a forum. \n",
    "\n",
    ">You can check whether a user has been banned before allowing that person to submit a comment:"
   ]
  },
  {
   "cell_type": "code",
   "execution_count": 157,
   "metadata": {},
   "outputs": [],
   "source": [
    "banned_users = ['andrew', 'carolina', 'david']\n",
    "user = 'marie'"
   ]
  },
  {
   "cell_type": "code",
   "execution_count": 158,
   "metadata": {},
   "outputs": [
    {
     "name": "stdout",
     "output_type": "stream",
     "text": [
      "Marie, you can post a response if you wish.\n"
     ]
    }
   ],
   "source": [
    "if user not in banned_users:    \n",
    "    print(f\"{user.title()}, you can post a response if you wish.\")"
   ]
  },
  {
   "cell_type": "markdown",
   "metadata": {},
   "source": [
    ">The if statement here reads quite clearly. \n",
    "\n",
    ">If the value of user is not in the list banned_users, Python returns True and executes the indented line.\n",
    "\n",
    ">The user 'marie' is not in the list banned_users, \n",
    "\n",
    ">so she sees a message inviting her to post a response:\n",
    "***\n",
    "__Marie, you can post a response if you wish.__\n",
    "***"
   ]
  },
  {
   "cell_type": "markdown",
   "metadata": {},
   "source": [
    "__Boolean Expressions__\n",
    "\n",
    ">As you learn more about programming, you’ll hear the term Boolean expression at some point. \n",
    "\n",
    ">A Boolean expression is just another name for a conditional test. \n",
    "\n",
    ">A Boolean value is either True or False, just like the value of a conditional expression after it has been evaluated.\n",
    "\n",
    ">Boolean values are often used to keep track of certain conditions, such as whether a game is running or whether a user can edit certain content on a website:\n",
    "***\n",
    "__game_active = Truecan_edit = False__\n",
    "***\n",
    ">Boolean values provide an efficient way to track the state of a program or a particular condition that is important in your program."
   ]
  },
  {
   "cell_type": "markdown",
   "metadata": {},
   "source": [
    "### T R Y   I T   Y O U R S E L F "
   ]
  },
  {
   "cell_type": "code",
   "execution_count": 159,
   "metadata": {},
   "outputs": [
    {
     "name": "stdout",
     "output_type": "stream",
     "text": [
      "Is car == 'toyota'? I predict True.\n",
      "True\n",
      "\n",
      "Is age > 18? I predict True.\n",
      "True\n",
      "\n",
      "Is height >= 5.5? I predict True.\n",
      "True\n",
      "\n",
      "Is color.lower() == 'red'? I predict True.\n",
      "True\n",
      "\n",
      "Is is_student == True? I predict True.\n",
      "True\n",
      "\n",
      "Is car == 'honda'? I predict False.\n",
      "False\n",
      "\n",
      "Is age < 18? I predict False.\n",
      "False\n",
      "\n",
      "Is height == 6.2? I predict False.\n",
      "False\n",
      "\n",
      "Is color == 'blue'? I predict False.\n",
      "False\n",
      "\n",
      "Is is_student == False? I predict False.\n",
      "False\n"
     ]
    }
   ],
   "source": [
    "# Define variables\n",
    "car = 'toyota'\n",
    "age = 21\n",
    "height = 5.9\n",
    "color = 'red'\n",
    "is_student = True\n",
    "\n",
    "# Tests that evaluate to True\n",
    "print(\"Is car == 'toyota'? I predict True.\")\n",
    "print(car == 'toyota')\n",
    "\n",
    "print(\"\\nIs age > 18? I predict True.\")\n",
    "print(age > 18)\n",
    "\n",
    "print(\"\\nIs height >= 5.5? I predict True.\")\n",
    "print(height >= 5.5)\n",
    "\n",
    "print(\"\\nIs color.lower() == 'red'? I predict True.\")\n",
    "print(color.lower() == 'red')\n",
    "\n",
    "print(\"\\nIs is_student == True? I predict True.\")\n",
    "print(is_student == True)\n",
    "\n",
    "# Tests that evaluate to False\n",
    "print(\"\\nIs car == 'honda'? I predict False.\")\n",
    "print(car == 'honda')\n",
    "\n",
    "print(\"\\nIs age < 18? I predict False.\")\n",
    "print(age < 18)\n",
    "\n",
    "print(\"\\nIs height == 6.2? I predict False.\")\n",
    "print(height == 6.2)\n",
    "\n",
    "print(\"\\nIs color == 'blue'? I predict False.\")\n",
    "print(color == 'blue')\n",
    "\n",
    "print(\"\\nIs is_student == False? I predict False.\")\n",
    "print(is_student == False)\n"
   ]
  },
  {
   "cell_type": "markdown",
   "metadata": {},
   "source": [
    "_using if statement_"
   ]
  },
  {
   "cell_type": "code",
   "execution_count": 160,
   "metadata": {},
   "outputs": [
    {
     "name": "stdout",
     "output_type": "stream",
     "text": [
      "Test Passed: The car is a Toyota (True).\n",
      "Test Passed: Age is greater than 18 (True).\n",
      "Test Passed: Height is at least 5.5 (True).\n",
      "Test Passed: Color is red (True).\n",
      "Test Passed: The person is a student (True).\n",
      "Test Passed: The car is not a Honda (True).\n",
      "Test Passed: Age is not less than 18 (True).\n",
      "Test Passed: Height is not 6.2 (True).\n",
      "Test Passed: Color is not blue (True).\n",
      "Test Passed: The person is a student (True).\n"
     ]
    }
   ],
   "source": [
    "# Define variables\n",
    "car = 'toyota'\n",
    "age = 21\n",
    "height = 5.9\n",
    "color = 'red'\n",
    "is_student = True\n",
    "\n",
    "# Tests that evaluate to True\n",
    "if car == 'toyota':\n",
    "    print(\"Test Passed: The car is a Toyota (True).\")\n",
    "else:\n",
    "    print(\"Test Failed: The car is not a Toyota (False).\")\n",
    "\n",
    "if age > 18:\n",
    "    print(\"Test Passed: Age is greater than 18 (True).\")\n",
    "else:\n",
    "    print(\"Test Failed: Age is not greater than 18 (False).\")\n",
    "\n",
    "if height >= 5.5:\n",
    "    print(\"Test Passed: Height is at least 5.5 (True).\")\n",
    "else:\n",
    "    print(\"Test Failed: Height is less than 5.5 (False).\")\n",
    "\n",
    "if color.lower() == 'red':\n",
    "    print(\"Test Passed: Color is red (True).\")\n",
    "else:\n",
    "    print(\"Test Failed: Color is not red (False).\")\n",
    "\n",
    "if is_student:\n",
    "    print(\"Test Passed: The person is a student (True).\")\n",
    "else:\n",
    "    print(\"Test Failed: The person is not a student (False).\")\n",
    "\n",
    "# Tests that evaluate to False\n",
    "if car == 'honda':\n",
    "    print(\"Test Failed: The car is a Honda (False).\")\n",
    "else:\n",
    "    print(\"Test Passed: The car is not a Honda (True).\")\n",
    "\n",
    "if age < 18:\n",
    "    print(\"Test Failed: Age is less than 18 (False).\")\n",
    "else:\n",
    "    print(\"Test Passed: Age is not less than 18 (True).\")\n",
    "\n",
    "if height == 6.2:\n",
    "    print(\"Test Failed: Height is 6.2 (False).\")\n",
    "else:\n",
    "    print(\"Test Passed: Height is not 6.2 (True).\")\n",
    "\n",
    "if color == 'blue':\n",
    "    print(\"Test Failed: Color is blue (False).\")\n",
    "else:\n",
    "    print(\"Test Passed: Color is not blue (True).\")\n",
    "\n",
    "if not is_student:\n",
    "    print(\"Test Failed: The person is not a student (False).\")\n",
    "else:\n",
    "    print(\"Test Passed: The person is a student (True).\")"
   ]
  },
  {
   "cell_type": "code",
   "execution_count": 161,
   "metadata": {},
   "outputs": [
    {
     "name": "stdout",
     "output_type": "stream",
     "text": [
      "Test Passed: car is Toyota (True).\n",
      "Test Passed: name is not Bob (True).\n",
      "Test Passed: car.lower() is 'toyota' (True).\n",
      "Test Failed: name.lower() is not 'alice' (False).\n",
      "Test Passed: Age is 25 (True).\n",
      "Test Passed: Age is not 30 (True).\n",
      "Test Passed: Height is greater than 5.5 (True).\n",
      "Test Passed: Height is less than 6.0 (True).\n",
      "Test Passed: Age is at least 18 (True).\n",
      "Test Passed: Age is 30 or younger (True).\n",
      "Test Passed: Age > 20 and Height > 5.5 (True).\n",
      "Test Passed: Age < 20 OR Height > 5.5 (True).\n",
      "Test Passed: 'red' is in the colors list (True).\n",
      "Test Passed: 'orange' is not in the colors list (True).\n",
      "Test Passed: 'grape' is not in favorite_fruits (True).\n",
      "Test Passed: 'banana' is in favorite_fruits (True).\n"
     ]
    }
   ],
   "source": [
    "# Define variables\n",
    "car = 'Toyota'\n",
    "name = 'Adamu'\n",
    "age = 25\n",
    "height = 5.8\n",
    "colors = ['red', 'blue', 'green']\n",
    "favorite_fruits = ['apple', 'banana', 'mango']\n",
    "\n",
    "# Tests for equality and inequality with strings\n",
    "if car == 'Toyota':\n",
    "    print(\"Test Passed: car is Toyota (True).\")\n",
    "else:\n",
    "    print(\"Test Failed: car is not Toyota (False).\")\n",
    "\n",
    "if name != 'Bob':\n",
    "    print(\"Test Passed: name is not Bob (True).\")\n",
    "else:\n",
    "    print(\"Test Failed: name is Bob (False).\")\n",
    "\n",
    "# Tests using the lower() method\n",
    "if car.lower() == 'toyota':\n",
    "    print(\"Test Passed: car.lower() is 'toyota' (True).\")\n",
    "else:\n",
    "    print(\"Test Failed: car.lower() is not 'toyota' (False).\")\n",
    "\n",
    "if name.lower() == 'alice':\n",
    "    print(\"Test Passed: name.lower() is 'alice' (True).\")\n",
    "else:\n",
    "    print(\"Test Failed: name.lower() is not 'alice' (False).\")\n",
    "\n",
    "# Numerical tests\n",
    "if age == 25:\n",
    "    print(\"Test Passed: Age is 25 (True).\")\n",
    "else:\n",
    "    print(\"Test Failed: Age is not 25 (False).\")\n",
    "\n",
    "if age != 30:\n",
    "    print(\"Test Passed: Age is not 30 (True).\")\n",
    "else:\n",
    "    print(\"Test Failed: Age is 30 (False).\")\n",
    "\n",
    "if height > 5.5:\n",
    "    print(\"Test Passed: Height is greater than 5.5 (True).\")\n",
    "else:\n",
    "    print(\"Test Failed: Height is not greater than 5.5 (False).\")\n",
    "\n",
    "if height < 6.0:\n",
    "    print(\"Test Passed: Height is less than 6.0 (True).\")\n",
    "else:\n",
    "    print(\"Test Failed: Height is not less than 6.0 (False).\")\n",
    "\n",
    "if age >= 18:\n",
    "    print(\"Test Passed: Age is at least 18 (True).\")\n",
    "else:\n",
    "    print(\"Test Failed: Age is less than 18 (False).\")\n",
    "\n",
    "if age <= 30:\n",
    "    print(\"Test Passed: Age is 30 or younger (True).\")\n",
    "else:\n",
    "    print(\"Test Failed: Age is greater than 30 (False).\")\n",
    "\n",
    "# Tests using 'and' and 'or'\n",
    "if age > 20 and height > 5.5:\n",
    "    print(\"Test Passed: Age > 20 and Height > 5.5 (True).\")\n",
    "else:\n",
    "    print(\"Test Failed: Condition (age > 20 and height > 5.5) is False.\")\n",
    "\n",
    "if age < 20 or height > 5.5:\n",
    "    print(\"Test Passed: Age < 20 OR Height > 5.5 (True).\")\n",
    "else:\n",
    "    print(\"Test Failed: Both conditions (age < 20 OR height > 5.5) are False.\")\n",
    "\n",
    "# Test whether an item is in a list\n",
    "if 'red' in colors:\n",
    "    print(\"Test Passed: 'red' is in the colors list (True).\")\n",
    "else:\n",
    "    print(\"Test Failed: 'red' is not in the colors list (False).\")\n",
    "\n",
    "if 'orange' not in colors:\n",
    "    print(\"Test Passed: 'orange' is not in the colors list (True).\")\n",
    "else:\n",
    "    print(\"Test Failed: 'orange' is in the colors list (False).\")\n",
    "\n",
    "# Test whether an item is not in a list\n",
    "if 'grape' not in favorite_fruits:\n",
    "    print(\"Test Passed: 'grape' is not in favorite_fruits (True).\")\n",
    "else:\n",
    "    print(\"Test Failed: 'grape' is in favorite_fruits (False).\")\n",
    "\n",
    "if 'banana' in favorite_fruits:\n",
    "    print(\"Test Passed: 'banana' is in favorite_fruits (True).\")\n",
    "else:\n",
    "    print(\"Test Failed: 'banana' is not in favorite_fruits (False).\")\n"
   ]
  },
  {
   "cell_type": "code",
   "execution_count": 163,
   "metadata": {},
   "outputs": [
    {
     "name": "stdout",
     "output_type": "stream",
     "text": [
      "You are old enough to vote!\n"
     ]
    }
   ],
   "source": [
    "age = 19\n",
    "if age >= 18:    \n",
    "    print(\"You are old enough to vote!\")"
   ]
  },
  {
   "cell_type": "code",
   "execution_count": 166,
   "metadata": {},
   "outputs": [
    {
     "name": "stdout",
     "output_type": "stream",
     "text": [
      "You are old enough to vote!\n",
      "Have you registered to vote yet?\n"
     ]
    }
   ],
   "source": [
    "age = 19\n",
    "if age >= 18:\n",
    "    print(\"You are old enough to vote!\")    \n",
    "    print(\"Have you registered to vote yet?\")"
   ]
  },
  {
   "cell_type": "code",
   "execution_count": 167,
   "metadata": {},
   "outputs": [
    {
     "name": "stdout",
     "output_type": "stream",
     "text": [
      "You are old enough to vote!\n",
      "Have you registered to vote yet?\n"
     ]
    }
   ],
   "source": [
    "age = 19\n",
    "if age >= 18:    \n",
    "    print(\"You are old enough to vote!\")    \n",
    "    print(\"Have you registered to vote yet?\")"
   ]
  },
  {
   "cell_type": "markdown",
   "metadata": {},
   "source": [
    ">The conditional test passes, and both print() calls are indented, so both lines are printed:\n",
    "\n",
    ">You are old enough to vote!Have you registered to vote yet?\n",
    "\n",
    ">If the value of age is less than 18, this program would produce no output."
   ]
  },
  {
   "cell_type": "markdown",
   "metadata": {},
   "source": [
    "__if-else Statements__\n",
    "\n",
    ">Often, you’ll want to take one action when a conditional test passes and a dif-ferent action in all other cases. Python’s if-else syntax makes this possible. \n",
    "\n",
    ">An if-else block is similar to a simple if statement, but the else statement allows you to define an action or set of actions that are executed when the condi-tional test fails.\n",
    "\n",
    ">We’ll display the same message we had previously if the person is old enough to vote, but this time we’ll add a message for anyone who is not  old enough to vote:"
   ]
  },
  {
   "cell_type": "code",
   "execution_count": 168,
   "metadata": {},
   "outputs": [
    {
     "name": "stdout",
     "output_type": "stream",
     "text": [
      "Sorry, you are too young to vote.\n",
      "Please register to vote as soon as you turn 18!\n"
     ]
    }
   ],
   "source": [
    "age = 17\n",
    "if age >= 18:   \n",
    "    print(\"You are old enough to vote!\")    \n",
    "    print(\"Have you registered to vote yet?\")\n",
    "else:    \n",
    "    print(\"Sorry, you are too young to vote.\") \n",
    "    print(\"Please register to vote as soon as you turn 18!\")"
   ]
  },
  {
   "cell_type": "markdown",
   "metadata": {},
   "source": [
    ">If the conditional test 1 passes, the first block of indented print() calls is executed. \n",
    "\n",
    ">If the test evaluates to False, the else block 2 is executed. \n",
    "\n",
    ">Because age is less than 18 this time, the conditional test fails and the code in the else block is executed:\n",
    "\n",
    ">Sorry, you are too young to vote.Please register to vote as soon as you turn 18!\n",
    "\n",
    ">This code works because it has only two possible situations to evaluate: a person is either old enough to vote or not old enough to vote. "
   ]
  },
  {
   "cell_type": "markdown",
   "metadata": {},
   "source": [
    "__The if-else__\n",
    "\n",
    ">structure works well in situations in which you want Python to always exe-cute one of two possible actions. In a simple if-else chain like this, one of the two actions will always be executed.\n",
    "\n",
    "__The if-elif-else Chain__\n",
    "\n",
    "\n",
    ">Often, you’ll need to test more than two possible situations, and to evaluate these you can use Python’s if-elif-else syntax. \n",
    "\n",
    ">-/Python executes only one block in an if-elif-else chain. It runs each conditional test in order, until one passes. \n",
    "\n",
    ">When a test passes, the code following that test is executed and Python skips the rest of the tests.\n",
    "\n",
    ">Many real-world situations involve more than two possible conditions. \n",
    "\n",
    ">For example, consider an amusement park that charges different rates for different age groups:\n",
    "***\n",
    "\n",
    "• Admission for anyone under age 4 is free.\n",
    "\n",
    "• Admission for anyone between the ages of 4 and 18 is $25.\n",
    "\n",
    "• Admission for anyone age 18 or older is $40.\n",
    "***\n",
    ">How can we use an if statement to determine a person’s admission rate? The following code tests for the age group of a person and then prints an admission price message:"
   ]
  },
  {
   "cell_type": "code",
   "execution_count": 169,
   "metadata": {},
   "outputs": [
    {
     "name": "stdout",
     "output_type": "stream",
     "text": [
      "Your admission cost is $25.\n"
     ]
    }
   ],
   "source": [
    "age = 12\n",
    "if age < 4:    \n",
    "    print(\"Your admission cost is $0.\")\n",
    "elif age < 18:    \n",
    "    print(\"Your admission cost is $25.\")\n",
    "else:    \n",
    "    print(\"Your admission cost is $40.\")"
   ]
  },
  {
   "cell_type": "markdown",
   "metadata": {},
   "source": [
    ">The if test 1 checks whether a person is under 4 years old. \n",
    "\n",
    ">When the test passes, an appropriate message is printed and Python skips the rest of the tests. \n",
    "\n",
    ">The elif line 2 is really another if test, which runs only if the previous test failed. \n",
    "\n",
    ">At this point in the chain, we know the person is at least 4 years old because the first test failed. \n",
    "\n",
    ">If the person is under 18, an appro-priate message is printed and Python skips the else block. \n",
    "\n",
    ">If both the if and elif tests fail, Python runs the code in the else block 3.\n",
    "\n",
    ">In this example the if test 1 evaluates to False, so its code block is not executed. \n",
    "\n",
    ">However, the elif test evaluates to True (12 is less than 18) so its code is executed. \n",
    "\n",
    ">The output is one sentence, informing the user of the admission cost:\n",
    "\n",
    ">Your admission cost is $25.\n",
    "\n",
    ">Any age greater than 17 would cause the first two tests to fail. \n",
    "\n",
    ">In these situations, the else block would be executed and the admission price would be $40.\n",
    "\n",
    ">Rather than printing the admission price within the if-elif-else block, it would be more concise to set just the price inside the if-elif-else chain  and then have a single print() call that runs after the chain has been evaluated:"
   ]
  },
  {
   "cell_type": "code",
   "execution_count": 171,
   "metadata": {},
   "outputs": [
    {
     "name": "stdout",
     "output_type": "stream",
     "text": [
      "Your admission cost is $25.\n"
     ]
    }
   ],
   "source": [
    "age = 12\n",
    "if age < 4: \n",
    "    price = 0\n",
    "elif age < 18:\n",
    "    price = 25\n",
    "else:\n",
    "    price = 40\n",
    "    \n",
    "print(f\"Your admission cost is ${price}.\")\n"
   ]
  },
  {
   "cell_type": "markdown",
   "metadata": {},
   "source": [
    ">The indented lines set the value of price according to the person’s age, as in the previous example. \n",
    "\n",
    ">After the price is set by the if-elif-else chain, a separate unindented print() call uses this value to display a message report-ing the person’s admission price.This code produces the same output as the previous example, but the purpose of the if-elif-else chain is narrower. \n",
    "\n",
    ">Instead of determining a price and displaying a message, it simply determines the admission price. \n",
    "\n",
    ">In addi-tion to being more efficient, this revised code is easier to modify than the original approach. \n",
    "\n",
    ">To change the text of the output message, you would need to change only one print() call rather than three separate print() calls."
   ]
  },
  {
   "cell_type": "markdown",
   "metadata": {},
   "source": [
    "__Using Multiple elif Blocks__\n",
    "\n",
    ">You can use as many elif blocks in your code as you like. \n",
    "\n",
    ">For example, if the amusement park were to implement a discount for seniors, you could add one more conditional test to the code to determine whether someone quali-fies for the senior discount. \n",
    "\n",
    ">Let’s say that anyone 65 or older pays half the regular admission, or $20:"
   ]
  },
  {
   "cell_type": "code",
   "execution_count": 172,
   "metadata": {},
   "outputs": [
    {
     "name": "stdout",
     "output_type": "stream",
     "text": [
      "Your admission cost is $25.\n"
     ]
    }
   ],
   "source": [
    "age = 12\n",
    "if age < 4:    \n",
    "    price = 0\n",
    "elif age < 18:    \n",
    "    price = 25\n",
    "elif age < 65:    \n",
    "    price = 40\n",
    "else:    \n",
    "    price = 20\n",
    "print(f\"Your admission cost is ${price}.\")"
   ]
  },
  {
   "cell_type": "markdown",
   "metadata": {},
   "source": [
    ">Most of this code is unchanged. The second elif block now checks to make sure a person is less than age 65 before assigning them the full admis-sion rate of $40. \n",
    "\n",
    ">Notice that the value assigned in the else block needs to be changed to $20, because the only ages that make it to this block are for people 65 or older.\n",
    "\n",
    "__Omitting the else Block__\n",
    "\n",
    ">Python does not require an else block at the end of an if-elif chain. \n",
    "\n",
    ">Sometimes, an else block is useful. Other times, it’s clearer to use an addi-tional elif statement that catches the specific condition of interest:"
   ]
  },
  {
   "cell_type": "code",
   "execution_count": 1,
   "metadata": {},
   "outputs": [
    {
     "name": "stdout",
     "output_type": "stream",
     "text": [
      "Your admission cost is $25.\n"
     ]
    }
   ],
   "source": [
    "age = 12\n",
    "if age < 4:    \n",
    "    price = 0\n",
    "elif age < 18:    \n",
    "    price = 25\n",
    "elif age < 65:    \n",
    "    price = 40\n",
    "elif age >= 65:    \n",
    "    price = 20\n",
    "print(f\"Your admission cost is ${price}.\")"
   ]
  },
  {
   "cell_type": "markdown",
   "metadata": {},
   "source": [
    ">The final elif block assigns a price of $20 when the person is 65 or older, which is a little clearer than the general else block. \n",
    "\n",
    ">With this change, every block of code must pass a specific test in order to be executed.\n",
    "\n",
    ">The else block is a catchall statement. It matches any condition that wasn’t matched by a specific if or elif test, and that can sometimes include invalid or even malicious data. \n",
    "\n",
    ">If you have a specific final condition you’re testing for, consider using a final elif block and omit the else block. \n",
    "\n",
    ">As a result, you’ll be more confident that your code will run only under the correct conditions.\n"
   ]
  },
  {
   "cell_type": "markdown",
   "metadata": {},
   "source": [
    "__Testing Multiple Conditions__\n",
    "\n",
    ">The if-elif-else chain is powerful, but it’s only appropriate to use when you just need one test to pass. As soon as Python finds one test that passes, it skips the rest of the tests. \n",
    "\n",
    ">This behavior is beneficial, because it’s efficient and allows you to test for one specific condition.\n",
    "\n",
    ">However, sometimes it’s important to check all conditions of interest. In this case, you should use a series of simple if statements with no elif or else blocks. \n",
    "\n",
    ">This technique makes sense when more than one condition could be True, and you want to act on every condition that is True.\n",
    "\n",
    ">Let’s reconsider the pizzeria example. If someone requests a two-topping pizza, you’ll need to be sure to include both toppings on their pizza"
   ]
  },
  {
   "cell_type": "code",
   "execution_count": 3,
   "metadata": {},
   "outputs": [
    {
     "name": "stdout",
     "output_type": "stream",
     "text": [
      "Adding mushrooms.\n",
      "Adding extra cheese.\n",
      "\n",
      "Finished making your pizza!\n"
     ]
    }
   ],
   "source": [
    "requested_toppings = ['mushrooms', 'extra cheese']\n",
    "if 'mushrooms' in requested_toppings:    \n",
    "    print(\"Adding mushrooms.\")\n",
    "if 'pepperoni' in requested_toppings:    \n",
    "    print(\"Adding pepperoni.\")\n",
    "if 'extra cheese' in requested_toppings:    \n",
    "    print(\"Adding extra cheese.\")\n",
    "print(\"\\nFinished making your pizza!\")"
   ]
  },
  {
   "cell_type": "markdown",
   "metadata": {},
   "source": [
    ">We start with a list containing the requested toppings. The first if statement checks to see whether the person requested mushrooms on their pizza. \n",
    "\n",
    ">If so, a message is printed confirming that topping. The test for pep-peroni 1 is another simple if statement, not an elif or else statement, so this test is run regardless of whether the previous test passed or not. \n",
    "\n",
    ">The last if statement checks whether extra cheese was requested, regardless of the results from the first two tests. These three independent tests are exe-cuted every time this program is run.\n",
    "\n",
    ">Because every condition in this example is evaluated, both mushrooms and extra cheese are added to the pizza\n",
    "***\n",
    "__Adding mushrooms.__ \n",
    "\n",
    "__Adding extra cheese.__ \n",
    "\n",
    "__Finished making your pizza!__\n",
    "***\n",
    ">This code would not work properly if we used an if-elif-else block, because the code would stop running after only one test passes. Here’s what that would look like"
   ]
  },
  {
   "cell_type": "code",
   "execution_count": 4,
   "metadata": {},
   "outputs": [
    {
     "name": "stdout",
     "output_type": "stream",
     "text": [
      "Adding mushrooms.\n",
      "\n",
      "Finished making your pizza!\n"
     ]
    }
   ],
   "source": [
    "requested_toppings = ['mushrooms', 'extra cheese']\n",
    "if 'mushrooms' in requested_toppings:    \n",
    "    print(\"Adding mushrooms.\")\n",
    "elif 'pepperoni' in requested_toppings:    \n",
    "    print(\"Adding pepperoni.\")\n",
    "elif 'extra cheese' in requested_toppings:    \n",
    "    print(\"Adding extra cheese.\")\n",
    "print(\"\\nFinished making your pizza!\")"
   ]
  },
  {
   "cell_type": "markdown",
   "metadata": {},
   "source": [
    ">The test for 'mushrooms' is the first test to pass, so mushrooms are added to the pizza. \n",
    "\n",
    ">However, the values 'extra cheese' and 'pepperoni' are never checked, because Python doesn’t run any tests beyond the first test that passes in an if-elif-else chain. \n",
    "\n",
    ">The customer’s first topping will be added, but all of their other toppings will be missed:\n",
    "***\n",
    "__Adding mushrooms.__ \n",
    "\n",
    "__Finished making your pizza!__\n",
    "***\n",
    "\n",
    ">In summary, if you want only one block of code to run, use an if-elif-else chain. If more than one block of code needs to run, use a series of indepen-dent if statements."
   ]
  },
  {
   "cell_type": "markdown",
   "metadata": {},
   "source": [
    "__T R Y   I T   Y O U R S E L F__\n",
    "\n",
    ">5-3. Alien Colors #1: Imagine an alien was just shot down in a game. \n",
    "\n",
    ">Create a variable called alien_color and assign it a value of 'green', 'yellow', or 'red'.\n",
    "\n",
    ">Write an if statement to test whether the alien’s color is green. If it is, print a message that the player just earned 5 points.\n",
    "\n",
    ">Write one version of this program that passes the if test and another that fails. (The version that fails will have no output.)\n",
    "\n",
    ">5-4. Alien Colors #2: Choose a color for an alien as you did in Exercise 5-3, and write an if-else chain.\n",
    "\n",
    ">If the alien’s color is green, print a statement that the player just earned 5 points for shooting the alien.\n",
    "\n",
    ">If the alien’s color isn’t green, print a statement that the player just earned 10 points.\n",
    "\n",
    ">Write one version of this program that runs the if block and another that runs the else block.\n",
    "\n",
    "\n",
    ">5-5. Alien Colors #3: Turn your if-else chain from Exercise 5-4 into an if-elif-else chain.\n",
    "\n",
    ">If the alien is green, print a message that the player earned 5 points.\n",
    "\n",
    ">If the alien is yellow, print a message that the player earned 10 points.\n",
    "\n",
    ">If the alien is red, print a message that the player earned 15 points.\n",
    "\n",
    ">Write three versions of this program, making sure each message is printed for the appropriate color alien.\n",
    "\n",
    ">5-6. Stages of Life: Write an if-elif-else chain that determines a person’s stage of life. Set a value for the variable age, and then:\n",
    "\n",
    ">If the person is less than 2 years old, print a message that the person is  a baby.\n",
    "\n",
    ">If the person is at least 2 years old but less than 4, print a message that the person is a toddler.\n",
    "\n",
    ">If the person is at least 4 years old but less than 13, print a message that the person is a kid.\n",
    "\n",
    ">If the person is at least 13 years old but less than 20, print a message that the person is a teenager.\n",
    "\n",
    ">If the person is at least 20 years old but less than 65, print a message that the person is an adult.\n",
    "\n",
    ">If the person is age 65 or older, print a message that the person is an elder.\n",
    "\n",
    ">5-7. Favorite Fruit: Make a list of your favorite fruits, and then write a series of independent if statements that check for certain fruits in your list.\n",
    "\n",
    ">Make a list of your three favorite fruits and call it favorite_fruits.\n",
    "\n",
    ">Write five if statements. Each should check whether a certain kind of fruit is in your list. If the fruit is in your list, the if block should print a statement, such as You really like bananas!\n"
   ]
  },
  {
   "cell_type": "markdown",
   "metadata": {},
   "source": [
    "__Using if Statements with Lists__\n",
    "\n",
    ">You can do some interesting work when you combine lists and if statements. \n",
    "\n",
    ">You can watch for special values that need to be treated differently than other values in the list. \n",
    "\n",
    ">You can efficiently manage changing conditions, such as the availability of certain items in a restaurant throughout a shift. \n",
    "\n",
    ">You can also begin to prove that your code works as you expect it to in all possible situations."
   ]
  },
  {
   "cell_type": "markdown",
   "metadata": {},
   "source": [
    "__Checking for Special Items__\n",
    "\n",
    ">This chapter began with a simple example that showed how to handle a spe-cial value like 'bmw', which needed to be printed in a different format than other values in the list. \n",
    "\n",
    ">Now that you have a basic understanding of condi-tional tests and if statements, let’s take a closer look at how you can watch for special values in a list and handle those values appropriately.\n",
    "\n",
    ">Let’s continue with the pizzeria example. The pizzeria displays a message whenever a topping is added to your pizza, as it’s being made. \n",
    "\n",
    ">The code for this action can be written very efficiently by making a list of toppings the customer has requested and using a loop to announce each topping as it’s added to the pizza"
   ]
  },
  {
   "cell_type": "code",
   "execution_count": 5,
   "metadata": {},
   "outputs": [
    {
     "name": "stdout",
     "output_type": "stream",
     "text": [
      "Adding mushrooms.\n",
      "Adding green peppers.\n",
      "Adding extra cheese.\n",
      "\n",
      "Finished making your pizza!\n"
     ]
    }
   ],
   "source": [
    "requested_toppings = ['mushrooms', 'green peppers', 'extra cheese']\n",
    "for requested_topping in requested_toppings:    \n",
    "    print(f\"Adding {requested_topping}.\")\n",
    "print(\"\\nFinished making your pizza!\")"
   ]
  },
  {
   "cell_type": "markdown",
   "metadata": {},
   "source": [
    ">The output is straightforward because this code is just a simple for loop\n",
    "***\n",
    "__Adding mushrooms.__\n",
    "\n",
    "__Adding green peppers.__\n",
    "\n",
    "__Adding extra cheese.__\n",
    "\n",
    "__Finished making your pizza!__\n",
    "***\n",
    ">But what if the pizzeria runs out of green peppers? An if statement inside the for loop can handle this situation appropriately"
   ]
  },
  {
   "cell_type": "code",
   "execution_count": 6,
   "metadata": {},
   "outputs": [
    {
     "name": "stdout",
     "output_type": "stream",
     "text": [
      "Adding mushrooms.\n",
      "Sorry, we are out of green peppers right now.\n",
      "Adding extra cheese.\n",
      "\n",
      "Finished making your pizza!\n"
     ]
    }
   ],
   "source": [
    "requested_toppings = ['mushrooms', 'green peppers', 'extra cheese']\n",
    "for requested_topping in requested_toppings:    \n",
    "    if requested_topping == 'green peppers':        \n",
    "        print(\"Sorry, we are out of green peppers right now.\")    \n",
    "    else:        \n",
    "        print(f\"Adding {requested_topping}.\")\n",
    "print(\"\\nFinished making your pizza!\")"
   ]
  },
  {
   "cell_type": "markdown",
   "metadata": {},
   "source": [
    ">This time, we check each requested item before adding it to the pizza. The if statement checks to see if the person requested green peppers. If so, we display a message informing them why they can’t have green peppers. \n",
    "\n",
    ">The else block ensures that all other toppings will be added to the pizza. The output shows that each requested topping is handled appropriately.\n",
    "***\n",
    "__Adding mushrooms.__\n",
    "\n",
    "__Sorry, we are out of green peppers right now.__\n",
    "\n",
    "__Adding extra cheese.__\n",
    "\n",
    "__Finished making your pizza!__\n",
    "***"
   ]
  },
  {
   "cell_type": "markdown",
   "metadata": {},
   "source": [
    "__Checking That a List Is Not Empty__\n",
    "\n",
    ">We’ve made a simple assumption about every list we’ve worked with so far: we’ve assumed that each list has at least one item in it. Soon we’ll let users provide the information that’s stored in a list, so we won’t be able to assume that a list has any items in it each time a loop is run. \n",
    "\n",
    ">In this situation, it’s useful to check whether a list is empty before running a for loop.As an example, let’s check whether the list of requested toppings is empty before building the pizza. \n",
    "\n",
    ">If the list is empty, we’ll prompt the user and make sure they want a plain pizza. If the list is not empty, we’ll build the pizza just as we did in the previous examples:"
   ]
  },
  {
   "cell_type": "code",
   "execution_count": 8,
   "metadata": {},
   "outputs": [
    {
     "name": "stdout",
     "output_type": "stream",
     "text": [
      "Are you sure you want a plain pizza?\n"
     ]
    }
   ],
   "source": [
    "requested_toppings = []\n",
    "if requested_toppings:    \n",
    "    for requested_topping in requested_toppings:        \n",
    "        print(f\"Adding {requested_topping}.\")    \n",
    "        print(\"\\nFinished making your pizza!\")\n",
    "else:    \n",
    "        print(\"Are you sure you want a plain pizza?\")"
   ]
  },
  {
   "cell_type": "markdown",
   "metadata": {},
   "source": [
    ">This time we start out with an empty list of requested toppings. Instead of jumping right into a for loop, we do a quick check first. When the name of a list is used in an if statement, Python returns True if the list contains at least one item; an empty list evaluates to False. \n",
    "\n",
    ">If requested_toppings passes the conditional test, we run the same for loop we used in the previous example. \n",
    "\n",
    ">If the conditional test fails, we print a message asking the cus-tomer if they really want a plain pizza with no toppings.The list is empty in this case, so the output asks if the user really wants a plain pizza:\n",
    "***\n",
    "Are you sure you want a plain pizza?\n",
    "***\n",
    ">If the list is not empty, the output will show each requested topping being added to the pizza."
   ]
  },
  {
   "cell_type": "markdown",
   "metadata": {},
   "source": [
    "__Using Multiple Lists__\n",
    "\n",
    ">People will ask for just about anything, especially when it comes to pizza toppings. What if a customer actually wants french fries on their pizza? You can use lists and if statements to make sure your input makes sense before you act on it.\n",
    "\n",
    ">Let’s watch out for unusual topping requests before we build a pizza. The following example defines two lists. The first is a list of available toppings at the pizzeria, and the second is the list of toppings that the user has requested. \n",
    "\n",
    ">This time, each item in requested_toppings is checked against the list of available toppings before it’s added to the pizza:"
   ]
  },
  {
   "cell_type": "code",
   "execution_count": 9,
   "metadata": {},
   "outputs": [
    {
     "name": "stdout",
     "output_type": "stream",
     "text": [
      "Adding mushrooms.\n",
      "Adding extra cheese.\n",
      "Sorry, we don't have extra cheese.\n",
      "\n",
      "Finished making your pizza!\n"
     ]
    }
   ],
   "source": [
    "available_toppings = ['mushrooms', 'olives', 'green peppers', 'pepperoni', 'pineapple', 'extra cheese']\n",
    "requested_toppings = ['mushrooms', 'french fries', 'extra cheese']\n",
    "for requested_topping in requested_toppings:\n",
    "    if requested_topping in available_toppings:        \n",
    "        print(f\"Adding {requested_topping}.\")\n",
    "else:        \n",
    "    print(f\"Sorry, we don't have {requested_topping}.\")\n",
    "print(\"\\nFinished making your pizza!\")"
   ]
  },
  {
   "cell_type": "markdown",
   "metadata": {},
   "source": [
    ">First, we define a list of available toppings at this pizzeria. Note that this could be a tuple if the pizzeria has a stable selection of toppings. \n",
    "\n",
    ">Then, we make a list of toppings that a customer has requested. There’s an unusual request for a topping in this example: 'french fries' 1. Next we loop through the list of requested toppings. \n",
    "\n",
    ">Inside the loop, we check to see if each requested topping is actually in the list of available toppings 2. If it is,  we add that topping to the pizza. \n",
    "\n",
    ">If the requested topping is not in the list of available toppings, the else block will run 3. The else block prints a mes-sage telling the user which toppings are unavailable.\n",
    "\n",
    ">This code syntax produces clean, informative output:\n",
    "***\n",
    "__Adding mushrooms.__\n",
    "\n",
    "__Sorry, we don't have french fries.__\n",
    "\n",
    "__Adding extra cheese.__\n",
    "\n",
    "__Finished making your pizza!__\n",
    "***\n",
    ">In just a few lines of code, we’ve managed a real-world situation pretty effectively!"
   ]
  },
  {
   "cell_type": "markdown",
   "metadata": {},
   "source": [
    "__T R Y   I T   Y O U R S E L F__\n",
    "\n",
    ">5-8. Hello Admin: Make a list of five or more usernames, including the name 'admin'. Imagine you are writing code that will print a greeting to each user after they log in to a website. Loop through the list, and print a greeting to each user.• If the username is 'admin', print a special greeting, such as Hello admin, would you like to see a status report? Otherwise, print a generic greeting, such as Hello Jaden, thank you for logging in again.\n",
    "\n",
    ">5-9. No Users: Add an if test to hello_admin.py to make sure the list of users is not empty.• If the list is empty, print the message We need to find some users!. Remove all of the usernames from your list, and make sure the correct mes-sage is printed.\n",
    "\n",
    ">5-10. Checking Usernames: Do the following to create a program that simulates how websites ensure that everyone has a unique username. Make a list of five or more usernames called current_users. Make another list of five usernames called new_users. Make sure one or two of the new usernames are also in the current_users list. Loop through the new_users list to see if each new username has already been used. If it has, print a message that the person will need to enter a new username. If a username has not been used, print a message saying that the username is available. Make sure your comparison is case insensitive. If 'John' has been used, 'JOHN' should not be accepted. (To do this, you’ll need to make a copy of current_users containing the lowercase versions of all existing users.)\n",
    "\n",
    ">5-11. Ordinal Numbers: Ordinal numbers indicate their position in a list, such as 1st or 2nd. Most ordinal numbers end in th, except 1, 2, and 3. Store the numbers 1 through 9 in a list. Loop through the list. Use an if-elif-else chain inside the loop to print the proper ordinal ending for each number. Your output should read \"1st 2nd 3rd 4th 5th 6th 7th 8th 9th\", and each result should be on a separate line."
   ]
  },
  {
   "cell_type": "markdown",
   "metadata": {},
   "source": [
    "__T R Y   I T   Y O U R S E L F__ \n",
    "\n",
    ">5-12. Styling if Statements: Review the programs you wrote in this chapter, and make sure you styled your conditional tests appropriately.\n",
    "\n",
    ">5-13. Your Ideas: At this point, you’re a more capable programmer than you were when you started this book. Now that you have a better sense of how real-world situations are modeled in programs, you might be thinking of some problems you could solve with your own programs. \n",
    "\n",
    ">Record any new ideas you have about problems you might want to solve as your programming skills con-tinue to improve. Consider games you might want to write, datasets you might want to explore, and web applications you’d like to create."
   ]
  },
  {
   "cell_type": "markdown",
   "metadata": {},
   "source": [
    "__Think Python by Allen Downey__\n",
    "***\n",
    ">Allen Downey\n",
    "\n",
    ">Green Tea Press\n",
    "\n",
    ">Needham, Massachusetts\n",
    "***"
   ]
  },
  {
   "cell_type": "markdown",
   "metadata": {},
   "source": [
    "__Conditionals and recursion__\n",
    "\n",
    ">The main topic of this chapter is the if statement, which executes different code depending on the state of the program. But first I want to introduce two new operators: floor division and modulus.\n",
    "\n",
    "__5.1 Floor division and modulus__\n",
    "\n",
    ">The floor division operator, //, divides two numbers and rounds down to an integer. \n",
    "\n",
    ">For example, suppose the run time of a movie is 105 minutes. You might want to know how long that is in hours. Conventional division returns a floating-point number:"
   ]
  },
  {
   "cell_type": "code",
   "execution_count": null,
   "metadata": {},
   "outputs": [
    {
     "data": {
      "text/plain": [
       "1.75"
      ]
     },
     "metadata": {},
     "output_type": "display_data"
    }
   ],
   "source": [
    "minutes = 105\n",
    "minutes / 60"
   ]
  },
  {
   "cell_type": "markdown",
   "metadata": {},
   "source": [
    ">But we don’t normally write hours with decimal points. \n",
    "\n",
    ">Floor division returns the integer number of hours, rounding down:"
   ]
  },
  {
   "cell_type": "code",
   "execution_count": null,
   "metadata": {},
   "outputs": [
    {
     "data": {
      "text/plain": [
       "1"
      ]
     },
     "metadata": {},
     "output_type": "display_data"
    }
   ],
   "source": [
    "minutes = 105\n",
    "hours = minutes // 60\n",
    "hours"
   ]
  },
  {
   "cell_type": "markdown",
   "metadata": {},
   "source": [
    ">To get the remainder, you could subtract off one hour in minutes:"
   ]
  },
  {
   "cell_type": "code",
   "execution_count": null,
   "metadata": {},
   "outputs": [
    {
     "data": {
      "text/plain": [
       "45"
      ]
     },
     "metadata": {},
     "output_type": "display_data"
    }
   ],
   "source": [
    "remainder = minutes - hours * 60\n",
    "remainder"
   ]
  },
  {
   "cell_type": "markdown",
   "metadata": {},
   "source": [
    ">An alternative is to use the modulus operator, %, which divides two numbers and returns the remainder."
   ]
  },
  {
   "cell_type": "code",
   "execution_count": null,
   "metadata": {},
   "outputs": [
    {
     "data": {
      "text/plain": [
       "45"
      ]
     },
     "metadata": {},
     "output_type": "display_data"
    }
   ],
   "source": [
    "remainder = minutes % 60\n",
    "remainder"
   ]
  },
  {
   "cell_type": "markdown",
   "metadata": {},
   "source": [
    ">The modulus operator is more useful than it seems. For example, you can check whether one number is divisible by another—if x % y is zero, then x is divisible by y."
   ]
  },
  {
   "cell_type": "markdown",
   "metadata": {},
   "source": [
    ">Also, you can extract the right-most digit or digits from a number. For example, x % 10 yields the right-most digit of x (in base 10). Similarly x % 100 yields the last two digits.\n",
    "\n",
    ">If you are using Python 2, division works differently. The division operator, /, performs floor division if both operands are integers, and floating-point division if either operand is a float."
   ]
  },
  {
   "cell_type": "markdown",
   "metadata": {},
   "source": [
    "__Boolean expressions__\n",
    "\n",
    ">A boolean expression is an expression that is either true or false. The following examples use the operator ==, which compares two operands and produces True if they are equal and False otherwise:"
   ]
  },
  {
   "cell_type": "code",
   "execution_count": null,
   "metadata": {},
   "outputs": [
    {
     "data": {
      "text/plain": [
       "False"
      ]
     },
     "metadata": {},
     "output_type": "display_data"
    }
   ],
   "source": [
    "5 == 5\n",
    "5 == 6"
   ]
  },
  {
   "cell_type": "markdown",
   "metadata": {},
   "source": [
    ">True and False are special values that belong to the type bool; they are not strings:"
   ]
  },
  {
   "cell_type": "code",
   "execution_count": null,
   "metadata": {},
   "outputs": [
    {
     "name": "stdout",
     "output_type": "stream",
     "text": [
      "<class 'bool'>\n",
      "<class 'bool'>\n"
     ]
    }
   ],
   "source": [
    "print(type(True))\n",
    "print(type(False))"
   ]
  },
  {
   "cell_type": "markdown",
   "metadata": {},
   "source": [
    ">The == operator is one of the relational operators; the others are:"
   ]
  },
  {
   "cell_type": "markdown",
   "metadata": {},
   "source": [
    "\n",
    ">x != y # x is not equal to y\n",
    "\n",
    ">x > y # x is greater than y\n",
    "\n",
    ">x < y # x is less than y\n",
    "\n",
    ">x >= y # x is greater than or equal to y\n",
    "\n",
    ">x <= y # x is less than or equal to y"
   ]
  },
  {
   "cell_type": "markdown",
   "metadata": {},
   "source": [
    ">Although these operations are probably familiar to you, the Python symbols are different from the mathematical symbols. \n",
    "\n",
    ">A common error is to use a single equal sign (=) instead of a double equal sign (==). Remember that = is an assignment operator and == is a relational operator. \n",
    "\n",
    ">There is no such thing as =< or =>."
   ]
  },
  {
   "cell_type": "markdown",
   "metadata": {},
   "source": [
    "__5.3 Logical operators__\n",
    "\n",
    ">There are three logical operators: and, or, and not. The semantics (meaning) of these operators is similar to their meaning in English. For example, x > 0 and x < 10 is true only if x is greater than 0 and less than 10.\n",
    "\n",
    ">n%2 == 0 or n%3 == 0 is true if either or both of the conditions is true, that is, if the number is divisible by 2 or 3.\n",
    "\n",
    ">Finally, the not operator negates a boolean expression, so not (x > y) is true if x > y is false, that is, if x is less than or equal to y.\n",
    "\n",
    ">Strictly speaking, the operands of the logical operators should be boolean expressions, but Python is not very strict. Any nonzero number is interpreted as True:"
   ]
  },
  {
   "cell_type": "code",
   "execution_count": null,
   "metadata": {},
   "outputs": [
    {
     "data": {
      "text/plain": [
       "True"
      ]
     },
     "metadata": {},
     "output_type": "display_data"
    }
   ],
   "source": [
    "42 and True"
   ]
  },
  {
   "cell_type": "code",
   "execution_count": null,
   "metadata": {},
   "outputs": [
    {
     "data": {
      "text/plain": [
       "True"
      ]
     },
     "metadata": {},
     "output_type": "display_data"
    }
   ],
   "source": [
    "-42 and True"
   ]
  },
  {
   "cell_type": "code",
   "execution_count": null,
   "metadata": {},
   "outputs": [
    {
     "data": {
      "text/plain": [
       "False"
      ]
     },
     "metadata": {},
     "output_type": "display_data"
    }
   ],
   "source": [
    "42 and False"
   ]
  },
  {
   "cell_type": "code",
   "execution_count": null,
   "metadata": {},
   "outputs": [
    {
     "data": {
      "text/plain": [
       "False"
      ]
     },
     "metadata": {},
     "output_type": "display_data"
    }
   ],
   "source": [
    "-42 and False"
   ]
  },
  {
   "cell_type": "markdown",
   "metadata": {},
   "source": [
    "_5.4. Conditional execution_\n",
    "\n",
    ">This flexibility can be useful, but there are some subtleties to it that might be confusing.\n",
    "\n",
    ">You might want to avoid it (unless you know what you are doing).\n"
   ]
  },
  {
   "cell_type": "markdown",
   "metadata": {},
   "source": [
    "__5.4 Conditional execution__\n",
    "\n",
    ">In order to write useful programs, we almost always need the ability to check conditions and change the behavior of the program accordingly. Conditional statements give us this ability. The simplest form is the if statement:"
   ]
  },
  {
   "cell_type": "code",
   "execution_count": null,
   "metadata": {},
   "outputs": [
    {
     "name": "stdout",
     "output_type": "stream",
     "text": [
      "x is positive\n"
     ]
    }
   ],
   "source": [
    "x = 9\n",
    "if x > 0:\n",
    "    print('x is positive')"
   ]
  },
  {
   "cell_type": "markdown",
   "metadata": {},
   "source": [
    ">The boolean expression after if is called the condition. If it is true, the indented statement runs. If not, nothing happens.\n",
    "\n",
    ">if statements have the same structure as function definitions: a header followed by an indented body. Statements like this are called compound statements. \n",
    "\n",
    ">There is no limit on the number of statements that can appear in the body, but there has to be at least one. Occasionally, it is useful to have a body with no statements (usually as a place keeper for code you haven’t written yet). In that case, you can use the __pass statement__, which does nothing."
   ]
  },
  {
   "cell_type": "code",
   "execution_count": null,
   "metadata": {},
   "outputs": [],
   "source": [
    "if x < 0:\n",
    "    pass # TODO: need to handle negative values!"
   ]
  },
  {
   "cell_type": "markdown",
   "metadata": {},
   "source": [
    "__5.5 Alternative execution__\n",
    "\n",
    ">A second form of the if statement is “alternative execution”, in which there are two possibilities and the condition determines which one runs. The syntax looks like this:"
   ]
  },
  {
   "cell_type": "code",
   "execution_count": null,
   "metadata": {},
   "outputs": [
    {
     "name": "stdout",
     "output_type": "stream",
     "text": [
      "x is odd\n"
     ]
    }
   ],
   "source": [
    "if x % 2 == 0:  # x = 9\n",
    "    print('x is even')\n",
    "else: \n",
    "    print('x is odd')"
   ]
  },
  {
   "cell_type": "markdown",
   "metadata": {},
   "source": [
    ">If the remainder when x is divided by 2 is 0, then we know that x is even, and the program displays an appropriate message. \n",
    "\n",
    ">If the condition is false, the second set of statements runs. \n",
    "\n",
    ">Since the condition must be true or false, exactly one of the alternatives will run. \n",
    "\n",
    ">The alternatives are called branches, because they are branches in the flow of execution."
   ]
  },
  {
   "cell_type": "markdown",
   "metadata": {},
   "source": [
    "__5.6 Chained conditionals__\n",
    "\n",
    ">Sometimes there are more than two possibilities and we need more than two branches. One way to express a computation like that is a chained conditional:"
   ]
  },
  {
   "cell_type": "code",
   "execution_count": null,
   "metadata": {},
   "outputs": [
    {
     "name": "stdout",
     "output_type": "stream",
     "text": [
      "x is less than y\n"
     ]
    }
   ],
   "source": [
    "x = 3\n",
    "y = 7\n",
    "if x < y:\n",
    "    print('x is less than y')\n",
    "elif x > y:\n",
    "    print('x is greater than y')\n",
    "else:\n",
    "    print('x and y are equal')"
   ]
  },
  {
   "cell_type": "markdown",
   "metadata": {},
   "source": [
    ">elif is an abbreviation of “else if”. Again, exactly one branch will run. There is no limit on the number of elif statements. If there is an else clause, it has to be at the end, but there doesn’t have to be one."
   ]
  },
  {
   "cell_type": "markdown",
   "metadata": {},
   "source": [
    ">Each condition is checked in order. If the first is false, the next is checked, and so on. \n",
    "\n",
    ">If one of them is true, the corresponding branch runs and the statement ends. \n",
    "\n",
    ">Even if more than one condition is true, only the first true branch runs"
   ]
  },
  {
   "cell_type": "markdown",
   "metadata": {},
   "source": [
    "__5.7 Nested conditionals__\n",
    "\n",
    ">One conditional can also be nested within another. We could have written the example in the previous section like this:"
   ]
  },
  {
   "cell_type": "code",
   "execution_count": null,
   "metadata": {},
   "outputs": [
    {
     "name": "stdout",
     "output_type": "stream",
     "text": [
      "x is less than y\n"
     ]
    }
   ],
   "source": [
    "if x == y:\n",
    "    print('x and y are equal')\n",
    "else:\n",
    "    if x < y:\n",
    "        print('x is less than y')\n",
    "    else:\n",
    "        print('x is greater than y')"
   ]
  },
  {
   "cell_type": "markdown",
   "metadata": {},
   "source": [
    ">The outer conditional contains two branches. The first branch contains a simple statement. The second branch contains another if statement, which has two branches of its own.\n",
    "\n",
    ">Those two branches are both simple statements, although they could have been conditional statements as well.\n",
    "\n",
    ">Although the indentation of the statements makes the structure apparent, nested conditionals become difficult to read very quickly. It is a good idea to avoid them when you can.\n",
    "\n",
    ">Logical operators often provide a way to simplify nested conditional statements. For example, we can rewrite the following code using a single conditional:"
   ]
  },
  {
   "cell_type": "code",
   "execution_count": null,
   "metadata": {},
   "outputs": [
    {
     "name": "stdout",
     "output_type": "stream",
     "text": [
      "x is a positive single-digit number.\n"
     ]
    }
   ],
   "source": [
    "if 0 < x:\n",
    "    if x < 10:\n",
    "        print('x is a positive single-digit number.')"
   ]
  },
  {
   "cell_type": "markdown",
   "metadata": {},
   "source": [
    ">The print statement runs only if we make it past both conditionals, so we can get the same effect with the and operator:"
   ]
  },
  {
   "cell_type": "code",
   "execution_count": null,
   "metadata": {},
   "outputs": [
    {
     "name": "stdout",
     "output_type": "stream",
     "text": [
      "x is a positive single-digit number.\n"
     ]
    }
   ],
   "source": [
    "if 0 < x and x < 10: \n",
    "    print('x is a positive single-digit number.')"
   ]
  },
  {
   "cell_type": "markdown",
   "metadata": {},
   "source": [
    ">For this kind of condition, Python provides a more concise option:"
   ]
  },
  {
   "cell_type": "code",
   "execution_count": null,
   "metadata": {},
   "outputs": [
    {
     "name": "stdout",
     "output_type": "stream",
     "text": [
      "x is a positive single-digit number.\n"
     ]
    }
   ],
   "source": [
    "if 0 < x < 10:\n",
    "    print('x is a positive single-digit number.')"
   ]
  },
  {
   "cell_type": "markdown",
   "metadata": {},
   "source": [
    "__5.8 Recursion__\n",
    "\n",
    ">It is legal for one function to call another; it is also legal for a function to call itself. \n",
    "\n",
    ">It may not be obvious why that is a good thing, but it turns out to be one of the most magical things a program can do. For example, look at the following function:"
   ]
  },
  {
   "cell_type": "code",
   "execution_count": 12,
   "metadata": {},
   "outputs": [
    {
     "name": "stdout",
     "output_type": "stream",
     "text": [
      "8\n",
      "7\n",
      "6\n",
      "5\n",
      "4\n",
      "3\n",
      "2\n",
      "1\n",
      "Blastoff!\n"
     ]
    }
   ],
   "source": [
    "def countdown(n):\n",
    "    if n <= 0:\n",
    "        print('Blastoff!')\n",
    "    else:\n",
    "        print(n)\n",
    "        countdown(n-1)\n",
    "countdown(8)"
   ]
  },
  {
   "cell_type": "code",
   "execution_count": 18,
   "metadata": {},
   "outputs": [
    {
     "name": "stdout",
     "output_type": "stream",
     "text": [
      "-8\n",
      "-7\n",
      "-6\n",
      "-5\n",
      "-4\n",
      "-3\n",
      "-2\n",
      "-1\n",
      "Blastoff!\n"
     ]
    }
   ],
   "source": [
    "def countdown(n):\n",
    "    if n >= 0:\n",
    "        print('Blastoff!')\n",
    "    else:\n",
    "        print(n)\n",
    "        countdown(n+1)\n",
    "countdown(-8)"
   ]
  },
  {
   "cell_type": "code",
   "execution_count": 20,
   "metadata": {},
   "outputs": [
    {
     "name": "stdout",
     "output_type": "stream",
     "text": [
      "8\n",
      "7\n",
      "6\n",
      "5\n",
      "4\n",
      "3\n",
      "2\n",
      "1\n",
      "Blastoff!\n"
     ]
    }
   ],
   "source": [
    "def countdown(n):\n",
    "    if n <= 0:\n",
    "        print('Blastoff!')\n",
    "    else:\n",
    "        print(n)\n",
    "        countdown(n-1)\n",
    "countdown(8)"
   ]
  },
  {
   "cell_type": "markdown",
   "metadata": {},
   "source": [
    ">If n is 0 or negative, it outputs the word, “Blastoff!” Otherwise, it outputs n and then calls a function named countdown—itself—passing n-1 as an argument. What happens if we call this function like this?"
   ]
  },
  {
   "cell_type": "code",
   "execution_count": 21,
   "metadata": {},
   "outputs": [
    {
     "name": "stdout",
     "output_type": "stream",
     "text": [
      "3\n",
      "2\n",
      "1\n",
      "Blastoff!\n"
     ]
    }
   ],
   "source": [
    "countdown(3)"
   ]
  },
  {
   "cell_type": "markdown",
   "metadata": {},
   "source": [
    ">The execution of countdown begins with n=3, and since n is greater than 0, it outputs the value 3, and then calls itself...\n",
    "\n",
    ">The execution of countdown begins with n=2, and since n is greater than 0, it outputs the value 2, and then calls itself...\n",
    "\n",
    ">The execution of countdown begins with n=1, and since n is greater than 0, it outputs the value 1, and then calls itself...\n",
    "\n",
    ">The execution of countdown begins with n=0, and since n is not greater than 0, it outputs the word, “Blastoff!” and then returns.\n",
    "\n",
    "***\n",
    "The countdown that got n=1 returns.\n",
    "\n",
    "The countdown that got n=2 returns.\n",
    "\n",
    "The countdown that got n=3 returns.\n",
    "\n",
    "And then you’re back in __main__. So, the total output looks like this:\n",
    "\n",
    "3\n",
    "\n",
    "2\n",
    "\n",
    "1\n",
    "\n",
    "Blastoff!\n",
    "***\n",
    "\n",
    ">A function that calls itself is recursive; the process of executing it is called recursion.\n",
    "\n",
    ">As another example, we can write a function that prints a string n times."
   ]
  },
  {
   "cell_type": "code",
   "execution_count": 23,
   "metadata": {},
   "outputs": [],
   "source": [
    "def print_n(s, n):\n",
    "    if n <= 0:\n",
    "        return \n",
    "    print(s)\n",
    "    print_n(s, n-1)"
   ]
  },
  {
   "cell_type": "code",
   "execution_count": 24,
   "metadata": {},
   "outputs": [
    {
     "name": "stdout",
     "output_type": "stream",
     "text": [
      "adams labaran\n",
      "adams labaran\n",
      "adams labaran\n",
      "adams labaran\n",
      "adams labaran\n",
      "adams labaran\n",
      "adams labaran\n",
      "adams labaran\n"
     ]
    }
   ],
   "source": [
    "print_n(\"adams labaran\", 8)"
   ]
  },
  {
   "cell_type": "markdown",
   "metadata": {},
   "source": [
    ">If n <= 0 the return statement exits the function. The flow of execution immediately returns to the caller, and the remaining lines of the function don’t run.\n",
    "\n",
    ">The rest of the function is similar to countdown: it displays s and then calls itself to display s n − 1 additional times. So the number of lines of output is 1 + (n - 1), which adds up to n.\n",
    "\n",
    ">For simple examples like this, it is probably easier to use a for loop. But we will see examples later that are hard to write with a for loop and easy to write with recursion, so it is good to start early"
   ]
  },
  {
   "cell_type": "markdown",
   "metadata": {},
   "source": [
    "__5.10 Infinite recursion__\n",
    "\n",
    ">If a recursion never reaches a base case, it goes on making recursive calls forever, and the program never terminates. This is known as infinite recursion, and it is generally not a good idea. Here is a minimal program with an infinite recursion:"
   ]
  },
  {
   "cell_type": "markdown",
   "metadata": {},
   "source": [
    "def recurse():\n",
    "recurse()"
   ]
  },
  {
   "cell_type": "markdown",
   "metadata": {},
   "source": [
    "def recurse():\n",
    "\n",
    "recurse()\n",
    "\n",
    ">In most programming environments, a program with infinite recursion does not really run forever. Python reports an error message when the maximum recursion depth is reached:\n",
    "***\n",
    "File \"<stdin>\", line 2, in recurse\n",
    "\n",
    "File \"<stdin>\", line 2, in recurse\n",
    "\n",
    "File \"<stdin>\", line 2, in recurse\n",
    "\n",
    ".\n",
    "\n",
    ".\n",
    "\n",
    ".\n",
    "\n",
    "File \"<stdin>\", line 2, in recurse\n",
    "\n",
    "RuntimeError: Maximum recursion depth exceeded\n",
    "***\n",
    "\n",
    ">occurs, there are 1000 recurse frames on the stack! If you encounter an infinite recursion by accident, review your function to confirm that there is a base case that does not make a recursive call. And if there is a base case, check whether you are guaranteed to reach it."
   ]
  },
  {
   "cell_type": "markdown",
   "metadata": {},
   "source": [
    "__5.11 Keyboard input__\n",
    "\n",
    ">The programs we have written so far accept no input from the user. They just do the same thing every time.\n",
    " \n",
    ">Python provides a built-in function called input that stops the program and waits for the user to type something. When the user presses Return or Enter, the program resumes and input returns what the user typed as a string. In Python 2, the same function is called raw_input."
   ]
  },
  {
   "cell_type": "code",
   "execution_count": null,
   "metadata": {},
   "outputs": [],
   "source": [
    "text = input()"
   ]
  },
  {
   "cell_type": "markdown",
   "metadata": {},
   "source": [
    ">What are you waiting for?"
   ]
  },
  {
   "cell_type": "code",
   "execution_count": null,
   "metadata": {},
   "outputs": [
    {
     "data": {
      "text/plain": [
       "'adamu labaran'"
      ]
     },
     "metadata": {},
     "output_type": "display_data"
    }
   ],
   "source": [
    "text"
   ]
  },
  {
   "cell_type": "code",
   "execution_count": null,
   "metadata": {},
   "outputs": [],
   "source": [
    "name = input('What...is your name?\\n')"
   ]
  },
  {
   "cell_type": "code",
   "execution_count": null,
   "metadata": {},
   "outputs": [
    {
     "data": {
      "text/plain": [
       "'adamu labaran'"
      ]
     },
     "metadata": {},
     "output_type": "display_data"
    }
   ],
   "source": [
    "name"
   ]
  },
  {
   "cell_type": "markdown",
   "metadata": {},
   "source": [
    ">The sequence \\n at the end of the prompt represents a newline, which is a special character that causes a line break. That’s why the user’s input appears below the prompt.\n",
    "\n",
    ">If you expect the user to type an integer, you can try to convert the return value to int:"
   ]
  },
  {
   "cell_type": "code",
   "execution_count": null,
   "metadata": {},
   "outputs": [],
   "source": [
    "prompt = 'What...is the airspeed velocity of an unladen swallow?\\n'\n",
    "speed = input(prompt)"
   ]
  },
  {
   "cell_type": "code",
   "execution_count": null,
   "metadata": {},
   "outputs": [
    {
     "data": {
      "text/plain": [
       "42"
      ]
     },
     "metadata": {},
     "output_type": "display_data"
    }
   ],
   "source": [
    "int(speed)"
   ]
  },
  {
   "cell_type": "markdown",
   "metadata": {},
   "source": [
    "__5.12 Debugging__\n",
    "\n",
    ">When a syntax or runtime error occurs, the error message contains a lot of information, but it can be overwhelming. The most useful parts are usually:\n",
    "***\n",
    "_What kind of error it was, and_\n",
    "\n",
    "_Where it occurred._\n",
    "***\n",
    ">Syntax errors are usually easy to find, but there are a few gotchas. Whitespace errors can be tricky because spaces and tabs are invisible and we are used to ignoring them.\n",
    "***\n",
    "_>>> x = 5_\n",
    "\n",
    "_>>> y = 6_\n",
    "***\n",
    "File \"<stdin>\", line 1\n",
    "y = 6\n",
    "^\n",
    "\n",
    "_IndentationError: unexpected indent_\n",
    "\n",
    ">In this example, the problem is that the second line is indented by one space. But the error message points to y, which is misleading. In general, error messages indicate where the problem was discovered, but the actual error might be earlier in the code, sometimes on a previous line.\n",
    "\n",
    ">The same is true of runtime errors. Suppose you are trying to compute a signal-to-noise ratio in decibels. The formula is SNRdb = 10 log10(Psignal/Pnoise). In Python, you might write something like this:"
   ]
  },
  {
   "cell_type": "code",
   "execution_count": 26,
   "metadata": {},
   "outputs": [
    {
     "ename": "ValueError",
     "evalue": "math domain error",
     "output_type": "error",
     "traceback": [
      "\u001b[1;31m---------------------------------------------------------------------------\u001b[0m",
      "\u001b[1;31mValueError\u001b[0m                                Traceback (most recent call last)",
      "Cell \u001b[1;32mIn[26], line 5\u001b[0m\n\u001b[0;32m      3\u001b[0m noise_power \u001b[38;5;241m=\u001b[39m \u001b[38;5;241m10\u001b[39m\n\u001b[0;32m      4\u001b[0m ratio \u001b[38;5;241m=\u001b[39m signal_power \u001b[38;5;241m/\u001b[39m\u001b[38;5;241m/\u001b[39m noise_power\n\u001b[1;32m----> 5\u001b[0m decibels \u001b[38;5;241m=\u001b[39m \u001b[38;5;241m10\u001b[39m \u001b[38;5;241m*\u001b[39m \u001b[43mmath\u001b[49m\u001b[38;5;241;43m.\u001b[39;49m\u001b[43mlog10\u001b[49m\u001b[43m(\u001b[49m\u001b[43mratio\u001b[49m\u001b[43m)\u001b[49m\n\u001b[0;32m      6\u001b[0m \u001b[38;5;28mprint\u001b[39m(decibels)\n",
      "\u001b[1;31mValueError\u001b[0m: math domain error"
     ]
    }
   ],
   "source": [
    "import math\n",
    "signal_power = 9\n",
    "noise_power = 10\n",
    "ratio = signal_power // noise_power\n",
    "decibels = 10 * math.log10(ratio)\n",
    "print(decibels)"
   ]
  },
  {
   "cell_type": "markdown",
   "metadata": {},
   "source": [
    ">When you run this program, you get an exception:  \n",
    "\n",
    "Traceback`1 (most recent call last):\n",
    "\n",
    "File \"snr.py\", line 5, in ?\n",
    "\n",
    "decibels = 10 * math.log10(ratio)\n",
    "\n",
    "\n",
    "ValueError: math domain error\n",
    "\n",
    ">The error message indicates line 5, but there is nothing wrong with that line. To find the real error, it might be useful to print the value of ratio, which turns out to be 0. The problem is in line 4, which uses floor division instead of floating-point division.\n",
    "\n",
    ">You should take the time to read error messages carefully, but don’t assume that everything they say is correct."
   ]
  },
  {
   "cell_type": "code",
   "execution_count": 27,
   "metadata": {},
   "outputs": [
    {
     "name": "stdout",
     "output_type": "stream",
     "text": [
      "-0.4575749056067512\n"
     ]
    }
   ],
   "source": [
    "import math\n",
    "signal_power = 9\n",
    "noise_power = 10\n",
    "ratio = signal_power / noise_power\n",
    "decibels = 10 * math.log10(ratio)\n",
    "print(decibels)"
   ]
  },
  {
   "cell_type": "code",
   "execution_count": 28,
   "metadata": {},
   "outputs": [
    {
     "name": "stdout",
     "output_type": "stream",
     "text": [
      "0.9\n",
      "-0.4575749056067512\n"
     ]
    }
   ],
   "source": [
    "import math\n",
    "signal_power = 9\n",
    "noise_power = 10\n",
    "ratio = signal_power / noise_power\n",
    "print(ratio)\n",
    "decibels = 10 * math.log10(ratio)\n",
    "print(decibels)"
   ]
  },
  {
   "cell_type": "markdown",
   "metadata": {},
   "source": [
    "__5.13 Glossary__\n",
    "\n",
    ">__floor division:__ An operator, denoted _//_, that divides two numbers and rounds down (toward negative infinity) to an integer.\n",
    "\n",
    ">__modulus operator:__ An operator, denoted with a percent sign (%), that works on integers and returns the remainder when one number is divided by another.\n",
    "\n",
    ">__boolean expression:__ An expression whose value is either True or False.\n",
    "\n",
    ">__relational operator:__ One of the operators that compares its operands: ==, !=, >, <, >=, and <=.\n",
    "\n",
    ">__logical operator:__ One of the operators that combines boolean expressions: and, or, and not.\n",
    "\n",
    ">__conditional statement:__ A statement that controls the flow of execution depending on some condition.\n",
    "\n",
    ">__condition:__ The boolean expression in a conditional statement that determines which branch runs.\n",
    "\n",
    ">__compound statement:__ A statement that consists of a header and a body. The header ends with a colon (:). The body is indented relative to the header.\n",
    "\n",
    ">__branch:__ One of the alternative sequences of statements in a conditional statement.\n",
    "\n",
    ">__chained conditional:__ A conditional statement with a series of alternative branches.\n",
    "\n",
    ">__nested conditional: A conditional statement that appears in one of the branches of another conditional statement.\n",
    "\n",
    ">__return statement:__ A statement that causes a function to end immediately and return to the caller.\n",
    "\n",
    ">__recursion:__ The process of calling the function that is currently executing.\n",
    "\n",
    ">__base case:__ A conditional branch in a recursive function that does not make a recursive call.\n",
    "\n",
    ">__infinite recursion:__ A recursion that doesn’t have a base case, or never reaches it. Eventually, an infinite recursion causes a runtime error."
   ]
  },
  {
   "cell_type": "markdown",
   "metadata": {},
   "source": [
    "_5.14 Exercises_\n",
    "\n",
    ">Exercise 5.1. The time module provides a function, also named time, that returns the current Greenwich Mean Time in “the epoch”, which is an arbitrary time used as a reference point. On UNIX systems, the epoch is 1 January 1970.\n",
    "***\n",
    "import time\n",
    "\n",
    "time.time()\n",
    "***\n",
    ">Write a script that reads the current time and converts it to a time of day in hours, minutes, and seconds, plus the number of days since the epoch. \n",
    "\n",
    "\n",
    ">Exercise 5.2. Fermat’s Last Theorem says that there are no positive integers a, b, and c such that\n",
    "***\n",
    "a\n",
    "\n",
    "n + b\n",
    "\n",
    "n = c\n",
    "\n",
    "n\n",
    "\n",
    "for any values of n greater than 2.\n",
    "***\n",
    "\n",
    ">1. Write a function named check_fermat that takes four parameters—a, b, c and n—and checks to see if Fermat’s theorem holds. If n is greater than 2 and  a\n",
    "n + b\n",
    "\n",
    "n = c\n",
    "\n",
    "n\n",
    "\n",
    ">the program should print, “Holy smokes, Fermat was wrong!” Otherwise the program should print, “No, that doesn’t work.”\n",
    "\n",
    ">2. Write a function that prompts the user to input values for a, b, c and n, converts them to integers, and uses check_fermat to check whether they violate Fermat’s theorem.\n",
    "\n",
    ">Exercise 5.3. If you are given three sticks, you may or may not be able to arrange them in a triangle. \n",
    "\n",
    ">For example, if one of the sticks is 12 inches long and the other two are one inch long, you will not be able to get the short sticks to meet in the middle. \n",
    "\n",
    ">For any three lengths, there is a simple test to see if it is possible to form a triangle: If any of the three lengths is greater than the sum of the other two, then you cannot form a triangle. Otherwise, you can. (If the sum of two lengths equals the third, they form what is called a “degenerate” triangle.)\n",
    "\n",
    ">1. Write a function named is_triangle that takes three integers as arguments, and that prints either “Yes” or “No”, depending on whether you can or cannot form a triangle from sticks with the given lengths.\n",
    "\n",
    ">2. Write a function that prompts the user to input three stick lengths, converts them to integers, and uses is_triangle to check whether sticks with the given lengths can form a triangle.\n",
    "\n",
    ">Exercise 5.4. What is the output of the following program? Draw a stack diagram that shows the state of the program when it prints the result."
   ]
  },
  {
   "cell_type": "markdown",
   "metadata": {},
   "source": [
    "_def recurse(n, s):_\n",
    "\n",
    "_if n == 0:_\n",
    "\n",
    "_print(s)_\n",
    "\n",
    "_else:_\n",
    "\n",
    "_recurse(n-1, n+s)_\n",
    "\n",
    "_recurse(3, 0)_\n",
    "\n",
    ">1. What would happen if you called this function like this: recurse(-1, 0)?\n",
    "\n",
    ">2. Write a docstring that explains everything someone would need to know in order to use this function (and nothing else).\n",
    "\n",
    ">The following exercises use the turtle module, described in Chapter 4:\n",
    "\n",
    ">Exercise 5.5. Read the following function and see if you can figure out what it does (see the examples in Chapter 4). Then run it and see if you got it right."
   ]
  },
  {
   "cell_type": "code",
   "execution_count": null,
   "metadata": {},
   "outputs": [],
   "source": [
    "# 5.14. Exercises 49\n",
    "\n",
    "# Figure 5.2: A Koch curve.\n",
    "\n",
    "def draw(t, length, n):\n",
    "    if n == 0:\n",
    "        return\n",
    "    angle = 50\n",
    "    t.fd(length*n)\n",
    "    t.lt(angle)\n",
    "    draw(t, length, n-1)\n",
    "    t.rt(2*angle)\n",
    "    draw(t, length, n-1)\n",
    "    t.lt(angle)\n",
    "    t.bk(length*n)"
   ]
  },
  {
   "cell_type": "markdown",
   "metadata": {},
   "source": [
    "_Exercise 5.6._ \n",
    "\n",
    ">The Koch curve is a fractal that looks something like Figure 5.2. To draw a Koch curve with length x, all you have to do is\n",
    "_1. Draw a Koch curve with length x/3._\n",
    "\n",
    "_2. Turn left 60 degrees._\n",
    "\n",
    "_3. Draw a Koch curve with length x/3._\n",
    "\n",
    "_4. Turn right 120 degrees._\n",
    "\n",
    "_5. Draw a Koch curve with length x/3._\n",
    "\n",
    "_6. Turn left 60 degrees._\n",
    "\n",
    "_7. Draw a Koch curve with length x/3._\n",
    "\n",
    ">The exception is if x is less than 3: in that case, you can just draw a straight line with length x.\n",
    "\n",
    ">1. Write a function called koch that takes a turtle and a length as parameters, and that uses the turtle to draw a Koch curve with the given length.\n",
    "\n",
    ">2. Write a function called snowflake that draws three Koch curves to make the outline of a snowflake.\n",
    "\n",
    "[Solution:]( http: // thinkpython2. com/ code/ koch. py) .\n",
    "\n",
    ">3. The Koch curve can be generalized in several ways. See http: // en. wikipedia. org/wiki/ Koch_ snowflake for examples and implement your favorite."
   ]
  }
 ],
 "metadata": {
  "kernelspec": {
   "display_name": "base",
   "language": "python",
   "name": "python3"
  },
  "language_info": {
   "codemirror_mode": {
    "name": "ipython",
    "version": 3
   },
   "file_extension": ".py",
   "mimetype": "text/x-python",
   "name": "python",
   "nbconvert_exporter": "python",
   "pygments_lexer": "ipython3",
   "version": "3.12.7"
  }
 },
 "nbformat": 4,
 "nbformat_minor": 2
}
