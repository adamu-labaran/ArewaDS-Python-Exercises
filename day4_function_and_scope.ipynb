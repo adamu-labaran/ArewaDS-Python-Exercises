{
 "cells": [
  {
   "cell_type": "markdown",
   "metadata": {},
   "source": [
    "# FUNCTION"
   ]
  },
  {
   "cell_type": "markdown",
   "metadata": {},
   "source": [
    "_A function is a block of code that runs when it is called_\n",
    "\n",
    "_It takes an input (parmeters) and return output (values)_"
   ]
  },
  {
   "cell_type": "code",
   "execution_count": 4,
   "metadata": {},
   "outputs": [],
   "source": [
    "def function_name(parameters):\n",
    "    result = 40 # function body\n",
    "    return result\n"
   ]
  },
  {
   "cell_type": "code",
   "execution_count": 6,
   "metadata": {},
   "outputs": [],
   "source": [
    "def greet(name):\n",
    "    return f\"Hello, {name.title()}!\""
   ]
  },
  {
   "cell_type": "code",
   "execution_count": 8,
   "metadata": {},
   "outputs": [
    {
     "data": {
      "text/plain": [
       "'Hello, Adamu Labaran!'"
      ]
     },
     "execution_count": 8,
     "metadata": {},
     "output_type": "execute_result"
    }
   ],
   "source": [
    "my_name = greet(\"adamu labaran\")\n",
    "my_name"
   ]
  },
  {
   "cell_type": "code",
   "execution_count": 10,
   "metadata": {},
   "outputs": [
    {
     "data": {
      "text/plain": [
       "'Hello, Musa!'"
      ]
     },
     "execution_count": 10,
     "metadata": {},
     "output_type": "execute_result"
    }
   ],
   "source": [
    "greet_musa = greet(\"musa\")\n",
    "greet_musa"
   ]
  },
  {
   "cell_type": "code",
   "execution_count": 12,
   "metadata": {},
   "outputs": [
    {
     "data": {
      "text/plain": [
       "'Hello, Ibro!'"
      ]
     },
     "execution_count": 12,
     "metadata": {},
     "output_type": "execute_result"
    }
   ],
   "source": [
    "greet_ibro = greet(\"ibro\")\n",
    "greet_ibro"
   ]
  },
  {
   "cell_type": "markdown",
   "metadata": {},
   "source": [
    "_function with multiple parameters_"
   ]
  },
  {
   "cell_type": "code",
   "execution_count": 14,
   "metadata": {},
   "outputs": [],
   "source": [
    "def add(a,b):\n",
    "    return a + b"
   ]
  },
  {
   "cell_type": "code",
   "execution_count": 16,
   "metadata": {},
   "outputs": [
    {
     "name": "stdout",
     "output_type": "stream",
     "text": [
      "12.0\n"
     ]
    }
   ],
   "source": [
    "print(add(3., 9))"
   ]
  },
  {
   "cell_type": "markdown",
   "metadata": {},
   "source": [
    "__Default Parameters__\n",
    "\n",
    ">You can provide default values for parameters. If no value is passed for those parameters, the default is used."
   ]
  },
  {
   "cell_type": "code",
   "execution_count": 17,
   "metadata": {},
   "outputs": [
    {
     "name": "stdout",
     "output_type": "stream",
     "text": [
      "Hello, Adamu!\n",
      "Good morning, Adamu!\n"
     ]
    }
   ],
   "source": [
    "def greet(name, greeting=\"Hello\"):\n",
    "    return f\"{greeting}, {name.title()}!\"\n",
    "\n",
    "print(greet(\"Adamu\"))  # Output: Hello, Adamu!\n",
    "print(greet(\"Adamu\", \"Good morning\"))  # Output: Good morning, Adamu!\n"
   ]
  },
  {
   "cell_type": "code",
   "execution_count": 18,
   "metadata": {},
   "outputs": [],
   "source": [
    "def greet(name, say=\"Hello\"):\n",
    "    return f\"{say}, Mr {name.title()}!\""
   ]
  },
  {
   "cell_type": "code",
   "execution_count": 19,
   "metadata": {},
   "outputs": [
    {
     "data": {
      "text/plain": [
       "'Hello, Mr Adamu!'"
      ]
     },
     "execution_count": 19,
     "metadata": {},
     "output_type": "execute_result"
    }
   ],
   "source": [
    "greet('adamu')"
   ]
  },
  {
   "cell_type": "code",
   "execution_count": 20,
   "metadata": {},
   "outputs": [
    {
     "data": {
      "text/plain": [
       "'Good morning, Mr Adamu!'"
      ]
     },
     "execution_count": 20,
     "metadata": {},
     "output_type": "execute_result"
    }
   ],
   "source": [
    "greet(\"adamu\", \"Good morning\")"
   ]
  },
  {
   "cell_type": "markdown",
   "metadata": {},
   "source": [
    "__Variable-Length Arguments__\n",
    "\n",
    ">If you want to allow a function to accept any number of arguments, you can use the *args and **kwargs.\n",
    "\n",
    ">*args allows for any number of positional arguments.\n",
    "\n",
    ">**kwargs allows for any number of keyword arguments."
   ]
  },
  {
   "cell_type": "code",
   "execution_count": 21,
   "metadata": {},
   "outputs": [],
   "source": [
    "def length_args(*args, **kwargs):\n",
    "    print(\"Positional arguments:\", args)\n",
    "    print(\"Keyword arguments:\", kwargs)"
   ]
  },
  {
   "cell_type": "code",
   "execution_count": 22,
   "metadata": {},
   "outputs": [
    {
     "name": "stdout",
     "output_type": "stream",
     "text": [
      "Positional arguments: ('Musa', 'Isah', 'Musty', 'Ismail')\n",
      "Keyword arguments: {'name': 'Adamu', 'age': 10}\n"
     ]
    }
   ],
   "source": [
    "length_args(\"Musa\", \"Isah\", \"Musty\", \"Ismail\", name=\"Adamu\", age=10)"
   ]
  },
  {
   "cell_type": "markdown",
   "metadata": {},
   "source": [
    "__Lambda Functions__\n",
    "\n",
    ">A lambda function is a small anonymous function defined with the lambda keyword. It can take any number of arguments but only has one expression.\n",
    "\n",
    "_syntax_\n",
    "***\n",
    "__lambda arguments: expression__\n",
    "***"
   ]
  },
  {
   "cell_type": "code",
   "execution_count": 23,
   "metadata": {},
   "outputs": [
    {
     "name": "stdout",
     "output_type": "stream",
     "text": [
      "100\n"
     ]
    }
   ],
   "source": [
    "add = lambda x, y: x + y\n",
    "print(add(99, 1))"
   ]
  },
  {
   "cell_type": "code",
   "execution_count": 25,
   "metadata": {},
   "outputs": [
    {
     "name": "stdout",
     "output_type": "stream",
     "text": [
      "40\n"
     ]
    }
   ],
   "source": [
    "print(add(20,20))"
   ]
  },
  {
   "cell_type": "code",
   "execution_count": 32,
   "metadata": {},
   "outputs": [
    {
     "name": "stdout",
     "output_type": "stream",
     "text": [
      "1024\n"
     ]
    }
   ],
   "source": [
    "exponent = lambda a, b: a ** b\n",
    "print(exponent(2,10))"
   ]
  },
  {
   "cell_type": "code",
   "execution_count": 36,
   "metadata": {},
   "outputs": [
    {
     "name": "stdout",
     "output_type": "stream",
     "text": [
      "3.0\n"
     ]
    }
   ],
   "source": [
    "divid = lambda x, y: x / y\n",
    "print(divid(9,3))"
   ]
  },
  {
   "cell_type": "code",
   "execution_count": 34,
   "metadata": {},
   "outputs": [
    {
     "name": "stdout",
     "output_type": "stream",
     "text": [
      "4\n"
     ]
    }
   ],
   "source": [
    "floor_division = lambda x, y: x // y\n",
    "print(floor_division(8, 2))"
   ]
  },
  {
   "cell_type": "markdown",
   "metadata": {},
   "source": [
    "_Recursive Functions_\n",
    "\n",
    ">A recursive function is one that calls itself. This is useful for problems that can be broken down into smaller instances of the same problem (e.g., factorial, Fibonacci series)."
   ]
  },
  {
   "cell_type": "markdown",
   "metadata": {},
   "source": [
    "__Base Case:__\n",
    ">If n is 0 or 1, the function returns 1 because: 0! = 1! = 10!=1!=1\n",
    "\n",
    "__Recursive Case:__\n",
    "\n",
    ">If 𝑛n is greater than 1, the function calls itself recursively: 𝑛!= 𝑛×(𝑛−1)!n!=n×(n−1)!\n",
    "\n",
    ">This continues until it reaches the base case.\n",
    "\n",
    ">Step-by-Step Execution (factorial(5))\n",
    "\n",
    ">factorial(5) → 5 * factorial(4)\n",
    "\n",
    ">factorial(4) → 4 * factorial(3)\n",
    "\n",
    ">factorial(3) → 3 * factorial(2)\n",
    "\n",
    ">factorial(2) → 2 * factorial(1)\n",
    "\n",
    ">factorial(1) → 1 (Base case)\n",
    "\n",
    ">Now, the recursion unwinds:\n",
    "\n",
    ">factorial(2) = 2 * 1 = 2\n",
    "\n",
    ">factorial(3) = 3 * 2 = 6\n",
    "\n",
    ">factorial(4) = 4 * 6 = 24\n",
    "\n",
    ">factorial(5) = 5 * 24 = 120"
   ]
  },
  {
   "cell_type": "code",
   "execution_count": 37,
   "metadata": {},
   "outputs": [
    {
     "name": "stdout",
     "output_type": "stream",
     "text": [
      "120\n"
     ]
    }
   ],
   "source": [
    "def factorial(n):\n",
    "    if n == 0 or n == 1:\n",
    "        return 1\n",
    "    return n * factorial(n - 1)\n",
    "\n",
    "print(factorial(5))  # Output: 120"
   ]
  },
  {
   "cell_type": "code",
   "execution_count": 38,
   "metadata": {},
   "outputs": [
    {
     "name": "stdout",
     "output_type": "stream",
     "text": [
      "1\n"
     ]
    }
   ],
   "source": [
    "print(factorial(0))"
   ]
  },
  {
   "cell_type": "code",
   "execution_count": 39,
   "metadata": {},
   "outputs": [
    {
     "name": "stdout",
     "output_type": "stream",
     "text": [
      "1\n"
     ]
    }
   ],
   "source": [
    "print(factorial(1))"
   ]
  },
  {
   "cell_type": "code",
   "execution_count": 40,
   "metadata": {},
   "outputs": [
    {
     "name": "stdout",
     "output_type": "stream",
     "text": [
      "2\n"
     ]
    }
   ],
   "source": [
    "print(factorial(2))"
   ]
  },
  {
   "cell_type": "code",
   "execution_count": 41,
   "metadata": {},
   "outputs": [
    {
     "name": "stdout",
     "output_type": "stream",
     "text": [
      "6\n"
     ]
    }
   ],
   "source": [
    "print(factorial(3))"
   ]
  },
  {
   "cell_type": "code",
   "execution_count": 42,
   "metadata": {},
   "outputs": [
    {
     "name": "stdout",
     "output_type": "stream",
     "text": [
      "93326215443944152681699238856266700490715968264381621468592963895217599993229915608941463976156518286253697920827223758251185210916864000000000000000000000000\n"
     ]
    }
   ],
   "source": [
    "print(factorial(100))"
   ]
  },
  {
   "cell_type": "markdown",
   "metadata": {},
   "source": [
    "_Higher-Order Functions_\n",
    "\n",
    ">A higher-order function is a function that either takes a function as an argument or returns a function as a result."
   ]
  },
  {
   "cell_type": "code",
   "execution_count": 43,
   "metadata": {},
   "outputs": [
    {
     "name": "stdout",
     "output_type": "stream",
     "text": [
      "[1, 4, 9, 16]\n"
     ]
    }
   ],
   "source": [
    "def square(x):\n",
    "    return x * x\n",
    "\n",
    "nums = [1, 2, 3, 4]\n",
    "sqr_nums = map(square, nums)\n",
    "print(list(sqr_nums))"
   ]
  },
  {
   "cell_type": "markdown",
   "metadata": {},
   "source": [
    "__Function Annotations__\n",
    "\n",
    ">Function annotations allow you to add metadata to function parameters and return values. While they don’t affect the function’s behavior, they help document your code and can be used for type checking."
   ]
  },
  {
   "cell_type": "code",
   "execution_count": 44,
   "metadata": {},
   "outputs": [
    {
     "name": "stdout",
     "output_type": "stream",
     "text": [
      "5\n"
     ]
    }
   ],
   "source": [
    "def add(a: int, b: int) -> int:\n",
    "    return a + b\n",
    "\n",
    "print(add(2, 3))  # Output: 5"
   ]
  },
  {
   "cell_type": "code",
   "execution_count": 45,
   "metadata": {},
   "outputs": [
    {
     "name": "stdout",
     "output_type": "stream",
     "text": [
      "10\n"
     ]
    }
   ],
   "source": [
    "print(add(9, 1))"
   ]
  },
  {
   "cell_type": "markdown",
   "metadata": {},
   "source": [
    "__Closures__\n",
    "\n",
    ">A closure is a function defined within another function that remembers the environment in which it was created. This allows for the function to access variables from its enclosing scope."
   ]
  },
  {
   "cell_type": "code",
   "execution_count": 46,
   "metadata": {},
   "outputs": [
    {
     "name": "stdout",
     "output_type": "stream",
     "text": [
      "8\n"
     ]
    }
   ],
   "source": [
    "def outer(x):\n",
    "    def inner(y):\n",
    "        return x + y\n",
    "    return inner\n",
    "\n",
    "add_five = outer(5)\n",
    "print(add_five(3))  # Output: 8"
   ]
  },
  {
   "cell_type": "markdown",
   "metadata": {},
   "source": [
    "__Decorators__\n",
    "\n",
    ">A decorator is a function that wraps another function to modify its behavior. It is commonly used in Python for logging, access control, memoization, and more."
   ]
  },
  {
   "cell_type": "code",
   "execution_count": 47,
   "metadata": {},
   "outputs": [
    {
     "name": "stdout",
     "output_type": "stream",
     "text": [
      "Something before the function.\n",
      "Hello!\n",
      "Something after the function.\n"
     ]
    }
   ],
   "source": [
    "def decorator(func):\n",
    "    def wrapper():\n",
    "        print(\"Something before the function.\")\n",
    "        func()\n",
    "        print(\"Something after the function.\")\n",
    "    return wrapper\n",
    "\n",
    "@decorator\n",
    "def say_hello():\n",
    "    print(\"Hello!\")\n",
    "\n",
    "say_hello()"
   ]
  },
  {
   "cell_type": "markdown",
   "metadata": {},
   "source": [
    "__Generator Functions__\n",
    "\n",
    ">Generator functions allow you to return an iterable set of items, one at a time, using the yield keyword. This is more memory-efficient compared to returning a complete list."
   ]
  },
  {
   "cell_type": "code",
   "execution_count": null,
   "metadata": {},
   "outputs": [],
   "source": [
    "def count_up_to(limit):\n",
    "    count = 1\n",
    "    while count <= limit:\n",
    "        yield count\n",
    "        count += 1\n",
    "\n",
    "counter = count_up_to(5)\n",
    "for num in counter:\n",
    "    print(num)"
   ]
  },
  {
   "cell_type": "markdown",
   "metadata": {},
   "source": [
    "__Python Crash Course by Eric Matthes__\n",
    "\n",
    "__[mastering function 1](https://github.com/arewadataScience/30-Days-of-Python/blob/main/09_Module_Functions_List_Comprehensions/09_functions_list_comprehensions.md)__\n",
    "\n",
    "__[mastering function 2](https://github.com/arewadataScience/30-Days-of-Python/blob/main/10_Module_Higher_order_functions/10_higher_order_functions.md)__\n",
    "***\n",
    ">function\n",
    "***"
   ]
  },
  {
   "cell_type": "markdown",
   "metadata": {},
   "source": [
    "_8 F U N C T I O N S_"
   ]
  },
  {
   "cell_type": "markdown",
   "metadata": {},
   "source": [
    ">In this chapter you’ll learn to write functions, which are named blocks of code designed to do one specific job. \n",
    "\n",
    ">When you want to perform a particular task that you’ve defined in a function, you call the function responsible for it. \n",
    "\n",
    ">If you need to perform that task multiple times throughout your program, you don’t need to type all the code for the same task again and again;  you just call the function dedicated to handling that task, and the call tells Python to run the code inside the function. \n",
    "\n",
    ">You’ll find that using functions makes your programs easier to write, read, test, and fix.\n",
    "\n",
    ">In this chapter you’ll also learn a variety of ways to pass information to functions. You’ll learn how to write certain functions whose primary job is to display information and other functions designed to process data and return a value or set of values. \n",
    "\n",
    ">Finally, you’ll learn to store functions in sep-arate files called modules to help organize your main program files.\n"
   ]
  },
  {
   "cell_type": "markdown",
   "metadata": {},
   "source": [
    "__Defining a Function__\n",
    "\n",
    ">Here’s a simple function named greet_user() that prints a greeting:"
   ]
  },
  {
   "cell_type": "code",
   "execution_count": 49,
   "metadata": {},
   "outputs": [
    {
     "name": "stdout",
     "output_type": "stream",
     "text": [
      "Hello!\n"
     ]
    }
   ],
   "source": [
    "def greet_user():    \n",
    "    \"\"\"Display a simple greeting.\"\"\"    \n",
    "    print(\"Hello!\")\n",
    "greet_user()"
   ]
  },
  {
   "cell_type": "markdown",
   "metadata": {},
   "source": [
    ">This example shows the simplest structure of a function. The first line uses the _keyword def_ to inform Python that you’re defining a function. __This is the function definition,__ which tells Python the name of the function and, if applicable, what kind of information the function needs to do its job. \n",
    "\n",
    ">__The parentheses hold that information__. In this case, the name of the function is greet_user(), and it needs no information to do its job, so its parentheses are empty. (Even so, the parentheses are required.) \n",
    "\n",
    ">Finally, the definition ends in a colon. Any indented lines that follow def greet_user(): make up the body of the function. \n",
    "\n",
    ">The text on the second line is a comment called a docstring, which describes what the function does. \n",
    "\n",
    ">When Python generates documentation for the functions in your programs, it looks for a string immediately after the function's definition. These strings are usually enclosed in triple quotes, which lets you write multiple lines.\n",
    "\n",
    ">The line print(\"Hello!\") is the only line of actual code in the body of this function, so greet_user() has just one job: print(\"Hello!\").\n",
    "\n",
    ">When you want to use this function, you have to call it. A function call tells Python to execute the code in the function. To call a function, you write the name of the function, followed by any necessary information in paren-theses. Because no information is needed here, calling our function is as simple as entering greet_user(). As expected, it prints Hello!: _Hello!_"
   ]
  },
  {
   "cell_type": "markdown",
   "metadata": {},
   "source": [
    "_Passing Information to a Function_\n",
    "\n",
    ">If you modify the function greet_user() slightly, it can greet the user by name. For the function to do this, you enter username in the parentheses of the function’s definition at def greet_user(). By adding username here, you allow the function to accept any value of username you specify. The function now expects you to provide a value for username each time you call it. When you call greet_user(), you can pass it a name, such as 'jesse', inside the parentheses:"
   ]
  },
  {
   "cell_type": "code",
   "execution_count": 50,
   "metadata": {},
   "outputs": [
    {
     "name": "stdout",
     "output_type": "stream",
     "text": [
      "Hello, Jesse!\n"
     ]
    }
   ],
   "source": [
    "def greet_user(username):    \n",
    "    \"\"\"Display a simple greeting.\"\"\"    \n",
    "    print(f\"Hello, {username.title()}!\")\n",
    "greet_user('jesse')"
   ]
  },
  {
   "cell_type": "code",
   "execution_count": 51,
   "metadata": {},
   "outputs": [
    {
     "name": "stdout",
     "output_type": "stream",
     "text": [
      "Hello, Adamu!\n"
     ]
    }
   ],
   "source": [
    "greet_user(\"adamu\")"
   ]
  },
  {
   "cell_type": "markdown",
   "metadata": {},
   "source": [
    ">Entering greet_user('jesse') calls greet_user() and gives the function the information it needs to execute the print() call. The function accepts the name you passed it and displays the greeting for that name:\n",
    "\n",
    "__Hello, Jesse!__\n",
    "\n",
    ">Likewise, entering greet_user('sarah') calls greet_user(), passes it 'sarah', and prints Hello, Sarah! You can call greet_user() as often as you want and pass it any name you want to produce a predictable output every time."
   ]
  },
  {
   "cell_type": "markdown",
   "metadata": {},
   "source": [
    "__Arguments and Parameters__\n",
    "\n",
    ">In the preceding greet_user() function, we defined greet_user() to require a value for the variable username. Once we called the function and gave it the information (a person’s name), it printed the right greeting. The variable username in the definition of greet_user() is an example of a parameter, a piece of information the function needs to do its job. \n",
    "\n",
    ">The value 'jesse' in greet_user('jesse') is an example of an argument. An argument is a piece of information that’s passed from a function call to a function. When we call the function, we place the value we want the function to work with in parentheses. In this case the argument 'jesse' was passed to the function greet_user(), and the value was assigned to the parameter username.\n",
    "\n",
    ">_N O T E_  People sometimes speak of arguments and parameters interchangeably. Don’t be surprised if you see the variables in a function definition referred to as arguments or the variables in a function call referred to as parameters."
   ]
  },
  {
   "cell_type": "markdown",
   "metadata": {},
   "source": [
    "_T R Y   I T   Y O U R S E L F_\n",
    "\n",
    ">8-1. Message: Write a function called display_message() that prints one sentence telling everyone what you are learning about in this chapter. Call the function, and make sure the message displays correctly."
   ]
  },
  {
   "cell_type": "code",
   "execution_count": 55,
   "metadata": {},
   "outputs": [
    {
     "name": "stdout",
     "output_type": "stream",
     "text": [
      "Hello! I'm learning function in python, Now I understand the distiction between paremeters and arguments.\n"
     ]
    }
   ],
   "source": [
    "def display_message():\n",
    "    print(\"Hello! I'm learning function in python, Now I understand the distiction between paremeters and arguments.\")\n",
    "display_message()"
   ]
  },
  {
   "cell_type": "markdown",
   "metadata": {},
   "source": [
    ">8-2. Favorite Book: Write a function called favorite_book() that accepts one parameter, title. The function should print a message, such as One of my favorite books is Alice in Wonderland. Call the function, making sure to include a book title as an argument in the function call.\n"
   ]
  },
  {
   "cell_type": "code",
   "execution_count": 57,
   "metadata": {},
   "outputs": [
    {
     "name": "stdout",
     "output_type": "stream",
     "text": [
      "One of my favorite books is THINK PYTHON by Allen Downey\n"
     ]
    }
   ],
   "source": [
    "def favorite_book(title):\n",
    "    print(f\"One of my favorite books is {title.upper()} by Allen Downey\")\n",
    "favorite_book(\"think python\")"
   ]
  },
  {
   "cell_type": "markdown",
   "metadata": {},
   "source": [
    "__Passing Arguments__\n",
    "\n",
    ">Because a function definition can have multiple parameters, a function call may need multiple arguments. You can pass arguments to your functions in a number of ways. You can use positional arguments, which need to be in the same order the parameters were written; keyword arguments, where each argument consists of a variable name and a value; and lists and dictionaries of values. Let’s look at each of these in turn.\n",
    "\n",
    ">_Positional Arguments_\n",
    "\n",
    ">When you call a function, Python must match each argument in the func-tion call with a parameter in the function definition. The simplest way to  do this is based on the order of the arguments provided. Values matched up this way are called positional arguments.To see how this works, consider a function that displays information about pets. The function tells us what kind of animal each pet is and the pet’s name, as shown here:"
   ]
  },
  {
   "cell_type": "code",
   "execution_count": 58,
   "metadata": {},
   "outputs": [],
   "source": [
    "def describe_pet(animal_type, pet_name):    \n",
    "    \"\"\"Display information about a pet.\"\"\"    \n",
    "    print(f\"\\nI have a {animal_type}.\")    \n",
    "    print(f\"My {animal_type}'s name is {pet_name.title()}.\")"
   ]
  },
  {
   "cell_type": "code",
   "execution_count": 59,
   "metadata": {},
   "outputs": [
    {
     "name": "stdout",
     "output_type": "stream",
     "text": [
      "\n",
      "I have a hamster.\n",
      "My hamster's name is Harry.\n"
     ]
    }
   ],
   "source": [
    "describe_pet('hamster', 'harry')"
   ]
  },
  {
   "cell_type": "markdown",
   "metadata": {},
   "source": [
    ">The definition shows that this function needs a type of animal and the animal’s name 1. When we call describe_pet(), we need to provide an animal type and a name, in that order. For example, in the function call, the argument 'hamster' is assigned to the parameter animal_type and the argu-ment 'harry' is assigned to the parameter pet_name 2. In the function body, these two parameters are used to display information about the pet being described.The output describes a hamster named Harry:\n",
    "***\n",
    "I have a hamster.\n",
    "\n",
    "My hamster's name is Harry.\n"
   ]
  },
  {
   "cell_type": "markdown",
   "metadata": {},
   "source": [
    "_Multiple Function Calls_\n",
    "\n",
    ">You can call a function as many times as needed. Describing a second, different pet requires just one more call to describe_pet():"
   ]
  },
  {
   "cell_type": "code",
   "execution_count": 60,
   "metadata": {},
   "outputs": [],
   "source": [
    "def describe_pet(animal_type, pet_name):    \n",
    "    \"\"\"Display information about a pet.\"\"\"    \n",
    "    print(f\"\\nI have a {animal_type}.\")    \n",
    "    print(f\"My {animal_type}'s name is {pet_name.title()}.\")"
   ]
  },
  {
   "cell_type": "code",
   "execution_count": 61,
   "metadata": {},
   "outputs": [
    {
     "name": "stdout",
     "output_type": "stream",
     "text": [
      "\n",
      "I have a hamster.\n",
      "My hamster's name is Harry.\n"
     ]
    }
   ],
   "source": [
    "describe_pet('hamster', 'harry')"
   ]
  },
  {
   "cell_type": "code",
   "execution_count": 62,
   "metadata": {},
   "outputs": [
    {
     "name": "stdout",
     "output_type": "stream",
     "text": [
      "\n",
      "I have a dog.\n",
      "My dog's name is Willie.\n"
     ]
    }
   ],
   "source": [
    "describe_pet('dog', 'willie')"
   ]
  },
  {
   "cell_type": "code",
   "execution_count": 63,
   "metadata": {},
   "outputs": [
    {
     "name": "stdout",
     "output_type": "stream",
     "text": [
      "\n",
      "I have a cat.\n",
      "My cat's name is Yesmi.\n"
     ]
    }
   ],
   "source": [
    "describe_pet('cat', 'yesmi')\n"
   ]
  },
  {
   "cell_type": "markdown",
   "metadata": {},
   "source": [
    ">In this second function call, we pass describe_pet() the arguments 'dog' and 'willie'. As with the previous set of arguments we used, Python matches 'dog' with the parameter animal_type and 'willie' with the parameter pet_name. As before, the function does its job, but this time it prints values for a dog named Willie. Now we have a hamster named Harry and a dog named Willie:\n",
    "***\n",
    "I have a hamster.\n",
    "\n",
    "My hamster's name is Harry.\n",
    "\n",
    "\n",
    "I have a dog.\n",
    "\n",
    "My dog's name is Willie.\n",
    "***\n",
    "\n",
    "\n",
    ">Calling a function multiple times is a very efficient way to work. The code describing a pet is written once in the function. Then, anytime you want to describe a new pet, you call the function with the new pet’s inforation. Even if the code for describing a pet were to expand to 10 lines, you could still describe a new pet in just one line by calling the function again."
   ]
  },
  {
   "cell_type": "markdown",
   "metadata": {},
   "source": [
    "_Order Matters in Positional Arguments_\n",
    "\n",
    ">You can get unexpected results if you mix up the order of the arguments in a function call when using positional arguments:"
   ]
  },
  {
   "cell_type": "code",
   "execution_count": 64,
   "metadata": {},
   "outputs": [
    {
     "name": "stdout",
     "output_type": "stream",
     "text": [
      "\n",
      "I have a harry.\n",
      "My harry's name is Hamster.\n"
     ]
    }
   ],
   "source": [
    "describe_pet('harry', 'hamster')"
   ]
  },
  {
   "cell_type": "markdown",
   "metadata": {},
   "source": [
    ">In this function call, we list the name first and the type of animal second. Because the argument 'harry' is listed first this time, that value is assigned to the parameter animal_type. Likewise, 'hamster' is assigned to pet_name. Now we have a “harry” named “Hamster”:\n",
    "***\n",
    "I have a harry.\n",
    "\n",
    "My harry's name is Hamster.\n",
    "***\n",
    "\n",
    ">If you get funny results like this, check to make sure the order of the arguments in your function call matches the order of the parameters in the function’s definition."
   ]
  },
  {
   "cell_type": "markdown",
   "metadata": {},
   "source": [
    "_Keyword Arguments_\n",
    "\n",
    ">A keyword argument is a namevalue pair that you pass to a function. You directly associate the name and the value within the argument, so when you pass the argument to the function, there’s no confusion (you won’t end up with a harry named Hamster). Keyword arguments free you from having to worry about correctly ordering your arguments in the function call, and they clarify the role of each value in the function call.Let’s rewrite pets.py using keyword arguments to call describe_pet():"
   ]
  },
  {
   "cell_type": "code",
   "execution_count": 65,
   "metadata": {},
   "outputs": [
    {
     "name": "stdout",
     "output_type": "stream",
     "text": [
      "\n",
      "I have a hamster.\n",
      "My hamster's name is Harry.\n"
     ]
    }
   ],
   "source": [
    "def describe_pet(animal_type, pet_name):    \n",
    "    \"\"\"Display information about a pet.\"\"\"    \n",
    "    print(f\"\\nI have a {animal_type}.\")    \n",
    "    print(f\"My {animal_type}'s name is {pet_name.title()}.\")\n",
    "describe_pet(animal_type='hamster', pet_name='harry')\n"
   ]
  }
 ],
 "metadata": {
  "kernelspec": {
   "display_name": "base",
   "language": "python",
   "name": "python3"
  },
  "language_info": {
   "codemirror_mode": {
    "name": "ipython",
    "version": 3
   },
   "file_extension": ".py",
   "mimetype": "text/x-python",
   "name": "python",
   "nbconvert_exporter": "python",
   "pygments_lexer": "ipython3",
   "version": "3.12.7"
  }
 },
 "nbformat": 4,
 "nbformat_minor": 2
}
