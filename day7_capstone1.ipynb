{
 "cells": [
  {
   "cell_type": "markdown",
   "metadata": {},
   "source": [
    "__day 7 capstone project__\n",
    "\n",
    ">_A palindrome_ is a word, phrase, number, or sequence that reads the same forward and backward, ignoring spaces, punctuation, and capitalization.\n",
    "\n",
    ">In programming, a palindrome check typically compares a string to its reverse. If they are the same, the string is a palindrome.\n",
    "\n",
    "_Key Characteristics of a Palindrome:_\n",
    "\n",
    ">__Symmetry:__ The first half of the sequence is the same as the second half when reversed.\n",
    "\n",
    ">__Case Insensitivity:__ \"Racecar\" and \"racecar\" are considered the same in palindrome checking.\n",
    "\n",
    ">__Ignoring Spaces and Punctuation__: Sentences like \"A man, a plan, a canal, Panama!\" are palindromes when spaces, punctuation, and capitalization are ignored.\n",
    "\n",
    "_Examples of Palindromes:_\n",
    "\n",
    ">Words: \"madam\", \"racecar\", \"level\", \"radar\"\n",
    "\n",
    ">Phrases (ignoring spaces and punctuation):\n",
    "\n",
    ">\"A man, a plan, a canal, Panama!\"\n",
    "\n",
    ">\"Was it a car or a cat I saw?\"\n",
    "\n",
    ">Numbers: 121, 1331, 12321\n",
    "\n",
    "\n",
    "_How Does a Palindrome Work?_\n",
    "\n",
    ">To check if a given string is a palindrome, we compare it with its reverse.\n",
    "\n",
    ">Example 1: Single Word Palindrome\n",
    "\n",
    ">✅ racecar\n",
    "\n",
    ">_Forward: \"racecar\"_\n",
    "\n",
    ">_Backward: \"racecar\"_\n",
    "\n",
    ">Since both are identical, it is a palindrome.\n",
    "\n",
    "_example of non palidrone_\n",
    ">❌ hello\n",
    "\n",
    ">Forward: \"hello\"\n",
    "\n",
    ">Backward: \"olleh\"\n",
    "\n",
    ">Since they are different, it is NOT a palindrome.\n",
    "\n",
    "***\n",
    "\n",
    "_Different Methods to Check for a Palindrome in Python_\n",
    "\n",
    ">Here are multiple ways to implement palindrome checking.\n",
    "\n",
    "### _Using String Slicing ([::-1])_\n",
    "\n",
    "> Python uses logic of comparison in comparing word for this algorithm with simply list slicin\n",
    "\n"
   ]
  },
  {
   "cell_type": "code",
   "execution_count": 7,
   "metadata": {},
   "outputs": [],
   "source": [
    "def is_palindrome(s):\n",
    "    \"\"\"s[::-1] reverses the string. If the original string (s) is equal to the reversed string, it's a palindrome.\"\"\"\n",
    "    return s == s[::-1]"
   ]
  },
  {
   "cell_type": "markdown",
   "metadata": {},
   "source": [
    ">s[::-1] is Python’s slicing notation, which reverses the string s.\n",
    "\n",
    ">The function compares s with its reversed version (s[::-1]).\n",
    "\n",
    ">If both are equal, it returns True (meaning s is a palindrome).\n",
    "\n",
    ">If they are not equal, it returns False."
   ]
  },
  {
   "cell_type": "code",
   "execution_count": null,
   "metadata": {},
   "outputs": [
    {
     "name": "stdout",
     "output_type": "stream",
     "text": [
      "True\n",
      "False\n",
      "True\n",
      "False\n",
      "True\n",
      "False\n",
      "False\n"
     ]
    }
   ],
   "source": [
    "print(is_palindrome(\"racecar\"))  # Output: True\n",
    "print(is_palindrome(\"hello\"))    # Output: False\n",
    "print(is_palindrome(\"racecar\"))    # Output: True\n",
    "print(is_palindrome(\"Adams\"))    # Output: False\n",
    "print(is_palindrome(\"radar\"))    # Output: True\n",
    "print(is_palindrome(\"smart\"))    # Output: False\n",
    "print(is_palindrome(\"genius\"))    # Output: False"
   ]
  },
  {
   "cell_type": "markdown",
   "metadata": {},
   "source": [
    ">### _Using a Loop (Manual Reversal)_"
   ]
  },
  {
   "cell_type": "code",
   "execution_count": 9,
   "metadata": {},
   "outputs": [],
   "source": [
    "def is_palindrome(s):\n",
    "    \"\"\"The two pointers (left and right).\n",
    "    If the characters at left and right do not match, it's not a palindrome.\n",
    "    Move left forward and right backward until they meet.\"\"\"\n",
    "    left = 0\n",
    "    right = len(s) - 1\n",
    "    \n",
    "    while left < right:\n",
    "        if s[left] != s[right]:\n",
    "            return False\n",
    "        left += 1\n",
    "        right -= 1\n",
    "    \n",
    "    return True"
   ]
  },
  {
   "cell_type": "code",
   "execution_count": 10,
   "metadata": {},
   "outputs": [
    {
     "name": "stdout",
     "output_type": "stream",
     "text": [
      "True\n",
      "False\n"
     ]
    }
   ],
   "source": [
    "print(is_palindrome(\"racecar\"))  # Output: True\n",
    "print(is_palindrome(\"python\"))   # Output: False\n"
   ]
  },
  {
   "cell_type": "markdown",
   "metadata": {},
   "source": [
    ">### _Ignoring Case, Spaces, and Punctuation_\n",
    "\n",
    ">For checking sentences, we need to remove spaces, punctuation, and convert to lowercase."
   ]
  },
  {
   "cell_type": "code",
   "execution_count": 11,
   "metadata": {},
   "outputs": [],
   "source": [
    "import re\n",
    "\n",
    "def is_palindrome(s):\n",
    "    \"\"\"re.sub(r'[^a-zA-Z0-9]', '', s) removes all characters that are not letters or numbers.\n",
    "    .lower() ensures case insensitivity.\n",
    "    We then check if the cleaned string is equal to its reverse.\"\"\"\n",
    "    s = re.sub(r'[^a-zA-Z0-9]', '', s).lower()  # Remove non-alphanumeric characters\n",
    "    return s == s[::-1]"
   ]
  },
  {
   "cell_type": "code",
   "execution_count": 12,
   "metadata": {},
   "outputs": [
    {
     "name": "stdout",
     "output_type": "stream",
     "text": [
      "True\n",
      "True\n",
      "False\n"
     ]
    }
   ],
   "source": [
    "print(is_palindrome(\"A man, a plan, a canal, Panama!\"))  # Output: True\n",
    "print(is_palindrome(\"Was it a car or a cat I saw?\"))    # Output: True\n",
    "print(is_palindrome(\"Hello, world!\"))  # Output: False"
   ]
  },
  {
   "cell_type": "code",
   "execution_count": 16,
   "metadata": {},
   "outputs": [],
   "source": [
    "def check_palindromes(words):\n",
    "    \"\"\"Iterates over the list of words.\n",
    "    Compares each word with its reverse (word[::-1]).\n",
    "    Appends palindromes to one list and non-palindromes to another.\n",
    "    Returns both lists separately.\"\"\"\n",
    "    palindromes = []\n",
    "    non_palindromes = []\n",
    "\n",
    "    for word in words:\n",
    "        if word == word[::-1]:  # Check if the word is equal to its reverse\n",
    "            palindromes.append(word)\n",
    "        else:\n",
    "            non_palindromes.append(word)\n",
    "\n",
    "    return palindromes, non_palindromes"
   ]
  },
  {
   "cell_type": "code",
   "execution_count": 15,
   "metadata": {},
   "outputs": [
    {
     "name": "stdout",
     "output_type": "stream",
     "text": [
      "Palindromes: ['racecar', 'madam', 'level', 'rotor']\n",
      "Non-Palindromes: ['hello', 'python', 'world']\n"
     ]
    }
   ],
   "source": [
    "word_list = [\"racecar\", \"hello\", \"madam\", \"python\", \"level\", \"world\", \"rotor\"]\n",
    "palindromes, non_palindromes = check_palindromes(word_list)\n",
    "\n",
    "print(\"Palindromes:\", palindromes)\n",
    "print(\"Non-Palindromes:\", non_palindromes)\n"
   ]
  },
  {
   "cell_type": "markdown",
   "metadata": {},
   "source": [
    "># FINDING SUM OF EVEN NUMBERS IN A LIST"
   ]
  },
  {
   "cell_type": "code",
   "execution_count": 17,
   "metadata": {},
   "outputs": [],
   "source": [
    "# Find the sum of all even numbers in a list\n",
    "def sum_of_evens(lst):\n",
    "    return sum(num for num in lst if num % 2 == 0)"
   ]
  },
  {
   "cell_type": "code",
   "execution_count": 18,
   "metadata": {},
   "outputs": [
    {
     "name": "stdout",
     "output_type": "stream",
     "text": [
      "30\n"
     ]
    }
   ],
   "source": [
    "nums = [1, 2, 3, 4, 5, 6, 7, 8, 9, 10]\n",
    "print(sum_of_evens(nums))  # Output: 30  (2 + 4 + 6 + 8 + 10)"
   ]
  },
  {
   "cell_type": "code",
   "execution_count": 19,
   "metadata": {},
   "outputs": [
    {
     "name": "stdout",
     "output_type": "stream",
     "text": [
      "Sum of even numbers: 342\n"
     ]
    }
   ],
   "source": [
    "numbers = list(map(int, input(\"Enter numbers separated by spaces: \").split()))\n",
    "\n",
    "print(\"Sum of even numbers:\", sum_of_evens(numbers))"
   ]
  },
  {
   "cell_type": "code",
   "execution_count": 20,
   "metadata": {},
   "outputs": [],
   "source": [
    "def sum_of_evens_from_file(filename):\n",
    "    with open(filename, 'r') as file:\n",
    "        numbers = [int(num) for num in file.read().split()]\n",
    "    return sum(num for num in numbers if num % 2 == 0)"
   ]
  },
  {
   "cell_type": "code",
   "execution_count": 21,
   "metadata": {},
   "outputs": [
    {
     "name": "stdout",
     "output_type": "stream",
     "text": [
      "Sum of even numbers: 278\n"
     ]
    }
   ],
   "source": [
    "print(\"Sum of even numbers:\", sum_of_evens_from_file(\"nums.txt\"))\n"
   ]
  },
  {
   "cell_type": "code",
   "execution_count": 22,
   "metadata": {},
   "outputs": [],
   "source": [
    "def sum_of_evens_2d(matrix):\n",
    "    return sum(num for row in matrix for num in row if num % 2 == 0)"
   ]
  },
  {
   "cell_type": "code",
   "execution_count": 23,
   "metadata": {},
   "outputs": [
    {
     "name": "stdout",
     "output_type": "stream",
     "text": [
      "Sum of even numbers: 20\n"
     ]
    }
   ],
   "source": [
    "matrix = [\n",
    "    [1, 2, 3],\n",
    "    [4, 5, 6],\n",
    "    [7, 8, 9]\n",
    "]\n",
    "\n",
    "print(\"Sum of even numbers:\", sum_of_evens_2d(matrix))  # Output: 20 (2 + 4 + 6 + 8)\n"
   ]
  },
  {
   "cell_type": "markdown",
   "metadata": {},
   "source": [
    "Reverse a list without using .reverse()\n",
    "def reverse_list(lst):\n",
    "    return lst[::-1]"
   ]
  },
  {
   "cell_type": "code",
   "execution_count": null,
   "metadata": {},
   "outputs": [],
   "source": []
  }
 ],
 "metadata": {
  "kernelspec": {
   "display_name": "base",
   "language": "python",
   "name": "python3"
  },
  "language_info": {
   "codemirror_mode": {
    "name": "ipython",
    "version": 3
   },
   "file_extension": ".py",
   "mimetype": "text/x-python",
   "name": "python",
   "nbconvert_exporter": "python",
   "pygments_lexer": "ipython3",
   "version": "3.12.7"
  }
 },
 "nbformat": 4,
 "nbformat_minor": 2
}
