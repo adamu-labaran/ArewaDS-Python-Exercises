{
 "cells": [
  {
   "cell_type": "markdown",
   "metadata": {},
   "source": [
    "__day 7 capstone project__\n",
    "\n",
    ">_A palindrome_ is a word, phrase, number, or sequence that reads the same forward and backward, ignoring spaces, punctuation, and capitalization.\n",
    "\n",
    ">In programming, a palindrome check typically compares a string to its reverse. If they are the same, the string is a palindrome.\n",
    "\n",
    "_Key Characteristics of a Palindrome:_\n",
    "\n",
    ">__Symmetry:__ The first half of the sequence is the same as the second half when reversed.\n",
    "\n",
    ">__Case Insensitivity:__ \"Racecar\" and \"racecar\" are considered the same in palindrome checking.\n",
    "\n",
    ">__Ignoring Spaces and Punctuation__: Sentences like \"A man, a plan, a canal, Panama!\" are palindromes when spaces, punctuation, and capitalization are ignored.\n",
    "\n",
    "_Examples of Palindromes:_\n",
    "\n",
    ">Words: \"madam\", \"racecar\", \"level\", \"radar\"\n",
    "\n",
    ">Phrases (ignoring spaces and punctuation):\n",
    "\n",
    ">\"A man, a plan, a canal, Panama!\"\n",
    "\n",
    ">\"Was it a car or a cat I saw?\"\n",
    "\n",
    ">Numbers: 121, 1331, 12321\n",
    "\n",
    "\n",
    "_How Does a Palindrome Work?_\n",
    "\n",
    ">To check if a given string is a palindrome, we compare it with its reverse.\n",
    "\n",
    ">Example 1: Single Word Palindrome\n",
    "\n",
    ">✅ racecar\n",
    "\n",
    ">_Forward: \"racecar\"_\n",
    "\n",
    ">_Backward: \"racecar\"_\n",
    "\n",
    ">Since both are identical, it is a palindrome.\n",
    "\n",
    "_example of non palidrone_\n",
    ">❌ hello\n",
    "\n",
    ">Forward: \"hello\"\n",
    "\n",
    ">Backward: \"olleh\"\n",
    "\n",
    ">Since they are different, it is NOT a palindrome.\n",
    "\n",
    "***\n",
    "\n",
    "_Different Methods to Check for a Palindrome in Python_\n",
    "\n",
    ">Here are multiple ways to implement palindrome checking.\n",
    "\n",
    "### _Using String Slicing ([::-1])_\n",
    "\n",
    "> Python uses logic of comparison in comparing word for this algorithm with simply list slicin\n",
    "\n"
   ]
  },
  {
   "cell_type": "code",
   "execution_count": 7,
   "metadata": {},
   "outputs": [],
   "source": [
    "def is_palindrome(s):\n",
    "    \"\"\"s[::-1] reverses the string. If the original string (s) is equal to the reversed string, it's a palindrome.\"\"\"\n",
    "    return s == s[::-1]"
   ]
  },
  {
   "cell_type": "markdown",
   "metadata": {},
   "source": [
    ">s[::-1] is Python’s slicing notation, which reverses the string s.\n",
    "\n",
    ">The function compares s with its reversed version (s[::-1]).\n",
    "\n",
    ">If both are equal, it returns True (meaning s is a palindrome).\n",
    "\n",
    ">If they are not equal, it returns False."
   ]
  },
  {
   "cell_type": "code",
   "execution_count": 4,
   "metadata": {},
   "outputs": [
    {
     "name": "stdout",
     "output_type": "stream",
     "text": [
      "True\n",
      "False\n"
     ]
    }
   ],
   "source": [
    "print(is_palindrome(\"racecar\"))  # Output: True\n",
    "print(is_palindrome(\"hello\"))    # Output: False"
   ]
  },
  {
   "cell_type": "markdown",
   "metadata": {},
   "source": [
    ">### _Using a Loop (Manual Reversal)_"
   ]
  },
  {
   "cell_type": "code",
   "execution_count": 9,
   "metadata": {},
   "outputs": [],
   "source": [
    "def is_palindrome(s):\n",
    "    \"\"\"The two pointers (left and right).\n",
    "    If the characters at left and right do not match, it's not a palindrome.\n",
    "    Move left forward and right backward until they meet.\"\"\"\n",
    "    left = 0\n",
    "    right = len(s) - 1\n",
    "    \n",
    "    while left < right:\n",
    "        if s[left] != s[right]:\n",
    "            return False\n",
    "        left += 1\n",
    "        right -= 1\n",
    "    \n",
    "    return True"
   ]
  },
  {
   "cell_type": "code",
   "execution_count": 10,
   "metadata": {},
   "outputs": [
    {
     "name": "stdout",
     "output_type": "stream",
     "text": [
      "True\n",
      "False\n"
     ]
    }
   ],
   "source": [
    "print(is_palindrome(\"racecar\"))  # Output: True\n",
    "print(is_palindrome(\"python\"))   # Output: False\n"
   ]
  },
  {
   "cell_type": "markdown",
   "metadata": {},
   "source": [
    ">### _Ignoring Case, Spaces, and Punctuation_\n",
    "\n",
    ">For checking sentences, we need to remove spaces, punctuation, and convert to lowercase."
   ]
  },
  {
   "cell_type": "code",
   "execution_count": null,
   "metadata": {},
   "outputs": [],
   "source": []
  }
 ],
 "metadata": {
  "kernelspec": {
   "display_name": "base",
   "language": "python",
   "name": "python3"
  },
  "language_info": {
   "codemirror_mode": {
    "name": "ipython",
    "version": 3
   },
   "file_extension": ".py",
   "mimetype": "text/x-python",
   "name": "python",
   "nbconvert_exporter": "python",
   "pygments_lexer": "ipython3",
   "version": "3.12.7"
  }
 },
 "nbformat": 4,
 "nbformat_minor": 2
}
