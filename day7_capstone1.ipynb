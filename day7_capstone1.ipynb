{
 "cells": [
  {
   "cell_type": "markdown",
   "metadata": {},
   "source": [
    "__day 7 capstone project__\n",
    "\n",
    ">_A palindrome_ is a word, phrase, number, or sequence that reads the same forward and backward, ignoring spaces, punctuation, and capitalization.\n",
    "\n",
    ">In programming, a palindrome check typically compares a string to its reverse. If they are the same, the string is a palindrome.\n",
    "\n",
    "_Key Characteristics of a Palindrome:_\n",
    "\n",
    ">__Symmetry:__ The first half of the sequence is the same as the second half when reversed.\n",
    "\n",
    ">__Case Insensitivity:__ \"Racecar\" and \"racecar\" are considered the same in palindrome checking.\n",
    "\n",
    ">__Ignoring Spaces and Punctuation__: Sentences like \"A man, a plan, a canal, Panama!\" are palindromes when spaces, punctuation, and capitalization are ignored.\n",
    "\n",
    "_Examples of Palindromes:_\n",
    "\n",
    ">Words: \"madam\", \"racecar\", \"level\", \"radar\"\n",
    "\n",
    ">Phrases (ignoring spaces and punctuation):\n",
    "\n",
    ">\"A man, a plan, a canal, Panama!\"\n",
    "\n",
    ">\"Was it a car or a cat I saw?\"\n",
    "\n",
    ">Numbers: 121, 1331, 12321\n",
    "\n",
    "\n",
    "_How Does a Palindrome Work?_\n",
    "\n",
    ">To check if a given string is a palindrome, we compare it with its reverse.\n",
    "\n",
    ">Example 1: Single Word Palindrome\n",
    "\n",
    ">✅ racecar\n",
    "\n",
    ">_Forward: \"racecar\"_\n",
    "\n",
    ">_Backward: \"racecar\"_\n",
    "\n",
    ">Since both are identical, it is a palindrome.\n",
    "\n",
    "_example of non-palidrone_\n",
    ">❌ hello\n",
    "\n",
    ">Forward: \"hello\"\n",
    "\n",
    ">Backward: \"olleh\"\n",
    "\n",
    "Since they are different, it is NOT a palindrome.\n",
    "\n",
    "Different Methods to Check for a Palindrome in Python\n",
    "\n",
    "Here are multiple ways to implement palindrome checking."
   ]
  }
 ],
 "metadata": {
  "kernelspec": {
   "display_name": "base",
   "language": "python",
   "name": "python3"
  },
  "language_info": {
   "name": "python",
   "version": "3.12.7"
  }
 },
 "nbformat": 4,
 "nbformat_minor": 2
}
